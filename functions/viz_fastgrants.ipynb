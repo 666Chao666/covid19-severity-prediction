{
 "cells": [
  {
   "cell_type": "code",
   "execution_count": 9,
   "metadata": {},
   "outputs": [],
   "source": [
    "import numpy as np\n",
    "import pandas as pd\n",
    "from os.path import join as oj\n",
    "import os\n",
    "import pygsheets\n",
    "import pandas as pd\n",
    "import sys\n",
    "import inspect\n",
    "from datetime import datetime, timedelta\n",
    "\n",
    "currentdir = os.path.dirname(os.path.abspath(inspect.getfile(inspect.currentframe())))\n",
    "parentdir = os.path.dirname(currentdir)\n",
    "sys.path.append(parentdir)\n",
    "sys.path.append(parentdir + '/modeling')\n",
    "import load_data\n",
    "from fit_and_predict import fit_and_predict_ensemble\n",
    "from functions import merge_data\n",
    "from viz import  viz_interactive\n",
    "import matplotlib.pyplot as plt\n",
    "import update_modeling_results\n",
    "import plotly.express as px\n",
    "import plotly"
   ]
  },
  {
   "cell_type": "markdown",
   "metadata": {},
   "source": [
    "# county-level plot"
   ]
  },
  {
   "cell_type": "code",
   "execution_count": null,
   "metadata": {},
   "outputs": [],
   "source": [
    "print('loading data...')\n",
    "NUM_DAYS_LIST = [1, 2, 3, 4, 5, 6, 7]\n",
    "df_county = load_data.load_county_level(data_dir=oj(parentdir, 'data'))\n",
    "\n",
    "\n",
    "num_days_in_past = 3\n",
    "output_key = f'Predicted Deaths {num_days_in_past}-day'    \n",
    "df_county = fit_and_predict_ensemble(df_county, \n",
    "                            outcome='deaths',\n",
    "                            mode='eval_mode',\n",
    "                            target_day=np.array([num_days_in_past]),\n",
    "                            output_key=output_key)\n",
    "df_county[output_key] = [v[0] for v in df_county[output_key].values]"
   ]
  },
  {
   "cell_type": "code",
   "execution_count": 10,
   "metadata": {},
   "outputs": [
    {
     "ename": "NameError",
     "evalue": "name 'output_key' is not defined",
     "output_type": "error",
     "traceback": [
      "\u001b[0;31m---------------------------------------------------------------------------\u001b[0m",
      "\u001b[0;31mNameError\u001b[0m                                 Traceback (most recent call last)",
      "\u001b[0;32m<ipython-input-10-16d46b9f307d>\u001b[0m in \u001b[0;36m<module>\u001b[0;34m\u001b[0m\n\u001b[0;32m----> 1\u001b[0;31m \u001b[0mupdate_modeling_results\u001b[0m\u001b[0;34m.\u001b[0m\u001b[0mpredictions_plot\u001b[0m\u001b[0;34m(\u001b[0m\u001b[0mdf_county\u001b[0m\u001b[0;34m,\u001b[0m \u001b[0mNUM_DAYS_LIST\u001b[0m\u001b[0;34m,\u001b[0m \u001b[0mnum_days_in_past\u001b[0m\u001b[0;34m)\u001b[0m\u001b[0;34m\u001b[0m\u001b[0;34m\u001b[0m\u001b[0m\n\u001b[0m",
      "\u001b[0;32m~/chandan/covid19-severity-prediction/functions/update_modeling_results.py\u001b[0m in \u001b[0;36mpredictions_plot\u001b[0;34m(df_county, NUM_DAYS_LIST, num_days_in_past)\u001b[0m\n\u001b[1;32m     29\u001b[0m     \u001b[0mdeaths_key\u001b[0m \u001b[0;34m=\u001b[0m \u001b[0;34mf'Actual deaths by {today}'\u001b[0m\u001b[0;34m\u001b[0m\u001b[0;34m\u001b[0m\u001b[0m\n\u001b[1;32m     30\u001b[0m     d = df_county.rename(columns={\n\u001b[0;32m---> 31\u001b[0;31m         \u001b[0moutput_key\u001b[0m\u001b[0;34m:\u001b[0m \u001b[0mpred_key\u001b[0m\u001b[0;34m,\u001b[0m\u001b[0;34m\u001b[0m\u001b[0;34m\u001b[0m\u001b[0m\n\u001b[0m\u001b[1;32m     32\u001b[0m         \u001b[0;34m'tot_deaths'\u001b[0m\u001b[0;34m:\u001b[0m \u001b[0mdeaths_key\u001b[0m\u001b[0;34m,\u001b[0m\u001b[0;34m\u001b[0m\u001b[0;34m\u001b[0m\u001b[0m\n\u001b[1;32m     33\u001b[0m     })\n",
      "\u001b[0;31mNameError\u001b[0m: name 'output_key' is not defined"
     ]
    }
   ],
   "source": [
    "update_modeling_results.predictions_plot(df_county, NUM_DAYS_LIST, num_days_in_past, output_key)"
   ]
  },
  {
   "cell_type": "markdown",
   "metadata": {},
   "source": [
    "# hospital-level plot"
   ]
  },
  {
   "cell_type": "code",
   "execution_count": null,
   "metadata": {},
   "outputs": [],
   "source": [
    "NUM_DAYS_LIST = [1, 2, 3, 4, 5, 6, 7]\n",
    "df_county = load_data.load_county_level(data_dir=oj(parentdir, 'data'))\n",
    "df_hospital = load_data.load_hospital_level(data_dir=oj(parentdir, 'data_hospital_level'))\n",
    "df_county = add_preds(df_county, NUM_DAYS_LIST=NUM_DAYS_LIST, cached_dir=oj(parentdir, 'data')) # adds keys like \"Predicted Deaths 1-day\"\n",
    "df = merge_data.merge_county_and_hosp(df_county, df_hospital)\n",
    "df = add_severity_index(df, NUM_DAYS_LIST)\n",
    "df = df.sort_values('Total Deaths Hospital', ascending=False)"
   ]
  },
  {
   "cell_type": "code",
   "execution_count": null,
   "metadata": {},
   "outputs": [],
   "source": [
    "NUM_DAYS = len(NUM_DAYS_LIST)\n",
    "np.repeat(range(NUM_DAYS), N) + 1"
   ]
  }
 ],
 "metadata": {
  "kernelspec": {
   "display_name": "Python 3",
   "language": "python",
   "name": "python3"
  },
  "language_info": {
   "codemirror_mode": {
    "name": "ipython",
    "version": 3
   },
   "file_extension": ".py",
   "mimetype": "text/x-python",
   "name": "python",
   "nbconvert_exporter": "python",
   "pygments_lexer": "ipython3",
   "version": "3.7.5"
  }
 },
 "nbformat": 4,
 "nbformat_minor": 4
}
