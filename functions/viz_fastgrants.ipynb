{
 "cells": [
  {
   "cell_type": "code",
   "execution_count": 22,
   "metadata": {},
   "outputs": [
    {
     "name": "stdout",
     "output_type": "stream",
     "text": [
      "The autoreload extension is already loaded. To reload it, use:\n",
      "  %reload_ext autoreload\n",
      "loaded and merged COVID-19 cases/deaths data successfully\n"
     ]
    }
   ],
   "source": [
    "%load_ext autoreload\n",
    "%autoreload 2\n",
    "import numpy as np\n",
    "import pandas as pd\n",
    "from os.path import join as oj\n",
    "import os\n",
    "import pygsheets\n",
    "import pandas as pd\n",
    "import sys\n",
    "import inspect\n",
    "from datetime import datetime, timedelta\n",
    "currentdir = os.path.dirname(os.path.abspath(inspect.getfile(inspect.currentframe())))\n",
    "parentdir = os.path.dirname(currentdir)\n",
    "sys.path.append(parentdir)\n",
    "sys.path.append(parentdir + '/modeling')\n",
    "import load_data\n",
    "from fit_and_predict import fit_and_predict_ensemble\n",
    "from functions import merge_data\n",
    "from viz import viz_interactive, viz_static\n",
    "import matplotlib.pyplot as plt\n",
    "import plotly.express as px\n",
    "import plotly\n",
    "from functions import merge_data\n",
    "from fit_and_predict import add_preds\n",
    "from update_severity_index import df_to_plot, add_severity_index\n",
    "\n",
    "NUM_DAYS_LIST = [1, 2, 3, 4, 5, 6, 7]\n",
    "cs = ['#6E8E96', '#D3787D', '#AC3931']\n",
    "df_hospital = load_data.load_hospital_level(data_dir=oj(os.path.dirname(parentdir), 'covid-19-private-data'))\n",
    "df_county = load_data.load_county_level(data_dir=oj(parentdir, 'data'))\n",
    "df_county = add_preds(df_county, NUM_DAYS_LIST=NUM_DAYS_LIST, cached_dir=oj(parentdir, 'data')) # adds keys like \"Predicted Deaths 1-day\"\n",
    "df = merge_data.merge_county_and_hosp(df_county, df_hospital)\n",
    "df = add_severity_index(df, NUM_DAYS_LIST)\n",
    "df = df.sort_values('Total Deaths Hospital', ascending=False)\n",
    "d = df_to_plot(df, NUM_DAYS_LIST)"
   ]
  },
  {
   "cell_type": "markdown",
   "metadata": {},
   "source": [
    "# county-level plot"
   ]
  },
  {
   "cell_type": "code",
   "execution_count": null,
   "metadata": {},
   "outputs": [],
   "source": [
    "num_days_in_past = 3\n",
    "output_key = f'Predicted Deaths {num_days_in_past}-day'   \n",
    "\n",
    "today = datetime.today().strftime(\"%B %d\")\n",
    "plt.figure(dpi=500)\n",
    "day_past = (datetime.now() - timedelta(days=3)).strftime(\"%B %d\")\n",
    "plt.plot([0, max(df_county[output_key])], [0, max(df_county[output_key])], \n",
    "         '--', color='gray')\n",
    "plt.plot(df_county['tot_deaths'], \n",
    "         df_county[output_key], '.')\n",
    "\n",
    "plt.xlabel(f'Actual deaths by {today}')\n",
    "plt.ylabel(f'Predicted deaths by {today}\\n(predicted on {day_past})')\n",
    "plt.xscale('log')\n",
    "plt.yscale('log')\n",
    "plt.show()"
   ]
  },
  {
   "cell_type": "markdown",
   "metadata": {},
   "source": [
    "# hospital-level plot"
   ]
  },
  {
   "cell_type": "code",
   "execution_count": 11,
   "metadata": {},
   "outputs": [],
   "source": [
    "def plot_scatter(x, y, c, s, xlab, ylab, colorlab, sizelab, markersize_rescaling):\n",
    "    fig, ax = plt.subplots(dpi=500, figsize=(7, 3))\n",
    "    scatter = ax.scatter(x, y, c=c, s=s, alpha=1)\n",
    "    plt.yscale('symlog')\n",
    "    plt.xscale('symlog')\n",
    "\n",
    "    # produce a legend with the unique colors from the scatter\n",
    "    leg_els = [Line2D([0], [0], marker='o', color='w', label='High', markerfacecolor=cs[2], markersize=6),\n",
    "               Line2D([0], [0], marker='o', color='w', label='Medium', markerfacecolor=cs[1], markersize=6),\n",
    "               Line2D([0], [0], marker='o', color='w', label='Low', markerfacecolor=cs[0], markersize=6)]\n",
    "\n",
    "    # leg_els = scatter.legend_elements()\n",
    "    # legend1 = ax.legend(*leg_els, loc=\"upper left\", title=\"Severity Index\")\n",
    "    legend1 = ax.legend(handles=leg_els, loc=\"upper left\", title=colorlab, fontsize=9)\n",
    "    ax.add_artist(legend1)\n",
    "\n",
    "    # produce a legend with a cross section of sizes from the scatter\n",
    "    handles, labels = scatter.legend_elements(prop=\"sizes\", alpha=1)\n",
    "    l2 = []\n",
    "    for i in range(len(labels)):\n",
    "        s = labels[i]\n",
    "        num = markersize_rescaling * int(s[s.index('{') + 1: s.index('}')])\n",
    "        l2.append('$\\\\mathdefault{' + str(num) + '}$')\n",
    "    legend2 = ax.legend(handles, l2, loc=\"lower right\", title=sizelab)\n",
    "    plt.xlabel(xlab)\n",
    "    plt.ylabel(ylab)\n",
    "    plt.show()"
   ]
  },
  {
   "cell_type": "code",
   "execution_count": 12,
   "metadata": {},
   "outputs": [],
   "source": [
    "# viz_interactive.viz_index_animated(d, [1, 3, 5],\n",
    "#                                    out_name=oj(parentdir, 'results', 'hospital_index_animated.html'))    "
   ]
  },
  {
   "cell_type": "code",
   "execution_count": null,
   "metadata": {},
   "outputs": [],
   "source": [
    "today = datetime.today().strftime(\"%B %d\")\n",
    "remap = {1: 'Low', 2: 'Medium', 3: 'High'}\n",
    "cs_d = {i: cs[i-1] for i in [1, 2, 3]}\n",
    "# cs = ['#91bfdb','#dec34b','#fc8d59']\n",
    "markersize_rescaling = 10\n",
    "x = d['Total Deaths Hospital']\n",
    "y = d['Predicted New Deaths Hospital 3-day']\n",
    "c = [cs_d[x] for x in d['Severity 3-day']] # d['Severity 3-day'] #\n",
    "s = d['ICU Beds'] / markersize_rescaling\n",
    "xlab = f'Total deaths at hospital by {today}'\n",
    "ylab = 'Predicted new deaths at hospital in\\nnext 3 days'\n",
    "colorlab = 'Severity Index'\n",
    "sizelab = '#ICU beds'\n",
    "\n",
    "viz_static.plot_scatter(x, y, c, s, xlab, ylab, colorlab, sizelab, markersize_rescaling)\n",
    "plt.show()"
   ]
  },
  {
   "cell_type": "code",
   "execution_count": null,
   "metadata": {},
   "outputs": [],
   "source": [
    "today = datetime.today().strftime(\"%B %d\")\n",
    "remap = {1: 'Low', 2: 'Medium', 3: 'High'}\n",
    "cs_d = {i: cs[i-1] for i in [1, 2, 3]}\n",
    "# cs = ['#91bfdb','#dec34b','#fc8d59']\n",
    "markersize_rescaling = 10\n",
    "x = d['Total Deaths Hospital']\n",
    "y = d['Surge 3-day']\n",
    "c = [cs_d[x] for x in d['Severity 3-day']] # d['Severity 3-day'] #\n",
    "s = d['ICU Beds'] / markersize_rescaling\n",
    "xlab = f'Total deaths at hospital by {today}'\n",
    "ylab = 'Surge Index 3-day'\n",
    "colorlab = 'Severity Index'\n",
    "sizelab = '#ICU beds'\n",
    "\n",
    "viz_static.plot_scatter(x, y, c, s, xlab, ylab, colorlab, sizelab, markersize_rescaling)\n",
    "plt.show()"
   ]
  },
  {
   "cell_type": "code",
   "execution_count": null,
   "metadata": {},
   "outputs": [],
   "source": [
    "today = datetime.today().strftime(\"%B %d\")\n",
    "remap = {1: 'Low', 2: 'Medium', 3: 'High'}\n",
    "cs_d = {i: cs[i-1] for i in [1, 2, 3]}\n",
    "# cs = ['#91bfdb','#dec34b','#fc8d59']\n",
    "markersize_rescaling = 10\n",
    "x = d['Total Deaths Hospital']\n",
    "y = d['SVIPercentile']\n",
    "c = [cs_d[x] for x in d['Severity 3-day']] # d['Severity 3-day'] #\n",
    "s = d['ICU Beds'] / markersize_rescaling\n",
    "xlab = f'Total deaths at hospital by {today}'\n",
    "ylab = 'SVIPercentile'\n",
    "colorlab = 'Severity Index'\n",
    "sizelab = '#ICU beds'\n",
    "\n",
    "viz_static.plot_scatter(x, y, c, s, xlab, ylab, colorlab,\n",
    "                        sizelab, markersize_rescaling, figsize=(7, 4))\n",
    "plt.show()"
   ]
  },
  {
   "cell_type": "code",
   "execution_count": null,
   "metadata": {},
   "outputs": [],
   "source": []
  }
 ],
 "metadata": {
  "kernelspec": {
   "display_name": "Python 3",
   "language": "python",
   "name": "python3"
  },
  "language_info": {
   "codemirror_mode": {
    "name": "ipython",
    "version": 3
   },
   "file_extension": ".py",
   "mimetype": "text/x-python",
   "name": "python",
   "nbconvert_exporter": "python",
   "pygments_lexer": "ipython3",
   "version": "3.7.5"
  }
 },
 "nbformat": 4,
 "nbformat_minor": 4
}
