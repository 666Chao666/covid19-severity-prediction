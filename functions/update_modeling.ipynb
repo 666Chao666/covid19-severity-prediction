{
 "cells": [
  {
   "cell_type": "code",
   "execution_count": 27,
   "metadata": {},
   "outputs": [],
   "source": [
    "import numpy as np\n",
    "import pandas as pd\n",
    "from os.path import join as oj\n",
    "import os\n",
    "import pygsheets\n",
    "import pandas as pd\n",
    "import sys\n",
    "import inspect\n",
    "from datetime import datetime, timedelta\n",
    "\n",
    "currentdir = os.path.dirname(os.path.abspath(inspect.getfile(inspect.currentframe())))\n",
    "parentdir = os.path.dirname(currentdir)\n",
    "sys.path.append(parentdir)\n",
    "sys.path.append(parentdir + '/modeling')\n",
    "import load_data\n",
    "from fit_and_predict import fit_and_predict_ensemble\n",
    "from functions import merge_data\n",
    "from viz import  viz_interactive\n",
    "import matplotlib.pyplot as plt"
   ]
  },
  {
   "cell_type": "code",
   "execution_count": 6,
   "metadata": {},
   "outputs": [
    {
     "name": "stdout",
     "output_type": "stream",
     "text": [
      "loading data...\n"
     ]
    }
   ],
   "source": [
    "print('loading data...')\n",
    "NUM_DAYS_LIST = [1, 2, 3, 4, 5, 6, 7]\n",
    "df_county = load_data.load_county_level(data_dir=oj(parentdir, 'data'))"
   ]
  },
  {
   "cell_type": "code",
   "execution_count": null,
   "metadata": {},
   "outputs": [],
   "source": [
    "num_days_in_past = 3\n",
    "output_key = f'Predicted Deaths {num_days_in_past}-day'    \n",
    "df_county = fit_and_predict_ensemble(df_county, \n",
    "                            outcome='deaths',\n",
    "                            mode='eval_mode',\n",
    "                            target_day=np.array([num_days_in_past]),\n",
    "                            output_key=output_key)\n",
    "df_county[output_key] = [v[0] for v in df_county[output_key].values]"
   ]
  },
  {
   "cell_type": "code",
   "execution_count": 29,
   "metadata": {},
   "outputs": [],
   "source": [
    "d = datetime.today()\n",
    "today = d.strftime(\"%B %d\")\n",
    "day_past = (datetime.now() - timedelta(days=num_days_in_past)).strftime(\"%B %d\")"
   ]
  },
  {
   "cell_type": "code",
   "execution_count": 43,
   "metadata": {},
   "outputs": [],
   "source": [
    "pred_key = f'Predicted deaths by {today}\\n(predicted on {day_past})'\n",
    "deaths_key = f'Actual deaths by {today}'\n",
    "d = df_county.rename(columns={\n",
    "    output_key: pred_key,\n",
    "    'tot_deaths': deaths_key,\n",
    "})\n",
    "minn = min(min(d[pred_key]), min(d[deaths_key])) + 1\n",
    "maxx = max(max(d[pred_key]), max(d[deaths_key]))"
   ]
  },
  {
   "cell_type": "code",
   "execution_count": 52,
   "metadata": {},
   "outputs": [
    {
     "data": {
      "text/plain": [
       "'/accounts/projects/vision/chandan/covid19-severity-prediction/results/predictions.html'"
      ]
     },
     "execution_count": 52,
     "metadata": {},
     "output_type": "execute_result"
    }
   ],
   "source": [
    "import plotly.express as px\n",
    "import plotly\n",
    "\n",
    "fig = px.scatter(d,\n",
    "                 x=pred_key, \n",
    "                 y=deaths_key, \n",
    "             size='PopulationEstimate2018',\n",
    "             hover_name=\"CountyName\", \n",
    "             hover_data=[\"CountyName\", 'StateName'],\n",
    "             log_x=True, log_y=True)\n",
    "fig.update_layout(shapes=[\n",
    "    dict(\n",
    "      type= 'line',\n",
    "      yref= 'y', y0=minn, y1=maxx,\n",
    "      xref= 'x', x0=minn, x1=maxx,\n",
    "      opacity=0.2\n",
    "#       dash='dot'\n",
    "    )\n",
    "])\n",
    "\n",
    "fig.update_layout(\n",
    "            paper_bgcolor='rgba(0,0,0,255)',\n",
    "            plot_bgcolor='rgba(0,0,0,255)',\n",
    "            template='plotly_dark'\n",
    "        )\n",
    "plotly.offline.plot(fig, filename=oj(parentdir, 'results', 'predictions.html'), auto_open=False)"
   ]
  }
 ],
 "metadata": {
  "kernelspec": {
   "display_name": "Python 3",
   "language": "python",
   "name": "python3"
  },
  "language_info": {
   "codemirror_mode": {
    "name": "ipython",
    "version": 3
   },
   "file_extension": ".py",
   "mimetype": "text/x-python",
   "name": "python",
   "nbconvert_exporter": "python",
   "pygments_lexer": "ipython3",
   "version": "3.7.5"
  }
 },
 "nbformat": 4,
 "nbformat_minor": 4
}
