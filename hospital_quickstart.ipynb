{
 "cells": [
  {
   "cell_type": "code",
   "execution_count": 3,
   "metadata": {},
   "outputs": [
    {
     "name": "stdout",
     "output_type": "stream",
     "text": [
      "The autoreload extension is already loaded. To reload it, use:\n",
      "  %reload_ext autoreload\n"
     ]
    }
   ],
   "source": [
    "%load_ext autoreload\n",
    "%autoreload 2\n",
    "import numpy as np\n",
    "import scipy as sp\n",
    "import pandas as pd\n",
    "import matplotlib.pyplot as plt\n",
    "from os.path import join as oj\n",
    "import math\n",
    "import pygsheets\n",
    "import pickle as pkl\n",
    "import pandas as pd\n",
    "import seaborn as sns\n",
    "import plotly.express as px\n",
    "from collections import Counter\n",
    "import plotly\n",
    "from plotly.subplots import make_subplots\n",
    "import plotly.graph_objects as go\n",
    "import sys\n",
    "import json\n",
    "import load_data\n",
    "sys.path.append('modeling')\n",
    "from viz import viz, viz_interactive\n",
    "from modeling.fit_and_predict import add_preds\n",
    "from functions import merge_data\n",
    "from functions import update_severity_index as severity_index\n",
    "\n",
    "NUM_DAYS_LIST = [1, 2, 3, 4, 5, 6, 7]\n",
    "df_hospital = load_data.load_hospital_level()\n",
    "df_county = load_data.load_county_level()\n",
    "df_county = add_preds(df_county, NUM_DAYS_LIST=NUM_DAYS_LIST, cached_dir='data') # adds keys like \"Predicted Deaths 1-day\"\n",
    "df = merge_data.merge_county_and_hosp(df_county, df_hospital)"
   ]
  },
  {
   "cell_type": "markdown",
   "metadata": {},
   "source": [
    "# look at icu beds"
   ]
  },
  {
   "cell_type": "code",
   "execution_count": null,
   "metadata": {},
   "outputs": [],
   "source": [
    "print(df[df['Hospital Name'].str.contains('Petal')]['ICU Beds'])\n",
    "plt.figure(dpi=500, facecolor='white')\n",
    "plt.yscale('log')\n",
    "plt.hist(df['ICU Beds'], bins=50)\n",
    "plt.ylabel('Num hospitals (log-scale)')\n",
    "plt.xlabel('Num ICU Beds')\n",
    "plt.show()"
   ]
  },
  {
   "cell_type": "markdown",
   "metadata": {},
   "source": [
    "# severity index"
   ]
  },
  {
   "cell_type": "code",
   "execution_count": null,
   "metadata": {},
   "outputs": [],
   "source": [
    "df = severity_index.add_severity_index(df, NUM_DAYS_LIST)\n",
    "k = 3\n",
    "s_hosp = f'Predicted Deaths Hospital {k}-day'\n",
    "s_index = f'Severity {k}-day'\n",
    "print('total hospitals', df.shape[0], Counter(df[s_index]))"
   ]
  },
  {
   "cell_type": "markdown",
   "metadata": {},
   "source": [
    "**start with county-level death predictions**"
   ]
  },
  {
   "cell_type": "code",
   "execution_count": null,
   "metadata": {},
   "outputs": [],
   "source": [
    "s = f'Predicted Deaths {3}-day' # tot_deaths\n",
    "# s = 'tot_deaths'\n",
    "num_days = 1\n",
    "nonzero = df[s] > 0\n",
    "plt.figure(dpi=300, figsize=(7, 3))\n",
    "plt.plot(df_county[s].values, '.', ms=3)\n",
    "plt.ylabel(s)\n",
    "plt.xlabel('Counties')\n",
    "plt.yscale('log')\n",
    "plt.tight_layout()\n",
    "plt.show()"
   ]
  },
  {
   "cell_type": "markdown",
   "metadata": {},
   "source": [
    "**look at distribution of predicted deaths at hospitals**"
   ]
  },
  {
   "cell_type": "code",
   "execution_count": null,
   "metadata": {},
   "outputs": [],
   "source": [
    "num_days = 1\n",
    "plt.figure(dpi=300, figsize=(7, 3))\n",
    "\n",
    "offset = 0\n",
    "for i in [5, 4, 3, 2, 1]:\n",
    "    idxs = (df[s_index] == i)\n",
    "    plt.plot(np.arange(offset, offset + idxs.sum()), \n",
    "             np.clip(df[idxs][s_hosp].values, a_min=1, a_max=None), '.-', label=f'{i}: {severity_index.meanings[i]}')\n",
    "    offset += idxs.sum()\n",
    "plt.yscale('log')\n",
    "plt.ylabel(s_hosp)\n",
    "plt.xlabel('Hospitals')\n",
    "plt.legend()\n",
    "plt.tight_layout()\n",
    "plt.show()"
   ]
  },
  {
   "cell_type": "code",
   "execution_count": null,
   "metadata": {},
   "outputs": [],
   "source": [
    "df.sort_values('Predicted Deaths Hospital 2-day', ascending=False)[['Hospital Name', 'StateName', \n",
    "                                                                    'Hospital Employees', 'tot_deaths',\n",
    "                                                                    'Predicted Deaths Hospital 2-day']].head(30)"
   ]
  },
  {
   "cell_type": "markdown",
   "metadata": {},
   "source": [
    "# adjustments"
   ]
  },
  {
   "cell_type": "markdown",
   "metadata": {},
   "source": [
    "**different measures of hospital size are pretty consistent**"
   ]
  },
  {
   "cell_type": "code",
   "execution_count": null,
   "metadata": {},
   "outputs": [],
   "source": [
    "plt.figure(dpi=500, figsize=(7, 3))\n",
    "R, C = 1, 3\n",
    "plt.subplot(R, C, 1)\n",
    "plt.plot(df['Hospital Employees'], df['Total Average Daily Census'], '.', alpha=0.2, markeredgewidth=0)\n",
    "plt.xlabel('Num Hospital Employees')\n",
    "plt.ylabel('Total Average Daily Census')\n",
    "\n",
    "plt.subplot(R, C, 2)\n",
    "plt.plot(df['Hospital Employees'], df['Total Beds'], '.', alpha=0.2, markeredgewidth=0)\n",
    "plt.xlabel('Num Hospital Employees')\n",
    "plt.ylabel('Total Beds')\n",
    "\n",
    "plt.subplot(R, C, 3)\n",
    "plt.plot(df['Hospital Employees'], df['ICU Beds'], '.', alpha=0.2, markeredgewidth=0)\n",
    "plt.xlabel('Num Hospital Employees')\n",
    "plt.ylabel('ICU Beds')\n",
    "\n",
    "plt.tight_layout()\n",
    "plt.show()"
   ]
  },
  {
   "cell_type": "markdown",
   "metadata": {},
   "source": [
    "**other measures are harder to parse...**"
   ]
  },
  {
   "cell_type": "code",
   "execution_count": null,
   "metadata": {},
   "outputs": [],
   "source": [
    "ks = ['Predicted Deaths Hospital 2-day', \"Hospital Employees\", 'ICU Beds']\n",
    "R, C = 1, len(ks)\n",
    "plt.figure(dpi=300, figsize=(C * 3, R * 3))\n",
    "\n",
    "for c in range(C):\n",
    "    plt.subplot(R, C, c + 1)\n",
    "    if c == 0:\n",
    "        plt.ylabel('Total Occupancy Rate')\n",
    "    plt.plot(df[ks[c]], df['Total Occupancy Rate'], '.', alpha=0.5)\n",
    "    plt.xlabel(ks[c])\n",
    "\n",
    "plt.tight_layout()\n",
    "plt.show()"
   ]
  },
  {
   "cell_type": "markdown",
   "metadata": {},
   "source": [
    "**different hospital types**"
   ]
  },
  {
   "cell_type": "code",
   "execution_count": null,
   "metadata": {},
   "outputs": [],
   "source": [
    "plt.figure(dpi=500, figsize=(7, 3))\n",
    "R, C = 1, 3\n",
    "a = 0.5\n",
    "s = s_hosp\n",
    "plt.subplot(R, C, 1)\n",
    "idxs = df.IsUrbanHospital == 1\n",
    "plt.hist(df[idxs][s], label='Urban', alpha=a)\n",
    "plt.hist(df[~idxs][s], label='Rural', alpha=a)\n",
    "plt.ylabel('Num Hospitals')\n",
    "plt.xlabel(s)\n",
    "plt.yscale('log')\n",
    "plt.legend()\n",
    "\n",
    "plt.subplot(R, C, 2)\n",
    "idxs = df.IsAcuteCareHospital == 1\n",
    "plt.hist(df[idxs][s], label='Acute Care', alpha=a)\n",
    "plt.hist(df[~idxs][s], label='Other', alpha=a)\n",
    "plt.xlabel(s)\n",
    "plt.yscale('log')\n",
    "plt.legend()\n",
    "\n",
    "plt.subplot(R, C, 3)\n",
    "idxs = df.IsAcademicHospital == 1\n",
    "plt.hist(df[idxs][s], label='Academic', alpha=a)\n",
    "plt.hist(df[~idxs][s], label='Other', alpha=a)\n",
    "plt.xlabel(s)\n",
    "plt.yscale('log')\n",
    "\n",
    "plt.legend()\n",
    "plt.tight_layout()\n",
    "plt.show()"
   ]
  },
  {
   "cell_type": "markdown",
   "metadata": {},
   "source": [
    "**rural areas have lower occupancy rates**"
   ]
  },
  {
   "cell_type": "code",
   "execution_count": null,
   "metadata": {},
   "outputs": [],
   "source": [
    "idxs = df.IsUrbanHospital == 1\n",
    "plt.hist(df['Total Occupancy Rate'][idxs], label='urban', alpha=0.5)\n",
    "plt.hist(df['Total Occupancy Rate'][~idxs], label='rural', alpha=0.5)\n",
    "plt.xlabel('Total Occupancy Rate')\n",
    "plt.ylabel('Count')\n",
    "plt.legend()\n",
    "plt.show()"
   ]
  },
  {
   "cell_type": "code",
   "execution_count": null,
   "metadata": {},
   "outputs": [],
   "source": [
    "ks = ['ICU Beds', 'Total Beds', \n",
    "      'Hospital Employees', 'Registered Nurses',\n",
    "      'ICU Occupancy Rate', 'Total Occupancy Rate',\n",
    "      'Mortality national comparison', 'Total Average Daily Census',\n",
    "      \n",
    "#       'IsAcademicHospital', \n",
    "      'IsUrbanHospital', 'IsAcuteCareHospital']\n",
    "      \n",
    "      \n",
    "\n",
    "# ks += [f'Predicted Deaths {n}-day' for n in NUM_DAYS_LIST]\n",
    "ks += [f'Predicted Deaths Hospital {n}-day' for n in NUM_DAYS_LIST]\n",
    "\n",
    "# county-level stuff\n",
    "# ks += ['unacast_n_grade', Hospital Employees in County', 'tot_deaths', 'tot_cases', 'PopulationDensityperSqMile2010'] \n",
    "\n",
    "\n",
    "viz.corrplot(df[ks], SIZE=6)"
   ]
  },
  {
   "cell_type": "markdown",
   "metadata": {},
   "source": [
    "# look at top counties/hospitals"
   ]
  },
  {
   "cell_type": "markdown",
   "metadata": {},
   "source": [
    "**hospitals per county**"
   ]
  },
  {
   "cell_type": "code",
   "execution_count": null,
   "metadata": {},
   "outputs": [],
   "source": [
    "d = df\n",
    "\n",
    "R, C = 1, 2\n",
    "NUM_COUNTIES = 7\n",
    "plt.figure(dpi=300, figsize=(7, 3.5))\n",
    "\n",
    "\n",
    "plt.subplot(R, C, 1)\n",
    "c = 'County Name'\n",
    "county_names = d[c].unique()[:NUM_COUNTIES]\n",
    "num_academic_hospitals = []\n",
    "# d = df[outcome_keys + hospital_keys]\n",
    "# d = d.sort_values('New Deaths', ascending=False)\n",
    "for county in county_names:\n",
    "    num_academic_hospitals.append(d[d[c] == county].shape[0])\n",
    "plt.barh(county_names[::-1], num_academic_hospitals[::-1]) # reverse to plot top down\n",
    "plt.xlabel('Number academic hospitals\\n(for hospitals where we have data)')\n",
    "\n",
    "plt.subplot(R, C, 2)\n",
    "plt.barh(df_county.CountyName[:NUM_COUNTIES].values[::-1], df_county['Hospital Employees in County'][:NUM_COUNTIES][::-1]) # reverse to plot top down\n",
    "plt.xlabel('# Hospital Employees')\n",
    "\n",
    "plt.tight_layout()\n",
    "plt.show()"
   ]
  },
  {
   "cell_type": "code",
   "execution_count": null,
   "metadata": {},
   "outputs": [],
   "source": [
    "county_names = d[c].unique()[:NUM_COUNTIES]\n",
    "R, C = 4, 1\n",
    "plt.figure(figsize=(C * 3, R * 3), dpi=200)\n",
    "for i in range(R * C):\n",
    "    plt.subplot(R, C, i + 1)\n",
    "    cn = county_names[i]\n",
    "    dc = d[d[c] == cn]\n",
    "    plt.barh(dc['Hospital Name'][::-1], dc['Hospital Employees'][::-1])\n",
    "    plt.title(cn)\n",
    "    plt.xlabel('# Hospital Employees')\n",
    "plt.tight_layout()\n",
    "# plt.subplots_adjust(bottom=1)\n",
    "plt.show()"
   ]
  },
  {
   "cell_type": "markdown",
   "metadata": {},
   "source": [
    "## Hospital severity map"
   ]
  },
  {
   "cell_type": "code",
   "execution_count": null,
   "metadata": {},
   "outputs": [],
   "source": [
    "counties_json = json.load(open(\"data/geojson-counties-fips.json\", \"r\"))\n",
    "viz_interactive.plot_hospital_severity_slider(df, df_county=df_county, counties_json=counties_json, dark=False)"
   ]
  }
 ],
 "metadata": {
  "kernelspec": {
   "display_name": "Python 3",
   "language": "python",
   "name": "python3"
  },
  "language_info": {
   "codemirror_mode": {
    "name": "ipython",
    "version": 3
   },
   "file_extension": ".py",
   "mimetype": "text/x-python",
   "name": "python",
   "nbconvert_exporter": "python",
   "pygments_lexer": "ipython3",
   "version": "3.7.5"
  }
 },
 "nbformat": 4,
 "nbformat_minor": 4
}
