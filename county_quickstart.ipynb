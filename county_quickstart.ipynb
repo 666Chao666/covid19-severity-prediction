{
 "cells": [
  {
   "cell_type": "code",
   "execution_count": null,
   "metadata": {},
   "outputs": [],
   "source": [
    "%load_ext autoreload\n",
    "%autoreload 2\n",
    "import numpy as np\n",
    "import scipy as sp\n",
    "import pandas as pd\n",
    "import matplotlib.pyplot as plt\n",
    "import matplotlib.dates as mdates\n",
    "import seaborn as sns\n",
    "import sys\n",
    "sys.path.append('modeling')\n",
    "from viz import viz_interactive, viz\n",
    "from modeling import exponential_modeling\n",
    "from bokeh.plotting import figure, show, output_notebook, output_file, save\n",
    "from functions import merge_data\n",
    "import load_data\n",
    "from plotly.offline import init_notebook_mode, iplot\n",
    "from fit_and_predict import add_preds\n",
    "import json\n",
    "from functions import update_severity_index as severity_index\n",
    "plt.style.use('dark_background')\n",
    "df = load_data.load_county_level()\n",
    "df = df.sort_values('tot_deaths', ascending=False)\n",
    "df = add_preds(df, NUM_DAYS_LIST=[1, 2, 3], cached_dir='data') # adds keys like \"Predicted Deaths 1-day\"\n",
    "important_vars = load_data.important_keys(df)\n",
    "print(df.keys())\n",
    "df['tot_deaths_per_capita'] = df['tot_deaths'] / df['PopulationEstimate2018']\n",
    "df['tot_cases_per_capita'] = df['tot_cases'] / df['PopulationEstimate2018']"
   ]
  },
  {
   "cell_type": "markdown",
   "metadata": {},
   "source": [
    "## how many deaths/cases are there"
   ]
  },
  {
   "cell_type": "code",
   "execution_count": null,
   "metadata": {},
   "outputs": [],
   "source": [
    "df[['tot_deaths', 'tot_cases', 'StateName', 'CountyName', 'Predicted Deaths 1-day']].head(10)"
   ]
  },
  {
   "cell_type": "code",
   "execution_count": null,
   "metadata": {},
   "outputs": [],
   "source": [
    "# s = f'Predicted Deaths {2}-day' # tot_deaths\n",
    "s = 'tot_deaths'\n",
    "num_days = 1\n",
    "nonzero = df[s] > 0\n",
    "plt.figure(dpi=300, figsize=(7, 3))\n",
    "plt.plot(df[s].values, '.', ms=3)\n",
    "plt.ylabel(s)\n",
    "plt.xlabel('Counties')\n",
    "# plt.yscale('log')\n",
    "plt.tight_layout()\n",
    "plt.show()"
   ]
  },
  {
   "cell_type": "code",
   "execution_count": null,
   "metadata": {},
   "outputs": [],
   "source": [
    "R, C = 1, 2\n",
    "NUM_COUNTIES = 9\n",
    "plt.figure(dpi=500, figsize=(8, 4))\n",
    "\n",
    "\n",
    "# cs = sns.diverging_palette(20, 220, n=NUM_COUNTIES)\n",
    "cs = sns.color_palette(\"husl\", NUM_COUNTIES)\n",
    "for i in range(NUM_COUNTIES):\n",
    "    row = df.iloc[i]\n",
    "    deaths = np.array([x for x in row['deaths'] if x > 0])\n",
    "    cases = np.array([x for x in row['cases'] if x > 0])\n",
    "    \n",
    "    CASES_ALIGNMENT = 100\n",
    "    idx_align = np.where(cases > CASES_ALIGNMENT)[0][0]\n",
    "    n = cases.size\n",
    "    \n",
    "    DEATHS_ALIGNMENT = 10\n",
    "    idx_align_deaths = np.where(deaths > DEATHS_ALIGNMENT)[0][0]\n",
    "    n2 = deaths.size\n",
    "\n",
    "    \n",
    "    plt.subplot(R, C, 1)\n",
    "    plt.plot(np.arange(n) - idx_align, cases, alpha=0.5, label=row['CountyName'] + ' County')#, color=cs[i])\n",
    "#     plt.yscale('log')\n",
    "    plt.ylabel('Cumulative confirmed cases')\n",
    "    plt.xlabel(f'Days since {CASES_ALIGNMENT} cases')\n",
    "    plt.legend()\n",
    "    \n",
    "    plt.subplot(R, C, 2)\n",
    "    plt.plot(np.arange(n2) - idx_align_deaths, deaths, alpha=0.5, color=cs[i])\n",
    "#     plt.yscale('log')\n",
    "    plt.ylabel('Cumulative deaths')\n",
    "    plt.xlabel(f'Days since {DEATHS_ALIGNMENT} deaths')\n",
    "plt.tight_layout()\n",
    "plt.show()"
   ]
  },
  {
   "cell_type": "markdown",
   "metadata": {},
   "source": [
    "# correlations"
   ]
  },
  {
   "cell_type": "code",
   "execution_count": null,
   "metadata": {},
   "outputs": [],
   "source": [
    "d = df[[k for k in important_vars if not 'PopMale' in k and not 'PopFmle' in k and not 'MortalityAge' in k and not 'PopTotal' in k] + \n",
    "        ['tot_cases', 'tot_cases_per_capita', 'tot_deaths', 'tot_deaths_per_capita']]\n",
    "\n",
    "viz.corrplot(d)\n",
    "plt.savefig('results/correlations_heatmap.png')\n",
    "plt.show()"
   ]
  },
  {
   "cell_type": "code",
   "execution_count": null,
   "metadata": {},
   "outputs": [],
   "source": [
    "corrs = d.corr()\n",
    "keys = np.array(corrs.index)\n",
    "k = np.where(keys == 'tot_deaths')[0][0]\n",
    "corrs_row = corrs.iloc[k]\n",
    "args = np.argsort(corrs_row)\n",
    "plt.figure(dpi=300, figsize=(6, 5))\n",
    "plt.barh(keys[args][:-1], corrs_row[args][:-1]) # 1 to drop outcome itself\n",
    "plt.xlabel('Correlation (spearman) with tot_deaths')\n",
    "plt.tight_layout()\n",
    "# plt.savefig('results/correlations.png')\n",
    "plt.show()"
   ]
  },
  {
   "cell_type": "code",
   "execution_count": null,
   "metadata": {},
   "outputs": [],
   "source": [
    "ks = ['PopulationDensityperSqMile2010', \"TotalM.D.'s,TotNon-FedandFed2017\", 'unacast_n_grade']\n",
    "R, C = 1, len(ks)\n",
    "plt.figure(dpi=300, figsize=(C * 3, R * 3))\n",
    "\n",
    "for c in range(C):\n",
    "    plt.subplot(R, C, c + 1)\n",
    "    if c == 0:\n",
    "        plt.ylabel('tot_deaths')\n",
    "    plt.loglog(d[ks[c]], d['tot_deaths'], '.')\n",
    "    plt.xlabel(ks[c])\n",
    "\n",
    "plt.tight_layout()\n",
    "plt.show()"
   ]
  },
  {
   "cell_type": "markdown",
   "metadata": {},
   "source": [
    "# interactive plots"
   ]
  },
  {
   "cell_type": "code",
   "execution_count": null,
   "metadata": {},
   "outputs": [],
   "source": [
    "ks = [k for k in important_vars if not 'PopMale' in k\n",
    "      and not 'PopFmle' in k\n",
    "      and not 'MortalityAge' in k]"
   ]
  },
  {
   "cell_type": "markdown",
   "metadata": {},
   "source": [
    "**individual states no slider**"
   ]
  },
  {
   "cell_type": "code",
   "execution_count": null,
   "metadata": {},
   "outputs": [],
   "source": [
    "# filter by state\n",
    "for state in ['NY', 'WA', 'CA']:\n",
    "    d = df[df[\"StateNameAbbreviation\"] == state]\n",
    "\n",
    "    p = viz_interactive.plot_counties(d, \n",
    "                          variable_to_distribute='tot_cases',\n",
    "                          variables_to_display=ks,\n",
    "                          state=state,\n",
    "                          logcolor=False)\n",
    "    \n",
    "#     output_file(f\"results/{state.lower()}.html\", mode='inline')\n",
    "#     show(p)\n",
    "#     save(p)"
   ]
  },
  {
   "cell_type": "markdown",
   "metadata": {},
   "source": [
    "**counties slider**"
   ]
  },
  {
   "cell_type": "code",
   "execution_count": null,
   "metadata": {},
   "outputs": [],
   "source": [
    "# add lat and lon to the dataframe\n",
    "county_lat_lon = pd.read_csv('data/county_pop_centers.csv', dtype={'STATEFP': str, 'COUNTYFP': str})\n",
    "county_lat_lon['fips'] = (county_lat_lon['STATEFP'] + county_lat_lon['COUNTYFP']).astype(np.int64)\n",
    "# join to df and rename columns\n",
    "df = df.join(county_lat_lon.set_index('fips'), on='countyFIPS', how='left').rename(\n",
    "    columns={'LATITUDE' : 'lat', 'LONGITUDE' : 'lon'}\n",
    ")"
   ]
  },
  {
   "cell_type": "code",
   "execution_count": null,
   "metadata": {},
   "outputs": [],
   "source": [
    "# Just plot the bubbles... \n",
    "viz_interactive.plot_counties_slider(df)"
   ]
  },
  {
   "cell_type": "code",
   "execution_count": null,
   "metadata": {},
   "outputs": [],
   "source": [
    "# ...or plot choropleth too. Much slower and the map is less responsive\n",
    "# read in county geojson\n",
    "counties_json = json.load(open(\"data/geojson-counties-fips.json\", \"r\"))\n",
    "viz_interactive.plot_counties_slider(df, filename=\"results/deaths_choropleth.html\", \n",
    "                                     plot_choropleth=True, counties_json=counties_json)"
   ]
  },
  {
   "cell_type": "markdown",
   "metadata": {},
   "source": [
    "**political leaning**"
   ]
  },
  {
   "cell_type": "code",
   "execution_count": null,
   "metadata": {},
   "outputs": [],
   "source": [
    "# filter by state\n",
    "for state in ['NY', 'WA', 'CA']:\n",
    "    d = df[df[\"StateNameAbbreviation\"] == state]\n",
    "\n",
    "    p = viz_interactive.plot_counties(d, \n",
    "                          variable_to_distribute='dem_to_rep_ratio',\n",
    "                          variables_to_display=ks,\n",
    "                          state=state,\n",
    "                          logcolor=False)\n",
    "    show(p)"
   ]
  },
  {
   "cell_type": "markdown",
   "metadata": {},
   "source": [
    "**viz curves**"
   ]
  },
  {
   "cell_type": "code",
   "execution_count": null,
   "metadata": {},
   "outputs": [],
   "source": [
    "df_tab = df[['tot_deaths', 'tot_cases', 'CountyName', 'StateName', \n",
    "             'PopulationDensityperSqMile2010',\n",
    "             'deaths', 'cases']].head(12)        \n",
    "# df_tab = df_tab.rename(columns={'PopulationEstimate2018': 'Population\\n(thousands})'})\n",
    "df_tab = df_tab.rename(columns={'PopulationDensityperSqMile2010': 'PopDensity'})\n",
    "df_tab = df_tab.rename(columns={'tot_deaths': '#Deaths', 'tot_cases': '#Cases'})\n",
    "df_tab = df_tab.rename(columns={'CountyName': 'County', 'StateName': 'State'})\n",
    "print(df_tab.keys())\n",
    "# df_tab['Population']\n",
    "keys_table = [k for k in df_tab.keys() if not k in ['deaths', 'cases']]\n",
    "viz_interactive.viz_curves(df_tab, \n",
    "               key_toggle='County',\n",
    "               keys_table=keys_table,\n",
    "               filename='results/county_curves.html')\n",
    "print('done!')"
   ]
  },
  {
   "cell_type": "code",
   "execution_count": null,
   "metadata": {},
   "outputs": [],
   "source": []
  }
 ],
 "metadata": {
  "kernelspec": {
   "display_name": "Python 3",
   "language": "python",
   "name": "python3"
  },
  "language_info": {
   "codemirror_mode": {
    "name": "ipython",
    "version": 3
   },
   "file_extension": ".py",
   "mimetype": "text/x-python",
   "name": "python",
   "nbconvert_exporter": "python",
   "pygments_lexer": "ipython3",
   "version": "3.7.5"
  }
 },
 "nbformat": 4,
 "nbformat_minor": 4
}
