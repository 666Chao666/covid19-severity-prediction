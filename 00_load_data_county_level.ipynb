{
 "cells": [
  {
   "cell_type": "code",
   "execution_count": 3,
   "metadata": {},
   "outputs": [
    {
     "name": "stdout",
     "output_type": "stream",
     "text": [
      "The autoreload extension is already loaded. To reload it, use:\n",
      "  %reload_ext autoreload\n"
     ]
    }
   ],
   "source": [
    "%load_ext autoreload\n",
    "%autoreload 2\n",
    "import numpy as np\n",
    "import scipy as sp\n",
    "import pandas as pd\n",
    "import matplotlib.pyplot as plt\n",
    "import matplotlib.dates as mdates\n",
    "import matplotlib.cbook as cbook\n",
    "from functions import merge_data"
   ]
  },
  {
   "cell_type": "markdown",
   "metadata": {},
   "source": [
    "## load merged data"
   ]
  },
  {
   "cell_type": "code",
   "execution_count": 4,
   "metadata": {},
   "outputs": [
    {
     "name": "stderr",
     "output_type": "stream",
     "text": [
      "/accounts/projects/vision/chandan/covid-19-geographic-risk-prediction/functions/merge_data.py:20: ParserWarning: Falling back to the 'python' engine because the 'c' engine does not support skipfooter; you can avoid this warning by specifying engine='python'.\n",
      "  diabetes = pd.read_csv(diabetes, skiprows = 2, skipfooter = 1)\n"
     ]
    },
    {
     "ename": "FileNotFoundError",
     "evalue": "[Errno 2] No such file or directory: 'data/respiratory_disease/IHME_USA_COUNTY_RESP_DISEASE_MORTALITY_1980_2014_NATIONAL_Y2017M09D26.XLSX'",
     "output_type": "error",
     "traceback": [
      "\u001b[0;31m---------------------------------------------------------------------------\u001b[0m",
      "\u001b[0;31mFileNotFoundError\u001b[0m                         Traceback (most recent call last)",
      "\u001b[0;32m<ipython-input-4-1768fafde8e6>\u001b[0m in \u001b[0;36m<module>\u001b[0;34m\u001b[0m\n\u001b[1;32m      7\u001b[0m                            \u001b[0mmedicare_group\u001b[0m\u001b[0;34m=\u001b[0m\u001b[0;34m\"All Beneficiaries\"\u001b[0m\u001b[0;34m,\u001b[0m\u001b[0;34m\u001b[0m\u001b[0;34m\u001b[0m\u001b[0m\n\u001b[1;32m      8\u001b[0m                            \u001b[0mvoting\u001b[0m\u001b[0;34m=\u001b[0m\u001b[0mvoting\u001b[0m\u001b[0;34m,\u001b[0m\u001b[0;34m\u001b[0m\u001b[0;34m\u001b[0m\u001b[0m\n\u001b[0;32m----> 9\u001b[0;31m                            diabetes=diabetes) # also cleans usafacts data\n\u001b[0m",
      "\u001b[0;32m~/chandan/covid-19-geographic-risk-prediction/functions/merge_data.py\u001b[0m in \u001b[0;36mmerge_data\u001b[0;34m(ahrf_data, usafacts_data_cases, diabetes, voting, medicare_group, resp_group)\u001b[0m\n\u001b[1;32m     21\u001b[0m     \u001b[0mdiabetes\u001b[0m \u001b[0;34m=\u001b[0m \u001b[0mdiabetes\u001b[0m\u001b[0;34m[\u001b[0m\u001b[0;34m[\u001b[0m\u001b[0;34m\"CountyFIPS\"\u001b[0m\u001b[0;34m,\u001b[0m \u001b[0;34m\"Percentage\"\u001b[0m\u001b[0;34m]\u001b[0m\u001b[0;34m]\u001b[0m\u001b[0;34m\u001b[0m\u001b[0;34m\u001b[0m\u001b[0m\n\u001b[1;32m     22\u001b[0m     \u001b[0mdiabetes\u001b[0m\u001b[0;34m.\u001b[0m\u001b[0mcolumns\u001b[0m \u001b[0;34m=\u001b[0m \u001b[0;34m[\u001b[0m\u001b[0;34m\"countyFIPS\"\u001b[0m\u001b[0;34m,\u001b[0m \u001b[0;34m\"Diabetes Percentage\"\u001b[0m\u001b[0;34m]\u001b[0m\u001b[0;34m\u001b[0m\u001b[0;34m\u001b[0m\u001b[0m\n\u001b[0;32m---> 23\u001b[0;31m     \u001b[0mresp_disease\u001b[0m \u001b[0;34m=\u001b[0m \u001b[0mload_respiratory_disease_data\u001b[0m\u001b[0;34m.\u001b[0m\u001b[0mloadRespDiseaseSheet\u001b[0m\u001b[0;34m(\u001b[0m\u001b[0mresp_group\u001b[0m\u001b[0;34m)\u001b[0m\u001b[0;34m\u001b[0m\u001b[0;34m\u001b[0m\u001b[0m\n\u001b[0m\u001b[1;32m     24\u001b[0m     \u001b[0mcases\u001b[0m \u001b[0;34m=\u001b[0m \u001b[0mcases\u001b[0m\u001b[0;34m[\u001b[0m\u001b[0mcases\u001b[0m\u001b[0;34m.\u001b[0m\u001b[0mcountyFIPS\u001b[0m \u001b[0;34m!=\u001b[0m \u001b[0;36m0\u001b[0m\u001b[0;34m]\u001b[0m\u001b[0;34m\u001b[0m\u001b[0;34m\u001b[0m\u001b[0m\n\u001b[1;32m     25\u001b[0m     \u001b[0mvoting\u001b[0m \u001b[0;34m=\u001b[0m \u001b[0mpd\u001b[0m\u001b[0;34m.\u001b[0m\u001b[0mread_pickle\u001b[0m\u001b[0;34m(\u001b[0m\u001b[0mvoting\u001b[0m\u001b[0;34m)\u001b[0m\u001b[0;34m\u001b[0m\u001b[0;34m\u001b[0m\u001b[0m\n",
      "\u001b[0;32m~/chandan/covid-19-geographic-risk-prediction/functions/load_respiratory_disease_data.py\u001b[0m in \u001b[0;36mloadRespDiseaseSheet\u001b[0;34m(sheet_name)\u001b[0m\n\u001b[1;32m      6\u001b[0m                               \u001b[0msheet_name\u001b[0m \u001b[0;34m=\u001b[0m \u001b[0;34m\"Chronic respiratory diseases\"\u001b[0m\u001b[0;34m,\u001b[0m\u001b[0;34m\u001b[0m\u001b[0;34m\u001b[0m\u001b[0m\n\u001b[1;32m      7\u001b[0m                               \u001b[0mskiprows\u001b[0m \u001b[0;34m=\u001b[0m \u001b[0;36m1\u001b[0m\u001b[0;34m,\u001b[0m\u001b[0;34m\u001b[0m\u001b[0;34m\u001b[0m\u001b[0m\n\u001b[0;32m----> 8\u001b[0;31m                               skipfooter = 2)\n\u001b[0m\u001b[1;32m      9\u001b[0m     \u001b[0morig_data\u001b[0m \u001b[0;34m=\u001b[0m \u001b[0morig_data\u001b[0m\u001b[0;34m.\u001b[0m\u001b[0mdropna\u001b[0m\u001b[0;34m(\u001b[0m\u001b[0msubset\u001b[0m \u001b[0;34m=\u001b[0m \u001b[0;34m[\u001b[0m\u001b[0;34m\"FIPS\"\u001b[0m\u001b[0;34m]\u001b[0m\u001b[0;34m)\u001b[0m\u001b[0;34m\u001b[0m\u001b[0;34m\u001b[0m\u001b[0m\n\u001b[1;32m     10\u001b[0m     \u001b[0;31m# omit the confidence intervals for now\u001b[0m\u001b[0;34m\u001b[0m\u001b[0;34m\u001b[0m\u001b[0;34m\u001b[0m\u001b[0m\n",
      "\u001b[0;32m~/.local/lib/python3.7/site-packages/pandas/util/_decorators.py\u001b[0m in \u001b[0;36mwrapper\u001b[0;34m(*args, **kwargs)\u001b[0m\n\u001b[1;32m    186\u001b[0m                 \u001b[0;32melse\u001b[0m\u001b[0;34m:\u001b[0m\u001b[0;34m\u001b[0m\u001b[0;34m\u001b[0m\u001b[0m\n\u001b[1;32m    187\u001b[0m                     \u001b[0mkwargs\u001b[0m\u001b[0;34m[\u001b[0m\u001b[0mnew_arg_name\u001b[0m\u001b[0;34m]\u001b[0m \u001b[0;34m=\u001b[0m \u001b[0mnew_arg_value\u001b[0m\u001b[0;34m\u001b[0m\u001b[0;34m\u001b[0m\u001b[0m\n\u001b[0;32m--> 188\u001b[0;31m             \u001b[0;32mreturn\u001b[0m \u001b[0mfunc\u001b[0m\u001b[0;34m(\u001b[0m\u001b[0;34m*\u001b[0m\u001b[0margs\u001b[0m\u001b[0;34m,\u001b[0m \u001b[0;34m**\u001b[0m\u001b[0mkwargs\u001b[0m\u001b[0;34m)\u001b[0m\u001b[0;34m\u001b[0m\u001b[0;34m\u001b[0m\u001b[0m\n\u001b[0m\u001b[1;32m    189\u001b[0m         \u001b[0;32mreturn\u001b[0m \u001b[0mwrapper\u001b[0m\u001b[0;34m\u001b[0m\u001b[0;34m\u001b[0m\u001b[0m\n\u001b[1;32m    190\u001b[0m     \u001b[0;32mreturn\u001b[0m \u001b[0m_deprecate_kwarg\u001b[0m\u001b[0;34m\u001b[0m\u001b[0;34m\u001b[0m\u001b[0m\n",
      "\u001b[0;32m~/.local/lib/python3.7/site-packages/pandas/util/_decorators.py\u001b[0m in \u001b[0;36mwrapper\u001b[0;34m(*args, **kwargs)\u001b[0m\n\u001b[1;32m    186\u001b[0m                 \u001b[0;32melse\u001b[0m\u001b[0;34m:\u001b[0m\u001b[0;34m\u001b[0m\u001b[0;34m\u001b[0m\u001b[0m\n\u001b[1;32m    187\u001b[0m                     \u001b[0mkwargs\u001b[0m\u001b[0;34m[\u001b[0m\u001b[0mnew_arg_name\u001b[0m\u001b[0;34m]\u001b[0m \u001b[0;34m=\u001b[0m \u001b[0mnew_arg_value\u001b[0m\u001b[0;34m\u001b[0m\u001b[0;34m\u001b[0m\u001b[0m\n\u001b[0;32m--> 188\u001b[0;31m             \u001b[0;32mreturn\u001b[0m \u001b[0mfunc\u001b[0m\u001b[0;34m(\u001b[0m\u001b[0;34m*\u001b[0m\u001b[0margs\u001b[0m\u001b[0;34m,\u001b[0m \u001b[0;34m**\u001b[0m\u001b[0mkwargs\u001b[0m\u001b[0;34m)\u001b[0m\u001b[0;34m\u001b[0m\u001b[0;34m\u001b[0m\u001b[0m\n\u001b[0m\u001b[1;32m    189\u001b[0m         \u001b[0;32mreturn\u001b[0m \u001b[0mwrapper\u001b[0m\u001b[0;34m\u001b[0m\u001b[0;34m\u001b[0m\u001b[0m\n\u001b[1;32m    190\u001b[0m     \u001b[0;32mreturn\u001b[0m \u001b[0m_deprecate_kwarg\u001b[0m\u001b[0;34m\u001b[0m\u001b[0;34m\u001b[0m\u001b[0m\n",
      "\u001b[0;32m~/.local/lib/python3.7/site-packages/pandas/io/excel.py\u001b[0m in \u001b[0;36mread_excel\u001b[0;34m(io, sheet_name, header, names, index_col, parse_cols, usecols, squeeze, dtype, engine, converters, true_values, false_values, skiprows, nrows, na_values, keep_default_na, verbose, parse_dates, date_parser, thousands, comment, skip_footer, skipfooter, convert_float, mangle_dupe_cols, **kwds)\u001b[0m\n\u001b[1;32m    348\u001b[0m \u001b[0;34m\u001b[0m\u001b[0m\n\u001b[1;32m    349\u001b[0m     \u001b[0;32mif\u001b[0m \u001b[0;32mnot\u001b[0m \u001b[0misinstance\u001b[0m\u001b[0;34m(\u001b[0m\u001b[0mio\u001b[0m\u001b[0;34m,\u001b[0m \u001b[0mExcelFile\u001b[0m\u001b[0;34m)\u001b[0m\u001b[0;34m:\u001b[0m\u001b[0;34m\u001b[0m\u001b[0;34m\u001b[0m\u001b[0m\n\u001b[0;32m--> 350\u001b[0;31m         \u001b[0mio\u001b[0m \u001b[0;34m=\u001b[0m \u001b[0mExcelFile\u001b[0m\u001b[0;34m(\u001b[0m\u001b[0mio\u001b[0m\u001b[0;34m,\u001b[0m \u001b[0mengine\u001b[0m\u001b[0;34m=\u001b[0m\u001b[0mengine\u001b[0m\u001b[0;34m)\u001b[0m\u001b[0;34m\u001b[0m\u001b[0;34m\u001b[0m\u001b[0m\n\u001b[0m\u001b[1;32m    351\u001b[0m \u001b[0;34m\u001b[0m\u001b[0m\n\u001b[1;32m    352\u001b[0m     return io.parse(\n",
      "\u001b[0;32m~/.local/lib/python3.7/site-packages/pandas/io/excel.py\u001b[0m in \u001b[0;36m__init__\u001b[0;34m(self, io, engine)\u001b[0m\n\u001b[1;32m    651\u001b[0m         \u001b[0mself\u001b[0m\u001b[0;34m.\u001b[0m\u001b[0m_io\u001b[0m \u001b[0;34m=\u001b[0m \u001b[0m_stringify_path\u001b[0m\u001b[0;34m(\u001b[0m\u001b[0mio\u001b[0m\u001b[0;34m)\u001b[0m\u001b[0;34m\u001b[0m\u001b[0;34m\u001b[0m\u001b[0m\n\u001b[1;32m    652\u001b[0m \u001b[0;34m\u001b[0m\u001b[0m\n\u001b[0;32m--> 653\u001b[0;31m         \u001b[0mself\u001b[0m\u001b[0;34m.\u001b[0m\u001b[0m_reader\u001b[0m \u001b[0;34m=\u001b[0m \u001b[0mself\u001b[0m\u001b[0;34m.\u001b[0m\u001b[0m_engines\u001b[0m\u001b[0;34m[\u001b[0m\u001b[0mengine\u001b[0m\u001b[0;34m]\u001b[0m\u001b[0;34m(\u001b[0m\u001b[0mself\u001b[0m\u001b[0;34m.\u001b[0m\u001b[0m_io\u001b[0m\u001b[0;34m)\u001b[0m\u001b[0;34m\u001b[0m\u001b[0;34m\u001b[0m\u001b[0m\n\u001b[0m\u001b[1;32m    654\u001b[0m \u001b[0;34m\u001b[0m\u001b[0m\n\u001b[1;32m    655\u001b[0m     \u001b[0;32mdef\u001b[0m \u001b[0m__fspath__\u001b[0m\u001b[0;34m(\u001b[0m\u001b[0mself\u001b[0m\u001b[0;34m)\u001b[0m\u001b[0;34m:\u001b[0m\u001b[0;34m\u001b[0m\u001b[0;34m\u001b[0m\u001b[0m\n",
      "\u001b[0;32m~/.local/lib/python3.7/site-packages/pandas/io/excel.py\u001b[0m in \u001b[0;36m__init__\u001b[0;34m(self, filepath_or_buffer)\u001b[0m\n\u001b[1;32m    422\u001b[0m             \u001b[0mself\u001b[0m\u001b[0;34m.\u001b[0m\u001b[0mbook\u001b[0m \u001b[0;34m=\u001b[0m \u001b[0mxlrd\u001b[0m\u001b[0;34m.\u001b[0m\u001b[0mopen_workbook\u001b[0m\u001b[0;34m(\u001b[0m\u001b[0mfile_contents\u001b[0m\u001b[0;34m=\u001b[0m\u001b[0mdata\u001b[0m\u001b[0;34m)\u001b[0m\u001b[0;34m\u001b[0m\u001b[0;34m\u001b[0m\u001b[0m\n\u001b[1;32m    423\u001b[0m         \u001b[0;32melif\u001b[0m \u001b[0misinstance\u001b[0m\u001b[0;34m(\u001b[0m\u001b[0mfilepath_or_buffer\u001b[0m\u001b[0;34m,\u001b[0m \u001b[0mcompat\u001b[0m\u001b[0;34m.\u001b[0m\u001b[0mstring_types\u001b[0m\u001b[0;34m)\u001b[0m\u001b[0;34m:\u001b[0m\u001b[0;34m\u001b[0m\u001b[0;34m\u001b[0m\u001b[0m\n\u001b[0;32m--> 424\u001b[0;31m             \u001b[0mself\u001b[0m\u001b[0;34m.\u001b[0m\u001b[0mbook\u001b[0m \u001b[0;34m=\u001b[0m \u001b[0mxlrd\u001b[0m\u001b[0;34m.\u001b[0m\u001b[0mopen_workbook\u001b[0m\u001b[0;34m(\u001b[0m\u001b[0mfilepath_or_buffer\u001b[0m\u001b[0;34m)\u001b[0m\u001b[0;34m\u001b[0m\u001b[0;34m\u001b[0m\u001b[0m\n\u001b[0m\u001b[1;32m    425\u001b[0m         \u001b[0;32melse\u001b[0m\u001b[0;34m:\u001b[0m\u001b[0;34m\u001b[0m\u001b[0;34m\u001b[0m\u001b[0m\n\u001b[1;32m    426\u001b[0m             raise ValueError('Must explicitly set engine if not passing in'\n",
      "\u001b[0;32m/system/linux/anaconda3.7/lib/python3.7/site-packages/xlrd/__init__.py\u001b[0m in \u001b[0;36mopen_workbook\u001b[0;34m(filename, logfile, verbosity, use_mmap, file_contents, encoding_override, formatting_info, on_demand, ragged_rows)\u001b[0m\n\u001b[1;32m    109\u001b[0m     \u001b[0;32melse\u001b[0m\u001b[0;34m:\u001b[0m\u001b[0;34m\u001b[0m\u001b[0;34m\u001b[0m\u001b[0m\n\u001b[1;32m    110\u001b[0m         \u001b[0mfilename\u001b[0m \u001b[0;34m=\u001b[0m \u001b[0mos\u001b[0m\u001b[0;34m.\u001b[0m\u001b[0mpath\u001b[0m\u001b[0;34m.\u001b[0m\u001b[0mexpanduser\u001b[0m\u001b[0;34m(\u001b[0m\u001b[0mfilename\u001b[0m\u001b[0;34m)\u001b[0m\u001b[0;34m\u001b[0m\u001b[0;34m\u001b[0m\u001b[0m\n\u001b[0;32m--> 111\u001b[0;31m         \u001b[0;32mwith\u001b[0m \u001b[0mopen\u001b[0m\u001b[0;34m(\u001b[0m\u001b[0mfilename\u001b[0m\u001b[0;34m,\u001b[0m \u001b[0;34m\"rb\"\u001b[0m\u001b[0;34m)\u001b[0m \u001b[0;32mas\u001b[0m \u001b[0mf\u001b[0m\u001b[0;34m:\u001b[0m\u001b[0;34m\u001b[0m\u001b[0;34m\u001b[0m\u001b[0m\n\u001b[0m\u001b[1;32m    112\u001b[0m             \u001b[0mpeek\u001b[0m \u001b[0;34m=\u001b[0m \u001b[0mf\u001b[0m\u001b[0;34m.\u001b[0m\u001b[0mread\u001b[0m\u001b[0;34m(\u001b[0m\u001b[0mpeeksz\u001b[0m\u001b[0;34m)\u001b[0m\u001b[0;34m\u001b[0m\u001b[0;34m\u001b[0m\u001b[0m\n\u001b[1;32m    113\u001b[0m     \u001b[0;32mif\u001b[0m \u001b[0mpeek\u001b[0m \u001b[0;34m==\u001b[0m \u001b[0;34mb\"PK\\x03\\x04\"\u001b[0m\u001b[0;34m:\u001b[0m \u001b[0;31m# a ZIP file\u001b[0m\u001b[0;34m\u001b[0m\u001b[0;34m\u001b[0m\u001b[0m\n",
      "\u001b[0;31mFileNotFoundError\u001b[0m: [Errno 2] No such file or directory: 'data/respiratory_disease/IHME_USA_COUNTY_RESP_DISEASE_MORTALITY_1980_2014_NATIONAL_Y2017M09D26.XLSX'"
     ]
    }
   ],
   "source": [
    "ahrf_data = 'data/hrsa/data_AHRF_2018-2019/processed/df_renamed.pkl'\n",
    "usafacts_data_cases = 'data/usafacts/confirmed_cases_mar22.csv'\n",
    "diabetes = 'data/diabetes/DiabetesAtlasCountyData.csv'\n",
    "voting = 'data/voting/county_voting_processed.pkl'\n",
    "df = merge_data.merge_data(ahrf_data=ahrf_data, \n",
    "                           usafacts_data_cases=usafacts_data_cases,\n",
    "                           medicare_group=\"All Beneficiaries\",\n",
    "                           voting=voting,\n",
    "                           diabetes=diabetes) # also cleans usafacts data"
   ]
  },
  {
   "cell_type": "code",
   "execution_count": null,
   "metadata": {},
   "outputs": [],
   "source": [
    "df.keys()"
   ]
  },
  {
   "cell_type": "markdown",
   "metadata": {},
   "source": [
    "## load data separately"
   ]
  },
  {
   "cell_type": "code",
   "execution_count": 4,
   "metadata": {},
   "outputs": [
    {
     "name": "stderr",
     "output_type": "stream",
     "text": [
      "/Users/Tiffany/Applications/anaconda3/lib/python3.7/site-packages/ipykernel_launcher.py:19: ParserWarning: Falling back to the 'python' engine because the 'c' engine does not support skipfooter; you can avoid this warning by specifying engine='python'.\n"
     ]
    }
   ],
   "source": [
    "from os.path import join as oj\n",
    "from functions import load_medicare_data\n",
    "ahrf_data = 'data/hrsa/data_AHRF_2018-2019/processed/df_renamed.pkl'\n",
    "usafacts_data_cases = 'data/usafacts/confirmed_cases_mar22.csv'\n",
    "usafacts_data_deaths = 'data/usafacts/deaths_mar22.csv'\n",
    "diabetes_data = 'data/diabetes/DiabetesAtlasCountyData.csv'\n",
    "\n",
    "# load data\n",
    "facts = pd.read_pickle(ahrf_data)\n",
    "facts = facts.rename(columns={'Blank': 'id'})\n",
    "\n",
    "cases = pd.read_csv(usafacts_data_cases, encoding=\"iso-8859-1\")\n",
    "cases = cases.rename(columns={k: '#Cases_' + k for k in cases.keys() \n",
    "                              if not 'county' in k.lower()\n",
    "                              and not 'state' in k.lower()})\n",
    "\n",
    "chronic_all_orig = load_medicare_data.loadChronicSheet(\"All Beneficiaries\")\n",
    "\n",
    "diabetes = pd.read_csv(diabetes_data, skiprows = 2, skipfooter = 1)\n",
    "diabetes = diabetes[[\"CountyFIPS\", \"Percentage\"]]\n",
    "diabetes.columns = [\"countyFIPS\", \"Diabetes Percentage\"]"
   ]
  },
  {
   "cell_type": "code",
   "execution_count": 5,
   "metadata": {},
   "outputs": [
    {
     "data": {
      "text/plain": [
       "countyFIPS           int64\n",
       "County Name         object\n",
       "State               object\n",
       "stateFIPS            int64\n",
       "#Cases_1/22/2020     int64\n",
       "                     ...  \n",
       "#Cases_3/17/2020     int64\n",
       "#Cases_3/18/2020     int64\n",
       "#Cases_3/19/2020     int64\n",
       "#Cases_3/20/2020     int64\n",
       "#Cases_3/21/2020     int64\n",
       "Length: 64, dtype: object"
      ]
     },
     "execution_count": 5,
     "metadata": {},
     "output_type": "execute_result"
    }
   ],
   "source": [
    "#visualize the top 5 rows\n",
    "cases.head(5)\n",
    "cases.dtypes"
   ]
  },
  {
   "cell_type": "code",
   "execution_count": 6,
   "metadata": {},
   "outputs": [
    {
     "data": {
      "text/html": [
       "<div>\n",
       "<style scoped>\n",
       "    .dataframe tbody tr th:only-of-type {\n",
       "        vertical-align: middle;\n",
       "    }\n",
       "\n",
       "    .dataframe tbody tr th {\n",
       "        vertical-align: top;\n",
       "    }\n",
       "\n",
       "    .dataframe thead th {\n",
       "        text-align: right;\n",
       "    }\n",
       "</style>\n",
       "<table border=\"1\" class=\"dataframe\">\n",
       "  <thead>\n",
       "    <tr style=\"text-align: right;\">\n",
       "      <th></th>\n",
       "      <th>State</th>\n",
       "      <th>County</th>\n",
       "      <th>countyFIPS</th>\n",
       "      <th>condition_Alcohol Abuse</th>\n",
       "      <th>condition_Alzheimers</th>\n",
       "      <th>condition_Arthritis</th>\n",
       "      <th>condition_Asthma</th>\n",
       "      <th>condition_Atrial Fibrillation</th>\n",
       "      <th>condition_Autism</th>\n",
       "      <th>condition_Cancer</th>\n",
       "      <th>...</th>\n",
       "      <th>condition_Drug Abuse</th>\n",
       "      <th>condition_HIV/AIDS</th>\n",
       "      <th>condition_Heart Failure</th>\n",
       "      <th>condition_Hepatitis</th>\n",
       "      <th>condition_Hyperlipidemia</th>\n",
       "      <th>condition_Hypertension</th>\n",
       "      <th>condition_Ischemic Heart Disease</th>\n",
       "      <th>condition_Osteoporosis</th>\n",
       "      <th>condition_Psychotic Disorders</th>\n",
       "      <th>condition_Stroke</th>\n",
       "    </tr>\n",
       "  </thead>\n",
       "  <tbody>\n",
       "    <tr>\n",
       "      <td>2</td>\n",
       "      <td>Alabama</td>\n",
       "      <td>Autauga</td>\n",
       "      <td>1001.0</td>\n",
       "      <td>2.4273</td>\n",
       "      <td>10.4989</td>\n",
       "      <td>35.0029</td>\n",
       "      <td>4.5463</td>\n",
       "      <td>8.5918</td>\n",
       "      <td>NaN</td>\n",
       "      <td>8.4762</td>\n",
       "      <td>...</td>\n",
       "      <td>3.2171</td>\n",
       "      <td>0.2504</td>\n",
       "      <td>15.8544</td>\n",
       "      <td>0.5201</td>\n",
       "      <td>48.9694</td>\n",
       "      <td>63.7064</td>\n",
       "      <td>31.3234</td>\n",
       "      <td>6.4149</td>\n",
       "      <td>3.0437</td>\n",
       "      <td>4.0647</td>\n",
       "    </tr>\n",
       "    <tr>\n",
       "      <td>3</td>\n",
       "      <td>Alabama</td>\n",
       "      <td>Baldwin</td>\n",
       "      <td>1003.0</td>\n",
       "      <td>2.1230</td>\n",
       "      <td>10.9441</td>\n",
       "      <td>37.6864</td>\n",
       "      <td>4.8890</td>\n",
       "      <td>9.4952</td>\n",
       "      <td>0.1046</td>\n",
       "      <td>8.5693</td>\n",
       "      <td>...</td>\n",
       "      <td>3.9631</td>\n",
       "      <td>0.1627</td>\n",
       "      <td>12.8695</td>\n",
       "      <td>0.5114</td>\n",
       "      <td>44.0747</td>\n",
       "      <td>60.3339</td>\n",
       "      <td>31.8638</td>\n",
       "      <td>6.2682</td>\n",
       "      <td>2.0997</td>\n",
       "      <td>3.8740</td>\n",
       "    </tr>\n",
       "    <tr>\n",
       "      <td>4</td>\n",
       "      <td>Alabama</td>\n",
       "      <td>Barbour</td>\n",
       "      <td>1005.0</td>\n",
       "      <td>4.7292</td>\n",
       "      <td>11.4923</td>\n",
       "      <td>37.5398</td>\n",
       "      <td>5.5134</td>\n",
       "      <td>6.8856</td>\n",
       "      <td>NaN</td>\n",
       "      <td>8.3313</td>\n",
       "      <td>...</td>\n",
       "      <td>4.9743</td>\n",
       "      <td>0.6616</td>\n",
       "      <td>13.7711</td>\n",
       "      <td>0.4166</td>\n",
       "      <td>46.5572</td>\n",
       "      <td>67.2384</td>\n",
       "      <td>26.4151</td>\n",
       "      <td>4.7047</td>\n",
       "      <td>4.5087</td>\n",
       "      <td>4.5822</td>\n",
       "    </tr>\n",
       "    <tr>\n",
       "      <td>5</td>\n",
       "      <td>Alabama</td>\n",
       "      <td>Bibb</td>\n",
       "      <td>1007.0</td>\n",
       "      <td>2.8803</td>\n",
       "      <td>10.8011</td>\n",
       "      <td>37.7588</td>\n",
       "      <td>4.9055</td>\n",
       "      <td>8.9559</td>\n",
       "      <td>0.0000</td>\n",
       "      <td>7.1557</td>\n",
       "      <td>...</td>\n",
       "      <td>4.4554</td>\n",
       "      <td>NaN</td>\n",
       "      <td>17.3717</td>\n",
       "      <td>0.9001</td>\n",
       "      <td>48.5149</td>\n",
       "      <td>67.9118</td>\n",
       "      <td>28.0378</td>\n",
       "      <td>6.1206</td>\n",
       "      <td>3.6454</td>\n",
       "      <td>5.5356</td>\n",
       "    </tr>\n",
       "    <tr>\n",
       "      <td>6</td>\n",
       "      <td>Alabama</td>\n",
       "      <td>Blount</td>\n",
       "      <td>1009.0</td>\n",
       "      <td>2.0132</td>\n",
       "      <td>11.4934</td>\n",
       "      <td>34.2423</td>\n",
       "      <td>5.3258</td>\n",
       "      <td>8.4004</td>\n",
       "      <td>NaN</td>\n",
       "      <td>6.7350</td>\n",
       "      <td>...</td>\n",
       "      <td>4.8499</td>\n",
       "      <td>NaN</td>\n",
       "      <td>16.2518</td>\n",
       "      <td>0.6772</td>\n",
       "      <td>46.4861</td>\n",
       "      <td>63.7811</td>\n",
       "      <td>30.5820</td>\n",
       "      <td>5.7284</td>\n",
       "      <td>2.8184</td>\n",
       "      <td>4.4290</td>\n",
       "    </tr>\n",
       "  </tbody>\n",
       "</table>\n",
       "<p>5 rows × 24 columns</p>\n",
       "</div>"
      ],
      "text/plain": [
       "      State    County  countyFIPS  condition_Alcohol Abuse  \\\n",
       "2  Alabama   Autauga       1001.0                   2.4273   \n",
       "3  Alabama   Baldwin       1003.0                   2.1230   \n",
       "4  Alabama   Barbour       1005.0                   4.7292   \n",
       "5  Alabama      Bibb       1007.0                   2.8803   \n",
       "6  Alabama    Blount       1009.0                   2.0132   \n",
       "\n",
       "   condition_Alzheimers  condition_Arthritis  condition_Asthma  \\\n",
       "2               10.4989              35.0029            4.5463   \n",
       "3               10.9441              37.6864            4.8890   \n",
       "4               11.4923              37.5398            5.5134   \n",
       "5               10.8011              37.7588            4.9055   \n",
       "6               11.4934              34.2423            5.3258   \n",
       "\n",
       "   condition_Atrial Fibrillation  condition_Autism  condition_Cancer  ...  \\\n",
       "2                         8.5918               NaN            8.4762  ...   \n",
       "3                         9.4952            0.1046            8.5693  ...   \n",
       "4                         6.8856               NaN            8.3313  ...   \n",
       "5                         8.9559            0.0000            7.1557  ...   \n",
       "6                         8.4004               NaN            6.7350  ...   \n",
       "\n",
       "   condition_Drug Abuse  condition_HIV/AIDS  condition_Heart Failure  \\\n",
       "2                3.2171              0.2504                  15.8544   \n",
       "3                3.9631              0.1627                  12.8695   \n",
       "4                4.9743              0.6616                  13.7711   \n",
       "5                4.4554                 NaN                  17.3717   \n",
       "6                4.8499                 NaN                  16.2518   \n",
       "\n",
       "   condition_Hepatitis  condition_Hyperlipidemia  condition_Hypertension  \\\n",
       "2               0.5201                   48.9694                 63.7064   \n",
       "3               0.5114                   44.0747                 60.3339   \n",
       "4               0.4166                   46.5572                 67.2384   \n",
       "5               0.9001                   48.5149                 67.9118   \n",
       "6               0.6772                   46.4861                 63.7811   \n",
       "\n",
       "   condition_Ischemic Heart Disease  condition_Osteoporosis  \\\n",
       "2                           31.3234                  6.4149   \n",
       "3                           31.8638                  6.2682   \n",
       "4                           26.4151                  4.7047   \n",
       "5                           28.0378                  6.1206   \n",
       "6                           30.5820                  5.7284   \n",
       "\n",
       "   condition_Psychotic Disorders  condition_Stroke  \n",
       "2                         3.0437            4.0647  \n",
       "3                         2.0997            3.8740  \n",
       "4                         4.5087            4.5822  \n",
       "5                         3.6454            5.5356  \n",
       "6                         2.8184            4.4290  \n",
       "\n",
       "[5 rows x 24 columns]"
      ]
     },
     "execution_count": 6,
     "metadata": {},
     "output_type": "execute_result"
    }
   ],
   "source": [
    "chronic_all_orig.head(5)"
   ]
  },
  {
   "cell_type": "code",
   "execution_count": 7,
   "metadata": {},
   "outputs": [
    {
     "data": {
      "text/html": [
       "<div>\n",
       "<style scoped>\n",
       "    .dataframe tbody tr th:only-of-type {\n",
       "        vertical-align: middle;\n",
       "    }\n",
       "\n",
       "    .dataframe tbody tr th {\n",
       "        vertical-align: top;\n",
       "    }\n",
       "\n",
       "    .dataframe thead th {\n",
       "        text-align: right;\n",
       "    }\n",
       "</style>\n",
       "<table border=\"1\" class=\"dataframe\">\n",
       "  <thead>\n",
       "    <tr style=\"text-align: right;\">\n",
       "      <th></th>\n",
       "      <th>countyFIPS</th>\n",
       "      <th>Diabetes Percentage</th>\n",
       "    </tr>\n",
       "  </thead>\n",
       "  <tbody>\n",
       "    <tr>\n",
       "      <td>0</td>\n",
       "      <td>1001</td>\n",
       "      <td>9.9</td>\n",
       "    </tr>\n",
       "    <tr>\n",
       "      <td>1</td>\n",
       "      <td>1003</td>\n",
       "      <td>8.5</td>\n",
       "    </tr>\n",
       "    <tr>\n",
       "      <td>2</td>\n",
       "      <td>1005</td>\n",
       "      <td>15.7</td>\n",
       "    </tr>\n",
       "    <tr>\n",
       "      <td>3</td>\n",
       "      <td>1007</td>\n",
       "      <td>13.3</td>\n",
       "    </tr>\n",
       "    <tr>\n",
       "      <td>4</td>\n",
       "      <td>1009</td>\n",
       "      <td>14.9</td>\n",
       "    </tr>\n",
       "  </tbody>\n",
       "</table>\n",
       "</div>"
      ],
      "text/plain": [
       "   countyFIPS Diabetes Percentage\n",
       "0        1001                 9.9\n",
       "1        1003                 8.5\n",
       "2        1005                15.7\n",
       "3        1007                13.3\n",
       "4        1009                14.9"
      ]
     },
     "execution_count": 7,
     "metadata": {},
     "output_type": "execute_result"
    }
   ],
   "source": [
    "diabetes.head(5)"
   ]
  },
  {
   "cell_type": "markdown",
   "metadata": {},
   "source": [
    "# clean cases"
   ]
  },
  {
   "cell_type": "code",
   "execution_count": 8,
   "metadata": {},
   "outputs": [],
   "source": [
    "# remove cases whose county is unknown\n",
    "cases = cases[cases.countyFIPS != 0]\n",
    "\n",
    "# raw.iloc[224, 0] = 13245 # fix err with Richmond, Georgia\n",
    "\n",
    "# sum over duplicate counties\n",
    "# cases = cases.groupby(['countyFIPS', 'County Name', 'State', 'stateFIPS']).sum().reset_index()\n",
    "cases = cases.groupby(['countyFIPS']).sum().reset_index()\n",
    "\n",
    "# add id\n",
    "# cases['id'] = cases.index"
   ]
  },
  {
   "cell_type": "markdown",
   "metadata": {},
   "source": [
    "# merge data"
   ]
  },
  {
   "cell_type": "code",
   "execution_count": 12,
   "metadata": {},
   "outputs": [],
   "source": [
    "facts['countyFIPS'] = facts['Header-FIPSStandCtyCode'].astype(int)\n",
    "chronic_all_orig['countyFIPS'] = chronic_all_orig['countyFIPS'].astype(int)\n",
    "df = pd.merge(facts, cases, on='countyFIPS')\n",
    "df = pd.merge(df, chronic_all_orig, on='countyFIPS')\n",
    "df = pd.merge(df, diabetes, on='countyFIPS')"
   ]
  },
  {
   "cell_type": "code",
   "execution_count": 13,
   "metadata": {},
   "outputs": [
    {
     "data": {
      "text/plain": [
       "Index(['id', 'Header-FIPSStandCtyCode', 'EntityofFile',\n",
       "       'SecondaryEntityOfFile', 'DateofFile', 'DateofCreation', 'FileLength',\n",
       "       'StateName', 'StateNameAbbreviation', 'CountyName',\n",
       "       ...\n",
       "       'condition_Drug Abuse', 'condition_HIV/AIDS', 'condition_Heart Failure',\n",
       "       'condition_Hepatitis', 'condition_Hyperlipidemia',\n",
       "       'condition_Hypertension', 'condition_Ischemic Heart Disease',\n",
       "       'condition_Osteoporosis', 'condition_Psychotic Disorders',\n",
       "       'condition_Stroke'],\n",
       "      dtype='object', length=7232)"
      ]
     },
     "execution_count": 13,
     "metadata": {},
     "output_type": "execute_result"
    }
   ],
   "source": [
    "df.keys()"
   ]
  },
  {
   "cell_type": "code",
   "execution_count": 14,
   "metadata": {},
   "outputs": [
    {
     "data": {
      "text/plain": [
       "(1002, 7232)"
      ]
     },
     "execution_count": 14,
     "metadata": {},
     "output_type": "execute_result"
    }
   ],
   "source": [
    "df.shape"
   ]
  },
  {
   "cell_type": "code",
   "execution_count": null,
   "metadata": {},
   "outputs": [],
   "source": []
  }
 ],
 "metadata": {
  "kernelspec": {
   "display_name": "Python 3",
   "language": "python",
   "name": "python3"
  },
  "language_info": {
   "codemirror_mode": {
    "name": "ipython",
    "version": 3
   },
   "file_extension": ".py",
   "mimetype": "text/x-python",
   "name": "python",
   "nbconvert_exporter": "python",
   "pygments_lexer": "ipython3",
   "version": "3.7.5"
  }
 },
 "nbformat": 4,
 "nbformat_minor": 4
}
