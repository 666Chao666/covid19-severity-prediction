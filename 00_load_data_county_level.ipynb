{
 "cells": [
  {
   "cell_type": "code",
   "execution_count": 4,
   "metadata": {},
   "outputs": [
    {
     "name": "stdout",
     "output_type": "stream",
     "text": [
      "The autoreload extension is already loaded. To reload it, use:\n",
      "  %reload_ext autoreload\n"
     ]
    }
   ],
   "source": [
    "%load_ext autoreload\n",
    "%autoreload 2\n",
    "import numpy as np\n",
    "import scipy as sp\n",
    "import pandas as pd\n",
    "import matplotlib.pyplot as plt\n",
    "import matplotlib.dates as mdates\n",
    "import matplotlib.cbook as cbook\n",
    "from functions import merge_data\n",
    "\n",
    "# try loading the merged data\n",
    "ahrf_data = 'data/hrsa/data_AHRF_2018-2019/processed/df_renamed.pkl'\n",
    "usafacts_data_cases = 'data/usafacts/confirmed_cases_mar22.csv'\n",
    "usafacts_data_deaths = 'data/usafacts/deaths_mar22.csv'\n",
    "diabetes = 'data/diabetes/DiabetesAtlasCountyData.csv'\n",
    "voting = 'data/voting/county_voting_processed.pkl'\n",
    "df = merge_data.merge_data(ahrf_data=ahrf_data, \n",
    "                           usafacts_data_cases=usafacts_data_cases,\n",
    "                           usafacts_data_deaths=usafacts_data_deaths,\n",
    "                           medicare_group=\"All Beneficiaries\",\n",
    "                           voting=voting,\n",
    "                           diabetes=diabetes) # also cleans usafacts data"
   ]
  }
 ],
 "metadata": {
  "kernelspec": {
   "display_name": "Python 3",
   "language": "python",
   "name": "python3"
  },
  "language_info": {
   "codemirror_mode": {
    "name": "ipython",
    "version": 3
   },
   "file_extension": ".py",
   "mimetype": "text/x-python",
   "name": "python",
   "nbconvert_exporter": "python",
   "pygments_lexer": "ipython3",
   "version": "3.7.5"
  }
 },
 "nbformat": 4,
 "nbformat_minor": 4
}
