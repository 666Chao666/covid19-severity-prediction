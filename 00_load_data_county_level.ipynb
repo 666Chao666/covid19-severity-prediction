{
 "cells": [
  {
   "cell_type": "code",
   "execution_count": 2,
   "metadata": {},
   "outputs": [
    {
     "name": "stderr",
     "output_type": "stream",
     "text": [
      "/Users/Tiffany/My Documents/Research/Yu/covid-19/covid-19-geographic-risk-prediction/functions/merge_data.py:35: ParserWarning: Falling back to the 'python' engine because the 'c' engine does not support skipfooter; you can avoid this warning by specifying engine='python'.\n",
      "  diabetes = pd.read_csv(diabetes, skiprows = 2, skipfooter = 1)\n"
     ]
    }
   ],
   "source": [
    "%load_ext autoreload\n",
    "%autoreload 2\n",
    "import numpy as np\n",
    "import scipy as sp\n",
    "import pandas as pd\n",
    "import matplotlib.pyplot as plt\n",
    "import matplotlib.dates as mdates\n",
    "import matplotlib.cbook as cbook\n",
    "from functions import merge_data\n",
    "from functions import load_medicare_data\n",
    "from functions import load_respiratory_disease_data\n",
    "from os.path import join as oj\n",
    "\n",
    "ahrf_data = 'data/hrsa/data_AHRF_2018-2019/processed/df_renamed.pkl'\n",
    "usafacts_data_cases = 'data/usafacts/confirmed_cases_mar22.csv'\n",
    "usafacts_data_deaths = 'data/usafacts/deaths_mar22.csv'\n",
    "diabetes = 'data/diabetes/DiabetesAtlasCountyData.csv'\n",
    "voting = 'data/voting/county_voting_processed.pkl'\n",
    "icu = 'data/medicare/icu_county.csv'\n",
    "heart_disease_data = \"data/cardiovascular_disease/heart_disease_mortality_data.csv\"\n",
    "stroke_data = \"data/cardiovascular_disease/stroke_mortality_data.csv\"\n",
    "df = merge_data.merge_data(ahrf_data=ahrf_data, \n",
    "                           usafacts_data_cases=usafacts_data_cases,\n",
    "                           usafacts_data_deaths=usafacts_data_deaths,\n",
    "                           medicare_group=\"All Beneficiaries\",\n",
    "                           voting=voting,\n",
    "                           icu=icu,\n",
    "                           resp_group=\"Chronic respiratory diseases\",\n",
    "                           heart_disease_data=heart_disease_data,\n",
    "                           stroke_data=stroke_data,\n",
    "                           diabetes=diabetes) # also cleans usafacts data"
   ]
  }
 ],
 "metadata": {
  "kernelspec": {
   "display_name": "Python 3",
   "language": "python",
   "name": "python3"
  },
  "language_info": {
   "codemirror_mode": {
    "name": "ipython",
    "version": 3
   },
   "file_extension": ".py",
   "mimetype": "text/x-python",
   "name": "python",
   "nbconvert_exporter": "python",
   "pygments_lexer": "ipython3",
   "version": "3.7.5"
  }
 },
 "nbformat": 4,
 "nbformat_minor": 4
}
