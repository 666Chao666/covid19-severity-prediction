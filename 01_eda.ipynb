{
 "cells": [
  {
   "cell_type": "code",
   "execution_count": 14,
   "metadata": {},
   "outputs": [
    {
     "name": "stdout",
     "output_type": "stream",
     "text": [
      "The autoreload extension is already loaded. To reload it, use:\n",
      "  %reload_ext autoreload\n"
     ]
    }
   ],
   "source": [
    "%load_ext autoreload\n",
    "%autoreload 2\n",
    "from data.load_data import load_data\n",
    "import numpy as np\n",
    "import scipy as sp\n",
    "import pandas as pd\n",
    "import matplotlib.pyplot as plt\n",
    "import matplotlib.dates as mdates\n",
    "from viz import viz\n",
    "from bokeh.plotting import figure, show, output_notebook, output_file, save"
   ]
  },
  {
   "cell_type": "code",
   "execution_count": 15,
   "metadata": {},
   "outputs": [
    {
     "name": "stdout",
     "output_type": "stream",
     "text": [
      "Index(['id', 'Header-FIPSStandCtyCode', 'EntityofFile',\n",
      "       'SecondaryEntityOfFile', 'DateofFile', 'DateofCreation', 'FileLength',\n",
      "       'StateName', 'StateNameAbbreviation', 'CountyName',\n",
      "       ...\n",
      "       '#Cases_3/12/2020', '#Cases_3/13/2020', '#Cases_3/14/2020',\n",
      "       '#Cases_3/15/2020', '#Cases_3/16/2020', '#Cases_3/17/2020',\n",
      "       '#Cases_3/18/2020', '#Cases_3/19/2020', '#Cases_3/20/2020',\n",
      "       '#Cases_3/21/2020'],\n",
      "      dtype='object', length=7209)\n"
     ]
    }
   ],
   "source": [
    "df = load_data()\n",
    "outcome = '#Cases_3/21/2020'\n",
    "df = df.sort_values(outcome, ascending=False)\n",
    "print(df.keys())"
   ]
  },
  {
   "cell_type": "code",
   "execution_count": 16,
   "metadata": {},
   "outputs": [
    {
     "data": {
      "text/html": [
       "<div>\n",
       "<style scoped>\n",
       "    .dataframe tbody tr th:only-of-type {\n",
       "        vertical-align: middle;\n",
       "    }\n",
       "\n",
       "    .dataframe tbody tr th {\n",
       "        vertical-align: top;\n",
       "    }\n",
       "\n",
       "    .dataframe thead th {\n",
       "        text-align: right;\n",
       "    }\n",
       "</style>\n",
       "<table border=\"1\" class=\"dataframe\">\n",
       "  <thead>\n",
       "    <tr style=\"text-align: right;\">\n",
       "      <th></th>\n",
       "      <th>#Cases_3/21/2020</th>\n",
       "      <th>StateName</th>\n",
       "      <th>CountyName</th>\n",
       "    </tr>\n",
       "  </thead>\n",
       "  <tbody>\n",
       "    <tr>\n",
       "      <th>1862</th>\n",
       "      <td>8115.0</td>\n",
       "      <td>New York</td>\n",
       "      <td>New York</td>\n",
       "    </tr>\n",
       "    <tr>\n",
       "      <th>1891</th>\n",
       "      <td>1385.0</td>\n",
       "      <td>New York</td>\n",
       "      <td>Westchester</td>\n",
       "    </tr>\n",
       "    <tr>\n",
       "      <th>1861</th>\n",
       "      <td>1234.0</td>\n",
       "      <td>New York</td>\n",
       "      <td>Nassau</td>\n",
       "    </tr>\n",
       "    <tr>\n",
       "      <th>2975</th>\n",
       "      <td>934.0</td>\n",
       "      <td>Washington</td>\n",
       "      <td>King</td>\n",
       "    </tr>\n",
       "    <tr>\n",
       "      <th>1883</th>\n",
       "      <td>662.0</td>\n",
       "      <td>New York</td>\n",
       "      <td>Suffolk</td>\n",
       "    </tr>\n",
       "    <tr>\n",
       "      <th>614</th>\n",
       "      <td>548.0</td>\n",
       "      <td>Illinois</td>\n",
       "      <td>Cook</td>\n",
       "    </tr>\n",
       "    <tr>\n",
       "      <th>2989</th>\n",
       "      <td>447.0</td>\n",
       "      <td>Washington</td>\n",
       "      <td>Snohomish</td>\n",
       "    </tr>\n",
       "    <tr>\n",
       "      <th>1152</th>\n",
       "      <td>418.0</td>\n",
       "      <td>Louisiana</td>\n",
       "      <td>Orleans</td>\n",
       "    </tr>\n",
       "    <tr>\n",
       "      <th>1779</th>\n",
       "      <td>363.0</td>\n",
       "      <td>New Jersey</td>\n",
       "      <td>Bergen</td>\n",
       "    </tr>\n",
       "    <tr>\n",
       "      <th>208</th>\n",
       "      <td>351.0</td>\n",
       "      <td>California</td>\n",
       "      <td>Los Angeles</td>\n",
       "    </tr>\n",
       "  </tbody>\n",
       "</table>\n",
       "</div>"
      ],
      "text/plain": [
       "      #Cases_3/21/2020   StateName   CountyName\n",
       "1862            8115.0    New York     New York\n",
       "1891            1385.0    New York  Westchester\n",
       "1861            1234.0    New York       Nassau\n",
       "2975             934.0  Washington         King\n",
       "1883             662.0    New York      Suffolk\n",
       "614              548.0    Illinois         Cook\n",
       "2989             447.0  Washington    Snohomish\n",
       "1152             418.0   Louisiana      Orleans\n",
       "1779             363.0  New Jersey       Bergen\n",
       "208              351.0  California  Los Angeles"
      ]
     },
     "execution_count": 16,
     "metadata": {},
     "output_type": "execute_result"
    }
   ],
   "source": [
    "df[[outcome, 'StateName', 'CountyName', ]].head(10)"
   ]
  },
  {
   "cell_type": "code",
   "execution_count": 17,
   "metadata": {},
   "outputs": [],
   "source": [
    "demographics = ['PopulationEstimate2018', 'Population(Persons)2017',  \n",
    "                'PopTotalMale2017', 'PopTotalFemale2017', \n",
    "                'PopulationEstimate65+2017',\n",
    "                'PopulationDensityperSqMile2010',\n",
    "               ]\n",
    "# income vars\n",
    "# hospital vars\n",
    "\n",
    "important_vars = demographics"
   ]
  },
  {
   "cell_type": "markdown",
   "metadata": {},
   "source": [
    "# interactive plots"
   ]
  },
  {
   "cell_type": "code",
   "execution_count": null,
   "metadata": {},
   "outputs": [],
   "source": [
    "# filter by state\n",
    "for state in ['NY', 'WA', 'CA']:\n",
    "    d = df[df[\"StateNameAbbreviation\"] == state]\n",
    "\n",
    "    p = viz.plot_counties(d, \n",
    "                          variable_to_distribute=\"#Cases_3/21/2020\",\n",
    "                          variables_to_display=important_vars,\n",
    "                          state=state,\n",
    "                          logcolor=False)\n",
    "    show(p)\n",
    "    output_file(f\"results/{state}.html\", mode='inline')\n",
    "    save(p)"
   ]
  }
 ],
 "metadata": {
  "kernelspec": {
   "display_name": "Python 3",
   "language": "python",
   "name": "python3"
  },
  "language_info": {
   "codemirror_mode": {
    "name": "ipython",
    "version": 3
   },
   "file_extension": ".py",
   "mimetype": "text/x-python",
   "name": "python",
   "nbconvert_exporter": "python",
   "pygments_lexer": "ipython3",
   "version": "3.7.5"
  }
 },
 "nbformat": 4,
 "nbformat_minor": 4
}
