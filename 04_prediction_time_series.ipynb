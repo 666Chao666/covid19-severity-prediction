{
 "cells": [
  {
   "cell_type": "code",
   "execution_count": 94,
   "metadata": {},
   "outputs": [
    {
     "name": "stdout",
     "output_type": "stream",
     "text": [
      "The autoreload extension is already loaded. To reload it, use:\n",
      "  %reload_ext autoreload\n"
     ]
    }
   ],
   "source": [
    "%load_ext autoreload\n",
    "%autoreload 2\n",
    "import sklearn\n",
    "import numpy as np\n",
    "import scipy as sp\n",
    "import pandas as pd\n",
    "import matplotlib.pyplot as plt\n",
    "import matplotlib.dates as mdates\n",
    "import seaborn as sns\n",
    "from viz import viz\n",
    "from bokeh.plotting import figure, show, output_notebook, output_file, save\n",
    "from functions import merge_data\n",
    "from sklearn.model_selection import RandomizedSearchCV\n",
    "import load_data\n",
    "\n",
    "from sklearn.linear_model import LinearRegression\n",
    "from sklearn.tree import DecisionTreeRegressor\n"
   ]
  },
  {
   "cell_type": "code",
   "execution_count": 2,
   "metadata": {},
   "outputs": [],
   "source": [
    "df = load_data.load_county_level()\n",
    "deaths_keys = [k for k in df.keys() if '#Deaths' in k]\n",
    "cases_keys = [k for k in df.keys() if '#Cases' in k]\n",
    "deaths = df[deaths_keys].values\n",
    "cases = df[cases_keys].values\n",
    "df['deaths'] = [deaths[i] for i in range(deaths.shape[0])]\n",
    "df['cases'] = [cases[i] for i in range(cases.shape[0])]"
   ]
  },
  {
   "cell_type": "markdown",
   "metadata": {},
   "source": [
    "# potentially useful info"
   ]
  },
  {
   "cell_type": "code",
   "execution_count": 3,
   "metadata": {},
   "outputs": [],
   "source": [
    "demographics = ['PopulationEstimate2018', 'Population(Persons)2017',  \n",
    "                'PopTotalMale2017', 'PopTotalFemale2017', 'FracMale2017',\n",
    "                'PopulationEstimate65+2017',\n",
    "                'PopulationDensityperSqMile2010',\n",
    "                'MedianAge2010', 'MedianAge,Male2010', 'MedianAge,Female2010']\n",
    "\n",
    "# hospital vars\n",
    "hospitals_hrsa = ['#FTEHospitalTotal2017', \"TotalM.D.'s,TotNon-FedandFed2017\", '#HospParticipatinginNetwork2017']\n",
    "hospitals_misc = [\"#Hospitals\", \"#ICU_beds\"]\n",
    "hospitals = hospitals_hrsa + hospitals_misc\n",
    "\n",
    "# comorbidity (simultaneous presence of multiple conditions) vars\n",
    "comorbidity_hrsa = [ '#EligibleforMedicare2018',  'MedicareEnrollment,AgedTot2017', '3-YrDiabetes2015-17']\n",
    "comorbidity_misc = [\"DiabetesPercentage\", \"HeartDiseaseMortality\", \"StrokeMortality\", \"Smokers_Percentage\"]\n",
    "comorbidity = comorbidity_hrsa + comorbidity_misc\n",
    "\n",
    "# political leanings (ratio of democrat : republican votes in 2016 presidential election)\n",
    "political = ['dem_to_rep_ratio']\n",
    "\n",
    "important_vars = demographics + comorbidity + hospitals + political"
   ]
  },
  {
   "cell_type": "markdown",
   "metadata": {},
   "source": [
    "# look at one county"
   ]
  },
  {
   "cell_type": "code",
   "execution_count": 5,
   "metadata": {},
   "outputs": [
    {
     "name": "stdout",
     "output_type": "stream",
     "text": [
      "26\n",
      "66\n",
      "1191\n",
      "2037\n",
      "97.49666221628839\n",
      "12.0\n"
     ]
    },
    {
     "data": {
      "image/png": "[encoded data removed]",
      "text/plain": [
       "<Figure size 432x288 with 1 Axes>"
      ]
     },
     "metadata": {
      "needs_background": "light"
     },
     "output_type": "display_data"
    }
   ],
   "source": [
    "# This is investigating the number of cases associated with non-zero deaths in a county\n",
    "_deaths = list(df['deaths'])\n",
    "_cases = list(df['cases'])\n",
    "total_points = []\n",
    "\n",
    "cases_for_death = []\n",
    "for i in range(len(df)):\n",
    "    for j,d in enumerate(_deaths[i]):\n",
    "        if d > 0:\n",
    "            cases_for_death.append(_cases[i][j])\n",
    "            if _cases[i][j] == 0:\n",
    "                print(i)\n",
    "                \n",
    "plt.hist(cases_for_death)\n",
    "print(np.mean(cases_for_death))\n",
    "print(np.quantile(cases_for_death,.5))"
   ]
  },
  {
   "cell_type": "code",
   "execution_count": 20,
   "metadata": {},
   "outputs": [
    {
     "name": "stdout",
     "output_type": "stream",
     "text": [
      "1121\n"
     ]
    },
    {
     "data": {
      "text/plain": [
       "(array([1.116e+03, 2.000e+00, 2.000e+00, 0.000e+00, 0.000e+00, 0.000e+00,\n",
       "        0.000e+00, 0.000e+00, 0.000e+00, 1.000e+00]),\n",
       " array([1.0000e+00, 9.0540e+02, 1.8098e+03, 2.7142e+03, 3.6186e+03,\n",
       "        4.5230e+03, 5.4274e+03, 6.3318e+03, 7.2362e+03, 8.1406e+03,\n",
       "        9.0450e+03]),\n",
       " <a list of 10 Patch objects>)"
      ]
     },
     "execution_count": 20,
     "metadata": {},
     "output_type": "execute_result"
    },
    {
     "data": {
      "image/png": "[encoded data removed]",
      "text/plain": [
       "<Figure size 432x288 with 1 Axes>"
      ]
     },
     "metadata": {
      "needs_background": "light"
     },
     "output_type": "display_data"
    }
   ],
   "source": [
    "# Distribution of the maximum number of cases\n",
    "_cases = list(df['cases'])\n",
    "\n",
    "max_cases = []\n",
    "for i in range(len(df)):\n",
    "    max_cases.append(max(_cases[i]))\n",
    "    \n",
    "print(sum([v >0 for v in max_cases]))\n",
    "# plt.hist(max_cases)\n",
    "\n",
    "# print(sum([v >0 for v in max_cases]))\n",
    "plt.hist([v for v in max_cases if v > 0])\n"
   ]
  },
  {
   "cell_type": "code",
   "execution_count": 242,
   "metadata": {},
   "outputs": [
    {
     "data": {
      "text/plain": [
       "9045.0"
      ]
     },
     "execution_count": 242,
     "metadata": {},
     "output_type": "execute_result"
    }
   ],
   "source": [
    "np.quantile(max_cases,1)"
   ]
  },
  {
   "cell_type": "markdown",
   "metadata": {},
   "source": [
    "### Clean data"
   ]
  },
  {
   "cell_type": "code",
   "execution_count": 181,
   "metadata": {},
   "outputs": [],
   "source": [
    "# Remove rows with zero cases\n",
    "max_cases = [max(v) for v in df['cases']]\n",
    "df['max_cases'] = max_cases\n",
    "df_with_cases = df[df['max_cases'] > 0]\n"
   ]
  },
  {
   "cell_type": "code",
   "execution_count": 216,
   "metadata": {},
   "outputs": [],
   "source": [
    "# Shuffle data\n",
    "shuffled_df = df_with_cases.sample(frac=1)\n",
    "# Break into train test (random k-fold cross val on the training set is done to pick hyperparams)\n",
    "train_ratio, val_ratio, test_ratio = .75,0,.25\n",
    "\n",
    "\n",
    "train_df = shuffled_df[0:int(train_ratio*len(shuffled_df))]\n",
    "# val_df = shuffled_df[int(train_ratio*len(shuffled_df)):int(val_ratio*len(shuffled_df))+int(train_ratio*len(shuffled_df))]\n",
    "test_df = shuffled_df[int(train_ratio*len(shuffled_df))+int(val_ratio*len(shuffled_df)):]\n",
    "\n"
   ]
  },
  {
   "cell_type": "code",
   "execution_count": 217,
   "metadata": {},
   "outputs": [],
   "source": [
    "def make_auto_regressive_dataset(df,autoreg_window,log=True,deaths=True,cases=False):\n",
    "    \"\"\"\n",
    "    Make an autoregressive dataset that takes in a dataframe and a history window to predict number of deaths\n",
    "    for a given day given a history of autoreg_window days before it\n",
    "    log: take logarithm of values for features and predictions\n",
    "    deaths: use number of previous deaths as features\n",
    "    cases: use number of previous cases as features\n",
    "    \"\"\"\n",
    "\n",
    "    assert (deaths == True or cases == True)\n",
    "    feature_array = []\n",
    "    ys = []\n",
    "    _cases = list(df['cases'])\n",
    "    _deaths = list(df['deaths'])\n",
    "    for i in range(len(_cases)):\n",
    "        for j in range(len(_cases[i])-(autoreg_window+1)):\n",
    "            if sum(_deaths[i][j:j+autoreg_window+1] > 0):\n",
    "                cases_window = _cases[i][j:j+autoreg_window]\n",
    "                if log:\n",
    "                    cases_window = [np.log(v+1) for v in cases_window ]\n",
    "                deaths_window = _deaths[i][j:j+autoreg_window]\n",
    "                if log:\n",
    "                    deaths_window = [np.log(v+1) for v in deaths_window]\n",
    "                y_val = _deaths[i][j+autoreg_window+1]\n",
    "                if log:\n",
    "                    y_val = np.log(y_val+1)\n",
    "                features = []\n",
    "                if deaths == True:\n",
    "                    features.extend(deaths_window)\n",
    "                if cases == True:\n",
    "                    features.extend(cases_window)\n",
    "                feature_array.append(features)\n",
    "                ys.append(y_val)\n",
    "    return feature_array, ys\n",
    "            \n",
    "    "
   ]
  },
  {
   "cell_type": "code",
   "execution_count": 218,
   "metadata": {},
   "outputs": [],
   "source": [
    "def evaluate_model(model,eval_pair, metric, exponentiate=False):\n",
    "    \"\"\"\n",
    "    Model: sklearn model\n",
    "    Eval pair: (x,y)\n",
    "    metric: sklearn metric\n",
    "    exponentiate: exponentiate model predictions?\n",
    "    \"\"\"\n",
    "    predictions = model.predict(eval_pair[0])\n",
    "    y_val = eval_pair[1]\n",
    "    if exponentiate:\n",
    "        predictions = [np.exp(p) for p in predictions]\n",
    "        y_val = [np.exp(y) for y in y_val]\n",
    "    return predictions, metric(predictions,y_val)\n",
    "    \n",
    "\n",
    "\n",
    "    \n",
    "    "
   ]
  },
  {
   "cell_type": "code",
   "execution_count": 240,
   "metadata": {},
   "outputs": [],
   "source": [
    "model = sklearn.neighbors.KNeighborsRegressor()\n",
    "param_dist ={\n",
    "    'n_neighbors': [2,4,8,16],\n",
    "    'weights': ['uniform','distance'],\n",
    "    'p': [1,2,4]\n",
    "}\n",
    "# Number of randomly sampled hyperparams\n",
    "n_iter = 20\n",
    "metric = sklearn.metrics.mean_squared_error\n",
    "# n_jobs = number of cores to parallelize across\n",
    "random_search = RandomizedSearchCV(model, param_distributions=param_dist,\n",
    "                                   n_iter=n_iter,n_jobs = 8)\n",
    "\n",
    "\n",
    "auto_reg_windows = [1,2,4,8]\n",
    "best_window = None\n",
    "best_loss = None\n",
    "for w in auto_reg_windows:\n",
    "    log = False\n",
    "    x_train, y_train = make_auto_regressive_dataset(train_df,w,log=log)\n",
    "    x_test, y_test = make_auto_regressive_dataset(test_df,w,log=log)\n",
    "    random_search.fit(x_train,y_train)\n",
    "    window_loss = random_search.best_score_\n",
    "    if best_loss is None:\n",
    "        best_window = w\n",
    "        best_loss = window_loss\n",
    "    elif window_loss < best_loss:\n",
    "        best_window = w\n",
    "        best_score = loss\n",
    "   \n",
    "\n",
    "\n",
    "x_train, y_train = make_auto_regressive_dataset(train_df,best_window,log=log)\n",
    "x_test, y_test = make_auto_regressive_dataset(test_df,best_window,log=log)\n",
    "random_search.fit(x_train,y_train)\n",
    "\n",
    "\n",
    "preds, loss = evaluate_model(random_search,(x_test,y_test),metric,exponentiate=True)\n",
    "     \n",
    "        \n",
    "\n",
    "# model.fit(x_train,y_train)"
   ]
  },
  {
   "cell_type": "code",
   "execution_count": 233,
   "metadata": {},
   "outputs": [
    {
     "data": {
      "text/plain": [
       "1"
      ]
     },
     "execution_count": 233,
     "metadata": {},
     "output_type": "execute_result"
    }
   ],
   "source": [
    "best_window"
   ]
  },
  {
   "cell_type": "code",
   "execution_count": 234,
   "metadata": {},
   "outputs": [
    {
     "data": {
      "text/plain": [
       "69.853692863351"
      ]
     },
     "execution_count": 234,
     "metadata": {},
     "output_type": "execute_result"
    }
   ],
   "source": [
    "loss"
   ]
  },
  {
   "cell_type": "code",
   "execution_count": 238,
   "metadata": {},
   "outputs": [],
   "source": [
    "# WARNING: does not yet supported number of previous cases as feature\n",
    "def get_auto_reg_predictions(model,row,window,teacher_forcing=True,exponentiate=False):\n",
    "    deaths = row['deaths']\n",
    "    predictions = [0]\n",
    "    if teacher_forcing:\n",
    "        for i in range(len(deaths)-(window)):\n",
    "            x = deaths[i:i+window]\n",
    "            cur_prediction = model.predict([x])\n",
    "            if exponentiate:\n",
    "                cur_prediction = np.exp(cur_prediction)\n",
    "            predictions.append(cur_prediction)\n",
    "    else:\n",
    "        raise NotImplementedError\n",
    "    return predictions\n",
    "    \n",
    "def plot_prediction(model,row,window,exponentiate=False):\n",
    "    \"\"\"\n",
    "    Plots model predictions vs actual\n",
    "    row: dataframe row\n",
    "    window: autoregressive window size\n",
    "    \"\"\"\n",
    "    plt.plot(row['deaths'], label='deaths')\n",
    "    model_predictions = get_auto_reg_predictions(model,row,window,exponentiate)\n",
    "    plt.plot(model_predictions,label='predictions')\n",
    "    plt.legend()\n",
    "    plt.show()\n",
    "    \n",
    "    \n",
    "    \n",
    "    \n",
    "    "
   ]
  },
  {
   "cell_type": "code",
   "execution_count": 239,
   "metadata": {
    "scrolled": false
   },
   "outputs": [
    {
     "data": {
      "image/png": "[encoded data removed]",
      "text/plain": [
       "<Figure size 432x288 with 1 Axes>"
      ]
     },
     "metadata": {
      "needs_background": "light"
     },
     "output_type": "display_data"
    }
   ],
   "source": [
    "\n",
    "row = test_df.iloc[5]\n",
    "for i in range(len(test_df)):\n",
    "    row = test_df.iloc[i]\n",
    "    if max(row['deaths'][:-1]) > 5:\n",
    "        plot_prediction(random_search,row,best_window,exponentiate=True)"
   ]
  },
  {
   "cell_type": "code",
   "execution_count": 17,
   "metadata": {},
   "outputs": [],
   "source": [
    "row = df.iloc[0]"
   ]
  },
  {
   "cell_type": "code",
   "execution_count": 18,
   "metadata": {},
   "outputs": [
    {
     "data": {
      "image/png": "[encoded data removed]",
      "text/plain": [
       "<Figure size 432x288 with 1 Axes>"
      ]
     },
     "metadata": {
      "needs_background": "light"
     },
     "output_type": "display_data"
    }
   ],
   "source": [
    "plt.plot(row['deaths'], label='deaths')\n",
    "plt.plot(row['cases'], label='cases')\n",
    "plt.legend()\n",
    "plt.show()"
   ]
  },
  {
   "cell_type": "code",
   "execution_count": null,
   "metadata": {},
   "outputs": [],
   "source": []
  },
  {
   "cell_type": "code",
   "execution_count": null,
   "metadata": {},
   "outputs": [],
   "source": []
  },
  {
   "cell_type": "code",
   "execution_count": 9,
   "metadata": {},
   "outputs": [
    {
     "name": "stdout",
     "output_type": "stream",
     "text": [
      "PopulationEstimate2018              2.23316e+06\n",
      "Population(Persons)2017             2.18865e+06\n",
      "PopTotalMale2017                    1.09678e+06\n",
      "PopTotalFemale2017                  1.09186e+06\n",
      "FracMale2017                           0.501124\n",
      "PopulationEstimate65+2017                283909\n",
      "PopulationDensityperSqMile2010            912.9\n",
      "MedianAge2010                              37.1\n",
      "MedianAge,Male2010                         36.3\n",
      "MedianAge,Female2010                       37.9\n",
      "#EligibleforMedicare2018                 333432\n",
      "MedicareEnrollment,AgedTot2017           271948\n",
      "3-YrDiabetes2015-17                         386\n",
      "DiabetesPercentage                          7.1\n",
      "HeartDiseaseMortality                     118.9\n",
      "StrokeMortality                            29.6\n",
      "Smokers_Percentage                      8.81505\n",
      "#FTEHospitalTotal2017                     41960\n",
      "TotalM.D.'s,TotNon-FedandFed2017          12918\n",
      "#HospParticipatinginNetwork2017              14\n",
      "#Hospitals                                   17\n",
      "#ICU_beds                                   450\n",
      "dem_to_rep_ratio                        3.32035\n",
      "Name: 2941, dtype: object\n"
     ]
    }
   ],
   "source": [
    "print(row[important_vars])"
   ]
  },
  {
   "cell_type": "code",
   "execution_count": null,
   "metadata": {},
   "outputs": [],
   "source": []
  }
 ],
 "metadata": {
  "kernelspec": {
   "display_name": "Python 3",
   "language": "python",
   "name": "python3"
  },
  "language_info": {
   "codemirror_mode": {
    "name": "ipython",
    "version": 3
   },
   "file_extension": ".py",
   "mimetype": "text/x-python",
   "name": "python",
   "nbconvert_exporter": "python",
   "pygments_lexer": "ipython3",
   "version": "3.6.10"
  }
 },
 "nbformat": 4,
 "nbformat_minor": 4
}
