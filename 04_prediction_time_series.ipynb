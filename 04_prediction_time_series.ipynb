{
 "cells": [
  {
   "cell_type": "code",
   "execution_count": null,
   "metadata": {},
   "outputs": [
    {
     "data": {
      "text/html": [
       "\n",
       "    <div class=\"bk-root\">\n",
       "        <a href=\"https://bokeh.pydata.org\" target=\"_blank\" class=\"bk-logo bk-logo-small bk-logo-notebook\"></a>\n",
       "        <span id=\"1001\">Loading BokehJS ...</span>\n",
       "    </div>"
      ]
     },
     "metadata": {},
     "output_type": "display_data"
    },
    {
     "data": {
      "application/javascript": [
       "\n",
       "(function(root) {\n",
       "  function now() {\n",
       "    return new Date();\n",
       "  }\n",
       "\n",
       "  var force = true;\n",
       "\n",
       "  if (typeof (root._bokeh_onload_callbacks) === \"undefined\" || force === true) {\n",
       "    root._bokeh_onload_callbacks = [];\n",
       "    root._bokeh_is_loading = undefined;\n",
       "  }\n",
       "\n",
       "  var JS_MIME_TYPE = 'application/javascript';\n",
       "  var HTML_MIME_TYPE = 'text/html';\n",
       "  var EXEC_MIME_TYPE = 'application/vnd.bokehjs_exec.v0+json';\n",
       "  var CLASS_NAME = 'output_bokeh rendered_html';\n",
       "\n",
       "  /**\n",
       "   * Render data to the DOM node\n",
       "   */\n",
       "  function render(props, node) {\n",
       "    var script = document.createElement(\"script\");\n",
       "    node.appendChild(script);\n",
       "  }\n",
       "\n",
       "  /**\n",
       "   * Handle when an output is cleared or removed\n",
       "   */\n",
       "  function handleClearOutput(event, handle) {\n",
       "    var cell = handle.cell;\n",
       "\n",
       "    var id = cell.output_area._bokeh_element_id;\n",
       "    var server_id = cell.output_area._bokeh_server_id;\n",
       "    // Clean up Bokeh references\n",
       "    if (id != null && id in Bokeh.index) {\n",
       "      Bokeh.index[id].model.document.clear();\n",
       "      delete Bokeh.index[id];\n",
       "    }\n",
       "\n",
       "    if (server_id !== undefined) {\n",
       "      // Clean up Bokeh references\n",
       "      var cmd = \"from bokeh.io.state import curstate; print(curstate().uuid_to_server['\" + server_id + \"'].get_sessions()[0].document.roots[0]._id)\";\n",
       "      cell.notebook.kernel.execute(cmd, {\n",
       "        iopub: {\n",
       "          output: function(msg) {\n",
       "            var id = msg.content.text.trim();\n",
       "            if (id in Bokeh.index) {\n",
       "              Bokeh.index[id].model.document.clear();\n",
       "              delete Bokeh.index[id];\n",
       "            }\n",
       "          }\n",
       "        }\n",
       "      });\n",
       "      // Destroy server and session\n",
       "      var cmd = \"import bokeh.io.notebook as ion; ion.destroy_server('\" + server_id + \"')\";\n",
       "      cell.notebook.kernel.execute(cmd);\n",
       "    }\n",
       "  }\n",
       "\n",
       "  /**\n",
       "   * Handle when a new output is added\n",
       "   */\n",
       "  function handleAddOutput(event, handle) {\n",
       "    var output_area = handle.output_area;\n",
       "    var output = handle.output;\n",
       "\n",
       "    // limit handleAddOutput to display_data with EXEC_MIME_TYPE content only\n",
       "    if ((output.output_type != \"display_data\") || (!output.data.hasOwnProperty(EXEC_MIME_TYPE))) {\n",
       "      return\n",
       "    }\n",
       "\n",
       "    var toinsert = output_area.element.find(\".\" + CLASS_NAME.split(' ')[0]);\n",
       "\n",
       "    if (output.metadata[EXEC_MIME_TYPE][\"id\"] !== undefined) {\n",
       "      toinsert[toinsert.length - 1].firstChild.textContent = output.data[JS_MIME_TYPE];\n",
       "      // store reference to embed id on output_area\n",
       "      output_area._bokeh_element_id = output.metadata[EXEC_MIME_TYPE][\"id\"];\n",
       "    }\n",
       "    if (output.metadata[EXEC_MIME_TYPE][\"server_id\"] !== undefined) {\n",
       "      var bk_div = document.createElement(\"div\");\n",
       "      bk_div.innerHTML = output.data[HTML_MIME_TYPE];\n",
       "      var script_attrs = bk_div.children[0].attributes;\n",
       "      for (var i = 0; i < script_attrs.length; i++) {\n",
       "        toinsert[toinsert.length - 1].firstChild.setAttribute(script_attrs[i].name, script_attrs[i].value);\n",
       "      }\n",
       "      // store reference to server id on output_area\n",
       "      output_area._bokeh_server_id = output.metadata[EXEC_MIME_TYPE][\"server_id\"];\n",
       "    }\n",
       "  }\n",
       "\n",
       "  function register_renderer(events, OutputArea) {\n",
       "\n",
       "    function append_mime(data, metadata, element) {\n",
       "      // create a DOM node to render to\n",
       "      var toinsert = this.create_output_subarea(\n",
       "        metadata,\n",
       "        CLASS_NAME,\n",
       "        EXEC_MIME_TYPE\n",
       "      );\n",
       "      this.keyboard_manager.register_events(toinsert);\n",
       "      // Render to node\n",
       "      var props = {data: data, metadata: metadata[EXEC_MIME_TYPE]};\n",
       "      render(props, toinsert[toinsert.length - 1]);\n",
       "      element.append(toinsert);\n",
       "      return toinsert\n",
       "    }\n",
       "\n",
       "    /* Handle when an output is cleared or removed */\n",
       "    events.on('clear_output.CodeCell', handleClearOutput);\n",
       "    events.on('delete.Cell', handleClearOutput);\n",
       "\n",
       "    /* Handle when a new output is added */\n",
       "    events.on('output_added.OutputArea', handleAddOutput);\n",
       "\n",
       "    /**\n",
       "     * Register the mime type and append_mime function with output_area\n",
       "     */\n",
       "    OutputArea.prototype.register_mime_type(EXEC_MIME_TYPE, append_mime, {\n",
       "      /* Is output safe? */\n",
       "      safe: true,\n",
       "      /* Index of renderer in `output_area.display_order` */\n",
       "      index: 0\n",
       "    });\n",
       "  }\n",
       "\n",
       "  // register the mime type if in Jupyter Notebook environment and previously unregistered\n",
       "  if (root.Jupyter !== undefined) {\n",
       "    var events = require('base/js/events');\n",
       "    var OutputArea = require('notebook/js/outputarea').OutputArea;\n",
       "\n",
       "    if (OutputArea.prototype.mime_types().indexOf(EXEC_MIME_TYPE) == -1) {\n",
       "      register_renderer(events, OutputArea);\n",
       "    }\n",
       "  }\n",
       "\n",
       "  \n",
       "  if (typeof (root._bokeh_timeout) === \"undefined\" || force === true) {\n",
       "    root._bokeh_timeout = Date.now() + 5000;\n",
       "    root._bokeh_failed_load = false;\n",
       "  }\n",
       "\n",
       "  var NB_LOAD_WARNING = {'data': {'text/html':\n",
       "     \"<div style='background-color: #fdd'>\\n\"+\n",
       "     \"<p>\\n\"+\n",
       "     \"BokehJS does not appear to have successfully loaded. If loading BokehJS from CDN, this \\n\"+\n",
       "     \"may be due to a slow or bad network connection. Possible fixes:\\n\"+\n",
       "     \"</p>\\n\"+\n",
       "     \"<ul>\\n\"+\n",
       "     \"<li>re-rerun `output_notebook()` to attempt to load from CDN again, or</li>\\n\"+\n",
       "     \"<li>use INLINE resources instead, as so:</li>\\n\"+\n",
       "     \"</ul>\\n\"+\n",
       "     \"<code>\\n\"+\n",
       "     \"from bokeh.resources import INLINE\\n\"+\n",
       "     \"output_notebook(resources=INLINE)\\n\"+\n",
       "     \"</code>\\n\"+\n",
       "     \"</div>\"}};\n",
       "\n",
       "  function display_loaded() {\n",
       "    var el = document.getElementById(\"1001\");\n",
       "    if (el != null) {\n",
       "      el.textContent = \"BokehJS is loading...\";\n",
       "    }\n",
       "    if (root.Bokeh !== undefined) {\n",
       "      if (el != null) {\n",
       "        el.textContent = \"BokehJS \" + root.Bokeh.version + \" successfully loaded.\";\n",
       "      }\n",
       "    } else if (Date.now() < root._bokeh_timeout) {\n",
       "      setTimeout(display_loaded, 100)\n",
       "    }\n",
       "  }\n",
       "\n",
       "\n",
       "  function run_callbacks() {\n",
       "    try {\n",
       "      root._bokeh_onload_callbacks.forEach(function(callback) { callback() });\n",
       "    }\n",
       "    finally {\n",
       "      delete root._bokeh_onload_callbacks\n",
       "    }\n",
       "    console.info(\"Bokeh: all callbacks have finished\");\n",
       "  }\n",
       "\n",
       "  function load_libs(js_urls, callback) {\n",
       "    root._bokeh_onload_callbacks.push(callback);\n",
       "    if (root._bokeh_is_loading > 0) {\n",
       "      console.log(\"Bokeh: BokehJS is being loaded, scheduling callback at\", now());\n",
       "      return null;\n",
       "    }\n",
       "    if (js_urls == null || js_urls.length === 0) {\n",
       "      run_callbacks();\n",
       "      return null;\n",
       "    }\n",
       "    console.log(\"Bokeh: BokehJS not loaded, scheduling load and callback at\", now());\n",
       "    root._bokeh_is_loading = js_urls.length;\n",
       "    for (var i = 0; i < js_urls.length; i++) {\n",
       "      var url = js_urls[i];\n",
       "      var s = document.createElement('script');\n",
       "      s.src = url;\n",
       "      s.async = false;\n",
       "      s.onreadystatechange = s.onload = function() {\n",
       "        root._bokeh_is_loading--;\n",
       "        if (root._bokeh_is_loading === 0) {\n",
       "          console.log(\"Bokeh: all BokehJS libraries loaded\");\n",
       "          run_callbacks()\n",
       "        }\n",
       "      };\n",
       "      s.onerror = function() {\n",
       "        console.warn(\"failed to load library \" + url);\n",
       "      };\n",
       "      console.log(\"Bokeh: injecting script tag for BokehJS library: \", url);\n",
       "      document.getElementsByTagName(\"head\")[0].appendChild(s);\n",
       "    }\n",
       "  };var element = document.getElementById(\"1001\");\n",
       "  if (element == null) {\n",
       "    console.log(\"Bokeh: ERROR: autoload.js configured with elementid '1001' but no matching script tag was found. \")\n",
       "    return false;\n",
       "  }\n",
       "\n",
       "  var js_urls = [\"https://cdn.pydata.org/bokeh/release/bokeh-1.0.1.min.js\", \"https://cdn.pydata.org/bokeh/release/bokeh-widgets-1.0.1.min.js\", \"https://cdn.pydata.org/bokeh/release/bokeh-tables-1.0.1.min.js\", \"https://cdn.pydata.org/bokeh/release/bokeh-gl-1.0.1.min.js\"];\n",
       "\n",
       "  var inline_js = [\n",
       "    function(Bokeh) {\n",
       "      Bokeh.set_log_level(\"info\");\n",
       "    },\n",
       "    \n",
       "    function(Bokeh) {\n",
       "      \n",
       "    },\n",
       "    function(Bokeh) {\n",
       "      console.log(\"Bokeh: injecting CSS: https://cdn.pydata.org/bokeh/release/bokeh-1.0.1.min.css\");\n",
       "      Bokeh.embed.inject_css(\"https://cdn.pydata.org/bokeh/release/bokeh-1.0.1.min.css\");\n",
       "      console.log(\"Bokeh: injecting CSS: https://cdn.pydata.org/bokeh/release/bokeh-widgets-1.0.1.min.css\");\n",
       "      Bokeh.embed.inject_css(\"https://cdn.pydata.org/bokeh/release/bokeh-widgets-1.0.1.min.css\");\n",
       "      console.log(\"Bokeh: injecting CSS: https://cdn.pydata.org/bokeh/release/bokeh-tables-1.0.1.min.css\");\n",
       "      Bokeh.embed.inject_css(\"https://cdn.pydata.org/bokeh/release/bokeh-tables-1.0.1.min.css\");\n",
       "    }\n",
       "  ];\n",
       "\n",
       "  function run_inline_js() {\n",
       "    \n",
       "    if ((root.Bokeh !== undefined) || (force === true)) {\n",
       "      for (var i = 0; i < inline_js.length; i++) {\n",
       "        inline_js[i].call(root, root.Bokeh);\n",
       "      }if (force === true) {\n",
       "        display_loaded();\n",
       "      }} else if (Date.now() < root._bokeh_timeout) {\n",
       "      setTimeout(run_inline_js, 100);\n",
       "    } else if (!root._bokeh_failed_load) {\n",
       "      console.log(\"Bokeh: BokehJS failed to load within specified timeout.\");\n",
       "      root._bokeh_failed_load = true;\n",
       "    } else if (force !== true) {\n",
       "      var cell = $(document.getElementById(\"1001\")).parents('.cell').data().cell;\n",
       "      cell.output_area.append_execute_result(NB_LOAD_WARNING)\n",
       "    }\n",
       "\n",
       "  }\n",
       "\n",
       "  if (root._bokeh_is_loading === 0) {\n",
       "    console.log(\"Bokeh: BokehJS loaded, going straight to plotting\");\n",
       "    run_inline_js();\n",
       "  } else {\n",
       "    load_libs(js_urls, function() {\n",
       "      console.log(\"Bokeh: BokehJS plotting callback run at\", now());\n",
       "      run_inline_js();\n",
       "    });\n",
       "  }\n",
       "}(window));"
      ],
      "application/vnd.bokehjs_load.v0+json": "\n(function(root) {\n  function now() {\n    return new Date();\n  }\n\n  var force = true;\n\n  if (typeof (root._bokeh_onload_callbacks) === \"undefined\" || force === true) {\n    root._bokeh_onload_callbacks = [];\n    root._bokeh_is_loading = undefined;\n  }\n\n  \n\n  \n  if (typeof (root._bokeh_timeout) === \"undefined\" || force === true) {\n    root._bokeh_timeout = Date.now() + 5000;\n    root._bokeh_failed_load = false;\n  }\n\n  var NB_LOAD_WARNING = {'data': {'text/html':\n     \"<div style='background-color: #fdd'>\\n\"+\n     \"<p>\\n\"+\n     \"BokehJS does not appear to have successfully loaded. If loading BokehJS from CDN, this \\n\"+\n     \"may be due to a slow or bad network connection. Possible fixes:\\n\"+\n     \"</p>\\n\"+\n     \"<ul>\\n\"+\n     \"<li>re-rerun `output_notebook()` to attempt to load from CDN again, or</li>\\n\"+\n     \"<li>use INLINE resources instead, as so:</li>\\n\"+\n     \"</ul>\\n\"+\n     \"<code>\\n\"+\n     \"from bokeh.resources import INLINE\\n\"+\n     \"output_notebook(resources=INLINE)\\n\"+\n     \"</code>\\n\"+\n     \"</div>\"}};\n\n  function display_loaded() {\n    var el = document.getElementById(\"1001\");\n    if (el != null) {\n      el.textContent = \"BokehJS is loading...\";\n    }\n    if (root.Bokeh !== undefined) {\n      if (el != null) {\n        el.textContent = \"BokehJS \" + root.Bokeh.version + \" successfully loaded.\";\n      }\n    } else if (Date.now() < root._bokeh_timeout) {\n      setTimeout(display_loaded, 100)\n    }\n  }\n\n\n  function run_callbacks() {\n    try {\n      root._bokeh_onload_callbacks.forEach(function(callback) { callback() });\n    }\n    finally {\n      delete root._bokeh_onload_callbacks\n    }\n    console.info(\"Bokeh: all callbacks have finished\");\n  }\n\n  function load_libs(js_urls, callback) {\n    root._bokeh_onload_callbacks.push(callback);\n    if (root._bokeh_is_loading > 0) {\n      console.log(\"Bokeh: BokehJS is being loaded, scheduling callback at\", now());\n      return null;\n    }\n    if (js_urls == null || js_urls.length === 0) {\n      run_callbacks();\n      return null;\n    }\n    console.log(\"Bokeh: BokehJS not loaded, scheduling load and callback at\", now());\n    root._bokeh_is_loading = js_urls.length;\n    for (var i = 0; i < js_urls.length; i++) {\n      var url = js_urls[i];\n      var s = document.createElement('script');\n      s.src = url;\n      s.async = false;\n      s.onreadystatechange = s.onload = function() {\n        root._bokeh_is_loading--;\n        if (root._bokeh_is_loading === 0) {\n          console.log(\"Bokeh: all BokehJS libraries loaded\");\n          run_callbacks()\n        }\n      };\n      s.onerror = function() {\n        console.warn(\"failed to load library \" + url);\n      };\n      console.log(\"Bokeh: injecting script tag for BokehJS library: \", url);\n      document.getElementsByTagName(\"head\")[0].appendChild(s);\n    }\n  };var element = document.getElementById(\"1001\");\n  if (element == null) {\n    console.log(\"Bokeh: ERROR: autoload.js configured with elementid '1001' but no matching script tag was found. \")\n    return false;\n  }\n\n  var js_urls = [\"https://cdn.pydata.org/bokeh/release/bokeh-1.0.1.min.js\", \"https://cdn.pydata.org/bokeh/release/bokeh-widgets-1.0.1.min.js\", \"https://cdn.pydata.org/bokeh/release/bokeh-tables-1.0.1.min.js\", \"https://cdn.pydata.org/bokeh/release/bokeh-gl-1.0.1.min.js\"];\n\n  var inline_js = [\n    function(Bokeh) {\n      Bokeh.set_log_level(\"info\");\n    },\n    \n    function(Bokeh) {\n      \n    },\n    function(Bokeh) {\n      console.log(\"Bokeh: injecting CSS: https://cdn.pydata.org/bokeh/release/bokeh-1.0.1.min.css\");\n      Bokeh.embed.inject_css(\"https://cdn.pydata.org/bokeh/release/bokeh-1.0.1.min.css\");\n      console.log(\"Bokeh: injecting CSS: https://cdn.pydata.org/bokeh/release/bokeh-widgets-1.0.1.min.css\");\n      Bokeh.embed.inject_css(\"https://cdn.pydata.org/bokeh/release/bokeh-widgets-1.0.1.min.css\");\n      console.log(\"Bokeh: injecting CSS: https://cdn.pydata.org/bokeh/release/bokeh-tables-1.0.1.min.css\");\n      Bokeh.embed.inject_css(\"https://cdn.pydata.org/bokeh/release/bokeh-tables-1.0.1.min.css\");\n    }\n  ];\n\n  function run_inline_js() {\n    \n    if ((root.Bokeh !== undefined) || (force === true)) {\n      for (var i = 0; i < inline_js.length; i++) {\n        inline_js[i].call(root, root.Bokeh);\n      }if (force === true) {\n        display_loaded();\n      }} else if (Date.now() < root._bokeh_timeout) {\n      setTimeout(run_inline_js, 100);\n    } else if (!root._bokeh_failed_load) {\n      console.log(\"Bokeh: BokehJS failed to load within specified timeout.\");\n      root._bokeh_failed_load = true;\n    } else if (force !== true) {\n      var cell = $(document.getElementById(\"1001\")).parents('.cell').data().cell;\n      cell.output_area.append_execute_result(NB_LOAD_WARNING)\n    }\n\n  }\n\n  if (root._bokeh_is_loading === 0) {\n    console.log(\"Bokeh: BokehJS loaded, going straight to plotting\");\n    run_inline_js();\n  } else {\n    load_libs(js_urls, function() {\n      console.log(\"Bokeh: BokehJS plotting callback run at\", now());\n      run_inline_js();\n    });\n  }\n}(window));"
     },
     "metadata": {},
     "output_type": "display_data"
    }
   ],
   "source": [
    "%load_ext autoreload\n",
    "%autoreload 2\n",
    "import sklearn\n",
    "import numpy as np\n",
    "import scipy as sp\n",
    "import pandas as pd\n",
    "import matplotlib.pyplot as plt\n",
    "import matplotlib.dates as mdates\n",
    "import seaborn as sns\n",
    "from viz import viz\n",
    "from bokeh.plotting import figure, show, output_notebook, output_file, save\n",
    "from functions import merge_data\n",
    "from sklearn.model_selection import RandomizedSearchCV\n",
    "import load_data\n",
    "\n",
    "from sklearn.linear_model import LinearRegression\n",
    "from sklearn.tree import DecisionTreeRegressor\n",
    "from sklearn.ensemble import RandomForestRegressor\n",
    ""
   ]
  },
  {
   "cell_type": "code",
   "execution_count": null,
   "metadata": {},
   "outputs": [],
   "source": [
    "df = load_data.load_county_level()\n",
    "df = df.sort_values(load_data.outcome_deaths, ascending=False)\n",
    "outcome_cases = load_data.outcome_cases # most recent day\n",
    "outcome_deaths = load_data.outcome_deaths\n",
    "deaths_keys = [k for k in df.keys() if '#Deaths' in k]\n",
    "cases_keys = [k for k in df.keys() if '#Cases' in k]\n",
    "deaths = df[deaths_keys].values\n",
    "cases = df[cases_keys].values\n",
    "df['deaths'] = [deaths[i] for i in range(deaths.shape[0])]\n",
    "df['cases'] = [cases[i] for i in range(cases.shape[0])]\n",
    "important_vars = load_data.important_keys(df)"
   ]
  },
  {
   "cell_type": "code",
   "execution_count": 249,
   "metadata": {},
   "outputs": [],
   "source": [
    "def sum_lists(list_of_lists):\n",
    "#     print(list_of_lists)\n",
    "    arr = np.array(list(list_of_lists))\n",
    "    sum_arr = np.sum(arr,0)\n",
    "    return list(sum_arr)\n",
    "    "
   ]
  },
  {
   "cell_type": "code",
   "execution_count": 250,
   "metadata": {},
   "outputs": [],
   "source": [
    "# Aggregate by State\n",
    "state_deaths_df = df.groupby('StateNameAbbreviation').deaths.agg(sum_lists).to_frame()\n",
    "state_cases_df = df.groupby('StateNameAbbreviation').cases.agg(sum_lists).to_frame()\n",
    "df =  pd.concat([state_cases_df,state_deaths_df],axis =1 )"
   ]
  },
  {
   "cell_type": "markdown",
   "metadata": {},
   "source": [
    "# aligned plot"
   ]
  },
  {
   "cell_type": "code",
   "execution_count": null,
   "metadata": {},
   "outputs": [],
   "source": [
    "r = df[df[outcome_deaths] > 0]\n",
    "plt.figure(dpi=200) #dpi=300)\n",
    "R, C = 1, 2\n",
    "for i in range(30):\n",
    "    row = r.iloc[i]\n",
    "    deaths = [x for x in row['deaths'] if x > 0]\n",
    "    cases = [x for x in row['cases'] if x > 0]\n",
    "    plt.subplot(R, C, 1)\n",
    "    plt.plot(cases, alpha=0.5)\n",
    "    plt.ylabel('# cases')\n",
    "    plt.xlabel('days since first case')\n",
    "    \n",
    "    plt.subplot(R, C, 2)\n",
    "    plt.plot(deaths, alpha=0.5)\n",
    "    plt.ylabel('# deaths')\n",
    "    plt.xlabel('days since first case')\n",
    "plt.tight_layout()\n",
    "plt.show()"
   ]
  },
  {
   "cell_type": "markdown",
   "metadata": {},
   "source": [
    "# look at one county"
   ]
  },
  {
   "cell_type": "code",
   "execution_count": 252,
   "metadata": {},
   "outputs": [
    {
     "name": "stdout",
     "output_type": "stream",
     "text": [
      "42\n",
      "64\n",
      "119\n",
      "507\n",
      "910\n",
      "118.61635944700461\n",
      "16.0\n"
     ]
    },
    {
     "data": {
      "image/png": "[encoded data removed]",
      "text/plain": [
       "<Figure size 432x288 with 1 Axes>"
      ]
     },
     "metadata": {
      "needs_background": "light"
     },
     "output_type": "display_data"
    }
   ],
   "source": [
    "# This is investigating the number of cases associated with non-zero deaths in a county\n",
    "_deaths = list(df['deaths'])\n",
    "_cases = list(df['cases'])\n",
    "total_points = []\n",
    "\n",
    "cases_for_death = []\n",
    "for i in range(len(df)):\n",
    "    for j,d in enumerate(_deaths[i]):\n",
    "        if d > 0:\n",
    "\n",
    "            cases_for_death.append(_cases[i][j])\n",
    "            if _cases[i][j] == 0:\n",
    "                print(i)\n",
    "                \n",
    "plt.hist(cases_for_death)\n",
    "print(np.mean(cases_for_death))\n",
    "print(np.quantile(cases_for_death,.5))"
   ]
  },
  {
   "cell_type": "code",
   "execution_count": 253,
   "metadata": {},
   "outputs": [
    {
     "name": "stdout",
     "output_type": "stream",
     "text": [
      "1204\n"
     ]
    },
    {
     "data": {
      "text/plain": [
       "(array([1.2e+03, 2.0e+00, 1.0e+00, 0.0e+00, 0.0e+00, 0.0e+00, 0.0e+00,\n",
       "        0.0e+00, 0.0e+00, 1.0e+00]),\n",
       " array([1.00000e+00, 1.23140e+03, 2.46180e+03, 3.69220e+03, 4.92260e+03,\n",
       "        6.15300e+03, 7.38340e+03, 8.61380e+03, 9.84420e+03, 1.10746e+04,\n",
       "        1.23050e+04]),\n",
       " <a list of 10 Patch objects>)"
      ]
     },
     "execution_count": 253,
     "metadata": {},
     "output_type": "execute_result"
    },
    {
     "data": {
      "image/png": "[encoded data removed]",
      "text/plain": [
       "<Figure size 432x288 with 1 Axes>"
      ]
     },
     "metadata": {
      "needs_background": "light"
     },
     "output_type": "display_data"
    }
   ],
   "source": [
    "# Distribution of the maximum number of cases\n",
    "_cases = list(df['cases'])\n",
    "\n",
    "max_cases = []\n",
    "for i in range(len(df)):\n",
    "    max_cases.append(max(_cases[i]))\n",
    "    \n",
    "print(sum([v >0 for v in max_cases]))\n",
    "# plt.hist(max_cases)\n",
    "\n",
    "# print(sum([v >0 for v in max_cases]))\n",
    "plt.hist([v for v in max_cases if v > 0])\n"
   ]
  },
  {
   "cell_type": "code",
   "execution_count": 254,
   "metadata": {},
   "outputs": [
    {
     "data": {
      "text/plain": [
       "12305"
      ]
     },
     "execution_count": 254,
     "metadata": {},
     "output_type": "execute_result"
    }
   ],
   "source": [
    "np.quantile(max_cases,1)"
   ]
  },
  {
   "cell_type": "markdown",
   "metadata": {},
   "source": [
    "### Clean data"
   ]
  },
  {
   "cell_type": "code",
   "execution_count": 255,
   "metadata": {},
   "outputs": [],
   "source": [
    "# Remove rows with zero cases\n",
    "max_cases = [max(v) for v in df['cases']]\n",
    "df['max_cases'] = max_cases\n",
    "df_with_cases = df[df['max_cases'] > 0]\n"
   ]
  },
  {
   "cell_type": "code",
   "execution_count": 256,
   "metadata": {},
   "outputs": [],
   "source": [
    "# Shuffle data\n",
    "shuffled_df = df_with_cases.sample(frac=1)\n",
    "# Break into train test (random k-fold cross val on the training set is done to pick hyperparams)\n",
    "train_ratio, val_ratio, test_ratio = .75,0,.25\n",
    "\n",
    "\n",
    "train_df = shuffled_df[0:int(train_ratio*len(shuffled_df))]\n",
    "# val_df = shuffled_df[int(train_ratio*len(shuffled_df)):int(val_ratio*len(shuffled_df))+int(train_ratio*len(shuffled_df))]\n",
    "test_df = shuffled_df[int(train_ratio*len(shuffled_df))+int(val_ratio*len(shuffled_df)):]\n",
    "\n"
   ]
  },
  {
   "cell_type": "code",
   "execution_count": 258,
   "metadata": {},
   "outputs": [],
   "source": [
    "def make_auto_regressive_dataset(df,autoreg_window,log=True,deaths=True,cases=False):\n",
    "    \"\"\"\n",
    "    Make an autoregressive dataset that takes in a dataframe and a history window to predict number of deaths\n",
    "    for a given day given a history of autoreg_window days before it\n",
    "    log: take logarithm of values for features and predictions\n",
    "    deaths: use number of previous deaths as features\n",
    "    cases: use number of previous cases as features\n",
    "    \"\"\"\n",
    "\n",
    "    assert (deaths == True or cases == True)\n",
    "    feature_array = []\n",
    "    ys = []\n",
    "    _cases = list(df['cases'])\n",
    "    _deaths = list(df['deaths'])\n",
    "    for i in range(len(_cases)):\n",
    "        for j in range(len(_cases[i])-(autoreg_window+1)):\n",
    "            if sum(_deaths[i][j:j+autoreg_window+1]) > 0:\n",
    "                cases_window = _cases[i][j:j+autoreg_window]\n",
    "                if log:\n",
    "                    cases_window = [np.log(v+1) for v in cases_window ]\n",
    "                deaths_window = _deaths[i][j:j+autoreg_window]\n",
    "                if log:\n",
    "                    deaths_window = [np.log(v+1) for v in deaths_window]\n",
    "                y_val = _deaths[i][j+autoreg_window+1]\n",
    "                if log:\n",
    "                    y_val = np.log(y_val+1)\n",
    "                features = []\n",
    "                if deaths == True:\n",
    "                    features.extend(deaths_window)\n",
    "                if cases == True:\n",
    "                    features.extend(cases_window)\n",
    "                feature_array.append(features)\n",
    "                ys.append(y_val)\n",
    "    return feature_array, ys\n",
    "            \n",
    "    "
   ]
  },
  {
   "cell_type": "code",
   "execution_count": 259,
   "metadata": {},
   "outputs": [],
   "source": [
    "def evaluate_model(model,eval_pair, metric, exponentiate=False):\n",
    "    \"\"\"\n",
    "    Model: sklearn model\n",
    "    Eval pair: (x,y)\n",
    "    metric: sklearn metric\n",
    "    exponentiate: exponentiate model predictions?\n",
    "    \"\"\"\n",
    "    predictions = model.predict(eval_pair[0])\n",
    "    y_val = eval_pair[1]\n",
    "    if exponentiate:\n",
    "        predictions = [np.exp(p) for p in predictions]\n",
    "        y_val = [np.exp(y) for y in y_val]\n",
    "    return predictions, metric(predictions,y_val)\n",
    "    \n",
    "\n",
    "\n",
    "    \n",
    "    "
   ]
  },
  {
   "cell_type": "code",
   "execution_count": 260,
   "metadata": {},
   "outputs": [],
   "source": [
    "model = sklearn.neighbors.KNeighborsRegressor()\n",
    "param_dist ={\n",
    "    'n_neighbors': [2,4,8,16],\n",
    "    'weights': ['uniform','distance'],\n",
    "    'p': [1,2,4]\n",
    "}\n",
    "\n",
    "# model = RandomForestRegressor()\n",
    "# param_dist ={\n",
    "#     'n_estimators': [50,100,200,400,1000]\n",
    "# }\n",
    "# Number of randomly sampled hyperparams\n",
    "n_iter = 20\n",
    "metric = sklearn.metrics.mean_squared_error\n",
    "# n_jobs = number of cores to parallelize across\n",
    "random_search = RandomizedSearchCV(model, param_distributions=param_dist,\n",
    "                                   n_iter=n_iter,n_jobs = 8)\n",
    "\n",
    "\n",
    "\n",
    "auto_reg_windows = [1,2,4,8]\n",
    "best_window = None\n",
    "best_loss = None\n",
    "for w in auto_reg_windows:\n",
    "    log = False\n",
    "    x_train, y_train = make_auto_regressive_dataset(train_df,w,log=log)\n",
    "    x_test, y_test = make_auto_regressive_dataset(test_df,w,log=log)\n",
    "    random_search.fit(x_train,y_train)\n",
    "    window_loss = random_search.best_score_\n",
    "    if best_loss is None:\n",
    "        best_window = w\n",
    "        best_loss = window_loss\n",
    "    elif window_loss < best_loss:\n",
    "        best_window = w\n",
    "        best_score = loss\n",
    "   \n",
    "\n",
    "\n",
    "x_train, y_train = make_auto_regressive_dataset(train_df,best_window,log=log)\n",
    "x_test, y_test = make_auto_regressive_dataset(test_df,best_window,log=log)\n",
    "random_search.fit(x_train,y_train)\n",
    "\n",
    "\n",
    "preds, loss = evaluate_model(random_search,(x_test,y_test),metric,exponentiate=True)\n",
    "     \n",
    "        \n",
    "\n",
    "# model.fit(x_train,y_train)"
   ]
  },
  {
   "cell_type": "code",
   "execution_count": 261,
   "metadata": {},
   "outputs": [
    {
     "data": {
      "text/plain": [
       "{'weights': 'uniform', 'p': 1, 'n_neighbors': 16}"
      ]
     },
     "execution_count": 261,
     "metadata": {},
     "output_type": "execute_result"
    }
   ],
   "source": [
    "random_search.best_params_"
   ]
  },
  {
   "cell_type": "code",
   "execution_count": 262,
   "metadata": {},
   "outputs": [
    {
     "data": {
      "text/plain": [
       "1"
      ]
     },
     "execution_count": 262,
     "metadata": {},
     "output_type": "execute_result"
    }
   ],
   "source": [
    "best_window"
   ]
  },
  {
   "cell_type": "code",
   "execution_count": 263,
   "metadata": {},
   "outputs": [
    {
     "data": {
      "text/plain": [
       "540910.0322576679"
      ]
     },
     "execution_count": 263,
     "metadata": {},
     "output_type": "execute_result"
    }
   ],
   "source": [
    "loss"
   ]
  },
  {
   "cell_type": "code",
   "execution_count": 264,
   "metadata": {},
   "outputs": [],
   "source": [
    "# WARNING: does not yet supported number of previous cases as feature\n",
    "def get_auto_reg_predictions(model,row,window,teacher_forcing=True,exponentiate=False):\n",
    "    deaths = row['deaths']\n",
    "    predictions = [0]\n",
    "    if teacher_forcing:\n",
    "        for i in range(len(deaths)-(window)):\n",
    "            x = deaths[i:i+window]\n",
    "            cur_prediction = model.predict([x])\n",
    "            if exponentiate:\n",
    "                cur_prediction = np.exp(cur_prediction)\n",
    "            predictions.append(cur_prediction)\n",
    "    else:\n",
    "        raise NotImplementedError\n",
    "    return predictions\n",
    "    \n",
    "def plot_prediction(model,row,window,exponentiate=False):\n",
    "    \"\"\"\n",
    "    Plots model predictions vs actual\n",
    "    row: dataframe row\n",
    "    window: autoregressive window size\n",
    "    \"\"\"\n",
    "    plt.plot(row['deaths'], label='deaths')\n",
    "    model_predictions = get_auto_reg_predictions(model,row,window,exponentiate)\n",
    "    print(model_predictions)\n",
    "    plt.plot(model_predictions,label='predictions')\n",
    "    plt.legend()\n",
    "    plt.show()\n",
    "    \n",
    "    \n",
    "    \n",
    "    \n",
    "    "
   ]
  },
  {
   "cell_type": "code",
   "execution_count": 266,
   "metadata": {},
   "outputs": [
    {
     "name": "stdout",
     "output_type": "stream",
     "text": [
      "[0, array([1.125]), array([1.125]), array([1.125]), array([1.125]), array([1.125]), array([1.125]), array([1.125]), array([1.125]), array([1.125]), array([1.125]), array([1.125]), array([1.125]), array([1.125]), array([1.125]), array([1.125]), array([1.125]), array([1.125]), array([1.125]), array([1.125]), array([1.125]), array([1.125]), array([1.125]), array([1.125]), array([1.125]), array([1.125]), array([1.125]), array([1.125]), array([1.125]), array([1.125]), array([1.125]), array([1.125]), array([1.125]), array([1.125]), array([1.125]), array([1.125]), array([1.125]), array([1.125]), array([1.125]), array([1.125]), array([1.125]), array([1.125]), array([1.125]), array([1.125]), array([1.125]), array([1.125]), array([1.125]), array([1.125]), array([1.125]), array([1.125]), array([1.125]), array([1.125]), array([1.125]), array([1.125]), array([1.125]), array([1.125]), array([1.5]), array([1.5]), array([2.125]), array([2.875]), array([4.75]), array([7.8125])]\n"
     ]
    },
    {
     "data": {
      "image/png": "[encoded data removed]",
      "text/plain": [
       "<Figure size 432x288 with 1 Axes>"
      ]
     },
     "metadata": {
      "needs_background": "light"
     },
     "output_type": "display_data"
    },
    {
     "name": "stdout",
     "output_type": "stream",
     "text": [
      "[0, array([1.125]), array([1.125]), array([1.125]), array([1.125]), array([1.125]), array([1.125]), array([1.125]), array([1.125]), array([1.125]), array([1.125]), array([1.125]), array([1.125]), array([1.125]), array([1.125]), array([1.125]), array([1.125]), array([1.125]), array([1.125]), array([1.125]), array([1.125]), array([1.125]), array([1.125]), array([1.125]), array([1.125]), array([1.125]), array([1.125]), array([1.125]), array([1.125]), array([1.125]), array([1.125]), array([1.125]), array([1.125]), array([1.125]), array([1.125]), array([1.125]), array([1.125]), array([1.125]), array([1.125]), array([1.125]), array([1.125]), array([1.125]), array([1.125]), array([1.125]), array([1.125]), array([1.125]), array([1.125]), array([1.125]), array([1.5]), array([1.5]), array([1.5]), array([1.5]), array([1.5]), array([1.5]), array([1.5]), array([2.125]), array([2.125]), array([2.125]), array([2.875]), array([4.75]), array([7.8125]), array([9.5])]\n"
     ]
    },
    {
     "data": {
      "image/png": "[encoded data removed]",
      "text/plain": [
       "<Figure size 432x288 with 1 Axes>"
      ]
     },
     "metadata": {
      "needs_background": "light"
     },
     "output_type": "display_data"
    },
    {
     "name": "stdout",
     "output_type": "stream",
     "text": [
      "[0, array([1.125]), array([1.125]), array([1.125]), array([1.125]), array([1.125]), array([1.125]), array([1.125]), array([1.125]), array([1.125]), array([1.125]), array([1.125]), array([1.125]), array([1.125]), array([1.125]), array([1.125]), array([1.125]), array([1.125]), array([1.125]), array([1.125]), array([1.125]), array([1.125]), array([1.125]), array([1.125]), array([1.125]), array([1.125]), array([1.125]), array([1.125]), array([1.125]), array([1.125]), array([1.125]), array([1.125]), array([1.125]), array([1.125]), array([1.125]), array([1.125]), array([1.125]), array([1.125]), array([1.125]), array([1.125]), array([1.125]), array([1.125]), array([1.125]), array([1.125]), array([1.125]), array([1.125]), array([1.125]), array([1.125]), array([1.125]), array([1.125]), array([1.125]), array([1.125]), array([1.125]), array([1.125]), array([1.125]), array([1.125]), array([1.125]), array([1.125]), array([4.75]), array([4.75]), array([7.8125]), array([7.8125])]\n"
     ]
    },
    {
     "data": {
      "image/png": "[encoded data removed]",
      "text/plain": [
       "<Figure size 432x288 with 1 Axes>"
      ]
     },
     "metadata": {
      "needs_background": "light"
     },
     "output_type": "display_data"
    }
   ],
   "source": [
    "\n",
    "for i in range(len(test_df)):\n",
    "    row = test_df.iloc[i]\n",
    "    if max(row['deaths'][:-1]) > 5:\n",
    "        plot_prediction(random_search,row,best_window,exponentiate=True)"
   ]
  },
  {
   "cell_type": "code",
   "execution_count": null,
   "metadata": {},
   "outputs": [],
   "source": [
    "print "
   ]
  },
  {
   "cell_type": "code",
   "execution_count": null,
   "metadata": {},
   "outputs": [],
   "source": [
    "row = df.iloc[0]"
   ]
  },
  {
   "cell_type": "code",
   "execution_count": null,
   "metadata": {},
   "outputs": [
    {
     "data": {
      "image/png": "[encoded data removed]",
      "text/plain": [
       "<Figure size 432x288 with 1 Axes>"
      ]
     },
     "metadata": {
      "needs_background": "light"
     },
     "output_type": "display_data"
    }
   ],
   "source": [
    "plt.plot(row['deaths'], label='deaths')\n",
    "plt.plot(row['cases'], label='cases')\n",
    "plt.legend()\n",
    "plt.show()"
   ]
  },
  {
   "cell_type": "markdown",
   "metadata": {},
   "source": [
    "# visualize counties with most deaths"
   ]
  },
  {
   "cell_type": "code",
   "execution_count": null,
   "metadata": {},
   "outputs": [],
   "source": [
    "df_tab = df[[outcome_deaths, outcome_cases, 'CountyName', 'StateName', \n",
    "             'PopulationDensityperSqMile2010',\n",
    "             'deaths', 'cases']].head(12)        \n",
    "# df_tab = df_tab.rename(columns={'PopulationEstimate2018': 'Population\\n(thousands})'})\n",
    "df_tab = df_tab.rename(columns={'PopulationDensityperSqMile2010': 'PopDensity'})\n",
    "df_tab = df_tab.rename(columns={outcome_deaths: '#Deaths', outcome_cases: '#Cases'})\n",
    "df_tab = df_tab.rename(columns={'CountyName': 'County', 'StateName': 'State'})\n",
    "print(df_tab.keys())\n",
    "# df_tab['Population']\n",
    "keys_table = [k for k in df_tab.keys() if not k in ['deaths', 'cases']]\n",
    "viz.viz_curves(df_tab, \n",
    "               key_toggle='County',\n",
    "               keys_table=keys_table,\n",
    "               filename='results/county_curves.html')\n",
    "print('done!')"
   ]
  },
  {
   "cell_type": "code",
   "execution_count": null,
   "metadata": {},
   "outputs": [],
   "source": []
  }
 ],
 "metadata": {
  "kernelspec": {
   "display_name": "Python 3",
   "language": "python",
   "name": "python3"
  },
  "language_info": {
   "codemirror_mode": {
    "name": "ipython",
    "version": 3
   },
   "file_extension": ".py",
   "mimetype": "text/x-python",
   "name": "python",
   "nbconvert_exporter": "python",
   "pygments_lexer": "ipython3",
   "version": "3.7.5"
  }
 },
 "nbformat": 4,
 "nbformat_minor": 4
}
