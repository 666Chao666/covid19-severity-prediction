{
 "cells": [
  {
   "cell_type": "code",
   "execution_count": null,
   "metadata": {},
   "outputs": [],
   "source": [
    "%load_ext autoreload\n",
    "%autoreload 2\n",
    "import numpy as np\n",
    "import scipy as sp\n",
    "import pandas as pd\n",
    "import matplotlib.pyplot as plt\n",
    "import matplotlib.dates as mdates\n",
    "import seaborn as sns\n",
    "from viz import viz\n",
    "from bokeh.plotting import figure, show, output_notebook, output_file, save\n",
    "from functions import merge_data\n",
    "import load_data\n",
    "\n",
    "df = load_data.load_county_level()\n",
    "df = df.sort_values('tot_deaths', ascending=False)\n",
    "important_vars = load_data.important_keys(df)\n",
    "print(df.keys())"
   ]
  },
  {
   "cell_type": "markdown",
   "metadata": {},
   "source": [
    "## how many deaths/cases are there"
   ]
  },
  {
   "cell_type": "code",
   "execution_count": null,
   "metadata": {},
   "outputs": [],
   "source": [
    "df[['tot_deaths', 'tot_cases', 'StateName', 'CountyName', ]].head(10)"
   ]
  },
  {
   "cell_type": "code",
   "execution_count": null,
   "metadata": {},
   "outputs": [],
   "source": [
    "d = df[df['tot_deaths'] > 0]\n",
    "R, C = 1, 2\n",
    "plt.subplot(R, C, 1)\n",
    "plt.hist(np.log10(d['tot_cases']))\n",
    "plt.xlabel('Number of cases (log-scale)')\n",
    "plt.ylabel('Number of counties')\n",
    "plt.yscale('log')\n",
    "\n",
    "plt.subplot(R, C, 2)\n",
    "plt.hist(np.log10(d['tot_deaths']))\n",
    "plt.xlabel('Number of deaths (log-scale)')\n",
    "plt.ylabel('Number of counties')\n",
    "plt.yscale('log')\n",
    "plt.tight_layout()\n",
    "plt.show()"
   ]
  },
  {
   "cell_type": "code",
   "execution_count": null,
   "metadata": {},
   "outputs": [],
   "source": [
    "plt.hist(df['#Hospitals'], bins=100)\n",
    "plt.xlabel('#Hospitals (per county)')\n",
    "plt.show()"
   ]
  },
  {
   "cell_type": "markdown",
   "metadata": {},
   "source": [
    "# correlations"
   ]
  },
  {
   "cell_type": "code",
   "execution_count": null,
   "metadata": {},
   "outputs": [],
   "source": [
    "sns.set(style=\"white\")\n",
    "\n",
    "# Generate a large random dataset\n",
    "rs = np.random.RandomState(33)\n",
    "d = df[[k for k in important_vars if not 'PopMale' in k and not 'PopFmle' in k and not 'MortalityAge' in k and not 'PopTotal' in k] + \n",
    "        ['tot_deaths', 'tot_cases']]\n",
    "\n",
    "# Compute the correlation matrix\n",
    "corrs = d.corr(method='spearman')\n",
    "\n",
    "# Generate a custom diverging colormap\n",
    "cmap = sns.diverging_palette(10, 220, as_cmap=True)\n",
    "\n",
    "# Draw the heatmap with the mask and correct aspect ratio\n",
    "plt.figure(figsize=(8, 8), dpi=300)\n",
    "sns.heatmap(corrs, cmap=cmap, vmax=1, center=0, square=True, linewidths=.5, cbar_kws={\"shrink\": .5})\n",
    "# sns.clustermap(corr, cmap=cmap, vmax=1, center=0, square=True, linewidths=.5, cbar_kws={\"shrink\": .5})\n",
    "plt.tight_layout()\n",
    "plt.savefig('results/correlations_heatmap.png')\n",
    "plt.show()"
   ]
  },
  {
   "cell_type": "code",
   "execution_count": null,
   "metadata": {},
   "outputs": [],
   "source": [
    "keys = np.array(corrs.index)\n",
    "k = np.where(keys == 'tot_deaths')[0][0]\n",
    "corrs_row = corrs.iloc[k]\n",
    "args = np.argsort(corrs_row)\n",
    "plt.figure(dpi=300, figsize=(6, 5))\n",
    "plt.barh(keys[args][:-1], corrs_row[args][:-1]) # 1 to drop outcome itself\n",
    "plt.xlabel('Correlation (spearman) with # deaths')\n",
    "plt.tight_layout()\n",
    "plt.savefig('results/correlations.png')\n",
    "plt.show()"
   ]
  },
  {
   "cell_type": "markdown",
   "metadata": {},
   "source": [
    "# interactive plots"
   ]
  },
  {
   "cell_type": "code",
   "execution_count": null,
   "metadata": {},
   "outputs": [],
   "source": [
    "# filter by state\n",
    "for state in ['NY', 'WA', 'CA']:\n",
    "    d = df[df[\"StateNameAbbreviation\"] == state]\n",
    "\n",
    "    p = viz.plot_counties(d, \n",
    "                          variable_to_distribute='tot_cases',\n",
    "                          variables_to_display=important_vars,\n",
    "                          state=state,\n",
    "                          logcolor=False)\n",
    "    \n",
    "    output_file(f\"results/{state}.html\", mode='inline')\n",
    "    show(p)\n",
    "    save(p)"
   ]
  },
  {
   "cell_type": "code",
   "execution_count": null,
   "metadata": {},
   "outputs": [],
   "source": [
    "sorted(list([k for k in df.keys() if '' in k.lower()]))"
   ]
  },
  {
   "cell_type": "markdown",
   "metadata": {},
   "source": [
    "## plot political leaning"
   ]
  },
  {
   "cell_type": "code",
   "execution_count": null,
   "metadata": {},
   "outputs": [],
   "source": [
    "# filter by state\n",
    "for state in ['NY', 'WA', 'CA']:\n",
    "    d = df[df[\"StateNameAbbreviation\"] == state]\n",
    "\n",
    "    p = viz.plot_counties(d, \n",
    "                          variable_to_distribute='dem_to_rep_ratio',\n",
    "                          variables_to_display=important_vars,\n",
    "                          state=state,\n",
    "                          logcolor=False)\n",
    "    show(p)"
   ]
  }
 ],
 "metadata": {
  "kernelspec": {
   "display_name": "Python 3",
   "language": "python",
   "name": "python3"
  },
  "language_info": {
   "codemirror_mode": {
    "name": "ipython",
    "version": 3
   },
   "file_extension": ".py",
   "mimetype": "text/x-python",
   "name": "python",
   "nbconvert_exporter": "python",
   "pygments_lexer": "ipython3",
   "version": "3.7.5"
  }
 },
 "nbformat": 4,
 "nbformat_minor": 4
}
