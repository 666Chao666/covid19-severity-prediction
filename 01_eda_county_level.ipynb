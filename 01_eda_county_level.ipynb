{
 "cells": [
  {
   "cell_type": "code",
   "execution_count": 10,
   "metadata": {},
   "outputs": [
    {
     "name": "stdout",
     "output_type": "stream",
     "text": [
      "The autoreload extension is already loaded. To reload it, use:\n",
      "  %reload_ext autoreload\n",
      "loading county level data...\n"
     ]
    },
    {
     "name": "stderr",
     "output_type": "stream",
     "text": [
      "/accounts/projects/vision/chandan/covid-19-geographic-risk-prediction/functions/merge_data.py:40: ParserWarning: Falling back to the 'python' engine because the 'c' engine does not support skipfooter; you can avoid this warning by specifying engine='python'.\n",
      "  diabetes.columns = [\"countyFIPS\", \"DiabetesPercentage\"]\n"
     ]
    },
    {
     "name": "stdout",
     "output_type": "stream",
     "text": [
      "ks Index(['countyFIPS', 'Respiratory Mortality'], dtype='object')\n",
      "Index(['id', 'Header-FIPSStandCtyCode', 'EntityofFile',\n",
      "       'SecondaryEntityOfFile', 'DateofFile', 'DateofCreation', 'FileLength',\n",
      "       'StateName', 'StateNameAbbreviation', 'CountyName',\n",
      "       ...\n",
      "       'DiabetesPercentage', 'Respiratory Mortality', 'dem_to_rep_ratio',\n",
      "       '#Hospitals', '#ICU_beds', 'HeartDiseaseMortality', 'StrokeMortality',\n",
      "       'Smokers_Percentage', 'FracMale2017', '#FTEHospitalTotal2017'],\n",
      "      dtype='object', length=7305)\n"
     ]
    }
   ],
   "source": [
    "%load_ext autoreload\n",
    "%autoreload 2\n",
    "import numpy as np\n",
    "import scipy as sp\n",
    "import pandas as pd\n",
    "import matplotlib.pyplot as plt\n",
    "import matplotlib.dates as mdates\n",
    "import seaborn as sns\n",
    "from viz import viz\n",
    "from bokeh.plotting import figure, show, output_notebook, output_file, save\n",
    "from functions import merge_data\n",
    "import load_data\n",
    "\n",
    "df = load_data.load_county_level()\n",
    "outcome_cases = load_data.outcome_cases\n",
    "outcome_deaths = load_data.outcome_deaths\n",
    "df, df_test = load_data.split_data(df)\n",
    "\n",
    "print(df.keys())"
   ]
  },
  {
   "cell_type": "markdown",
   "metadata": {},
   "source": [
    "## how many deaths/cases are there"
   ]
  },
  {
   "cell_type": "code",
   "execution_count": 11,
   "metadata": {},
   "outputs": [
    {
     "data": {
      "text/html": [
       "<div>\n",
       "<style scoped>\n",
       "    .dataframe tbody tr th:only-of-type {\n",
       "        vertical-align: middle;\n",
       "    }\n",
       "\n",
       "    .dataframe tbody tr th {\n",
       "        vertical-align: top;\n",
       "    }\n",
       "\n",
       "    .dataframe thead th {\n",
       "        text-align: right;\n",
       "    }\n",
       "</style>\n",
       "<table border=\"1\" class=\"dataframe\">\n",
       "  <thead>\n",
       "    <tr style=\"text-align: right;\">\n",
       "      <th></th>\n",
       "      <th>#Deaths_3/22/2020</th>\n",
       "      <th>#Cases_3/22/2020</th>\n",
       "      <th>StateName</th>\n",
       "      <th>CountyName</th>\n",
       "    </tr>\n",
       "  </thead>\n",
       "  <tbody>\n",
       "    <tr>\n",
       "      <th>1064</th>\n",
       "      <td>75</td>\n",
       "      <td>1040</td>\n",
       "      <td>Washington</td>\n",
       "      <td>King</td>\n",
       "    </tr>\n",
       "    <tr>\n",
       "      <th>695</th>\n",
       "      <td>60</td>\n",
       "      <td>9045</td>\n",
       "      <td>New York</td>\n",
       "      <td>New York</td>\n",
       "    </tr>\n",
       "    <tr>\n",
       "      <th>92</th>\n",
       "      <td>10</td>\n",
       "      <td>302</td>\n",
       "      <td>California</td>\n",
       "      <td>Santa Clara</td>\n",
       "    </tr>\n",
       "    <tr>\n",
       "      <th>643</th>\n",
       "      <td>7</td>\n",
       "      <td>457</td>\n",
       "      <td>New Jersey</td>\n",
       "      <td>Bergen</td>\n",
       "    </tr>\n",
       "    <tr>\n",
       "      <th>82</th>\n",
       "      <td>6</td>\n",
       "      <td>45</td>\n",
       "      <td>California</td>\n",
       "      <td>Riverside</td>\n",
       "    </tr>\n",
       "    <tr>\n",
       "      <th>269</th>\n",
       "      <td>6</td>\n",
       "      <td>805</td>\n",
       "      <td>Illinois</td>\n",
       "      <td>Cook</td>\n",
       "    </tr>\n",
       "    <tr>\n",
       "      <th>71</th>\n",
       "      <td>5</td>\n",
       "      <td>409</td>\n",
       "      <td>California</td>\n",
       "      <td>Los Angeles</td>\n",
       "    </tr>\n",
       "    <tr>\n",
       "      <th>506</th>\n",
       "      <td>5</td>\n",
       "      <td>477</td>\n",
       "      <td>Michigan</td>\n",
       "      <td>Wayne</td>\n",
       "    </tr>\n",
       "    <tr>\n",
       "      <th>709</th>\n",
       "      <td>4</td>\n",
       "      <td>1034</td>\n",
       "      <td>New York</td>\n",
       "      <td>Suffolk</td>\n",
       "    </tr>\n",
       "    <tr>\n",
       "      <th>694</th>\n",
       "      <td>4</td>\n",
       "      <td>1900</td>\n",
       "      <td>New York</td>\n",
       "      <td>Nassau</td>\n",
       "    </tr>\n",
       "  </tbody>\n",
       "</table>\n",
       "</div>"
      ],
      "text/plain": [
       "      #Deaths_3/22/2020  #Cases_3/22/2020   StateName   CountyName\n",
       "1064                 75              1040  Washington         King\n",
       "695                  60              9045    New York     New York\n",
       "92                   10               302  California  Santa Clara\n",
       "643                   7               457  New Jersey       Bergen\n",
       "82                    6                45  California    Riverside\n",
       "269                   6               805    Illinois         Cook\n",
       "71                    5               409  California  Los Angeles\n",
       "506                   5               477    Michigan        Wayne\n",
       "709                   4              1034    New York      Suffolk\n",
       "694                   4              1900    New York       Nassau"
      ]
     },
     "execution_count": 11,
     "metadata": {},
     "output_type": "execute_result"
    }
   ],
   "source": [
    "df[[outcome_deaths, outcome_cases, 'StateName', 'CountyName', ]].head(10)"
   ]
  },
  {
   "cell_type": "code",
   "execution_count": 12,
   "metadata": {},
   "outputs": [
    {
     "data": {
      "image/png": "[encoded data removed]",
      "text/plain": [
       "<Figure size 432x288 with 2 Axes>"
      ]
     },
     "metadata": {},
     "output_type": "display_data"
    }
   ],
   "source": [
    "d = df[df[outcome_deaths] > 0]\n",
    "R, C = 1, 2\n",
    "plt.subplot(R, C, 1)\n",
    "plt.hist(np.log10(d[outcome_cases]))\n",
    "plt.xlabel('Number of cases (log-scale)')\n",
    "plt.ylabel('Number of counties')\n",
    "plt.yscale('log')\n",
    "\n",
    "plt.subplot(R, C, 2)\n",
    "plt.hist(np.log10(d[outcome_deaths]))\n",
    "plt.xlabel('Number of deaths (log-scale)')\n",
    "plt.ylabel('Number of counties')\n",
    "plt.yscale('log')\n",
    "plt.tight_layout()\n",
    "plt.show()"
   ]
  },
  {
   "cell_type": "code",
   "execution_count": 13,
   "metadata": {},
   "outputs": [],
   "source": [
    "demographics = ['PopulationEstimate2018', 'Population(Persons)2017',  \n",
    "                'PopTotalMale2017', 'PopTotalFemale2017', 'FracMale2017',\n",
    "                'PopulationEstimate65+2017',\n",
    "                'PopulationDensityperSqMile2010',\n",
    "                'MedianAge2010', 'MedianAge,Male2010', 'MedianAge,Female2010']\n",
    "\n",
    "# hospital vars\n",
    "hospitals_hrsa = ['#FTEHospitalTotal2017', \"TotalM.D.'s,TotNon-FedandFed2017\", '#HospParticipatinginNetwork2017']\n",
    "hospitals_misc = [\"#Hospitals\", \"#ICU_beds\"]\n",
    "hospitals = hospitals_hrsa + hospitals_misc\n",
    "\n",
    "# comorbidity (simultaneous presence of multiple conditions) vars\n",
    "comorbidity_hrsa = [ '#EligibleforMedicare2018',  'MedicareEnrollment,AgedTot2017', '3-YrDiabetes2015-17']\n",
    "comorbidity_misc = [\"DiabetesPercentage\", \"HeartDiseaseMortality\", \"StrokeMortality\", \"Smokers_Percentage\"]\n",
    "comorbidity = comorbidity_hrsa + comorbidity_misc\n",
    "\n",
    "# political leanings (ratio of democrat : republican votes in 2016 presidential election)\n",
    "political = ['dem_to_rep_ratio']\n",
    "\n",
    "important_vars = demographics + comorbidity + hospitals + political"
   ]
  },
  {
   "cell_type": "markdown",
   "metadata": {},
   "source": [
    "# correlations"
   ]
  },
  {
   "cell_type": "code",
   "execution_count": null,
   "metadata": {},
   "outputs": [],
   "source": [
    "sns.set(style=\"white\")\n",
    "\n",
    "# Generate a large random dataset\n",
    "rs = np.random.RandomState(33)\n",
    "d = df[important_vars + [outcome_cases, outcome_deaths]]\n",
    "\n",
    "# Compute the correlation matrix\n",
    "corrs = d.corr(method='spearman')\n",
    "\n",
    "# Generate a custom diverging colormap\n",
    "cmap = sns.diverging_palette(10, 220, as_cmap=True)\n",
    "\n",
    "# Draw the heatmap with the mask and correct aspect ratio\n",
    "plt.figure(figsize=(8, 8), dpi=300)\n",
    "sns.heatmap(corrs, cmap=cmap, vmax=1, center=0, square=True, linewidths=.5, cbar_kws={\"shrink\": .5})\n",
    "# sns.clustermap(corr, cmap=cmap, vmax=1, center=0, square=True, linewidths=.5, cbar_kws={\"shrink\": .5})\n",
    "plt.tight_layout()\n",
    "plt.savefig('results/correlations_heatmap.png')\n",
    "plt.show()"
   ]
  },
  {
   "cell_type": "code",
   "execution_count": null,
   "metadata": {},
   "outputs": [],
   "source": [
    "keys = np.array(corrs.index)\n",
    "k = np.where(keys == outcome_deaths)[0][0]\n",
    "corrs_row = corrs.iloc[k]\n",
    "args = np.argsort(corrs_row)\n",
    "plt.figure(dpi=300, figsize=(6, 5))\n",
    "plt.barh(keys[args][:-1], corrs_row[args][:-1]) # 1 to drop outcome itself\n",
    "plt.xlabel('Correlation (spearman) with # deaths')\n",
    "plt.tight_layout()\n",
    "plt.savefig('results/correlations.png')\n",
    "plt.show()"
   ]
  },
  {
   "cell_type": "markdown",
   "metadata": {},
   "source": [
    "# interactive plots"
   ]
  },
  {
   "cell_type": "code",
   "execution_count": null,
   "metadata": {},
   "outputs": [],
   "source": [
    "# filter by state\n",
    "for state in ['NY', 'WA', 'CA']:\n",
    "    d = df[df[\"StateNameAbbreviation\"] == state]\n",
    "\n",
    "    p = viz.plot_counties(d, \n",
    "                          variable_to_distribute=outcome_cases,\n",
    "                          variables_to_display=important_vars,\n",
    "                          state=state,\n",
    "                          logcolor=False)\n",
    "    \n",
    "    output_file(f\"results/{state}.html\", mode='inline')\n",
    "    show(p)\n",
    "    save(p)"
   ]
  },
  {
   "cell_type": "code",
   "execution_count": null,
   "metadata": {},
   "outputs": [],
   "source": [
    "sorted(list([k for k in df.keys() if '' in k.lower()]))"
   ]
  },
  {
   "cell_type": "markdown",
   "metadata": {},
   "source": [
    "## plot political leaning"
   ]
  },
  {
   "cell_type": "code",
   "execution_count": null,
   "metadata": {},
   "outputs": [],
   "source": [
    "# filter by state\n",
    "for state in ['NY', 'WA', 'CA']:\n",
    "    d = df[df[\"StateNameAbbreviation\"] == state]\n",
    "\n",
    "    p = viz.plot_counties(d, \n",
    "                          variable_to_distribute='dem_to_rep_ratio',\n",
    "                          variables_to_display=important_vars,\n",
    "                          state=state,\n",
    "                          logcolor=False)\n",
    "    show(p)"
   ]
  }
 ],
 "metadata": {
  "kernelspec": {
   "display_name": "Python 3",
   "language": "python",
   "name": "python3"
  },
  "language_info": {
   "codemirror_mode": {
    "name": "ipython",
    "version": 3
   },
   "file_extension": ".py",
   "mimetype": "text/x-python",
   "name": "python",
   "nbconvert_exporter": "python",
   "pygments_lexer": "ipython3",
   "version": "3.7.5"
  }
 },
 "nbformat": 4,
 "nbformat_minor": 4
}
