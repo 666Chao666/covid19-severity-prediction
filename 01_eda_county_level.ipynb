{
 "cells": [
  {
   "cell_type": "code",
   "execution_count": 3,
   "metadata": {},
   "outputs": [
    {
     "name": "stdout",
     "output_type": "stream",
     "text": [
      "The autoreload extension is already loaded. To reload it, use:\n",
      "  %reload_ext autoreload\n"
     ]
    }
   ],
   "source": [
    "%load_ext autoreload\n",
    "%autoreload 2\n",
    "import numpy as np\n",
    "import scipy as sp\n",
    "import pandas as pd\n",
    "import matplotlib.pyplot as plt\n",
    "import matplotlib.dates as mdates\n",
    "import seaborn as sns\n",
    "from viz import viz\n",
    "from bokeh.plotting import figure, show, output_notebook, output_file, save\n",
    "from functions import merge_data"
   ]
  },
  {
   "cell_type": "code",
   "execution_count": 4,
   "metadata": {},
   "outputs": [
    {
     "name": "stderr",
     "output_type": "stream",
     "text": [
      "/accounts/projects/vision/chandan/covid-19-geographic-risk-prediction/functions/merge_data.py:20: ParserWarning: Falling back to the 'python' engine because the 'c' engine does not support skipfooter; you can avoid this warning by specifying engine='python'.\n",
      "  diabetes = pd.read_csv(diabetes, skiprows = 2, skipfooter = 1)\n"
     ]
    }
   ],
   "source": [
    "# load data\n",
    "ahrf_data = 'data/hrsa/data_AHRF_2018-2019/processed/df_renamed.pkl'\n",
    "usafacts_data_cases = 'data/usafacts/confirmed_cases_mar22.csv'\n",
    "diabetes = 'data/diabetes/DiabetesAtlasCountyData.csv'\n",
    "voting = 'data/voting/county_voting_processed.pkl'\n",
    "df = merge_data.merge_data(ahrf_data=ahrf_data, \n",
    "                           usafacts_data_cases=usafacts_data_cases,\n",
    "                           medicare_group=\"All Beneficiaries\",\n",
    "                           voting=voting,\n",
    "                           diabetes=diabetes) # also cleans usafacts data"
   ]
  },
  {
   "cell_type": "code",
   "execution_count": 8,
   "metadata": {},
   "outputs": [
    {
     "name": "stdout",
     "output_type": "stream",
     "text": [
      "Index(['id', 'Header-FIPSStandCtyCode', 'EntityofFile',\n",
      "       'SecondaryEntityOfFile', 'DateofFile', 'DateofCreation', 'FileLength',\n",
      "       'StateName', 'StateNameAbbreviation', 'CountyName',\n",
      "       ...\n",
      "       'condition_Heart Failure', 'condition_Hepatitis',\n",
      "       'condition_Hyperlipidemia', 'condition_Hypertension',\n",
      "       'condition_Ischemic Heart Disease', 'condition_Osteoporosis',\n",
      "       'condition_Psychotic Disorders', 'condition_Stroke',\n",
      "       'Diabetes Percentage', 'dem_to_rep_ratio'],\n",
      "      dtype='object', length=7234)\n"
     ]
    }
   ],
   "source": [
    "outcome = '#Cases_3/21/2020'\n",
    "df = df.sort_values(outcome, ascending=False)\n",
    "df = df.infer_objects()\n",
    "print(df.keys())\n",
    "\n",
    "# add features\n",
    "df['FracMale2017'] = df['PopTotalMale2017'] / (df['PopTotalMale2017'] + df['PopTotalFemale2017'])"
   ]
  },
  {
   "cell_type": "code",
   "execution_count": 11,
   "metadata": {},
   "outputs": [
    {
     "data": {
      "text/html": [
       "<div>\n",
       "<style scoped>\n",
       "    .dataframe tbody tr th:only-of-type {\n",
       "        vertical-align: middle;\n",
       "    }\n",
       "\n",
       "    .dataframe tbody tr th {\n",
       "        vertical-align: top;\n",
       "    }\n",
       "\n",
       "    .dataframe thead th {\n",
       "        text-align: right;\n",
       "    }\n",
       "</style>\n",
       "<table border=\"1\" class=\"dataframe\">\n",
       "  <thead>\n",
       "    <tr style=\"text-align: right;\">\n",
       "      <th></th>\n",
       "      <th>#Cases_3/21/2020</th>\n",
       "      <th>StateName</th>\n",
       "      <th>CountyName</th>\n",
       "    </tr>\n",
       "  </thead>\n",
       "  <tbody>\n",
       "    <tr>\n",
       "      <th>1862</th>\n",
       "      <td>8115.0</td>\n",
       "      <td>New York</td>\n",
       "      <td>New York</td>\n",
       "    </tr>\n",
       "    <tr>\n",
       "      <th>1891</th>\n",
       "      <td>1385.0</td>\n",
       "      <td>New York</td>\n",
       "      <td>Westchester</td>\n",
       "    </tr>\n",
       "    <tr>\n",
       "      <th>1861</th>\n",
       "      <td>1234.0</td>\n",
       "      <td>New York</td>\n",
       "      <td>Nassau</td>\n",
       "    </tr>\n",
       "    <tr>\n",
       "      <th>2975</th>\n",
       "      <td>934.0</td>\n",
       "      <td>Washington</td>\n",
       "      <td>King</td>\n",
       "    </tr>\n",
       "    <tr>\n",
       "      <th>1883</th>\n",
       "      <td>662.0</td>\n",
       "      <td>New York</td>\n",
       "      <td>Suffolk</td>\n",
       "    </tr>\n",
       "    <tr>\n",
       "      <th>614</th>\n",
       "      <td>548.0</td>\n",
       "      <td>Illinois</td>\n",
       "      <td>Cook</td>\n",
       "    </tr>\n",
       "    <tr>\n",
       "      <th>2989</th>\n",
       "      <td>447.0</td>\n",
       "      <td>Washington</td>\n",
       "      <td>Snohomish</td>\n",
       "    </tr>\n",
       "    <tr>\n",
       "      <th>1152</th>\n",
       "      <td>418.0</td>\n",
       "      <td>Louisiana</td>\n",
       "      <td>Orleans</td>\n",
       "    </tr>\n",
       "    <tr>\n",
       "      <th>1779</th>\n",
       "      <td>363.0</td>\n",
       "      <td>New Jersey</td>\n",
       "      <td>Bergen</td>\n",
       "    </tr>\n",
       "    <tr>\n",
       "      <th>208</th>\n",
       "      <td>351.0</td>\n",
       "      <td>California</td>\n",
       "      <td>Los Angeles</td>\n",
       "    </tr>\n",
       "  </tbody>\n",
       "</table>\n",
       "</div>"
      ],
      "text/plain": [
       "      #Cases_3/21/2020   StateName   CountyName\n",
       "1862            8115.0    New York     New York\n",
       "1891            1385.0    New York  Westchester\n",
       "1861            1234.0    New York       Nassau\n",
       "2975             934.0  Washington         King\n",
       "1883             662.0    New York      Suffolk\n",
       "614              548.0    Illinois         Cook\n",
       "2989             447.0  Washington    Snohomish\n",
       "1152             418.0   Louisiana      Orleans\n",
       "1779             363.0  New Jersey       Bergen\n",
       "208              351.0  California  Los Angeles"
      ]
     },
     "execution_count": 11,
     "metadata": {},
     "output_type": "execute_result"
    }
   ],
   "source": [
    "df[[outcome, 'StateName', 'CountyName', ]].head(10)"
   ]
  },
  {
   "cell_type": "code",
   "execution_count": 9,
   "metadata": {},
   "outputs": [],
   "source": [
    "demographics = ['PopulationEstimate2018', 'Population(Persons)2017',  \n",
    "                'PopTotalMale2017', 'PopTotalFemale2017', 'FracMale2017',\n",
    "                'PopulationEstimate65+2017',\n",
    "                'PopulationDensityperSqMile2010',\n",
    "                'MedianAge2010', 'MedianAge,Male2010', 'MedianAge,Female2010',\n",
    "               ]\n",
    "\n",
    "# income vars\n",
    "\n",
    "# hospital vars\n",
    "hospitals = ['#FTETotalHospitalPersonnelShortTermGeneralHospitals2017',  \"TotalM.D.'s,TotNon-FedandFed2017\"]\n",
    "\n",
    "# comorbidity vars\n",
    "comorbidity = [ '#EligibleforMedicare2018',  'MedicareEnrollment,AgedTot2017', \n",
    "               '3-YrDiabetes2015-17']\n",
    "\n",
    "important_vars = demographics + comorbidity + hospitals"
   ]
  },
  {
   "cell_type": "markdown",
   "metadata": {},
   "source": [
    "# correlations"
   ]
  },
  {
   "cell_type": "code",
   "execution_count": null,
   "metadata": {},
   "outputs": [],
   "source": [
    "sns.set(style=\"white\")\n",
    "\n",
    "# Generate a large random dataset\n",
    "rs = np.random.RandomState(33)\n",
    "d = df[important_vars + [outcome]]\n",
    "\n",
    "# Compute the correlation matrix\n",
    "corr = d.corr()\n",
    "\n",
    "# Generate a custom diverging colormap\n",
    "cmap = sns.diverging_palette(10, 220, as_cmap=True)\n",
    "\n",
    "# Draw the heatmap with the mask and correct aspect ratio\n",
    "sns.clustermap(corr, cmap=cmap, vmax=1, center=0,\n",
    "            square=True, linewidths=.5, cbar_kws={\"shrink\": .5})\n",
    "plt.show()"
   ]
  },
  {
   "cell_type": "markdown",
   "metadata": {},
   "source": [
    "# interactive plots"
   ]
  },
  {
   "cell_type": "code",
   "execution_count": null,
   "metadata": {},
   "outputs": [],
   "source": [
    "# filter by state\n",
    "for state in ['NY', 'WA', 'CA']:\n",
    "    d = df[df[\"StateNameAbbreviation\"] == state]\n",
    "\n",
    "    p = viz.plot_counties(d, \n",
    "                          variable_to_distribute=outcome,\n",
    "                          variables_to_display=important_vars,\n",
    "                          state=state,\n",
    "                          logcolor=False)\n",
    "    \n",
    "    output_file(f\"results/{state}.html\", mode='inline')\n",
    "    show(p)\n",
    "    save(p)"
   ]
  },
  {
   "cell_type": "code",
   "execution_count": null,
   "metadata": {},
   "outputs": [],
   "source": [
    "[k for k in df.keys() if 'hosp' in k.lower()]"
   ]
  },
  {
   "cell_type": "code",
   "execution_count": null,
   "metadata": {},
   "outputs": [],
   "source": [
    "list(df.keys())"
   ]
  },
  {
   "cell_type": "markdown",
   "metadata": {},
   "source": [
    "## plot political leaning"
   ]
  },
  {
   "cell_type": "code",
   "execution_count": null,
   "metadata": {},
   "outputs": [],
   "source": [
    "# filter by state\n",
    "for state in ['NY', 'WA', 'CA']:\n",
    "    d = df[df[\"StateNameAbbreviation\"] == state]\n",
    "\n",
    "    p = viz.plot_counties(d, \n",
    "                          variable_to_distribute='dem_to_rep_ratio',\n",
    "                          variables_to_display=important_vars,\n",
    "                          state=state,\n",
    "                          logcolor=False)\n",
    "    show(p)"
   ]
  },
  {
   "cell_type": "code",
   "execution_count": null,
   "metadata": {},
   "outputs": [],
   "source": []
  }
 ],
 "metadata": {
  "kernelspec": {
   "display_name": "Python 3",
   "language": "python",
   "name": "python3"
  },
  "language_info": {
   "codemirror_mode": {
    "name": "ipython",
    "version": 3
   },
   "file_extension": ".py",
   "mimetype": "text/x-python",
   "name": "python",
   "nbconvert_exporter": "python",
   "pygments_lexer": "ipython3",
   "version": "3.7.5"
  }
 },
 "nbformat": 4,
 "nbformat_minor": 4
}
