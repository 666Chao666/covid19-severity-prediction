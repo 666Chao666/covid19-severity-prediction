{
 "cells": [
  {
   "cell_type": "code",
   "execution_count": 85,
   "metadata": {},
   "outputs": [
    {
     "name": "stdout",
     "output_type": "stream",
     "text": [
      "The autoreload extension is already loaded. To reload it, use:\n",
      "  %reload_ext autoreload\n"
     ]
    }
   ],
   "source": [
    "%load_ext autoreload\n",
    "%autoreload 2\n",
    "import numpy as np\n",
    "import scipy as sp\n",
    "import pandas as pd\n",
    "import matplotlib.pyplot as plt\n",
    "import matplotlib.dates as mdates\n",
    "import matplotlib.cbook as cbook\n",
    "from functions import merge_data\n",
    "from functions import load_medicare_data\n",
    "from functions import load_respiratory_disease_data\n",
    "from os.path import join as oj\n",
    "import math\n",
    "import re\n",
    "import joblib"
   ]
  },
  {
   "cell_type": "markdown",
   "metadata": {},
   "source": [
    "## Adding FIPS to hospital data"
   ]
  },
  {
   "cell_type": "code",
   "execution_count": 82,
   "metadata": {},
   "outputs": [],
   "source": [
    "#icu['cnty_name'] = icu.apply(lambda x: re.sub('[^a-zA-Z]+', '', x['cnty_name']).lower(), axis=1)\n",
    "hospitals = pd.read_csv(\"data/hospital_level_info/02_hospital_info.csv\")\n",
    "county_to_fips = dict(zip(zip(hospitals['COUNTY'], hospitals['STATE']), hospitals['COUNTYFIPS']))\n",
    "hospital_level_info_merged = pd.read_csv(\"data/hospital_level_info/03_hospital_level_info_merged.csv\")\n",
    "def map_county_to_fips(name, st):\n",
    "    if type(name) is str:\n",
    "        #name = re.sub('[^a-zA-Z]+', '', county_name).lower()\n",
    "        if (name, st) in county_to_fips and county_to_fips[(name, st)] != \"NOT AVAILABLE\":\n",
    "            return int(county_to_fips[(name, st)])\n",
    "    return np.nan\n",
    "    \n",
    "hospital_level_info_merged['countyFIPS'] = hospital_level_info_merged.apply(lambda x: map_county_to_fips(x['County Name_y'], x['State_x']), \n",
    "                                                                            axis=1).astype('Int64')"
   ]
  },
  {
   "cell_type": "code",
   "execution_count": 83,
   "metadata": {},
   "outputs": [
    {
     "data": {
      "text/plain": [
       "2402"
      ]
     },
     "execution_count": 83,
     "metadata": {},
     "output_type": "execute_result"
    }
   ],
   "source": [
    "len(set(hospital_level_info_merged['countyFIPS'].values))"
   ]
  },
  {
   "cell_type": "code",
   "execution_count": 95,
   "metadata": {},
   "outputs": [],
   "source": [
    "hospital_level_info_merged['countyFIPS'] = hospital_level_info_merged['countyFIPS'].astype(float)"
   ]
  },
  {
   "cell_type": "code",
   "execution_count": 109,
   "metadata": {},
   "outputs": [
    {
     "name": "stdout",
     "output_type": "stream",
     "text": [
      "loading county level data...\n"
     ]
    },
    {
     "name": "stderr",
     "output_type": "stream",
     "text": [
      "/accounts/grad/xsli/covid-19-geographic-risk-prediction/functions/merge_data.py:40: ParserWarning: Falling back to the 'python' engine because the 'c' engine does not support skipfooter; you can avoid this warning by specifying engine='python'.\n",
      "  diabetes = pd.read_csv(diabetes, skiprows = 2, skipfooter = 1)\n"
     ]
    },
    {
     "name": "stdout",
     "output_type": "stream",
     "text": [
      "ks Index(['countyFIPS', 'Respiratory Mortality'], dtype='object')\n",
      "(3114, 7305)\n"
     ]
    }
   ],
   "source": [
    "from load_data import load_county_level\n",
    "df = load_county_level()\n",
    "print(df.shape)"
   ]
  },
  {
   "cell_type": "code",
   "execution_count": 110,
   "metadata": {},
   "outputs": [],
   "source": [
    "county_level = df\n",
    "hospital_county_merged = hospital_level_info_merged.merge(county_level, how='left', on='countyFIPS')"
   ]
  },
  {
   "cell_type": "code",
   "execution_count": 111,
   "metadata": {},
   "outputs": [
    {
     "name": "stdout",
     "output_type": "stream",
     "text": [
      "[ 66.  20.  48.  13.   0.  nan 471.  nan  32. 471.]\n"
     ]
    },
    {
     "data": {
      "text/plain": [
       "array([1069., 1095., 1077., 1039., 1041.,   nan, 1073.,   nan, 1117.,\n",
       "       1073.])"
      ]
     },
     "execution_count": 111,
     "metadata": {},
     "output_type": "execute_result"
    }
   ],
   "source": [
    "print(hospital_county_merged['#ICU_beds'].values[:10])\n",
    "hospital_county_merged['countyFIPS'].values[:10]"
   ]
  },
  {
   "cell_type": "code",
   "execution_count": 103,
   "metadata": {},
   "outputs": [
    {
     "data": {
      "text/plain": [
       "Index(['Unnamed: 0', 'CMS Certification Number', 'Facility Name_x',\n",
       "       'Street Address_x', 'City_x', 'State_x', 'ZIP', 'System Affiliation',\n",
       "       'Type of Facility', 'Total Employees',\n",
       "       ...\n",
       "       'DiabetesPercentage', 'Respiratory Mortality', 'dem_to_rep_ratio',\n",
       "       '#Hospitals', '#ICU_beds', 'HeartDiseaseMortality', 'StrokeMortality',\n",
       "       'Smokers_Percentage', 'FracMale2017', '#FTEHospitalTotal2017'],\n",
       "      dtype='object', length=7491)"
      ]
     },
     "execution_count": 103,
     "metadata": {},
     "output_type": "execute_result"
    }
   ],
   "source": [
    "hospital_county_merged.keys()"
   ]
  }
 ],
 "metadata": {
  "kernelspec": {
   "display_name": "Python 3",
   "language": "python",
   "name": "python3"
  },
  "language_info": {
   "codemirror_mode": {
    "name": "ipython",
    "version": 3
   },
   "file_extension": ".py",
   "mimetype": "text/x-python",
   "name": "python",
   "nbconvert_exporter": "python",
   "pygments_lexer": "ipython3",
   "version": "3.7.5"
  }
 },
 "nbformat": 4,
 "nbformat_minor": 2
}
