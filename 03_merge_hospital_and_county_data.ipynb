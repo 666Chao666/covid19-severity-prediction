{
 "cells": [
  {
   "cell_type": "code",
   "execution_count": 25,
   "metadata": {},
   "outputs": [
    {
     "name": "stdout",
     "output_type": "stream",
     "text": [
      "The autoreload extension is already loaded. To reload it, use:\n",
      "  %reload_ext autoreload\n"
     ]
    }
   ],
   "source": [
    "%load_ext autoreload\n",
    "%autoreload 2\n",
    "import numpy as np\n",
    "import scipy as sp\n",
    "import pandas as pd\n",
    "import matplotlib.pyplot as plt\n",
    "import matplotlib.dates as mdates\n",
    "import matplotlib.cbook as cbook\n",
    "from functions import merge_data\n",
    "from functions import load_medicare_data\n",
    "from functions import load_respiratory_disease_data\n",
    "from os.path import join as oj\n",
    "import math\n",
    "import re\n",
    "import joblib"
   ]
  },
  {
   "cell_type": "markdown",
   "metadata": {},
   "source": [
    "## Adding FIPS to hospital data"
   ]
  },
  {
   "cell_type": "code",
   "execution_count": 64,
   "metadata": {},
   "outputs": [],
   "source": [
    "icu = pd.read_csv('data/icu/icu_county.csv')\n",
    "icu['cnty_name'] = icu.apply(lambda x: re.sub('[^a-zA-Z]+', '', x['cnty_name']).lower(), axis=1)\n",
    "county_to_fips = dict(zip(zip(icu['cnty_name'], icu['st']), icu['cnty_fips']))\n",
    "hospital_level_info_merged = pd.read_csv(\"data/hospital_level_info/03_hospital_level_info_merged.csv\")\n",
    "def map_county_to_fips(county_name, st):\n",
    "    if type(county_name) is str:\n",
    "        name = re.sub('[^a-zA-Z]+', '', county_name).lower()\n",
    "        if (name, st) in county_to_fips:\n",
    "            return county_to_fips[(name, st)]\n",
    "    return np.nan\n",
    "    \n",
    "hospital_level_info_merged['countyFIPS'] = hospital_level_info_merged.apply(lambda x: map_county_to_fips(x['County Name_y'], x['State_x']), \n",
    "                                                                            axis=1).astype('Int64')"
   ]
  },
  {
   "cell_type": "code",
   "execution_count": 65,
   "metadata": {},
   "outputs": [
    {
     "data": {
      "text/plain": [
       "2445"
      ]
     },
     "execution_count": 65,
     "metadata": {},
     "output_type": "execute_result"
    }
   ],
   "source": [
    "len(set(hospital_level_info_merged['countyFIPS'].values))"
   ]
  },
  {
   "cell_type": "code",
   "execution_count": 66,
   "metadata": {},
   "outputs": [
    {
     "data": {
      "text/plain": [
       "0       1069\n",
       "1       1095\n",
       "2       1077\n",
       "3       1039\n",
       "4       1041\n",
       "        ... \n",
       "7138    <NA>\n",
       "7139    <NA>\n",
       "7140    <NA>\n",
       "7141    <NA>\n",
       "7142    <NA>\n",
       "Name: countyFIPS, Length: 7143, dtype: Int64"
      ]
     },
     "execution_count": 66,
     "metadata": {},
     "output_type": "execute_result"
    }
   ],
   "source": [
    "hospital_level_info_merged['countyFIPS']"
   ]
  },
  {
   "cell_type": "code",
   "execution_count": null,
   "metadata": {},
   "outputs": [],
   "source": []
  }
 ],
 "metadata": {
  "kernelspec": {
   "display_name": "Python 3",
   "language": "python",
   "name": "python3"
  },
  "language_info": {
   "codemirror_mode": {
    "name": "ipython",
    "version": 3
   },
   "file_extension": ".py",
   "mimetype": "text/x-python",
   "name": "python",
   "nbconvert_exporter": "python",
   "pygments_lexer": "ipython3",
   "version": "3.7.5"
  }
 },
 "nbformat": 4,
 "nbformat_minor": 2
}
