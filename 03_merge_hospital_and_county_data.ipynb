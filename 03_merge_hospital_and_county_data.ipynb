{
 "cells": [
  {
   "cell_type": "code",
   "execution_count": 1,
   "metadata": {},
   "outputs": [],
   "source": [
    "%load_ext autoreload\n",
    "%autoreload 2\n",
    "import numpy as np\n",
    "import scipy as sp\n",
    "import pandas as pd\n",
    "import matplotlib.pyplot as plt\n",
    "import matplotlib.dates as mdates\n",
    "import matplotlib.cbook as cbook\n",
    "from functions import merge_data\n",
    "from functions import load_medicare_data\n",
    "from functions import load_respiratory_disease_data\n",
    "from os.path import join as oj\n",
    "import math\n",
    "import re\n",
    "import joblib\n",
    "import load_data"
   ]
  },
  {
   "cell_type": "code",
   "execution_count": 3,
   "metadata": {},
   "outputs": [
    {
     "name": "stdout",
     "output_type": "stream",
     "text": [
      "Index(['Unnamed: 0', 'COUNTYFIPS', 'COUNTY', 'STATE'], dtype='object')\n",
      "loading county level data...\n"
     ]
    },
    {
     "name": "stderr",
     "output_type": "stream",
     "text": [
      "/accounts/projects/vision/chandan/covid-19-geographic-risk-prediction/functions/merge_data.py:40: ParserWarning: Falling back to the 'python' engine because the 'c' engine does not support skipfooter; you can avoid this warning by specifying engine='python'.\n",
      "  diabetes = pd.read_csv(diabetes, skiprows = 2, skipfooter = 1)\n"
     ]
    },
    {
     "name": "stdout",
     "output_type": "stream",
     "text": [
      "ks Index(['countyFIPS', 'Respiratory Mortality'], dtype='object')\n"
     ]
    }
   ],
   "source": [
    "county_info_keys = ['#Cases_3/22/2020', '#Deaths_3/22/2020', 'countyFIPS']\n",
    "df = load_data.merge_hospital_and_county_data(hospital_info_keys='all', \n",
    "                                              county_info_keys=county_info_keys)\n"
   ]
  },
  {
   "cell_type": "code",
   "execution_count": 4,
   "metadata": {},
   "outputs": [
    {
     "data": {
      "text/plain": [
       "(7143, 189)"
      ]
     },
     "execution_count": 4,
     "metadata": {},
     "output_type": "execute_result"
    }
   ],
   "source": [
    "df.shape"
   ]
  },
  {
   "cell_type": "code",
   "execution_count": null,
   "metadata": {},
   "outputs": [],
   "source": [
    "df['countyFIPS']"
   ]
  },
  {
   "cell_type": "code",
   "execution_count": 5,
   "metadata": {},
   "outputs": [
    {
     "data": {
      "text/plain": [
       "Index(['Unnamed: 0', 'CMS Certification Number', 'Facility Name_x',\n",
       "       'Street Address_x', 'City_x', 'State_x', 'ZIP', 'System Affiliation',\n",
       "       'Type of Facility', 'Total Employees',\n",
       "       ...\n",
       "       'Zip Code', 'Street Address 1', 'Street Address 2', 'City.1', 'State.1',\n",
       "       'Zip Code.1', 'Facility ID_y', 'countyFIPS', '#Cases_3/22/2020',\n",
       "       '#Deaths_3/22/2020'],\n",
       "      dtype='object', length=189)"
      ]
     },
     "execution_count": 5,
     "metadata": {},
     "output_type": "execute_result"
    }
   ],
   "source": [
    "df.keys()"
   ]
  },
  {
   "cell_type": "code",
   "execution_count": null,
   "metadata": {},
   "outputs": [],
   "source": [
    "df['#Cases_3/22/2020'].values[:500]"
   ]
  },
  {
   "cell_type": "code",
   "execution_count": null,
   "metadata": {},
   "outputs": [],
   "source": [
    "df['countyFIPS'].values[:500]"
   ]
  }
 ],
 "metadata": {
  "kernelspec": {
   "display_name": "Python 3",
   "language": "python",
   "name": "python3"
  },
  "language_info": {
   "codemirror_mode": {
    "name": "ipython",
    "version": 3
   },
   "file_extension": ".py",
   "mimetype": "text/x-python",
   "name": "python",
   "nbconvert_exporter": "python",
   "pygments_lexer": "ipython3",
   "version": "3.7.5"
  }
 },
 "nbformat": 4,
 "nbformat_minor": 4
}
