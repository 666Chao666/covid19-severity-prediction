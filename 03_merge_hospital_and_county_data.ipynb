{
 "cells": [
  {
   "cell_type": "code",
   "execution_count": 125,
   "metadata": {},
   "outputs": [
    {
     "name": "stdout",
     "output_type": "stream",
     "text": [
      "The autoreload extension is already loaded. To reload it, use:\n",
      "  %reload_ext autoreload\n"
     ]
    }
   ],
   "source": [
    "%load_ext autoreload\n",
    "%autoreload 2\n",
    "import numpy as np\n",
    "import scipy as sp\n",
    "import pandas as pd\n",
    "import matplotlib.pyplot as plt\n",
    "import matplotlib.dates as mdates\n",
    "import matplotlib.cbook as cbook\n",
    "from functions import merge_data\n",
    "from functions import load_medicare_data\n",
    "from functions import load_respiratory_disease_data\n",
    "from os.path import join as oj\n",
    "import math\n",
    "import re\n",
    "import joblib\n",
    "import load_data"
   ]
  },
  {
   "cell_type": "code",
   "execution_count": 126,
   "metadata": {},
   "outputs": [
    {
     "name": "stdout",
     "output_type": "stream",
     "text": [
      "loading county level data...\n"
     ]
    },
    {
     "name": "stderr",
     "output_type": "stream",
     "text": [
      "/accounts/grad/xsli/covid-19-geographic-risk-prediction/functions/merge_data.py:40: ParserWarning: Falling back to the 'python' engine because the 'c' engine does not support skipfooter; you can avoid this warning by specifying engine='python'.\n",
      "  diabetes = pd.read_csv(diabetes, skiprows = 2, skipfooter = 1)\n"
     ]
    },
    {
     "name": "stdout",
     "output_type": "stream",
     "text": [
      "ks Index(['countyFIPS', 'Respiratory Mortality'], dtype='object')\n"
     ]
    }
   ],
   "source": [
    "county_info_keys = ['#Cases_3/22/2020', '#Deaths_3/22/2020', 'countyFIPS']\n",
    "df = load_data.merge_hospital_and_county_data(hospital_info_keys='all', \n",
    "                                              county_info_keys=county_info_keys)\n"
   ]
  },
  {
   "cell_type": "code",
   "execution_count": 127,
   "metadata": {},
   "outputs": [
    {
     "data": {
      "text/plain": [
       "(7143, 189)"
      ]
     },
     "execution_count": 127,
     "metadata": {},
     "output_type": "execute_result"
    }
   ],
   "source": [
    "df.shape"
   ]
  },
  {
   "cell_type": "code",
   "execution_count": 120,
   "metadata": {},
   "outputs": [
    {
     "data": {
      "text/plain": [
       "Index(['Unnamed: 0', 'CMS Certification Number', 'Facility Name_x',\n",
       "       'Street Address_x', 'City_x', 'State_x', 'ZIP', 'System Affiliation',\n",
       "       'Type of Facility', 'Total Employees',\n",
       "       ...\n",
       "       'Zip Code', 'Street Address 1', 'Street Address 2', 'City.1', 'State.1',\n",
       "       'Zip Code.1', 'Facility ID_y', 'countyFIPS', '#Cases_3/22/2020',\n",
       "       '#Deaths_3/22/2020'],\n",
       "      dtype='object', length=189)"
      ]
     },
     "execution_count": 120,
     "metadata": {},
     "output_type": "execute_result"
    }
   ],
   "source": [
    "df.keys()"
   ]
  },
  {
   "cell_type": "code",
   "execution_count": 129,
   "metadata": {},
   "outputs": [
    {
     "data": {
      "text/plain": [
       "array([  0.,   0.,   2.,   0.,   0.,  nan,  71.,  nan,  17.,  71.,   0.,\n",
       "         0.,   0.,   3.,   3.,  nan,  16.,  71.,   6.,   2.,   0.,   1.,\n",
       "        16.,   0.,   1.,   0.,   0.,   0.,   0.,   0.,  nan,   0.,  71.,\n",
       "         0.,   0.,   1.,   0.,   0.,   0.,   0.,   1.,   1.,   2.,   0.,\n",
       "         0.,   2.,   1.,   2.,   0.,   7.,   0.,   6.,   0.,   2.,   1.,\n",
       "         0.,  71.,  71.,   0.,   0.,   0.,   2.,  71.,   0.,   0.,   0.,\n",
       "         0.,   0.,   2.,   3.,  16.,   0.,  71.,   2.,  nan,   0.,   3.,\n",
       "        nan,   0.,   0.,   0.,   1.,  nan,   0.,   0.,   0.,  nan,  nan,\n",
       "        nan,   1.,   0.,   0.,   0.,   0.,  nan,  nan,  nan,  nan,  nan,\n",
       "        nan,  nan,  nan,  nan,  nan,  nan,  nan,  nan,  nan,  nan,  71.,\n",
       "         2.,  71.,   0.,   7.,  nan,   7.,  nan,   2.,   0.,   2.,   2.,\n",
       "        16.,   6.,  nan,  nan,  nan,   6.,  nan,  nan,   6.,  nan,  nan,\n",
       "        nan,  nan,  nan,  nan,  nan,  nan,  nan,  nan,  nan,  nan,  nan,\n",
       "        nan,   6.,   6.,  nan,  81.,  17.,   3.,  17.,  17.,   3.,   1.,\n",
       "        81.,  16.,  nan,  81.,  14.,  81.,  81.,  81.,  81.,   0.,   0.,\n",
       "        81.,  13.,  17.,  81.,   2.,   0.,   3.,  14.,  17.,   0.,  81.,\n",
       "        81.,   3.,  17.,  81.,  81.,  81.,  81.,  81.,  81.,  nan,   0.,\n",
       "        81.,  81.,  81.,  81.,  81.,  17.,  81.,  13.,  17.,  81.,   0.,\n",
       "        nan,  81.,  81.,  81.,  81.,  nan,  16.,  81.,  16.,  81.,  17.,\n",
       "        81.,  nan,  nan,  81.,   0.,   0.,  14.,  13.,  nan,  16.,   3.,\n",
       "        13.,   0.,   0.,   0.,   3.,  nan,   0.,  nan,  nan,  nan,  nan,\n",
       "        nan,  nan,  nan,  nan,  nan,  nan,  nan,  nan,  nan,  nan,  nan,\n",
       "        nan,  81.,  81.,  81.,  81.,  81.,  17.,  14.,  81.,   3.,  81.,\n",
       "        13.,  81.,  81.,  17.,  81.,  81.,  17.,   1.,   0.,   5.,  52.,\n",
       "         1.,   0.,   0.,   2.,  52.,   1.,   0.,   0.,   3.,   5.,   9.,\n",
       "         0.,   7.,  52.,   1.,   1.,   0.,   0.,   0.,   1.,   1.,   1.,\n",
       "         0.,  20.,   0.,   0.,   9.,  nan,   4.,   0.,   1.,  nan,  52.,\n",
       "         3.,   3.,   9.,  52.,  52.,  nan,  nan,  52.,   5.,   0.,   7.,\n",
       "        nan,   1.,   0.,   0.,   0.,   0.,   0.,   0.,   0.,   2.,   0.,\n",
       "         0.,   0.,  25.,   2.,   0.,   0.,   0.,   0.,   0.,   2.,   0.,\n",
       "         0.,   1.,   2.,   4.,   0.,   0.,   0.,   1.,  nan,  nan,  nan,\n",
       "        nan,  nan,  nan,  nan,  nan,  nan,  nan,  nan,  nan,  nan,  nan,\n",
       "        nan,  52.,   5.,   5.,  52.,   1.,   4.,  nan,  52.,  nan,  52.,\n",
       "         5.,   0.,   1.,   7., 106.,   1., 117., 108.,   1.,   1.,   2.,\n",
       "        nan,  53.,  45., 194., 194., 194.,   1.,   2.,   5., 302.,   2.,\n",
       "       409.,   0., 106.,   6.,  45., 108., 409.,  12., 409.,   6., 409.,\n",
       "         8.,  95., 117., 302.,  61.,  14., 106., 108., 194., 409.,  30.,\n",
       "        41.,  17.,  25., 409.,   6., 409.,  17., 194.,  14.,  45., 409.,\n",
       "       409.,  18.,  53.,  18., 409., 117., 194., 409.,  41.,   0.,  41.,\n",
       "       409., 302., 409.,   6., 194.,  17.,  38., 409.,   2., 409.,  25.,\n",
       "       409., 409., 409.,  nan,  17.,   5.,  nan, 409.,   1., 108., 302.,\n",
       "       409.,  30.,  14.,  41.,  95., 409.,  25.,   8.,  61.,   5., 409.,\n",
       "         6.,  nan,  15., 106., 117., 409., 409., 194., 106., 194.,  95.,\n",
       "        95., 108., 194.,  95., 409.,  27., 194., 409.,  30., 409., 409.,\n",
       "        15.,  45.,  17.,   5.,   2.,   5.,  nan,  12., 409.,  nan,  17.,\n",
       "        61., 409.,  17.,  nan,   2.])"
      ]
     },
     "execution_count": 129,
     "metadata": {},
     "output_type": "execute_result"
    }
   ],
   "source": [
    "df['#Cases_3/22/2020'].values[:500]"
   ]
  },
  {
   "cell_type": "code",
   "execution_count": 130,
   "metadata": {},
   "outputs": [
    {
     "data": {
      "text/plain": [
       "array([1069., 1095., 1077., 1039., 1041.,   nan, 1073.,   nan, 1117.,\n",
       "       1073., 1033., 1045., 1019., 1101., 1101.,   nan, 1081., 1073.,\n",
       "       1051., 1043., 1039., 1015., 1089., 1055., 1093., 1057., 1055.,\n",
       "       1031., 1063., 1123.,   nan, 1069., 1073., 1007., 1079., 1071.,\n",
       "       1061., 1123., 1005., 1027., 1015., 1083., 1003., 1103., 1057.,\n",
       "       1097., 1127., 1097., 1025., 1125., 1065., 1051., 1053., 1003.,\n",
       "       1121., 1131., 1073., 1073., 1001., 1011., 1091., 1097., 1073.,\n",
       "       1047., 1099., 1133., 1109., 1025., 1003., 1115., 1089., 1119.,\n",
       "       1073., 1097.,   nan, 1035., 1101.,   nan, 1013., 1033., 1059.,\n",
       "       1121.,   nan, 1113., 1053., 1021.,   nan,   nan,   nan, 1129.,\n",
       "       1059., 1023., 1009., 1111.,   nan,   nan,   nan,   nan,   nan,\n",
       "         nan,   nan,   nan,   nan,   nan,   nan,   nan,   nan,   nan,\n",
       "         nan, 1073., 1097., 1073., 1055., 1125.,   nan, 1125.,   nan,\n",
       "       1097., 1041., 1043., 1003., 1089., 2020., 2170., 2110., 2090.,\n",
       "       2020., 2050., 2122., 2020., 2261., 2122.,   nan,   nan,   nan,\n",
       "       2261., 2180., 2070.,   nan, 2130.,   nan, 2122.,   nan,   nan,\n",
       "       2020., 2020.,   nan, 4013., 4019., 4025., 4019., 4019., 4025.,\n",
       "       4027., 4013., 4021.,   nan, 4013., 4005., 4013., 4013., 4013.,\n",
       "       4013., 4003., 4015., 4013., 4017., 4019., 4013., 4009., 4015.,\n",
       "       4001., 4005., 4019., 4007., 4013., 4013., 4001., 4019., 4013.,\n",
       "       4013., 4013., 4013., 4013., 4013.,   nan, 4015., 4013., 4013.,\n",
       "       4013., 4013., 4013., 4019., 4013., 4017., 4019., 4013., 4015.,\n",
       "         nan, 4013., 4013., 4013., 4013.,   nan, 4021., 4013., 4021.,\n",
       "       4013., 4019., 4013.,   nan,   nan, 4013., 4003., 4003., 4005.,\n",
       "       4017.,   nan, 4021., 4001., 4017., 4003., 4023., 4007., 4001.,\n",
       "         nan, 4007.,   nan,   nan,   nan,   nan,   nan,   nan,   nan,\n",
       "         nan,   nan,   nan,   nan,   nan,   nan,   nan,   nan,   nan,\n",
       "       4013., 4013., 4013., 4013., 4013., 4019., 4005., 4013., 4025.,\n",
       "       4013., 4017., 4013., 4013., 4019., 4013., 4013., 4019., 5007.,\n",
       "       5071., 5143., 5119., 5007., 5149., 5145., 5113., 5119., 5009.,\n",
       "       5033., 5123., 5031., 5143., 5051., 5005., 5045., 5119., 5055.,\n",
       "       5115., 5121., 5103., 5043., 5131., 5131., 5027., 5093., 5069.,\n",
       "       5001., 5059., 5051.,   nan, 5125., 5107., 5139.,   nan, 5119.,\n",
       "       5031., 5063., 5051., 5119., 5119.,   nan,   nan, 5119., 5143.,\n",
       "       5057., 5045.,   nan, 5035., 5083., 5149., 5047., 5015., 5127.,\n",
       "       5005., 5037., 5041., 5075., 5137., 5061., 5023., 5141., 5001.,\n",
       "       5093., 5039., 5083., 5081., 5019., 5049., 5003., 5029., 5041.,\n",
       "       5011., 5017., 5015., 5021., 5007.,   nan,   nan,   nan,   nan,\n",
       "         nan,   nan,   nan,   nan,   nan,   nan,   nan,   nan,   nan,\n",
       "         nan,   nan, 5119., 5143., 5143., 5119., 5131., 5125.,   nan,\n",
       "       5119.,   nan, 5119., 5143., 5091., 5035., 5045., 6001., 6023.,\n",
       "       6081., 6075., 6055., 6055., 6005.,   nan, 6067., 6065., 6073.,\n",
       "       6073., 6073., 6023., 6007., 6029., 6085., 6007., 6037., 6103.,\n",
       "       6001., 6025., 6065., 6075., 6037., 6107., 6037., 6019., 6037.,\n",
       "       6099., 6059., 6081., 6085., 6013., 6095., 6001., 6075., 6073.,\n",
       "       6037., 6111., 6077., 6071., 6097., 6037., 6019., 6037., 6071.,\n",
       "       6073., 6095., 6065., 6037., 6037., 6083., 6067., 6083., 6037.,\n",
       "       6081., 6073., 6037., 6077., 6031., 6077., 6037., 6085., 6037.,\n",
       "       6113., 6073., 6071., 6041., 6037., 6115., 6037., 6097., 6037.,\n",
       "       6037., 6037.,   nan, 6071., 6053.,   nan, 6037., 6057., 6075.,\n",
       "       6085., 6037., 6111., 6095., 6077., 6059., 6037., 6097., 6099.,\n",
       "       6013., 6053., 6037., 6019.,   nan, 6087., 6001., 6081., 6037.,\n",
       "       6037., 6073., 6001., 6073., 6059., 6059., 6075., 6073., 6059.,\n",
       "       6037., 6079., 6073., 6037., 6111., 6037., 6037., 6087., 6065.,\n",
       "       6071., 6053., 6017., 6029.,   nan, 6107., 6037.,   nan, 6071.,\n",
       "       6013., 6037., 6071.,   nan, 6089.])"
      ]
     },
     "execution_count": 130,
     "metadata": {},
     "output_type": "execute_result"
    }
   ],
   "source": [
    "df['countyFIPS'].values[:500]"
   ]
  },
  {
   "cell_type": "code",
   "execution_count": null,
   "metadata": {},
   "outputs": [],
   "source": []
  }
 ],
 "metadata": {
  "kernelspec": {
   "display_name": "Python 3",
   "language": "python",
   "name": "python3"
  },
  "language_info": {
   "codemirror_mode": {
    "name": "ipython",
    "version": 3
   },
   "file_extension": ".py",
   "mimetype": "text/x-python",
   "name": "python",
   "nbconvert_exporter": "python",
   "pygments_lexer": "ipython3",
   "version": "3.7.5"
  }
 },
 "nbformat": 4,
 "nbformat_minor": 2
}
