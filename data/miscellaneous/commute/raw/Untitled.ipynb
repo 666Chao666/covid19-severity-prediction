{
 "cells": [
  {
   "cell_type": "code",
   "execution_count": 7,
   "metadata": {},
   "outputs": [],
   "source": [
    "import numpy as np\n",
    "import pandas as pd\n",
    "import os"
   ]
  },
  {
   "cell_type": "code",
   "execution_count": 17,
   "metadata": {},
   "outputs": [],
   "source": [
    "\n",
    "# load the commute data\n",
    "raw = pd.read_excel(os.getcwd() + '\\\\table1.xlsx', header=6, dtype=str)"
   ]
  },
  {
   "cell_type": "code",
   "execution_count": 18,
   "metadata": {},
   "outputs": [
    {
     "data": {
      "text/html": [
       "<div>\n",
       "<style scoped>\n",
       "    .dataframe tbody tr th:only-of-type {\n",
       "        vertical-align: middle;\n",
       "    }\n",
       "\n",
       "    .dataframe tbody tr th {\n",
       "        vertical-align: top;\n",
       "    }\n",
       "\n",
       "    .dataframe thead th {\n",
       "        text-align: right;\n",
       "    }\n",
       "</style>\n",
       "<table border=\"1\" class=\"dataframe\">\n",
       "  <thead>\n",
       "    <tr style=\"text-align: right;\">\n",
       "      <th></th>\n",
       "      <th>State FIPS Code</th>\n",
       "      <th>County FIPS Code</th>\n",
       "      <th>State Name</th>\n",
       "      <th>County Name</th>\n",
       "      <th>State FIPS Code.1</th>\n",
       "      <th>County FIPS Code.1</th>\n",
       "      <th>State Name.1</th>\n",
       "      <th>County Name.1</th>\n",
       "      <th>Workers in Commuting Flow</th>\n",
       "      <th>Margin of Error</th>\n",
       "    </tr>\n",
       "  </thead>\n",
       "  <tbody>\n",
       "    <tr>\n",
       "      <th>0</th>\n",
       "      <td>01</td>\n",
       "      <td>001</td>\n",
       "      <td>Alabama</td>\n",
       "      <td>Autauga County</td>\n",
       "      <td>001</td>\n",
       "      <td>001</td>\n",
       "      <td>Alabama</td>\n",
       "      <td>Autauga County</td>\n",
       "      <td>8828</td>\n",
       "      <td>752</td>\n",
       "    </tr>\n",
       "    <tr>\n",
       "      <th>1</th>\n",
       "      <td>01</td>\n",
       "      <td>001</td>\n",
       "      <td>Alabama</td>\n",
       "      <td>Autauga County</td>\n",
       "      <td>001</td>\n",
       "      <td>013</td>\n",
       "      <td>Alabama</td>\n",
       "      <td>Butler County</td>\n",
       "      <td>6</td>\n",
       "      <td>10</td>\n",
       "    </tr>\n",
       "    <tr>\n",
       "      <th>2</th>\n",
       "      <td>01</td>\n",
       "      <td>001</td>\n",
       "      <td>Alabama</td>\n",
       "      <td>Autauga County</td>\n",
       "      <td>001</td>\n",
       "      <td>021</td>\n",
       "      <td>Alabama</td>\n",
       "      <td>Chilton County</td>\n",
       "      <td>504</td>\n",
       "      <td>228</td>\n",
       "    </tr>\n",
       "    <tr>\n",
       "      <th>3</th>\n",
       "      <td>01</td>\n",
       "      <td>001</td>\n",
       "      <td>Alabama</td>\n",
       "      <td>Autauga County</td>\n",
       "      <td>001</td>\n",
       "      <td>043</td>\n",
       "      <td>Alabama</td>\n",
       "      <td>Cullman County</td>\n",
       "      <td>27</td>\n",
       "      <td>44</td>\n",
       "    </tr>\n",
       "    <tr>\n",
       "      <th>4</th>\n",
       "      <td>01</td>\n",
       "      <td>001</td>\n",
       "      <td>Alabama</td>\n",
       "      <td>Autauga County</td>\n",
       "      <td>001</td>\n",
       "      <td>047</td>\n",
       "      <td>Alabama</td>\n",
       "      <td>Dallas County</td>\n",
       "      <td>296</td>\n",
       "      <td>130</td>\n",
       "    </tr>\n",
       "  </tbody>\n",
       "</table>\n",
       "</div>"
      ],
      "text/plain": [
       "  State FIPS Code County FIPS Code State Name     County Name  \\\n",
       "0              01              001    Alabama  Autauga County   \n",
       "1              01              001    Alabama  Autauga County   \n",
       "2              01              001    Alabama  Autauga County   \n",
       "3              01              001    Alabama  Autauga County   \n",
       "4              01              001    Alabama  Autauga County   \n",
       "\n",
       "  State FIPS Code.1 County FIPS Code.1 State Name.1   County Name.1  \\\n",
       "0               001                001      Alabama  Autauga County   \n",
       "1               001                013      Alabama   Butler County   \n",
       "2               001                021      Alabama  Chilton County   \n",
       "3               001                043      Alabama  Cullman County   \n",
       "4               001                047      Alabama   Dallas County   \n",
       "\n",
       "  Workers in Commuting Flow  Margin of Error  \n",
       "0                      8828              752  \n",
       "1                         6               10  \n",
       "2                       504              228  \n",
       "3                        27               44  \n",
       "4                       296              130  "
      ]
     },
     "execution_count": 18,
     "metadata": {},
     "output_type": "execute_result"
    }
   ],
   "source": [
    "raw.head()"
   ]
  },
  {
   "cell_type": "code",
   "execution_count": 19,
   "metadata": {},
   "outputs": [],
   "source": [
    "k = ['123', '2', '51']"
   ]
  },
  {
   "cell_type": "code",
   "execution_count": 21,
   "metadata": {},
   "outputs": [
    {
     "data": {
      "text/plain": [
       "['23', '', '1']"
      ]
     },
     "execution_count": 21,
     "metadata": {},
     "output_type": "execute_result"
    }
   ],
   "source": [
    "[(lambda i: i[1:])(i) for i in k if type(i) == str]"
   ]
  },
  {
   "cell_type": "code",
   "execution_count": null,
   "metadata": {},
   "outputs": [],
   "source": [
    "lambda x: x[1:]"
   ]
  },
  {
   "cell_type": "code",
   "execution_count": null,
   "metadata": {},
   "outputs": [],
   "source": []
  }
 ],
 "metadata": {
  "kernelspec": {
   "display_name": "Python 3",
   "language": "python",
   "name": "python3"
  },
  "language_info": {
   "codemirror_mode": {
    "name": "ipython",
    "version": 3
   },
   "file_extension": ".py",
   "mimetype": "text/x-python",
   "name": "python",
   "nbconvert_exporter": "python",
   "pygments_lexer": "ipython3",
   "version": "3.7.3"
  }
 },
 "nbformat": 4,
 "nbformat_minor": 4
}
