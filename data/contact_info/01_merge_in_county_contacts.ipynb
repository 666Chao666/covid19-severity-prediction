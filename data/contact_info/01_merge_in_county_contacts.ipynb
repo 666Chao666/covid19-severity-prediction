{
 "cells": [
  {
   "cell_type": "code",
   "execution_count": 38,
   "metadata": {},
   "outputs": [
    {
     "name": "stdout",
     "output_type": "stream",
     "text": [
      "The autoreload extension is already loaded. To reload it, use:\n",
      "  %reload_ext autoreload\n"
     ]
    }
   ],
   "source": [
    "%load_ext autoreload\n",
    "%autoreload 2\n",
    "import numpy as np\n",
    "import matplotlib.pyplot as plt\n",
    "%matplotlib inline\n",
    "import seaborn as sns\n",
    "import pickle\n",
    "from os.path import join as oj\n",
    "from tqdm import tqdm\n",
    "import math\n",
    "import sys\n",
    "import pandas as pd\n",
    "sys.path.append('../../')\n",
    "from copy import deepcopy\n",
    "from functions import load_usafacts_data\n",
    "import helper"
   ]
  },
  {
   "cell_type": "code",
   "execution_count": 43,
   "metadata": {},
   "outputs": [],
   "source": [
    "data_dir = '../../data'\n",
    "df_covid = load_usafacts_data.load_daily_data(dir_mod=data_dir)\n",
    "with open(oj(data_dir, 'df_county_level_cached.pkl'), 'rb') as f:\n",
    "    county_df = pickle.load(f)\n",
    "# county_df = load_data.load_county_level(dir_mod='..')\n",
    "with open(\"countyFIPS_to_city.pkl\", 'rb') as f:\n",
    "    countyFIPS_to_city = pickle.load(f)\n",
    "contact_info = pd.read_csv(\"all_state_numbers.csv\", index_col = 0)"
   ]
  },
  {
   "cell_type": "code",
   "execution_count": 44,
   "metadata": {},
   "outputs": [],
   "source": [
    "idxs_used = [] # keeps track of which row indexes in the contact_info were matched\n",
    "def find_contact(entry, contact_info, idx):\n",
    "    '''Searches the entry in county_df to see if it is contained in the contact info\n",
    "    '''\n",
    "    same_state = contact_info[contact_info[\"state\"] == entry[\"StateNameAbbreviation\"]]\n",
    "    same_county = same_state[same_state[\"public_health\"].apply(lambda x: entry[\"CountyName\"] in x)]\n",
    "    if same_county.shape[0] >= 1:\n",
    "        idxs_used.append(idx)\n",
    "        return \", \".join(same_county[\"phone_number\"]), \", \".join(same_county[\"public_health\"])\n",
    "    elif entry[\"countyFIPS\"] in countyFIPS_to_city:\n",
    "        city = countyFIPS_to_city[entry[\"countyFIPS\"]]\n",
    "        try:\n",
    "            same_city = same_state[same_state[\"public_health\"].apply(lambda x: city in x)]\n",
    "            if same_city.shape[0] >= 1:\n",
    "                idxs_used.append(idx)\n",
    "                return \", \".join(same_city[\"phone_number\"]), \", \".join(same_city[\"public_health\"])\n",
    "            else:\n",
    "                return None, None\n",
    "        except:\n",
    "            return None, None\n",
    "    else:\n",
    "        return None, None"
   ]
  },
  {
   "cell_type": "code",
   "execution_count": 45,
   "metadata": {},
   "outputs": [
    {
     "name": "stderr",
     "output_type": "stream",
     "text": [
      "3114it [00:11, 281.58it/s]\n"
     ]
    }
   ],
   "source": [
    "health_dept_names = []\n",
    "contact_numbers = []\n",
    "for idx, county in tqdm(county_df.iterrows()):\n",
    "    result = find_contact(county, contact_info, idx)\n",
    "    health_dept_names.append(result[1])\n",
    "    contact_numbers.append(result[0])\n",
    "df = deepcopy(county_df)\n",
    "df[\"HealthDeptName\"] = health_dept_names\n",
    "df[\"HealthDeptContact\"] = contact_numbers"
   ]
  },
  {
   "cell_type": "code",
   "execution_count": 29,
   "metadata": {},
   "outputs": [],
   "source": [
    "df = pd.merge(df, df_covid, on='countyFIPS', how='outer')"
   ]
  },
  {
   "cell_type": "code",
   "execution_count": 30,
   "metadata": {},
   "outputs": [],
   "source": [
    "matched_rows = ~df[\"HealthDeptContact\"].isna()\n",
    "nofips_rows = [k for k in np.arange(contact_info.shape[0]) if not k in idxs_used]\n",
    "\n",
    "key_sort = 'tot_deaths' # tot_deaths, StateName\n",
    "df_matched = df[matched_rows].sort_values(by=key_sort, ascending=False)\n",
    "df_nocontact = df[~matched_rows].sort_values(by=key_sort, ascending=False)\n",
    "df_nocontact[\"HealthDeptName\"] = \"\"\n",
    "df_nocontact[\"HealthDeptContact\"] = \"\"\n",
    "df_nofips = contact_info.iloc[nofips_rows].rename(columns={'public_health': 'HealthDeptName', 'phone_number': 'HealthDeptContact'})\n",
    "for k in ['CountyName', 'countyFIPS']:\n",
    "    df_nofips[k] = ''\n",
    "df_nofips['StateName'] = df_nofips['state']"
   ]
  },
  {
   "cell_type": "code",
   "execution_count": 31,
   "metadata": {},
   "outputs": [
    {
     "name": "stdout",
     "output_type": "stream",
     "text": [
      "matched 2334 nocontact 812 nofips 1081\n"
     ]
    }
   ],
   "source": [
    "print('matched', df_matched.shape[0], 'nocontact', df_nocontact.shape[0],\n",
    "      'nofips', df_nofips.shape[0])"
   ]
  },
  {
   "cell_type": "markdown",
   "metadata": {},
   "source": [
    "# match the nofips data"
   ]
  },
  {
   "cell_type": "code",
   "execution_count": 32,
   "metadata": {},
   "outputs": [
    {
     "data": {
      "text/html": [
       "<div>\n",
       "<style scoped>\n",
       "    .dataframe tbody tr th:only-of-type {\n",
       "        vertical-align: middle;\n",
       "    }\n",
       "\n",
       "    .dataframe tbody tr th {\n",
       "        vertical-align: top;\n",
       "    }\n",
       "\n",
       "    .dataframe thead th {\n",
       "        text-align: right;\n",
       "    }\n",
       "</style>\n",
       "<table border=\"1\" class=\"dataframe\">\n",
       "  <thead>\n",
       "    <tr style=\"text-align: right;\">\n",
       "      <th></th>\n",
       "      <th>countyFIPS</th>\n",
       "      <th>state</th>\n",
       "      <th>CountyName</th>\n",
       "    </tr>\n",
       "  </thead>\n",
       "  <tbody>\n",
       "    <tr>\n",
       "      <th>0</th>\n",
       "      <td>01001</td>\n",
       "      <td>AL</td>\n",
       "      <td>Autauga</td>\n",
       "    </tr>\n",
       "  </tbody>\n",
       "</table>\n",
       "</div>"
      ],
      "text/plain": [
       "  countyFIPS state CountyName\n",
       "0      01001    AL    Autauga"
      ]
     },
     "execution_count": 32,
     "metadata": {},
     "output_type": "execute_result"
    }
   ],
   "source": [
    "oracleFIPS = helper.get_fips_df()\n",
    "oracleFIPS.head(1)"
   ]
  },
  {
   "cell_type": "code",
   "execution_count": 33,
   "metadata": {},
   "outputs": [
    {
     "name": "stdout",
     "output_type": "stream",
     "text": [
      "Matched 733 previously nofips; 348 still unmatched\n"
     ]
    }
   ],
   "source": [
    "# Let's Extract the county name\n",
    "df_nofips_tmp = df_nofips\n",
    "health_names = df_nofips_tmp[\"HealthDeptName\"]\n",
    "health_names = [x.split(\"County\")[0] for x in health_names]\n",
    "health_names = [str.rstrip(x) if \"Health\" not in x else np.nan for x in health_names]\n",
    "df_nofips_tmp[\"CountyName\"] = health_names\n",
    "df_nofips_tmp = df_nofips_tmp.drop(\"countyFIPS\", axis=1)\n",
    "df_nofips_tmp = df_nofips_tmp.merge(oracleFIPS, on=[\"CountyName\", \"state\"], how=\"left\")\n",
    "\n",
    "# Finalize \n",
    "df_nofips = df_nofips_tmp\n",
    "df_nofips_matched = df_nofips[df_nofips[\"countyFIPS\"].notnull()]\n",
    "df_nofips_unmatched = df_nofips[df_nofips[\"countyFIPS\"].isnull()]\n",
    "\n",
    "print(\"Matched %s previously nofips; %s still unmatched\" % (len(df_nofips_matched), len(df_nofips_unmatched)))"
   ]
  },
  {
   "cell_type": "code",
   "execution_count": null,
   "metadata": {},
   "outputs": [],
   "source": [
    "df_matched.head()"
   ]
  },
  {
   "cell_type": "code",
   "execution_count": null,
   "metadata": {},
   "outputs": [],
   "source": [
    "df_nofips_matched = pd.merge(df_nofips_matched, df_covid, on='countyFIPS', how='left')"
   ]
  },
  {
   "cell_type": "code",
   "execution_count": null,
   "metadata": {},
   "outputs": [],
   "source": [
    "df_tot = pd.merge(df_matched, df_nofips_matched, on='countyFIPS', how='outer')"
   ]
  },
  {
   "cell_type": "code",
   "execution_count": null,
   "metadata": {},
   "outputs": [],
   "source": [
    "# We only need these columns, let's append them\n",
    "df_matched = df_matched[['CountyName', 'StateName', 'countyFIPS', 'HealthDeptName', 'HealthDeptContact', 'tot_deaths']]\n",
    "df_nofips_matched = df_nofips_matched[['CountyName', 'StateName', 'countyFIPS', 'HealthDeptName', 'HealthDeptContact', 'tot_deaths']]\n",
    "df_matched = df_matched.append(df_nofips_matched)\n",
    "# print('matched', df_matched.shape[0], 'nocontact', df_nocontact.shape[0],\n",
    "#       'nofips', df_nofips.shape[0])\n",
    "# Update df_nofips to be currently unmatched\n",
    "df_nofips = df_nofips_unmatched"
   ]
  },
  {
   "cell_type": "markdown",
   "metadata": {},
   "source": [
    "# upload to gsheets"
   ]
  },
  {
   "cell_type": "code",
   "execution_count": 17,
   "metadata": {},
   "outputs": [],
   "source": [
    "import pygsheets\n",
    "gc = pygsheets.authorize(service_file='../creds.json')\n",
    "\n",
    "#open the google spreadsheet (where 'PY to Gsheet Test' is the name of my sheet)\n",
    "sheet_name = 'Contact info'\n",
    "sh = gc.open(sheet_name) # name of the hospital"
   ]
  },
  {
   "cell_type": "code",
   "execution_count": 18,
   "metadata": {},
   "outputs": [],
   "source": [
    "wks = sh[1]\n",
    "wks.update_value('A1', \"County-level contact information, scraped from here: https://www.naccho.org/membership/lhd-directory\")\n",
    "# wks.update_value('A2', \"Columns A-E are read-only\")\n",
    "wks.set_dataframe(df_matched[['CountyName', 'StateName', 'countyFIPS', 'HealthDeptName', 'HealthDeptContact']], (5, 1))"
   ]
  },
  {
   "cell_type": "code",
   "execution_count": null,
   "metadata": {},
   "outputs": [],
   "source": [
    "# wks = sh[2]\n",
    "# wks.update_value('A1', \"County-level contact information for counties missing a contact #\")\n",
    "# wks.update_value('A2', \"Columns A-C are read-only\")\n",
    "# wks.set_dataframe(df_nocontact[['CountyName', 'StateName', 'countyFIPS', 'HealthDeptName', 'HealthDeptContact']], (5, 1))"
   ]
  },
  {
   "cell_type": "code",
   "execution_count": 93,
   "metadata": {},
   "outputs": [],
   "source": [
    "# wks = sh[6]\n",
    "# wks.update_value('A1', \"County-level contact information (not linked to a county)\")\n",
    "# wks.update_value('A2', \"Columns A-B are read-only\")\n",
    "# wks.set_dataframe(df_nofips[['HealthDeptName', 'HealthDeptContact', 'StateName', 'CountyName', 'countyFIPS']], (5, 1))"
   ]
  }
 ],
 "metadata": {
  "kernelspec": {
   "display_name": "Python 3",
   "language": "python",
   "name": "python3"
  },
  "language_info": {
   "codemirror_mode": {
    "name": "ipython",
    "version": 3
   },
   "file_extension": ".py",
   "mimetype": "text/x-python",
   "name": "python",
   "nbconvert_exporter": "python",
   "pygments_lexer": "ipython3",
   "version": "3.7.5"
  }
 },
 "nbformat": 4,
 "nbformat_minor": 4
}
