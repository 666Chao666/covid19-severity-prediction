{
 "cells": [
  {
   "cell_type": "code",
   "execution_count": 9,
   "metadata": {},
   "outputs": [
    {
     "name": "stdout",
     "output_type": "stream",
     "text": [
      "The autoreload extension is already loaded. To reload it, use:\n",
      "  %reload_ext autoreload\n",
      "# unmatched hospitals: 598\n",
      "# matched hospitals: 6545\n",
      "# academic matched hospitals: 1215\n",
      "# academic matched hospitals w/ ICU beds: 1087\n"
     ]
    }
   ],
   "source": [
    "%load_ext autoreload\n",
    "%autoreload 2\n",
    "import numpy as np\n",
    "import scipy as sp\n",
    "import pandas as pd\n",
    "import matplotlib.pyplot as plt\n",
    "from os.path import join as oj\n",
    "import math\n",
    "import pygsheets\n",
    "import pandas as pd\n",
    "import load_data\n",
    "sys.path.append('modeling')\n",
    "import exponential_modeling\n",
    "\n",
    "outcomes = ['new_cases_yesterday', 'new_deaths_yesterday']\n",
    "df_hospital = load_data.load_hospital_level()\n",
    "df_county = load_data.load_county_level()\n",
    "df_county = df_county.sort_values(load_data.outcome_deaths, ascending=False)\n",
    "df = df_hospital.merge(df_county, how='left', on='countyFIPS')\n",
    "df[outcomes] = df[outcomes].fillna(0)\n",
    "# note this many hospitals couldn't be matched to a county - we don't know how to include them!\n",
    "print('# unmatched hospitals:', df['countyFIPS'].isna().sum())\n",
    "print('# matched hospitals:', (~df['countyFIPS'].isna()).sum())\n",
    "print('# academic matched hospitals:', (~df['countyFIPS'].isna() & df['IsAcademicHospital']).sum())\n",
    "print('# academic matched hospitals w/ ICU beds:', (~df['countyFIPS'].isna() & \n",
    "                                                    df['IsAcademicHospital'] &\n",
    "                                                    df['ICU Beds'] > 0).sum())"
   ]
  },
  {
   "cell_type": "markdown",
   "metadata": {},
   "source": [
    "- we filter by academic hospitals since they seem to have enough personnel to deal with extra ventilators\n",
    "- we also filter to only include hospitals w/ ICU beds\n",
    "- unfortunately we don't look into FQHCs, as they may not be the place to receive urgent ventilator care"
   ]
  },
  {
   "cell_type": "code",
   "execution_count": 14,
   "metadata": {},
   "outputs": [],
   "source": [
    "# rename keys\n",
    "remap = {\n",
    "    '#ICU_beds': 'ICU Beds in County',\n",
    "    'County Name_x': 'County Name',\n",
    "    'Facility Name_x': 'Facility Name',\n",
    "    'new_deaths_yesterday': 'New Deaths',\n",
    "    'new_cases_yesterday': 'New Cases',\n",
    "}\n",
    "df = df.rename(columns=remap)\n",
    "\n",
    "# filter hospitals\n",
    "df = df[~df['countyFIPS'].isna() & df['IsAcademicHospital'] & df['ICU Beds'] > 0]\n",
    "df = df.sort_values(by=[load_data.outcome_deaths, 'ICU Beds'], ascending=False)\n",
    "# df = df.rename(columns={'#ICU_beds': '#ICU_beds_county_level'})\n",
    "df['Frac ICU Beds of County'] = df['ICU Beds'] / df['ICU Beds in County']\n",
    "\n",
    "# get predicted #deaths\n",
    "# df = exponential_modeling.estimate_deaths(df)\n",
    "df['Vent Demand'] = df['New Deaths'] * 5 * df['Frac ICU Beds of County']\n",
    "df['Vent Supply'] = df['ICU Beds']\n",
    "df['Vent Needed'] = df['Vent Demand'] - df['Vent Supply']"
   ]
  },
  {
   "cell_type": "code",
   "execution_count": 24,
   "metadata": {},
   "outputs": [],
   "source": [
    "# make smaller df\n",
    "outcome_keys = ['New Cases', 'New Deaths']\n",
    "vent_keys = ['Vent Needed', 'Vent Demand', 'Vent Supply']\n",
    "county_info_keys = ['County Name']\n",
    "county_meta_keys = ['ICU Beds in County', 'City', 'countyFIPS']\n",
    "hospital_keys = ['Facility Name']\n",
    "hospital_contact_keys = ['Website',  'Phone Number']\n",
    "hospital_meta_keys = ['ICU Beds', 'Total Beds', 'Total Employees', 'Hospital Type',\n",
    "                      'Frac ICU Beds of County', 'Mortality national comparison', \n",
    "                      'TIN', 'Urban or Rural Designation']\n",
    "\n",
    "# d contains all these keys\n",
    "d = df[outcome_keys + vent_keys + county_info_keys + county_meta_keys + \\\n",
    "       hospital_keys + hospital_contact_keys + hospital_meta_keys]\n",
    "\n",
    "# things to output\n",
    "d_vent = d[vent_keys + hospital_keys + county_info_keys]\n",
    "contact_df_keys = hospital_keys + county_info_keys + county_meta_keys + hospital_contact_keys\n",
    "d_contact = d[contact_df_keys]\n",
    "d_full = d"
   ]
  },
  {
   "cell_type": "markdown",
   "metadata": {},
   "source": [
    "**look at most affected hospitals**"
   ]
  },
  {
   "cell_type": "code",
   "execution_count": null,
   "metadata": {},
   "outputs": [],
   "source": [
    "# d.groupby('countyFIPS').head(1).head(8) # look at top counties"
   ]
  },
  {
   "cell_type": "markdown",
   "metadata": {},
   "source": [
    "# export to google sheets"
   ]
  },
  {
   "cell_type": "markdown",
   "metadata": {},
   "source": [
    "- requires a creds.json file in the root directory\n",
    "- need to make a sheet and share it with `chandan@r4l-predictions.iam.gserviceaccount.com`\n",
    "- full hospitals spreadsheet: https://docs.google.com/spreadsheets/d/1ZLev2pRIPXvP-qNnvAtO53-bCrAGTAhB_w0w7bZKAWw/edit#gid=0"
   ]
  },
  {
   "cell_type": "code",
   "execution_count": 26,
   "metadata": {},
   "outputs": [],
   "source": [
    "gc = pygsheets.authorize(service_file='creds.json')\n",
    "\n",
    "#open the google spreadsheet (where 'PY to Gsheet Test' is the name of my sheet)\n",
    "sheet_name = 'Ventilator Demand Prediction'\n",
    "sh = gc.open(sheet_name) # name of the hospital\n",
    "\n",
    "wks = sh[0] #select a sheet \n",
    "wks.set_dataframe(d_vent, (1,1)) #update the first sheet with df, starting at cell B2. \n",
    "\n",
    "wks = sh[1]\n",
    "wks.set_dataframe(d_contact,(1,1))\n",
    "\n",
    "wks = sh[2]\n",
    "wks.set_dataframe(d_full,(1,1))"
   ]
  },
  {
   "cell_type": "markdown",
   "metadata": {},
   "source": [
    "# useful county-level plots"
   ]
  },
  {
   "cell_type": "code",
   "execution_count": null,
   "metadata": {},
   "outputs": [],
   "source": [
    "R, C = 2, 2\n",
    "NUM_COUNTIES = 7\n",
    "plt.figure(dpi=300, figsize=(7, 7))\n",
    "\n",
    "\n",
    "plt.subplot(R, C, 1)\n",
    "c = 'County Name'\n",
    "county_names = d[c].unique()[:NUM_COUNTIES]\n",
    "num_academic_hospitals = []\n",
    "# d = df[outcome_keys + hospital_keys]\n",
    "# d = d.sort_values('New Deaths', ascending=False)\n",
    "for county in county_names:\n",
    "    num_academic_hospitals.append(d[d[c] == county].shape[0])\n",
    "plt.barh(county_names[::-1], num_academic_hospitals[::-1]) # reverse to plot top down\n",
    "plt.xlabel('Number academic hospitals\\n(for hospitals where we have data)')\n",
    "\n",
    "plt.subplot(R, C, 2)\n",
    "plt.barh(df_county.CountyName[:NUM_COUNTIES].values[::-1], df_county['#ICU_beds'][:NUM_COUNTIES][::-1]) # reverse to plot top down\n",
    "plt.xlabel('Total # ICU Beds')\n",
    "\n",
    "r = df_county\n",
    "for i in range(NUM_COUNTIES):\n",
    "    row = df_county.iloc[i]\n",
    "    deaths = np.array([x for x in row['deaths'] if x > 0])\n",
    "    cases = np.array([x for x in row['cases'] if x > 0])\n",
    "    \n",
    "    CASES_ALIGNMENT = 100\n",
    "    idx_align = np.where(cases > CASES_ALIGNMENT)[0][0]\n",
    "    n = cases.size\n",
    "    \n",
    "    DEATHS_ALIGNMENT = 5\n",
    "    idx_align_deaths = np.where(deaths > DEATHS_ALIGNMENT)[0][0]\n",
    "    n2 = deaths.size\n",
    "\n",
    "    \n",
    "    plt.subplot(R, C, 3)\n",
    "    plt.plot(np.arange(n) - idx_align, cases, alpha=0.5, label=row['CountyName'])\n",
    "    plt.yscale('log')\n",
    "    plt.ylabel('# cases (log-scale)')\n",
    "    plt.xlabel(f'days since {CASES_ALIGNMENT} cases')\n",
    "    plt.legend()\n",
    "    \n",
    "    plt.subplot(R, C, 4)\n",
    "    plt.plot(np.arange(n2) - idx_align_deaths, deaths, alpha=0.5)\n",
    "    plt.ylabel('# deaths')\n",
    "    plt.xlabel(f'days since {DEATHS_ALIGNMENT} deaths')\n",
    "plt.tight_layout()\n",
    "plt.show()"
   ]
  },
  {
   "cell_type": "markdown",
   "metadata": {},
   "source": [
    "# intra-county plots"
   ]
  },
  {
   "cell_type": "code",
   "execution_count": null,
   "metadata": {},
   "outputs": [],
   "source": [
    "county_names = d[c].unique()[:NUM_COUNTIES]\n",
    "R, C = 4, 1\n",
    "plt.figure(figsize=(C * 3, R * 3), dpi=200)\n",
    "for i in range(R * C):\n",
    "    plt.subplot(R, C, i + 1)\n",
    "    cn = county_names[i]\n",
    "    dc = d[d[c] == cn]\n",
    "    plt.barh(dc['Facility Name'][::-1], dc['ICU Beds'][::-1])\n",
    "    plt.title(cn)\n",
    "    plt.xlabel('# ICU Beds')\n",
    "plt.tight_layout()\n",
    "# plt.subplots_adjust(bottom=1)\n",
    "plt.show()"
   ]
  },
  {
   "cell_type": "code",
   "execution_count": null,
   "metadata": {},
   "outputs": [],
   "source": []
  }
 ],
 "metadata": {
  "kernelspec": {
   "display_name": "Python 3",
   "language": "python",
   "name": "python3"
  },
  "language_info": {
   "codemirror_mode": {
    "name": "ipython",
    "version": 3
   },
   "file_extension": ".py",
   "mimetype": "text/x-python",
   "name": "python",
   "nbconvert_exporter": "python",
   "pygments_lexer": "ipython3",
   "version": "3.7.5"
  }
 },
 "nbformat": 4,
 "nbformat_minor": 4
}
