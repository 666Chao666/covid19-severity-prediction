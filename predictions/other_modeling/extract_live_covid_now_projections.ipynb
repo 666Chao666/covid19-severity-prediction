{
 "cells": [
  {
   "cell_type": "markdown",
   "metadata": {},
   "source": [
    "# 0. Notes\n",
    "\n",
    "Run this once a day to extract live data from https://covidactnow.org/"
   ]
  },
  {
   "cell_type": "markdown",
   "metadata": {},
   "source": [
    "# 1. Imports"
   ]
  },
  {
   "cell_type": "code",
   "execution_count": 57,
   "metadata": {},
   "outputs": [],
   "source": [
    "import matplotlib.pyplot as plt\n",
    "import numpy as np\n",
    "import os\n",
    "import pandas as pd\n",
    "import re\n",
    "import requests\n",
    "import xml\n",
    "import zipfile, urllib.request, shutil\n",
    "\n",
    "from bs4 import BeautifulSoup\n",
    "from datetime import datetime, timedelta\n",
    "from os import listdir, path\n",
    "from selenium import webdriver   \n",
    "\n",
    "# Constants\n",
    "MAX_PROJECTION = 10\n",
    "MAIN_URL = 'https://covidactnow.org/'\n",
    "PROCESSED_DIREC = 'covid_now/'"
   ]
  },
  {
   "cell_type": "markdown",
   "metadata": {},
   "source": [
    "# 2. Scrape data"
   ]
  },
  {
   "cell_type": "code",
   "execution_count": 38,
   "metadata": {},
   "outputs": [],
   "source": [
    "url = 'https://covidactnow.org/state/CA'\n",
    "driver = webdriver.Chrome(executable_path = '../../../chromedriver')\n",
    "driver.get(url)\n",
    "html = driver.page_source"
   ]
  },
  {
   "cell_type": "code",
   "execution_count": 54,
   "metadata": {},
   "outputs": [],
   "source": [
    "def cleanhtml(raw_html):\n",
    "    cleanr = re.compile('<.*?>')\n",
    "    cleantext = re.sub(cleanr, '/', raw_html)\n",
    "    return cleantext\n",
    "\n",
    "processed = cleanhtml(html)"
   ]
  },
  {
   "cell_type": "code",
   "execution_count": 25,
   "metadata": {},
   "outputs": [],
   "source": [
    "XPATH = '//*[@id=\"root\"]/div[1]/div/div[2]/div/div[2]/div[2]/div/div[2]/table/tbody'\n",
    "element = driver.find_element_by_xpath(XPATH)\n",
    "element.text"
   ]
  }
 ],
 "metadata": {
  "kernelspec": {
   "display_name": "Python3.7Test",
   "language": "python",
   "name": "python3.7test"
  },
  "language_info": {
   "codemirror_mode": {
    "name": "ipython",
    "version": 3
   },
   "file_extension": ".py",
   "mimetype": "text/x-python",
   "name": "python",
   "nbconvert_exporter": "python",
   "pygments_lexer": "ipython3",
   "version": "3.7.0"
  }
 },
 "nbformat": 4,
 "nbformat_minor": 2
}
