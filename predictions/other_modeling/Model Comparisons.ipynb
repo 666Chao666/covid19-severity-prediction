{
 "cells": [
  {
   "cell_type": "code",
   "execution_count": 1,
   "metadata": {},
   "outputs": [],
   "source": [
    "import pandas as pd\n",
    "import seaborn\n",
    "import numpy as np"
   ]
  },
  {
   "cell_type": "code",
   "execution_count": 116,
   "metadata": {},
   "outputs": [],
   "source": [
    "## Import the Data and Predictions\n",
    "deaths_true = pd.read_csv(\"../../data/usafacts/deaths.csv\")\n",
    "\n",
    "## Getting the columns we want\n",
    "deaths_true = deaths_true[[\"State\", \"4/1/2020\"]].groupby(\"State\")\\\n",
    "    .agg( {'4/1/2020':  'sum'}).reset_index().rename(columns={\"State\": \"state\"})\n",
    "\n",
    "\n",
    "# predictions\n",
    "deaths_pred = pd.read_csv(\"./yugroup/04_01.csv\")\n",
    "deaths_pred = deaths_pred[deaths_pred[\"state\"] != \"US\"]\n",
    "\n",
    "# IHME predictions\n",
    "deaths_ihme = pd.read_csv(\"./ihme/2020-04-01.csv\")\n",
    "filtered_cols = [\"Other Counties, WA\", \"US\",\"King and Snohomish Counties (excluding Life Care Center), WA\",\n",
    "                                               \"Life Care Center, Kirkland, WA\"]\n",
    "deaths_ihme = \\\n",
    "    deaths_ihme[~deaths_ihme[\"location\"].isin(filtered_cols)]\n",
    "deaths_ihme[\"state\"] = [\"AL\", \"AK\", \"AZ\", \"AR\", \"CA\", \"CO\", \"CT\",  \"DE\", \"DC\",\"FL\", \"GA\", \n",
    "          \"HI\", \"ID\", \"IL\", \"IN\", \"IA\", \"KS\", \"KY\", \"LA\", \"ME\", \"MD\", \n",
    "          \"MA\", \"MI\", \"MN\", \"MS\", \"MO\", \"MT\", \"NE\", \"NV\", \"NH\", \"NJ\", \n",
    "          \"NM\", \"NY\", \"NC\", \"ND\", \"OH\", \"OK\", \"OR\", \"PA\", \"RI\", \"SC\", \n",
    "          \"SD\", \"TN\", \"TX\", \"UT\", \"VT\", \"VA\", \"WA\", \"WV\", \"WI\", \"WY\"] \n",
    "deaths_ihme = deaths_ihme[[\"state\", \"3_day_mean\", \"3_day_lower\", \"3_day_upper\"]]"
   ]
  },
  {
   "cell_type": "code",
   "execution_count": 117,
   "metadata": {},
   "outputs": [],
   "source": [
    "### PROCESS THE MODEL WE WANT HERE\n",
    "deaths_pred = deaths_pred[[\"state\", \"predicted_deaths_ensemble_2\"]]"
   ]
  },
  {
   "cell_type": "code",
   "execution_count": 119,
   "metadata": {},
   "outputs": [],
   "source": [
    "# Dataframe of Truth and Lies (Predictions)\n",
    "df = deaths_true.merge(deaths_pred, how=\"left\", on=\"state\")\\\n",
    "    .merge(deaths_ihme, how=\"left\", on=\"state\")"
   ]
  },
  {
   "cell_type": "code",
   "execution_count": 39,
   "metadata": {},
   "outputs": [],
   "source": []
  }
 ],
 "metadata": {
  "kernelspec": {
   "display_name": "Python 3",
   "language": "python",
   "name": "python3"
  },
  "language_info": {
   "codemirror_mode": {
    "name": "ipython",
    "version": 3
   },
   "file_extension": ".py",
   "mimetype": "text/x-python",
   "name": "python",
   "nbconvert_exporter": "python",
   "pygments_lexer": "ipython3",
   "version": "3.7.4"
  }
 },
 "nbformat": 4,
 "nbformat_minor": 2
}
