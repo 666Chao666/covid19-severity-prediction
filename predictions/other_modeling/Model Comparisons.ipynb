{
 "cells": [
  {
   "cell_type": "code",
   "execution_count": 59,
   "metadata": {},
   "outputs": [],
   "source": [
    "import pandas as pd\n",
    "import numpy as np\n",
    "\n",
    "import matplotlib.pyplot as plt\n",
    "import seaborn as sns\n",
    "sns.set(style=\"darkgrid\")\n"
   ]
  },
  {
   "cell_type": "code",
   "execution_count": 53,
   "metadata": {},
   "outputs": [],
   "source": [
    "## Import the Data and Predictions\n",
    "deaths_true = pd.read_csv(\"../../data/usafacts/deaths.csv\")\n",
    "\n",
    "## Getting the columns we want\n",
    "deaths_true = deaths_true[[\"State\", \"4/2/2020\"]].groupby(\"State\")\\\n",
    "    .agg( {'4/2/2020':  'sum'}).reset_index().rename(columns={\"State\": \"state\", \"4/2/2020\": \"deaths\"})\n",
    "\n",
    "\n",
    "# predictions\n",
    "deaths_pred = pd.read_csv(\"./yugroup/03_31.csv\")\n",
    "deaths_pred = deaths_pred[deaths_pred[\"state\"] != \"US\"]\n",
    "\n",
    "# IHME predictions\n",
    "deaths_ihme = pd.read_csv(\"./ihme/2020-03-31.csv\")\n",
    "filtered_cols = [\"Other Counties, WA\", \"US\",\"King and Snohomish Counties (excluding Life Care Center), WA\",\n",
    "                                               \"Life Care Center, Kirkland, WA\"]\n",
    "deaths_ihme = \\\n",
    "    deaths_ihme[~deaths_ihme[\"location\"].isin(filtered_cols)]\n",
    "deaths_ihme[\"state\"] = [\"AL\", \"AK\", \"AZ\", \"AR\", \"CA\", \"CO\", \"CT\",  \"DE\", \"DC\",\"FL\", \"GA\", \n",
    "          \"HI\", \"ID\", \"IL\", \"IN\", \"IA\", \"KS\", \"KY\", \"LA\", \"ME\", \"MD\", \n",
    "          \"MA\", \"MI\", \"MN\", \"MS\", \"MO\", \"MT\", \"NE\", \"NV\", \"NH\", \"NJ\", \n",
    "          \"NM\", \"NY\", \"NC\", \"ND\", \"OH\", \"OK\", \"OR\", \"PA\", \"RI\", \"SC\", \n",
    "          \"SD\", \"TN\", \"TX\", \"UT\", \"VT\", \"VA\", \"WA\", \"WV\", \"WI\", \"WY\"] \n",
    "deaths_ihme = deaths_ihme[[\"state\", \"3_day_mean\"]] # \"3_day_lower\", \"3_day_upper\"]]"
   ]
  },
  {
   "cell_type": "code",
   "execution_count": 55,
   "metadata": {},
   "outputs": [],
   "source": [
    "### PROCESS THE MODEL WE WANT HERE\n",
    "deaths_pred = deaths_pred[[\"state\", \"predicted_deaths_ensemble_3\"]]"
   ]
  },
  {
   "cell_type": "code",
   "execution_count": 56,
   "metadata": {},
   "outputs": [],
   "source": [
    "# Dataframe of Truth and Lies (Predictions)\n",
    "df = deaths_true.merge(deaths_pred, how=\"left\", on=\"state\")\\\n",
    "    .merge(deaths_ihme, how=\"left\", on=\"state\")"
   ]
  },
  {
   "cell_type": "code",
   "execution_count": 58,
   "metadata": {},
   "outputs": [
    {
     "data": {
      "text/plain": [
       "l1_ours          1.423300e+23\n",
       "l1_theirs        4.706148e+03\n",
       "l2_ours          2.025783e+46\n",
       "l2_theirs        3.966430e+06\n",
       "l1_log_ours      2.522248e+02\n",
       "l1_log_theirs    1.597854e+02\n",
       "l2_log_ours      5.008009e+02\n",
       "l2_log_theirs    3.109970e+02\n",
       "dtype: float64"
      ]
     },
     "execution_count": 58,
     "metadata": {},
     "output_type": "execute_result"
    }
   ],
   "source": [
    "## Let's Compute some losses\n",
    "\n",
    "# L1 Loss\n",
    "df = df.assign(l1_ours=lambda x: np.abs(x.deaths - x.predicted_deaths_ensemble_3))\n",
    "df = df.assign(l1_theirs = lambda x: np.abs(x.deaths - x[\"3_day_mean\"]))\n",
    "\n",
    "# L2 Loss\n",
    "df = df.assign(l2_ours=lambda x: (x.deaths - x.predicted_deaths_ensemble_3)**2)\n",
    "df = df.assign(l2_theirs = lambda x: (x.deaths - x[\"3_day_mean\"])**2)\n",
    "\n",
    "# Log L1 Loss\n",
    "df = df.assign(l1_log_ours=lambda x: np.log(np.abs(x.deaths - x.predicted_deaths_ensemble_3) + 1))\n",
    "df = df.assign(l1_log_theirs = lambda x: np.log(np.abs(x.deaths - x[\"3_day_mean\"]) + 1))\n",
    "\n",
    "# Log L2 Loss\n",
    "df = df.assign(l2_log_ours=lambda x: np.log((x.deaths - x.predicted_deaths_ensemble_3)**2 + 1))\n",
    "df = df.assign(l2_log_theirs = lambda x: np.log((x.deaths - x[\"3_day_mean\"])**2 + 1))\n",
    "\n",
    "\n",
    "## Compute the Results\n",
    "res_cols = [\"l1_ours\", \"l1_theirs\", \n",
    "           \"l2_ours\", \"l2_theirs\",\n",
    "            \"l1_log_ours\", \"l1_log_theirs\",\n",
    "           \"l2_log_ours\", \"l2_log_theirs\"]\n",
    "res = df[res_cols]\n",
    "\n",
    "res.agg(\"sum\")"
   ]
  },
  {
   "cell_type": "code",
   "execution_count": 48,
   "metadata": {},
   "outputs": [
    {
     "data": {
      "text/html": [
       "<div>\n",
       "<style scoped>\n",
       "    .dataframe tbody tr th:only-of-type {\n",
       "        vertical-align: middle;\n",
       "    }\n",
       "\n",
       "    .dataframe tbody tr th {\n",
       "        vertical-align: top;\n",
       "    }\n",
       "\n",
       "    .dataframe thead th {\n",
       "        text-align: right;\n",
       "    }\n",
       "</style>\n",
       "<table border=\"1\" class=\"dataframe\">\n",
       "  <thead>\n",
       "    <tr style=\"text-align: right;\">\n",
       "      <th></th>\n",
       "      <th>state</th>\n",
       "      <th>deaths</th>\n",
       "      <th>predicted_deaths_ensemble_1</th>\n",
       "      <th>3_day_mean</th>\n",
       "      <th>l1_theirs</th>\n",
       "      <th>l2_theirs</th>\n",
       "      <th>l1_ours</th>\n",
       "      <th>l2_ours</th>\n",
       "      <th>l1_log_ours</th>\n",
       "      <th>l1_log_theirs</th>\n",
       "      <th>l2_log_ours</th>\n",
       "      <th>l2_log_theirs</th>\n",
       "    </tr>\n",
       "  </thead>\n",
       "  <tbody>\n",
       "    <tr>\n",
       "      <th>0</th>\n",
       "      <td>AK</td>\n",
       "      <td>3.0</td>\n",
       "      <td>3.132910</td>\n",
       "      <td>2.104</td>\n",
       "      <td>0.896</td>\n",
       "      <td>0.802816</td>\n",
       "      <td>0.132910</td>\n",
       "      <td>0.017665</td>\n",
       "      <td>0.124789</td>\n",
       "      <td>0.639746</td>\n",
       "      <td>0.017511</td>\n",
       "      <td>0.589350</td>\n",
       "    </tr>\n",
       "    <tr>\n",
       "      <th>1</th>\n",
       "      <td>AL</td>\n",
       "      <td>17.0</td>\n",
       "      <td>41.463539</td>\n",
       "      <td>24.847</td>\n",
       "      <td>7.847</td>\n",
       "      <td>61.575409</td>\n",
       "      <td>24.463539</td>\n",
       "      <td>598.464733</td>\n",
       "      <td>3.237248</td>\n",
       "      <td>2.180078</td>\n",
       "      <td>6.396037</td>\n",
       "      <td>4.136372</td>\n",
       "    </tr>\n",
       "    <tr>\n",
       "      <th>2</th>\n",
       "      <td>AR</td>\n",
       "      <td>12.0</td>\n",
       "      <td>37.887254</td>\n",
       "      <td>2.805</td>\n",
       "      <td>9.195</td>\n",
       "      <td>84.548025</td>\n",
       "      <td>25.887254</td>\n",
       "      <td>670.149932</td>\n",
       "      <td>3.291652</td>\n",
       "      <td>2.321897</td>\n",
       "      <td>6.508993</td>\n",
       "      <td>4.449078</td>\n",
       "    </tr>\n",
       "    <tr>\n",
       "      <th>3</th>\n",
       "      <td>AZ</td>\n",
       "      <td>32.0</td>\n",
       "      <td>23.750822</td>\n",
       "      <td>6.794</td>\n",
       "      <td>25.206</td>\n",
       "      <td>635.342436</td>\n",
       "      <td>8.249178</td>\n",
       "      <td>68.048944</td>\n",
       "      <td>2.224535</td>\n",
       "      <td>3.265988</td>\n",
       "      <td>4.234816</td>\n",
       "      <td>6.455737</td>\n",
       "    </tr>\n",
       "    <tr>\n",
       "      <th>4</th>\n",
       "      <td>CA</td>\n",
       "      <td>243.0</td>\n",
       "      <td>201.901209</td>\n",
       "      <td>39.049</td>\n",
       "      <td>203.951</td>\n",
       "      <td>41596.010401</td>\n",
       "      <td>41.098791</td>\n",
       "      <td>1689.110597</td>\n",
       "      <td>3.740019</td>\n",
       "      <td>5.322771</td>\n",
       "      <td>7.432549</td>\n",
       "      <td>10.635784</td>\n",
       "    </tr>\n",
       "  </tbody>\n",
       "</table>\n",
       "</div>"
      ],
      "text/plain": [
       "  state  deaths  predicted_deaths_ensemble_1  3_day_mean  l1_theirs  \\\n",
       "0    AK     3.0                     3.132910       2.104      0.896   \n",
       "1    AL    17.0                    41.463539      24.847      7.847   \n",
       "2    AR    12.0                    37.887254       2.805      9.195   \n",
       "3    AZ    32.0                    23.750822       6.794     25.206   \n",
       "4    CA   243.0                   201.901209      39.049    203.951   \n",
       "\n",
       "      l2_theirs    l1_ours      l2_ours  l1_log_ours  l1_log_theirs  \\\n",
       "0      0.802816   0.132910     0.017665     0.124789       0.639746   \n",
       "1     61.575409  24.463539   598.464733     3.237248       2.180078   \n",
       "2     84.548025  25.887254   670.149932     3.291652       2.321897   \n",
       "3    635.342436   8.249178    68.048944     2.224535       3.265988   \n",
       "4  41596.010401  41.098791  1689.110597     3.740019       5.322771   \n",
       "\n",
       "   l2_log_ours  l2_log_theirs  \n",
       "0     0.017511       0.589350  \n",
       "1     6.396037       4.136372  \n",
       "2     6.508993       4.449078  \n",
       "3     4.234816       6.455737  \n",
       "4     7.432549      10.635784  "
      ]
     },
     "execution_count": 48,
     "metadata": {},
     "output_type": "execute_result"
    }
   ],
   "source": [
    "df.head()"
   ]
  },
  {
   "cell_type": "code",
   "execution_count": 76,
   "metadata": {},
   "outputs": [
    {
     "name": "stderr",
     "output_type": "stream",
     "text": [
      "/home/robbie/anaconda3/envs/whynot/lib/python3.7/site-packages/ipykernel_launcher.py:3: RuntimeWarning: divide by zero encountered in log\n",
      "  This is separate from the ipykernel package so we can avoid doing imports until\n"
     ]
    },
    {
     "data": {
      "text/plain": [
       "<matplotlib.axes._subplots.AxesSubplot at 0x7f3047a00e50>"
      ]
     },
     "execution_count": 76,
     "metadata": {},
     "output_type": "execute_result"
    },
    {
     "data": {
      "image/png": "[encoded data removed]",
      "text/plain": [
       "<Figure size 432x288 with 1 Axes>"
      ]
     },
     "metadata": {},
     "output_type": "display_data"
    },
    {
     "data": {
      "image/png": "[encoded data removed]",
      "text/plain": [
       "<Figure size 432x288 with 1 Axes>"
      ]
     },
     "metadata": {},
     "output_type": "display_data"
    },
    {
     "data": {
      "image/png": "[encoded data removed]",
      "text/plain": [
       "<Figure size 432x288 with 1 Axes>"
      ]
     },
     "metadata": {},
     "output_type": "display_data"
    }
   ],
   "source": [
    "## Scatter Plots\n",
    "# Log Transform since idk seaborn\n",
    "plt_df = np.log(df[[\"deaths\"]])\n",
    "plt_df[\"predicted_deaths_ensemble_3\"] = np.log10(df[\"predicted_deaths_ensemble_3\"])\n",
    "plt_df[\"3_day_mean\"] = np.log10(df[\"3_day_mean\"])\n",
    "\n",
    "\n",
    "# Our Preds -- Their Preds\n",
    "f, ax = plt.subplots()\n",
    "sns.scatterplot(x = \"predicted_deaths_ensemble_3\", y=\"3_day_mean\", data=plt_df)\n",
    "\n",
    "# Our Preds -- Real Data\n",
    "f, ax = plt.subplots()\n",
    "sns.scatterplot(x = \"deaths\", y=\"predicted_deaths_ensemble_3\", data=plt_df)\n",
    "\n",
    "# Their Preds Real Data\n",
    "f, ax = plt.subplots()\n",
    "sns.scatterplot(x = \"deaths\", y=\"3_day_mean\", data=plt_df)"
   ]
  }
 ],
 "metadata": {
  "kernelspec": {
   "display_name": "Python 3",
   "language": "python",
   "name": "python3"
  },
  "language_info": {
   "codemirror_mode": {
    "name": "ipython",
    "version": 3
   },
   "file_extension": ".py",
   "mimetype": "text/x-python",
   "name": "python",
   "nbconvert_exporter": "python",
   "pygments_lexer": "ipython3",
   "version": "3.7.4"
  }
 },
 "nbformat": 4,
 "nbformat_minor": 2
}
