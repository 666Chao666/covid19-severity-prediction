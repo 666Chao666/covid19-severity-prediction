{
 "cells": [
  {
   "cell_type": "code",
   "execution_count": 97,
   "metadata": {},
   "outputs": [
    {
     "name": "stdout",
     "output_type": "stream",
     "text": [
      "The autoreload extension is already loaded. To reload it, use:\n",
      "  %reload_ext autoreload\n",
      "Index(['id', 'Header-FIPSStandCtyCode', 'EntityofFile',\n",
      "       'SecondaryEntityOfFile', 'DateofFile', 'DateofCreation', 'FileLength',\n",
      "       'StateName', 'StateNameAbbreviation', 'CountyName',\n",
      "       ...\n",
      "       '#Deaths_3/25/2020', '#Deaths_3/26/2020', '#Deaths_3/27/2020',\n",
      "       '#Deaths_3/28/2020', '#Deaths_3/29/2020', '#Deaths_3/30/2020', 'deaths',\n",
      "       'cases', 'tot_deaths', 'tot_cases'],\n",
      "      dtype='object', length=7324)\n"
     ]
    }
   ],
   "source": [
    "%load_ext autoreload\n",
    "%autoreload 2\n",
    "import numpy as np\n",
    "import scipy as sp\n",
    "import pandas as pd\n",
    "import matplotlib.pyplot as plt\n",
    "import matplotlib.dates as mdates\n",
    "import seaborn as sns\n",
    "import sys\n",
    "sys.path.append('modeling')\n",
    "from viz import viz_interactive, viz\n",
    "from modeling import exponential_modeling\n",
    "from bokeh.plotting import figure, show, output_notebook, output_file, save\n",
    "from functions import merge_data\n",
    "import load_data\n",
    "from plotly.offline import init_notebook_mode, iplot\n",
    "\n",
    "\n",
    "df = load_data.load_county_level()\n",
    "df = df.sort_values('tot_deaths', ascending=False)\n",
    "important_vars = load_data.important_keys(df)\n",
    "print(df.keys())"
   ]
  },
  {
   "cell_type": "markdown",
   "metadata": {},
   "source": [
    "## how many deaths/cases are there"
   ]
  },
  {
   "cell_type": "code",
   "execution_count": null,
   "metadata": {},
   "outputs": [],
   "source": [
    "df[['tot_deaths', 'tot_cases', 'StateName', 'CountyName', ]].head(10)"
   ]
  },
  {
   "cell_type": "code",
   "execution_count": null,
   "metadata": {},
   "outputs": [],
   "source": [
    "d = df[(df['tot_deaths'] > 0) & (df['tot_cases'] > 0)]\n",
    "R, C = 1, 2\n",
    "plt.subplot(R, C, 1)\n",
    "plt.hist(np.log10(d['tot_cases']))\n",
    "plt.xlabel('Number of cases (log-scale)')\n",
    "plt.ylabel('Number of counties')\n",
    "plt.yscale('log')\n",
    "\n",
    "plt.subplot(R, C, 2)\n",
    "plt.hist(np.log10(d['tot_deaths']))\n",
    "plt.xlabel('Number of deaths (log-scale)')\n",
    "plt.ylabel('Number of counties')\n",
    "plt.yscale('log')\n",
    "plt.tight_layout()\n",
    "plt.show()"
   ]
  },
  {
   "cell_type": "code",
   "execution_count": null,
   "metadata": {},
   "outputs": [],
   "source": [
    "plt.hist(df['#Hospitals'], bins=100)\n",
    "plt.xlabel('#Hospitals (per county)')\n",
    "plt.show()"
   ]
  },
  {
   "cell_type": "markdown",
   "metadata": {},
   "source": [
    "# correlations"
   ]
  },
  {
   "cell_type": "code",
   "execution_count": null,
   "metadata": {},
   "outputs": [],
   "source": [
    "d = df[[k for k in important_vars if not 'PopMale' in k and not 'PopFmle' in k and not 'MortalityAge' in k and not 'PopTotal' in k] + \n",
    "        ['tot_deaths', 'tot_cases']]\n",
    "\n",
    "viz.corrplot(d)\n",
    "plt.savefig('results/correlations_heatmap.png')\n",
    "plt.show()"
   ]
  },
  {
   "cell_type": "code",
   "execution_count": null,
   "metadata": {},
   "outputs": [],
   "source": [
    "keys = np.array(corrs.index)\n",
    "k = np.where(keys == 'tot_deaths')[0][0]\n",
    "corrs_row = corrs.iloc[k]\n",
    "args = np.argsort(corrs_row)\n",
    "plt.figure(dpi=300, figsize=(6, 5))\n",
    "plt.barh(keys[args][:-1], corrs_row[args][:-1]) # 1 to drop outcome itself\n",
    "plt.xlabel('Correlation (spearman) with # deaths')\n",
    "plt.tight_layout()\n",
    "plt.savefig('results/correlations.png')\n",
    "plt.show()"
   ]
  },
  {
   "cell_type": "markdown",
   "metadata": {},
   "source": [
    "# interactive plots"
   ]
  },
  {
   "cell_type": "code",
   "execution_count": null,
   "metadata": {},
   "outputs": [],
   "source": [
    "ks = [k for k in important_vars if not 'PopMale' in k\n",
    "      and not 'PopFmle' in k\n",
    "      and not 'MortalityAge' in k]"
   ]
  },
  {
   "cell_type": "markdown",
   "metadata": {},
   "source": [
    "**individual states no slider**"
   ]
  },
  {
   "cell_type": "code",
   "execution_count": null,
   "metadata": {},
   "outputs": [],
   "source": [
    "# filter by state\n",
    "for state in ['NY', 'WA', 'CA']:\n",
    "    d = df[df[\"StateNameAbbreviation\"] == state]\n",
    "\n",
    "    p = viz_interactive.plot_counties(d, \n",
    "                          variable_to_distribute='tot_cases',\n",
    "                          variables_to_display=ks,\n",
    "                          state=state,\n",
    "                          logcolor=False)\n",
    "    \n",
    "    output_file(f\"results/{state}.html\", mode='inline')\n",
    "    show(p)\n",
    "    save(p)"
   ]
  },
  {
   "cell_type": "markdown",
   "metadata": {},
   "source": [
    "**counties slider**"
   ]
  },
  {
   "cell_type": "code",
   "execution_count": null,
   "metadata": {},
   "outputs": [],
   "source": [
    "viz_interactive.plot_counties_slider(df, method=\"ensemble\", target_days=np.array([1, 2, 3]), filename=\"results/deaths.html\", cumulative=True)"
   ]
  },
  {
   "cell_type": "markdown",
   "metadata": {},
   "source": [
    "**political leaning**"
   ]
  },
  {
   "cell_type": "code",
   "execution_count": null,
   "metadata": {},
   "outputs": [],
   "source": [
    "# filter by state\n",
    "for state in ['NY', 'WA', 'CA']:\n",
    "    d = df[df[\"StateNameAbbreviation\"] == state]\n",
    "\n",
    "    p = viz_interactive.plot_counties(d, \n",
    "                          variable_to_distribute='dem_to_rep_ratio',\n",
    "                          variables_to_display=ks,\n",
    "                          state=state,\n",
    "                          logcolor=False)\n",
    "    show(p)"
   ]
  },
  {
   "cell_type": "markdown",
   "metadata": {},
   "source": [
    "**viz curves**"
   ]
  },
  {
   "cell_type": "code",
   "execution_count": null,
   "metadata": {},
   "outputs": [],
   "source": [
    "df_tab = df[['tot_deaths', 'tot_cases', 'CountyName', 'StateName', \n",
    "             'PopulationDensityperSqMile2010',\n",
    "             'deaths', 'cases']].head(12)        \n",
    "# df_tab = df_tab.rename(columns={'PopulationEstimate2018': 'Population\\n(thousands})'})\n",
    "df_tab = df_tab.rename(columns={'PopulationDensityperSqMile2010': 'PopDensity'})\n",
    "df_tab = df_tab.rename(columns={'tot_deaths': '#Deaths', 'tot_cases': '#Cases'})\n",
    "df_tab = df_tab.rename(columns={'CountyName': 'County', 'StateName': 'State'})\n",
    "print(df_tab.keys())\n",
    "# df_tab['Population']\n",
    "keys_table = [k for k in df_tab.keys() if not k in ['deaths', 'cases']]\n",
    "viz_interactive.viz_curves(df_tab, \n",
    "               key_toggle='County',\n",
    "               keys_table=keys_table,\n",
    "               filename='results/county_curves.html')\n",
    "print('done!')"
   ]
  }
 ],
 "metadata": {
  "kernelspec": {
   "display_name": "Python 3",
   "language": "python",
   "name": "python3"
  },
  "language_info": {
   "codemirror_mode": {
    "name": "ipython",
    "version": 3
   },
   "file_extension": ".py",
   "mimetype": "text/x-python",
   "name": "python",
   "nbconvert_exporter": "python",
   "pygments_lexer": "ipython3",
   "version": "3.8.2"
  }
 },
 "nbformat": 4,
 "nbformat_minor": 4
}
