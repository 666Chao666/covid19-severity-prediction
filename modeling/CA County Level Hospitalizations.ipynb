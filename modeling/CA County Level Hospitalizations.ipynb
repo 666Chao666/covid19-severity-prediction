{
 "cells": [
  {
   "cell_type": "code",
   "execution_count": 47,
   "metadata": {},
   "outputs": [],
   "source": [
    "import numpy as np\n",
    "import pandas as pd\n",
    "from os.path import join as oj\n",
    "import os\n",
    "import pandas as pd\n",
    "import sys\n",
    "import inspect\n",
    "import datetime\n",
    "from scipy.stats import percentileofscore\n",
    "currentdir = os.path.dirname(os.path.abspath(inspect.getfile(inspect.currentframe())))\n",
    "parentdir = os.path.dirname(currentdir)\n",
    "sys.path.append(parentdir)\n",
    "sys.path.append(parentdir + '/modeling')\n",
    "import load_data\n",
    "from fit_and_predict import add_preds\n",
    "from functions import merge_data\n",
    "from viz import  viz_interactive\n",
    "import numpy as np\n",
    "import pandas as pd\n",
    "from os.path import join as oj\n",
    "import os\n",
    "import pandas as pd\n",
    "import sys\n",
    "import matplotlib as plt\n",
    "from scipy.stats import percentileofscore\n",
    "\n",
    "# CHANGE THIS\n",
    "from exponential_modeling import *\n",
    "from fit_and_predict import *"
   ]
  },
  {
   "cell_type": "code",
   "execution_count": 5,
   "metadata": {},
   "outputs": [
    {
     "name": "stdout",
     "output_type": "stream",
     "text": [
      "loading data...\n",
      "loading county-level data...\n",
      "loaded and merged COVID-19 cases/deaths data successfully\n"
     ]
    }
   ],
   "source": [
    "# Load in the Data\n",
    "\n",
    "print('loading data...')\n",
    "NUM_DAYS_LIST = [1, 2, 3, 4, 5, 6, 7]\n",
    "df_county = load_data.load_county_level(data_dir=oj(parentdir, 'data'))\n",
    "\n",
    "#df_county = add_preds(df_county, NUM_DAYS_LIST=NUM_DAYS_LIST,\n",
    "#                          cached_dir=oj(parentdir, 'data'))"
   ]
  },
  {
   "cell_type": "code",
   "execution_count": 3,
   "metadata": {},
   "outputs": [],
   "source": [
    "df_hos = pd.read_csv(\"../data/CA_hospitalizations.csv\")\n",
    "df_hos = df_hos[[\"County Name\", \"Most Recent Date\", \"COVID-19 Positive Patients\"]]\n",
    "df_hos = df_hos.rename(columns={\"County Name\": \"CountyName\", \"Most Recent Date\": \"Date\", \n",
    "                               \"COVID-19 Positive Patients\": \"hospitalizations\"})"
   ]
  },
  {
   "cell_type": "code",
   "execution_count": 12,
   "metadata": {},
   "outputs": [],
   "source": [
    "# Merge the Data\n",
    "fips = df_county[df_county[\"StateName\"] == \"CA\"][[\"countyFIPS\", \"CountyName\"]]\n",
    "df_hos = df_hos.merge(fips, on=\"CountyName\", how=\"left\")"
   ]
  },
  {
   "cell_type": "code",
   "execution_count": 55,
   "metadata": {},
   "outputs": [],
   "source": [
    "df_CA = df_hos[[\"countyFIPS\", \"CountyName\"]].drop_duplicates()"
   ]
  },
  {
   "cell_type": "code",
   "execution_count": 58,
   "metadata": {},
   "outputs": [
    {
     "data": {
      "text/html": [
       "<div>\n",
       "<style scoped>\n",
       "    .dataframe tbody tr th:only-of-type {\n",
       "        vertical-align: middle;\n",
       "    }\n",
       "\n",
       "    .dataframe tbody tr th {\n",
       "        vertical-align: top;\n",
       "    }\n",
       "\n",
       "    .dataframe thead th {\n",
       "        text-align: right;\n",
       "    }\n",
       "</style>\n",
       "<table border=\"1\" class=\"dataframe\">\n",
       "  <thead>\n",
       "    <tr style=\"text-align: right;\">\n",
       "      <th></th>\n",
       "      <th>countyFIPS</th>\n",
       "      <th>CountyName</th>\n",
       "      <th>hospitalizations</th>\n",
       "    </tr>\n",
       "  </thead>\n",
       "  <tbody>\n",
       "    <tr>\n",
       "      <th>0</th>\n",
       "      <td>06037</td>\n",
       "      <td>Los Angeles</td>\n",
       "      <td>[739.0, 818.0, 962.0, 1007.0, 1094.0, 1166.0, ...</td>\n",
       "    </tr>\n",
       "    <tr>\n",
       "      <th>1</th>\n",
       "      <td>06071</td>\n",
       "      <td>San Bernardino</td>\n",
       "      <td>[95.0, 126.0, 118.0, 138.0, 146.0, 148.0, 146....</td>\n",
       "    </tr>\n",
       "    <tr>\n",
       "      <th>2</th>\n",
       "      <td>06059</td>\n",
       "      <td>Orange</td>\n",
       "      <td>[117.0, 129.0, 131.0, 143.0, 144.0, 145.0, 143...</td>\n",
       "    </tr>\n",
       "    <tr>\n",
       "      <th>3</th>\n",
       "      <td>06065</td>\n",
       "      <td>Riverside</td>\n",
       "      <td>[85.0, 136.0, 105.0, 126.0, 129.0, 129.0, 129....</td>\n",
       "    </tr>\n",
       "    <tr>\n",
       "      <th>4</th>\n",
       "      <td>06067</td>\n",
       "      <td>Sacramento</td>\n",
       "      <td>[53.0, 71.0, 77.0, 69.0, 64.0, 77.0, 74.0, 76....</td>\n",
       "    </tr>\n",
       "  </tbody>\n",
       "</table>\n",
       "</div>"
      ],
      "text/plain": [
       "  countyFIPS      CountyName  \\\n",
       "0      06037     Los Angeles   \n",
       "1      06071  San Bernardino   \n",
       "2      06059          Orange   \n",
       "3      06065       Riverside   \n",
       "4      06067      Sacramento   \n",
       "\n",
       "                                    hospitalizations  \n",
       "0  [739.0, 818.0, 962.0, 1007.0, 1094.0, 1166.0, ...  \n",
       "1  [95.0, 126.0, 118.0, 138.0, 146.0, 148.0, 146....  \n",
       "2  [117.0, 129.0, 131.0, 143.0, 144.0, 145.0, 143...  \n",
       "3  [85.0, 136.0, 105.0, 126.0, 129.0, 129.0, 129....  \n",
       "4  [53.0, 71.0, 77.0, 69.0, 64.0, 77.0, 74.0, 76....  "
      ]
     },
     "execution_count": 58,
     "metadata": {},
     "output_type": "execute_result"
    }
   ],
   "source": [
    "df_CA.head()"
   ]
  },
  {
   "cell_type": "code",
   "execution_count": 66,
   "metadata": {},
   "outputs": [],
   "source": [
    "hospitz = []\n",
    "for county in df_CA[\"CountyName\"]:\n",
    "    # Generate the Series\n",
    "    arr = df_hos[df_hos[\"CountyName\"] == county][\"hospitalizations\"].values\n",
    "    hospitz.append(np.concatenate(([0], arr)))\n",
    "\n",
    "# Append\n",
    "df_CA[\"hospitalizations\"] = hospitz"
   ]
  },
  {
   "cell_type": "code",
   "execution_count": 51,
   "metadata": {},
   "outputs": [
    {
     "ename": "IndexError",
     "evalue": "index -1 is out of bounds for axis 0 with size 0",
     "output_type": "error",
     "traceback": [
      "\u001b[0;31m---------------------------------------------------------------------------\u001b[0m",
      "\u001b[0;31mIndexError\u001b[0m                                Traceback (most recent call last)",
      "\u001b[0;32m<ipython-input-51-0cab8556392d>\u001b[0m in \u001b[0;36m<module>\u001b[0;34m()\u001b[0m\n\u001b[0;32m----> 1\u001b[0;31m \u001b[0mpreds\u001b[0m \u001b[0;34m=\u001b[0m \u001b[0mexponential_fit\u001b[0m\u001b[0;34m(\u001b[0m\u001b[0mdf_CA\u001b[0m\u001b[0;34m[\u001b[0m\u001b[0;34m\"hospitalizations\"\u001b[0m\u001b[0;34m]\u001b[0m\u001b[0;34m,\u001b[0m \u001b[0mmode\u001b[0m\u001b[0;34m=\u001b[0m\u001b[0;34m\"eval_mode\"\u001b[0m\u001b[0;34m)\u001b[0m\u001b[0;34m\u001b[0m\u001b[0m\n\u001b[0m",
      "\u001b[0;32m~/new_uploader/modeling/exponential_modeling.py\u001b[0m in \u001b[0;36mexponential_fit\u001b[0;34m(counts, mode, target_day)\u001b[0m\n\u001b[1;32m     61\u001b[0m \u001b[0;34m\u001b[0m\u001b[0m\n\u001b[1;32m     62\u001b[0m         \u001b[0;32mif\u001b[0m \u001b[0mtrain_ts\u001b[0m\u001b[0;34m[\u001b[0m\u001b[0;34m-\u001b[0m\u001b[0;36m1\u001b[0m\u001b[0;34m]\u001b[0m \u001b[0;34m>=\u001b[0m \u001b[0;36m1\u001b[0m\u001b[0;34m:\u001b[0m\u001b[0;34m\u001b[0m\u001b[0m\n\u001b[0;32m---> 63\u001b[0;31m              \u001b[0mstart\u001b[0m \u001b[0;34m=\u001b[0m \u001b[0mnp\u001b[0m\u001b[0;34m.\u001b[0m\u001b[0mwhere\u001b[0m\u001b[0;34m(\u001b[0m\u001b[0mtrain_ts\u001b[0m \u001b[0;34m==\u001b[0m \u001b[0;36m0\u001b[0m\u001b[0;34m)\u001b[0m\u001b[0;34m[\u001b[0m\u001b[0;36m0\u001b[0m\u001b[0;34m]\u001b[0m\u001b[0;34m[\u001b[0m\u001b[0;34m-\u001b[0m\u001b[0;36m1\u001b[0m\u001b[0;34m]\u001b[0m \u001b[0;34m+\u001b[0m \u001b[0;36m1\u001b[0m\u001b[0;34m\u001b[0m\u001b[0m\n\u001b[0m\u001b[1;32m     64\u001b[0m         \u001b[0;32melse\u001b[0m\u001b[0;34m:\u001b[0m\u001b[0;34m\u001b[0m\u001b[0m\n\u001b[1;32m     65\u001b[0m              \u001b[0mstart\u001b[0m \u001b[0;34m=\u001b[0m \u001b[0mlen\u001b[0m\u001b[0;34m(\u001b[0m\u001b[0mtrain_ts\u001b[0m\u001b[0;34m)\u001b[0m\u001b[0;34m\u001b[0m\u001b[0m\n",
      "\u001b[0;31mIndexError\u001b[0m: index -1 is out of bounds for axis 0 with size 0"
     ]
    }
   ],
   "source": [
    "preds = exponential_fit(df_CA[\"hospitalizations\"], mode=\"eval_mode\")"
   ]
  },
  {
   "cell_type": "code",
   "execution_count": 59,
   "metadata": {},
   "outputs": [
    {
     "data": {
      "text/plain": [
       "array([ 739.,  818.,  962., 1007., 1094., 1166., 1251., 1331., 1368.,\n",
       "       1299., 1362., 1433., 1501., 1587., 1624., 1679., 1720., 1709.,\n",
       "       1739., 1791., 1854., 1858., 1863., 1860., 1845., 1887., 1940.,\n",
       "       1962., 1959., 1894., 1884., 1819., 1779., 1828., 1826., 1790.,\n",
       "       1771., 1766., 1690., 1731., 1763., 1742., 1733., 1648., 1648.,\n",
       "       1570., 1549., 1531., 1517., 1506., 1491., 1490., 1440., 1443.,\n",
       "       1477., 1477.])"
      ]
     },
     "execution_count": 59,
     "metadata": {},
     "output_type": "execute_result"
    }
   ],
   "source": [
    "df_CA[\"hospitalizations\"][0]"
   ]
  },
  {
   "cell_type": "code",
   "execution_count": 62,
   "metadata": {},
   "outputs": [
    {
     "data": {
      "text/plain": [
       "array([1])"
      ]
     },
     "execution_count": 62,
     "metadata": {},
     "output_type": "execute_result"
    }
   ],
   "source": [
    "np.array([0]) + np.array([1])"
   ]
  }
 ],
 "metadata": {
  "kernelspec": {
   "display_name": "Environment (conda_anaconda3)",
   "language": "python",
   "name": "conda_anaconda3"
  },
  "language_info": {
   "codemirror_mode": {
    "name": "ipython",
    "version": 3
   },
   "file_extension": ".py",
   "mimetype": "text/x-python",
   "name": "python",
   "nbconvert_exporter": "python",
   "pygments_lexer": "ipython3",
   "version": "3.6.6"
  }
 },
 "nbformat": 4,
 "nbformat_minor": 2
}
