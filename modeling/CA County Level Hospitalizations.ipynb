{
 "cells": [
  {
   "cell_type": "code",
   "execution_count": 47,
   "metadata": {},
   "outputs": [],
   "source": [
    "import numpy as np\n",
    "import pandas as pd\n",
    "from os.path import join as oj\n",
    "import os\n",
    "import pandas as pd\n",
    "import sys\n",
    "import inspect\n",
    "import datetime\n",
    "from scipy.stats import percentileofscore\n",
    "currentdir = os.path.dirname(os.path.abspath(inspect.getfile(inspect.currentframe())))\n",
    "parentdir = os.path.dirname(currentdir)\n",
    "sys.path.append(parentdir)\n",
    "sys.path.append(parentdir + '/modeling')\n",
    "import load_data\n",
    "from fit_and_predict import add_preds\n",
    "from functions import merge_data\n",
    "from viz import  viz_interactive\n",
    "import numpy as np\n",
    "import pandas as pd\n",
    "from os.path import join as oj\n",
    "import os\n",
    "import pandas as pd\n",
    "import sys\n",
    "import matplotlib as plt\n",
    "from scipy.stats import percentileofscore\n",
    "\n",
    "# CHANGE THIS\n",
    "from exponential_modeling import *\n",
    "from fit_and_predict import *"
   ]
  },
  {
   "cell_type": "code",
   "execution_count": 5,
   "metadata": {},
   "outputs": [
    {
     "name": "stdout",
     "output_type": "stream",
     "text": [
      "loading data...\n",
      "loading county-level data...\n",
      "loaded and merged COVID-19 cases/deaths data successfully\n"
     ]
    }
   ],
   "source": [
    "# Load in the Data\n",
    "\n",
    "print('loading data...')\n",
    "NUM_DAYS_LIST = [1, 2, 3, 4, 5, 6, 7]\n",
    "df_county = load_data.load_county_level(data_dir=oj(parentdir, 'data'))\n",
    "\n",
    "#df_county = add_preds(df_county, NUM_DAYS_LIST=NUM_DAYS_LIST,\n",
    "#                          cached_dir=oj(parentdir, 'data'))"
   ]
  },
  {
   "cell_type": "code",
   "execution_count": 298,
   "metadata": {},
   "outputs": [],
   "source": [
    "df_hos = pd.read_csv(\"../data/CA_hospitalizations.csv\")\n",
    "df_hos = df_hos[[\"County Name\", \"Most Recent Date\", \"COVID-19 Positive Patients\"]]\n",
    "df_hos = df_hos.rename(columns={\"County Name\": \"CountyName\", \"Most Recent Date\": \"Date\", \n",
    "                               \"COVID-19 Positive Patients\": \"hospitalizations\"})"
   ]
  },
  {
   "cell_type": "code",
   "execution_count": 299,
   "metadata": {},
   "outputs": [],
   "source": [
    "# Merge the Data\n",
    "fips = df_county[df_county[\"StateName\"] == \"CA\"][[\"countyFIPS\", \"CountyName\"]]\n",
    "df_hos = df_hos.merge(fips, on=\"CountyName\", how=\"left\")\n",
    "df_hos = df_hos.fillna(0)"
   ]
  },
  {
   "cell_type": "code",
   "execution_count": 300,
   "metadata": {},
   "outputs": [],
   "source": [
    "df_CA = df_hos[[\"countyFIPS\", \"CountyName\"]].drop_duplicates()\n",
    "\n",
    "hospitz = []\n",
    "for county in df_CA[\"CountyName\"]:\n",
    "    # Generate the Series\n",
    "    arr = df_hos[df_hos[\"CountyName\"] == county][\"hospitalizations\"].values\n",
    "    hospitz.append(np.concatenate(([0], arr))) # Adding 0 since there seems to be an issue if we don't\n",
    "#     hospitz.append(np.concatenate(([], arr))) # Adding 0 since there seems to be an issue if we don't\n",
    "\n",
    "# Append\n",
    "df_CA[\"hospitalizations\"] = hospitz"
   ]
  },
  {
   "cell_type": "code",
   "execution_count": null,
   "metadata": {},
   "outputs": [],
   "source": []
  },
  {
   "cell_type": "code",
   "execution_count": 282,
   "metadata": {},
   "outputs": [],
   "source": [
    "preds = linear_fit(df_CA[\"hospitalizations\"].values, mode=\"eval_mode\")"
   ]
  },
  {
   "cell_type": "code",
   "execution_count": 331,
   "metadata": {},
   "outputs": [],
   "source": [
    "# Exponential Fit\n",
    "length = len(df_hos[df_hos[\"CountyName\"] == \"Los Angeles\"][\"hospitalizations\"].values)\n",
    "preds = []\n",
    "k = 1\n",
    "for i in range(k,length):\n",
    "    hospitz = []\n",
    "    for county in df_CA[\"CountyName\"]:\n",
    "        # Generate the Series\n",
    "        arr = df_hos[df_hos[\"CountyName\"] == county][\"hospitalizations\"].values[:i]\n",
    "        hospitz.append(np.concatenate(([0], arr)))\n",
    "        \n",
    "#         hospitz.append(np.concatenate(([], arr)))\n",
    "\n",
    "    # Append\n",
    "    df_CA[\"hospitalizations\"] = hospitz\n",
    "    \n",
    "    \n",
    "    preds.append(exponential_fit(df_CA[\"hospitalizations\"].values, mode=\"eval_mode\", target_day=np.array([k])))\n",
    "#     preds.append(linear_fit(df_CA[\"hospitalizations\"].values, mode=\"eval_mode\", target_day=np.array([1])))\n",
    "    \n",
    "preds= np.array(preds)[:, :, 0].T\n",
    "preds = preds[:, 1:] # Drop the first 0s"
   ]
  },
  {
   "cell_type": "code",
   "execution_count": 328,
   "metadata": {},
   "outputs": [],
   "source": [
    "#### Linear Fit\n",
    "length = len(df_hos[df_hos[\"CountyName\"] == \"Los Angeles\"][\"hospitalizations\"].values)\n",
    "preds_linear = []\n",
    "for i in range(4 + k,length):\n",
    "    hospitz = []\n",
    "    for county in df_CA[\"CountyName\"]:\n",
    "        # Generate the Series\n",
    "        arr = df_hos[df_hos[\"CountyName\"] == county][\"hospitalizations\"].values[:i]\n",
    "        hospitz.append(np.concatenate(([0], arr))) \n",
    "        # Note: Concatenating 1 to avoid issue with 0's and linear fit\n",
    "\n",
    "    # Append\n",
    "    df_CA[\"hospitalizations\"] = hospitz\n",
    "    \n",
    "    \n",
    "#     preds.append(exponential_fit(df_CA[\"hospitalizations\"].values, mode=\"eval_mode\", target_day=np.array([1])))\n",
    "    preds_linear.append(linear_fit(df_CA[\"hospitalizations\"].values, mode=\"eval_mode\", target_day=np.array([k])))\n",
    "    \n",
    "preds_linear= np.array(preds_linear)[:, :, 0].T\n",
    "preds_linear = preds_linear[:, 1:] # Drop the first 0s"
   ]
  },
  {
   "cell_type": "code",
   "execution_count": 332,
   "metadata": {},
   "outputs": [
    {
     "data": {
      "text/plain": [
       "[<matplotlib.lines.Line2D at 0x7fcb0c3995c0>]"
      ]
     },
     "execution_count": 332,
     "metadata": {},
     "output_type": "execute_result"
    },
    {
     "data": {
      "image/png": "[encoded data removed]",
      "text/plain": [
       "<Figure size 432x288 with 1 Axes>"
      ]
     },
     "metadata": {},
     "output_type": "display_data"
    }
   ],
   "source": [
    "# Let's Plot LA Exponential\n",
    "LA = df_CA[\"hospitalizations\"][10][k:-1]\n",
    "preds_LA = preds[10, :]\n",
    "t = range(max(len(LA), len(preds_LA)))\n",
    "plt.plot(t, LA)\n",
    "plt.plot(t, preds_LA, color=\"orange\")"
   ]
  },
  {
   "cell_type": "code",
   "execution_count": 330,
   "metadata": {},
   "outputs": [
    {
     "data": {
      "text/plain": [
       "[<matplotlib.lines.Line2D at 0x7fcb0c3cf588>]"
      ]
     },
     "execution_count": 330,
     "metadata": {},
     "output_type": "execute_result"
    },
    {
     "data": {
      "image/png": "[encoded data removed]",
      "text/plain": [
       "<Figure size 432x288 with 1 Axes>"
      ]
     },
     "metadata": {},
     "output_type": "display_data"
    }
   ],
   "source": [
    "# Let's Plot LA Linear\n",
    "LA = df_CA[\"hospitalizations\"][0][4 + k:-1]\n",
    "preds_LA = preds_linear[0, :]\n",
    "t = range(len(LA))\n",
    "t_lin = range(len(preds_LA))\n",
    "plt.plot(t, LA)\n",
    "plt.plot(t_lin, preds_LA, color=\"orange\")"
   ]
  },
  {
   "cell_type": "markdown",
   "metadata": {},
   "source": [
    "# Shared Model"
   ]
  },
  {
   "cell_type": "code",
   "execution_count": 337,
   "metadata": {},
   "outputs": [],
   "source": [
    "# Does plugging in what we've done above just work?\n",
    "# preds = fit_and_predict_shared_exponential(df_CA, outcome=\"hospitalizations\", mode=\"eval_mode\")\n",
    "\n",
    "# Shared Exponential Fit\n",
    "length = len(df_hos[df_hos[\"CountyName\"] == \"Los Angeles\"][\"hospitalizations\"].values)\n",
    "preds_shared = []\n",
    "k = 3\n",
    "# Start at 2 for 1 day prediction\n",
    "for i in range(1 + k,length):\n",
    "    hospitz = []\n",
    "    for county in df_CA[\"CountyName\"]:\n",
    "        # Generate the Series\n",
    "        arr = df_hos[df_hos[\"CountyName\"] == county][\"hospitalizations\"].values[:i]\n",
    "        hospitz.append(np.concatenate(([0], arr)))\n",
    "\n",
    "    # Append\n",
    "    df_CA[\"hospitalizations\"] = hospitz\n",
    "    \n",
    "    # predict_future\n",
    "    preds_shared.append(fit_and_predict_shared_exponential(df_CA, outcome=\"hospitalizations\",\n",
    "                                 mode=\"eval_mode\", target_day=np.array([k])))\n",
    "    \n",
    "#     preds.append(linear_fit(df_CA[\"hospitalizations\"].values, mode=\"eval_mode\", target_day=np.array([1])))\n",
    "    \n",
    "preds_shared= np.array(preds_shared)[:, :, 0].T\n",
    "preds_shared = preds_shared[:, 1:] # Drop the first 0s "
   ]
  },
  {
   "cell_type": "code",
   "execution_count": 338,
   "metadata": {},
   "outputs": [
    {
     "data": {
      "text/plain": [
       "[<matplotlib.lines.Line2D at 0x7fcb0c23e7b8>]"
      ]
     },
     "execution_count": 338,
     "metadata": {},
     "output_type": "execute_result"
    },
    {
     "data": {
      "image/png": "[encoded data removed]",
      "text/plain": [
       "<Figure size 432x288 with 1 Axes>"
      ]
     },
     "metadata": {},
     "output_type": "display_data"
    }
   ],
   "source": [
    "# Let's Plot LA Shared Exponential\n",
    "LA = df_CA[\"hospitalizations\"][10][1 + k:-1]\n",
    "preds_LA = preds_shared[10, :] - 1\n",
    "t = range(max(len(LA), len(preds_LA)))\n",
    "plt.plot(t, LA)\n",
    "plt.plot(t, preds_LA, color=\"orange\")"
   ]
  },
  {
   "cell_type": "code",
   "execution_count": 268,
   "metadata": {
    "jupyter": {
     "outputs_hidden": true
    }
   },
   "outputs": [],
   "source": [
    "# Just note how this works\n",
    "tmp = create_shared_simple_dataset(df_CA, outcome=\"hospitalizations\",days_to_subtract=1)\n",
    "# fit_and_predict_shared_exponential(df_CA, outcome=\"hospitalizations\",\n",
    "#                                  mode=\"eval_mode\", target_day=np.array([1]))"
   ]
  },
  {
   "cell_type": "markdown",
   "metadata": {},
   "source": [
    "# Imputing Deaths with the MEPI"
   ]
  },
  {
   "cell_type": "markdown",
   "metadata": {},
   "source": [
    "# Ensemble Model"
   ]
  },
  {
   "cell_type": "code",
   "execution_count": null,
   "metadata": {},
   "outputs": [],
   "source": [
    "use_df = exponential_modeling.leave_t_day_out(df, target_day[-1])\n",
    "\n",
    "\n",
    "weights = pmdl_weight.compute_pmdl_weight(use_df, \n",
    "                                          methods=methods, \n",
    "                                          outcome=outcome,\n",
    "                                          target_day=target_day)\n",
    "sum_weights = np.zeros(len(use_df))\n",
    "for model_index in weights:\n",
    "    sum_weights = sum_weights + np.array(weights[model_index])\n",
    "\n",
    "#weighted_preds = np.zeros((len(use_df), len(target_day)))\n",
    "weighted_preds = [np.zeros(len(target_day)) for i in range(len(use_df))]\n",
    "for i in range(len(df)):\n",
    "    for model_index in weights:\n",
    "        weighted_preds[i] += np.array(predictions[model_index][i]) * weights[model_index][i] / sum_weights[i]\n"
   ]
  }
 ],
 "metadata": {
  "kernelspec": {
   "display_name": "Environment (conda_anaconda3)",
   "language": "python",
   "name": "conda_anaconda3"
  },
  "language_info": {
   "codemirror_mode": {
    "name": "ipython",
    "version": 3
   },
   "file_extension": ".py",
   "mimetype": "text/x-python",
   "name": "python",
   "nbconvert_exporter": "python",
   "pygments_lexer": "ipython3",
   "version": "3.6.6"
  }
 },
 "nbformat": 4,
 "nbformat_minor": 4
}
