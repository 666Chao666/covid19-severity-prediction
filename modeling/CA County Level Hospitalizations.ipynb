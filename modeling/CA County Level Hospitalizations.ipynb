{
 "cells": [
  {
   "cell_type": "code",
   "execution_count": 47,
   "metadata": {},
   "outputs": [],
   "source": [
    "import numpy as np\n",
    "import pandas as pd\n",
    "from os.path import join as oj\n",
    "import os\n",
    "import pandas as pd\n",
    "import sys\n",
    "import inspect\n",
    "import datetime\n",
    "from scipy.stats import percentileofscore\n",
    "currentdir = os.path.dirname(os.path.abspath(inspect.getfile(inspect.currentframe())))\n",
    "parentdir = os.path.dirname(currentdir)\n",
    "sys.path.append(parentdir)\n",
    "sys.path.append(parentdir + '/modeling')\n",
    "import load_data\n",
    "from fit_and_predict import add_preds\n",
    "from functions import merge_data\n",
    "from viz import  viz_interactive\n",
    "import numpy as np\n",
    "import pandas as pd\n",
    "from os.path import join as oj\n",
    "import os\n",
    "import pandas as pd\n",
    "import sys\n",
    "import matplotlib as plt\n",
    "from scipy.stats import percentileofscore\n",
    "\n",
    "# CHANGE THIS\n",
    "from exponential_modeling import *\n",
    "from fit_and_predict import *"
   ]
  },
  {
   "cell_type": "code",
   "execution_count": 5,
   "metadata": {},
   "outputs": [
    {
     "name": "stdout",
     "output_type": "stream",
     "text": [
      "loading data...\n",
      "loading county-level data...\n",
      "loaded and merged COVID-19 cases/deaths data successfully\n"
     ]
    }
   ],
   "source": [
    "# Load in the Data\n",
    "\n",
    "print('loading data...')\n",
    "NUM_DAYS_LIST = [1, 2, 3, 4, 5, 6, 7]\n",
    "df_county = load_data.load_county_level(data_dir=oj(parentdir, 'data'))\n",
    "\n",
    "#df_county = add_preds(df_county, NUM_DAYS_LIST=NUM_DAYS_LIST,\n",
    "#                          cached_dir=oj(parentdir, 'data'))"
   ]
  },
  {
   "cell_type": "code",
   "execution_count": 339,
   "metadata": {},
   "outputs": [
    {
     "data": {
      "text/html": [
       "<div>\n",
       "<style scoped>\n",
       "    .dataframe tbody tr th:only-of-type {\n",
       "        vertical-align: middle;\n",
       "    }\n",
       "\n",
       "    .dataframe tbody tr th {\n",
       "        vertical-align: top;\n",
       "    }\n",
       "\n",
       "    .dataframe thead th {\n",
       "        text-align: right;\n",
       "    }\n",
       "</style>\n",
       "<table border=\"1\" class=\"dataframe\">\n",
       "  <thead>\n",
       "    <tr style=\"text-align: right;\">\n",
       "      <th></th>\n",
       "      <th>CountyName</th>\n",
       "      <th>Date</th>\n",
       "      <th>hospitalizations</th>\n",
       "      <th>countyFIPS</th>\n",
       "    </tr>\n",
       "  </thead>\n",
       "  <tbody>\n",
       "    <tr>\n",
       "      <th>0</th>\n",
       "      <td>Los Angeles</td>\n",
       "      <td>4/1/2020</td>\n",
       "      <td>739.0</td>\n",
       "      <td>06037</td>\n",
       "    </tr>\n",
       "    <tr>\n",
       "      <th>1</th>\n",
       "      <td>San Bernardino</td>\n",
       "      <td>4/1/2020</td>\n",
       "      <td>95.0</td>\n",
       "      <td>06071</td>\n",
       "    </tr>\n",
       "    <tr>\n",
       "      <th>2</th>\n",
       "      <td>Orange</td>\n",
       "      <td>4/1/2020</td>\n",
       "      <td>117.0</td>\n",
       "      <td>06059</td>\n",
       "    </tr>\n",
       "    <tr>\n",
       "      <th>3</th>\n",
       "      <td>Riverside</td>\n",
       "      <td>4/1/2020</td>\n",
       "      <td>85.0</td>\n",
       "      <td>06065</td>\n",
       "    </tr>\n",
       "    <tr>\n",
       "      <th>4</th>\n",
       "      <td>Sacramento</td>\n",
       "      <td>4/1/2020</td>\n",
       "      <td>53.0</td>\n",
       "      <td>06067</td>\n",
       "    </tr>\n",
       "    <tr>\n",
       "      <th>...</th>\n",
       "      <td>...</td>\n",
       "      <td>...</td>\n",
       "      <td>...</td>\n",
       "      <td>...</td>\n",
       "    </tr>\n",
       "    <tr>\n",
       "      <th>3298</th>\n",
       "      <td>Tuolumne</td>\n",
       "      <td>05/26/2020</td>\n",
       "      <td>0.0</td>\n",
       "      <td>06109</td>\n",
       "    </tr>\n",
       "    <tr>\n",
       "      <th>3299</th>\n",
       "      <td>Unassigned</td>\n",
       "      <td>05/26/2020</td>\n",
       "      <td>0.0</td>\n",
       "      <td>0</td>\n",
       "    </tr>\n",
       "    <tr>\n",
       "      <th>3300</th>\n",
       "      <td>Ventura</td>\n",
       "      <td>05/26/2020</td>\n",
       "      <td>34.0</td>\n",
       "      <td>06111</td>\n",
       "    </tr>\n",
       "    <tr>\n",
       "      <th>3301</th>\n",
       "      <td>Yolo</td>\n",
       "      <td>05/26/2020</td>\n",
       "      <td>1.0</td>\n",
       "      <td>06113</td>\n",
       "    </tr>\n",
       "    <tr>\n",
       "      <th>3302</th>\n",
       "      <td>Yuba</td>\n",
       "      <td>05/26/2020</td>\n",
       "      <td>1.0</td>\n",
       "      <td>06115</td>\n",
       "    </tr>\n",
       "  </tbody>\n",
       "</table>\n",
       "<p>3303 rows × 4 columns</p>\n",
       "</div>"
      ],
      "text/plain": [
       "          CountyName        Date  hospitalizations countyFIPS\n",
       "0        Los Angeles    4/1/2020             739.0      06037\n",
       "1     San Bernardino    4/1/2020              95.0      06071\n",
       "2             Orange    4/1/2020             117.0      06059\n",
       "3          Riverside    4/1/2020              85.0      06065\n",
       "4         Sacramento    4/1/2020              53.0      06067\n",
       "...              ...         ...               ...        ...\n",
       "3298        Tuolumne  05/26/2020               0.0      06109\n",
       "3299      Unassigned  05/26/2020               0.0          0\n",
       "3300         Ventura  05/26/2020              34.0      06111\n",
       "3301            Yolo  05/26/2020               1.0      06113\n",
       "3302            Yuba  05/26/2020               1.0      06115\n",
       "\n",
       "[3303 rows x 4 columns]"
      ]
     },
     "execution_count": 339,
     "metadata": {},
     "output_type": "execute_result"
    }
   ],
   "source": [
    "df_hos"
   ]
  },
  {
   "cell_type": "code",
   "execution_count": 514,
   "metadata": {},
   "outputs": [],
   "source": [
    "df_hos = pd.read_csv(\"../data/CA_hospitalizations.csv\")\n",
    "df_hos = df_hos[[\"County Name\", \"Most Recent Date\", \"COVID-19 Positive Patients\"]]\n",
    "df_hos = df_hos.rename(columns={\"County Name\": \"CountyName\", \"Most Recent Date\": \"Date\", \n",
    "                               \"COVID-19 Positive Patients\": \"hospitalizations\"})"
   ]
  },
  {
   "cell_type": "code",
   "execution_count": 515,
   "metadata": {},
   "outputs": [],
   "source": [
    "# Merge the Data\n",
    "fips = df_county[df_county[\"StateName\"] == \"CA\"][[\"countyFIPS\", \"CountyName\"]]\n",
    "df_hos = df_hos.merge(fips, on=\"CountyName\", how=\"left\")\n",
    "df_hos = df_hos.fillna(0)"
   ]
  },
  {
   "cell_type": "code",
   "execution_count": 516,
   "metadata": {},
   "outputs": [],
   "source": [
    "df_CA = df_hos[[\"countyFIPS\", \"CountyName\"]].drop_duplicates()\n",
    "df_CA = df_CA[df_CA[\"CountyName\"] != \"Unassigned\"]\n",
    "hospitz = []\n",
    "for county in df_CA[\"CountyName\"]:\n",
    "    # Generate the Series\n",
    "    arr = df_hos[df_hos[\"CountyName\"] == county][\"hospitalizations\"].values\n",
    "    hospitz.append(np.concatenate(([0], arr))) # Adding 0 since there seems to be an issue if we don't\n",
    "#     hospitz.append(np.concatenate(([], arr))) # Adding 0 since there seems to be an issue if we don't\n",
    "\n",
    "# Append\n",
    "df_CA[\"hospitalizations\"] = hospitz"
   ]
  },
  {
   "cell_type": "code",
   "execution_count": 282,
   "metadata": {},
   "outputs": [],
   "source": [
    "preds = linear_fit(df_CA[\"hospitalizations\"].values, mode=\"eval_mode\")"
   ]
  },
  {
   "cell_type": "code",
   "execution_count": 540,
   "metadata": {},
   "outputs": [],
   "source": [
    "# Exponential Fit\n",
    "length = len(df_hos[df_hos[\"CountyName\"] == \"Los Angeles\"][\"hospitalizations\"].values)\n",
    "preds = []\n",
    "k = 5\n",
    "for i in range(k,length):\n",
    "    hospitz = []\n",
    "    for county in df_CA[\"CountyName\"]:\n",
    "        # Generate the Series\n",
    "        arr = df_hos[df_hos[\"CountyName\"] == county][\"hospitalizations\"].values[:i]\n",
    "        hospitz.append(np.concatenate(([0], arr)))\n",
    "        \n",
    "#         hospitz.append(np.concatenate(([], arr)))\n",
    "\n",
    "    # Append\n",
    "    df_CA[\"hospitalizations\"] = hospitz\n",
    "    \n",
    "    \n",
    "    preds.append(exponential_fit(df_CA[\"hospitalizations\"].values, mode=\"eval_mode\", target_day=np.array([k])))\n",
    "#     preds.append(linear_fit(df_CA[\"hospitalizations\"].values, mode=\"eval_mode\", target_day=np.array([1])))\n",
    "    \n",
    "preds= np.array(preds)[:, :, 0].T\n",
    "preds = preds[:, 1:] # Drop the first 0s"
   ]
  },
  {
   "cell_type": "code",
   "execution_count": 541,
   "metadata": {},
   "outputs": [],
   "source": [
    "#### Linear Fit\n",
    "length = len(df_hos[df_hos[\"CountyName\"] == \"Los Angeles\"][\"hospitalizations\"].values)\n",
    "preds_linear = []\n",
    "for i in range(4 + k,length):\n",
    "    hospitz = []\n",
    "    for county in df_CA[\"CountyName\"]:\n",
    "        # Generate the Series\n",
    "        arr = df_hos[df_hos[\"CountyName\"] == county][\"hospitalizations\"].values[:i]\n",
    "        hospitz.append(np.concatenate(([0], arr))) \n",
    "        # Note: Concatenating 1 to avoid issue with 0's and linear fit\n",
    "\n",
    "    # Append\n",
    "    df_CA[\"hospitalizations\"] = hospitz\n",
    "    \n",
    "    \n",
    "#     preds.append(exponential_fit(df_CA[\"hospitalizations\"].values, mode=\"eval_mode\", target_day=np.array([1])))\n",
    "    preds_linear.append(linear_fit(df_CA[\"hospitalizations\"].values, mode=\"eval_mode\", target_day=np.array([k])))\n",
    "    \n",
    "preds_linear= np.array(preds_linear)[:, :, 0].T\n",
    "preds_linear = preds_linear[:, 1:] # Drop the first 0s"
   ]
  },
  {
   "cell_type": "code",
   "execution_count": 542,
   "metadata": {},
   "outputs": [
    {
     "data": {
      "text/plain": [
       "<matplotlib.legend.Legend at 0x7fcafed1dac8>"
      ]
     },
     "execution_count": 542,
     "metadata": {},
     "output_type": "execute_result"
    },
    {
     "data": {
      "image/png": "[encoded data removed]",
      "text/plain": [
       "<Figure size 432x288 with 1 Axes>"
      ]
     },
     "metadata": {},
     "output_type": "display_data"
    }
   ],
   "source": [
    "# Let's Plot LA Exponential\n",
    "LA = df_CA[\"hospitalizations\"][0][k:-1]\n",
    "preds_LA = preds[0, :]\n",
    "t = range(max(len(LA), len(preds_LA)))\n",
    "plt.plot(t, LA, label=\"Hospitalizations\")\n",
    "plt.plot(t, preds_LA, color=\"orange\", label=\"Sep. Exponential Predictor\")\n",
    "plt.legend()"
   ]
  },
  {
   "cell_type": "code",
   "execution_count": 543,
   "metadata": {},
   "outputs": [
    {
     "data": {
      "image/png": "[encoded data removed]",
      "text/plain": [
       "<Figure size 432x288 with 1 Axes>"
      ]
     },
     "metadata": {},
     "output_type": "display_data"
    }
   ],
   "source": [
    "# Let's Plot LA Linear\n",
    "LA = df_CA[\"hospitalizations\"][0][4 + k:-1]\n",
    "preds_LA = preds_linear[0, :]\n",
    "t = range(len(LA))\n",
    "t_lin = range(len(preds_LA))\n",
    "plt.plot(t, LA, label=\"Hospitalizations\")\n",
    "plt.plot(t_lin, preds_LA, color=\"orange\", label=\"Linear Predictor\")\n",
    "plt.legend()\n",
    "plt.show()"
   ]
  },
  {
   "cell_type": "markdown",
   "metadata": {},
   "source": [
    "# Shared Model"
   ]
  },
  {
   "cell_type": "code",
   "execution_count": 547,
   "metadata": {},
   "outputs": [],
   "source": [
    "# Does plugging in what we've done above just work?\n",
    "# preds = fit_and_predict_shared_exponential(df_CA, outcome=\"hospitalizations\", mode=\"eval_mode\")\n",
    "\n",
    "# Shared Exponential Fit\n",
    "length = len(df_hos[df_hos[\"CountyName\"] == \"Los Angeles\"][\"hospitalizations\"].values)\n",
    "preds_shared = []\n",
    "k = 5\n",
    "# Start at 2 for 1 day prediction\n",
    "for i in range(1 + k,length):\n",
    "    hospitz = []\n",
    "    for county in df_CA[\"CountyName\"]:\n",
    "        # Generate the Series\n",
    "        arr = df_hos[df_hos[\"CountyName\"] == county][\"hospitalizations\"].values[:i]\n",
    "        hospitz.append(np.concatenate(([0], arr)))\n",
    "\n",
    "    # Append\n",
    "    df_CA[\"hospitalizations\"] = hospitz\n",
    "    \n",
    "    # predict_future\n",
    "    preds_shared.append(fit_and_predict_shared_exponential(df_CA, outcome=\"hospitalizations\",\n",
    "                                 mode=\"eval_mode\", target_day=np.array([k])))\n",
    "    \n",
    "#     preds.append(linear_fit(df_CA[\"hospitalizations\"].values, mode=\"eval_mode\", target_day=np.array([1])))\n",
    "    \n",
    "preds_shared= np.array(preds_shared)[:, :, 0].T\n",
    "preds_shared = preds_shared[:, 1:] # Drop the first 0s "
   ]
  },
  {
   "cell_type": "code",
   "execution_count": 549,
   "metadata": {},
   "outputs": [
    {
     "data": {
      "text/plain": [
       "<matplotlib.legend.Legend at 0x7fcaff0a9860>"
      ]
     },
     "execution_count": 549,
     "metadata": {},
     "output_type": "execute_result"
    },
    {
     "data": {
      "image/png": "[encoded data removed]",
      "text/plain": [
       "<Figure size 432x288 with 1 Axes>"
      ]
     },
     "metadata": {},
     "output_type": "display_data"
    }
   ],
   "source": [
    "# Let's Plot LA Shared Exponential\n",
    "LA = df_CA[\"hospitalizations\"][0][1 + k:-1]\n",
    "preds_LA = preds_shared[0, :] - 1\n",
    "t = range(max(len(LA), len(preds_LA)))\n",
    "plt.plot(t, LA, label=\"Hospitalizations\")\n",
    "plt.plot(t, preds_LA, color=\"orange\", label=\"Shared Exp. Predictor\")\n",
    "plt.legend()"
   ]
  },
  {
   "cell_type": "code",
   "execution_count": 268,
   "metadata": {
    "jupyter": {
     "outputs_hidden": true
    }
   },
   "outputs": [],
   "source": [
    "# Just note how this works\n",
    "tmp = create_shared_simple_dataset(df_CA, outcome=\"hospitalizations\",days_to_subtract=1)\n",
    "# fit_and_predict_shared_exponential(df_CA, outcome=\"hospitalizations\",\n",
    "#                                  mode=\"eval_mode\", target_day=np.array([1]))"
   ]
  },
  {
   "cell_type": "markdown",
   "metadata": {},
   "source": [
    "# Imputing Deaths with CLEP"
   ]
  },
  {
   "cell_type": "code",
   "execution_count": 550,
   "metadata": {},
   "outputs": [],
   "source": [
    "# Calculate df_CA\n",
    "# 1/22/2020 to 4/1/2020 is 70 days\n",
    "k = 5\n",
    "shifted_date = 70\n",
    "cen = 4\n",
    "df_CA_county = df_county[df_county['StateName'].isin(['CA'])]\n",
    "\n",
    "# Compute the Imputed Deaths\n",
    "# lin_impu_future_predictions = []\n",
    "# exp_impu_future_predictions = []\n",
    "# shared_impu_exp_future_predictions = []\n",
    "## Censoring the UCSF_data\n",
    "\n",
    "LA_data = df_CA[\"hospitalizations\"][0]\n",
    "# LA_cen = LA_data[cen:]\n",
    "imputed_deaths = []\n",
    "\n",
    "## Q: Should beginning of the range be 0 or the start_day?\n",
    "## Q: Should we include this k? \n",
    "## A: I hate time series...\n",
    "for i in range(1,LA_data.shape[0]-k + 1): \n",
    "    df_CA_test = df_CA_county.copy(deep=True)\n",
    "    # Calculate the Imputed Deaths\n",
    "    for county in range(len(df_CA_test)):\n",
    "            # do we need to remove columns and truncate counts??\n",
    "            # truncate list counts: deaths, cases, neighbor_deaths, neighbor_cases\n",
    "            for col in ['deaths', 'cases', 'neighbor_deaths', 'neighbor_cases']:\n",
    "                # adding 1 to predict t\n",
    "                df_CA_test[col].iloc[county] = df_CA_test[col].iloc[county][:shifted_date + i] \n",
    "    \n",
    "    tmp = fit_and_predict_ensemble(df_CA_test, target_day=np.array([k]))\n",
    "#     sf_dop = tmp[tmp[\"CountyName\"] == \"San Francisco\"]\n",
    "\n",
    "    # Formatting Fix\n",
    "    imputed_deaths.append(np.array([x[0] for x in tmp[\"predicted_deaths_ensemble_\" + str(k)].values]))\n",
    "    \n",
    "\n",
    "imputed_deaths = np.array(imputed_deaths)\n",
    "imputed_deaths = imputed_deaths.T"
   ]
  },
  {
   "cell_type": "code",
   "execution_count": 472,
   "metadata": {},
   "outputs": [
    {
     "data": {
      "text/plain": [
       "[1, 2, 3]"
      ]
     },
     "execution_count": 472,
     "metadata": {},
     "output_type": "execute_result"
    }
   ],
   "source": [
    "x = [np.array([1]), np.array([2]), np.array([3])]\n",
    "y = [x_0[0] for x_0 in x]\n",
    "y"
   ]
  },
  {
   "cell_type": "code",
   "execution_count": 471,
   "metadata": {},
   "outputs": [
    {
     "data": {
      "text/plain": [
       "[[1], [2], [3]]"
      ]
     },
     "execution_count": 471,
     "metadata": {},
     "output_type": "execute_result"
    }
   ],
   "source": [
    "x"
   ]
  },
  {
   "cell_type": "code",
   "execution_count": 551,
   "metadata": {},
   "outputs": [
    {
     "name": "stderr",
     "output_type": "stream",
     "text": [
      "/home/ubuntu/anaconda3/lib/python3.6/site-packages/statsmodels/base/elastic_net.py:332: RuntimeWarning:\n",
      "\n",
      "invalid value encountered in double_scalars\n",
      "\n"
     ]
    }
   ],
   "source": [
    "preds_shared_imputed = []\n",
    "start_day = 5\n",
    "for i in range(start_day,LA_data.shape[0]-k + 1): \n",
    "    df_shared_CA = df_CA.copy(deep=True)\n",
    "        \n",
    "    hospitz = []\n",
    "    im_arr = []\n",
    "    for county in df_CA[\"CountyName\"]:\n",
    "        # Generate the Series\n",
    "        arr = df_hos[df_hos[\"CountyName\"] == county][\"hospitalizations\"].values[:i]\n",
    "        hospitz.append(arr)\n",
    "        \n",
    "    for county in range(len(df_CA[\"CountyName\"])):\n",
    "        # Generate the Series\n",
    "        im_deaths = imputed_deaths[county, :i]\n",
    "        im_arr.append(im_deaths)  \n",
    "        \n",
    "    assert len(hospitz[0]) == len(im_arr[0]) \n",
    "\n",
    "    # Append\n",
    "    df_shared_CA[\"hospitalizations\"] = hospitz\n",
    "    df_shared_CA[\"imputed_deaths\"] = im_arr\n",
    "    \n",
    "    \n",
    "    \n",
    "    # Feature Transforms\n",
    "    feat_transforms = {}\n",
    "    feat_transforms[\"hospitalizations\"] = [lambda x: np.log(x+1)]\n",
    "    feat_transforms[\"imputed_deaths\"] = [lambda x: np.log(x + 1)]\n",
    "    \n",
    "    # Auxiliary Time Variables\n",
    "    aux_vars = [\"imputed_deaths\"]\n",
    "    \n",
    "    # Time Series Default Values\n",
    "    default_values = defaultdict(lambda: 0) \n",
    "    \n",
    "    # Run the Shared Model\n",
    "    shared_model = SharedModel(df_shared_CA,mode = \"predict_future\",\n",
    "                                                            outcome = \"hospitalizations\",\n",
    "                                                            demographic_variables=[],\n",
    "                                                            auxiliary_time_features=aux_vars,\n",
    "                                                            target_days=np.array([k]), \n",
    "                                                            feat_transforms=feat_transforms,\n",
    "                                                            time_series_default_values = default_values,\n",
    "                                                            scale=False)\n",
    "    \n",
    "    \n",
    "    shared_model.create_dataset()\n",
    "    shared_model.fit_model()\n",
    "    shared_model.predict()\n",
    "    \n",
    "    preds_shared_imputed.append(shared_model.predictions)\n",
    "    \n",
    "preds_shared_imputed = np.array(preds_shared_imputed)[:, :, 0].T"
   ]
  },
  {
   "cell_type": "code",
   "execution_count": 552,
   "metadata": {},
   "outputs": [
    {
     "data": {
      "text/plain": [
       "<matplotlib.legend.Legend at 0x7fcaff102a20>"
      ]
     },
     "execution_count": 552,
     "metadata": {},
     "output_type": "execute_result"
    },
    {
     "data": {
      "image/png": "[encoded data removed]",
      "text/plain": [
       "<Figure size 432x288 with 1 Axes>"
      ]
     },
     "metadata": {},
     "output_type": "display_data"
    }
   ],
   "source": [
    "# Let's Plot LA Shared Exponential\n",
    "LA = df_CA[\"hospitalizations\"][0][start_day + k - 1:-1]\n",
    "preds_LA = preds_shared_imputed[0, :] \n",
    "t_LA = range(0, len(LA))\n",
    "t_preds = np.array(range(0, len(preds_LA))) #+ len(t_LA) -len(t_preds) + 2\n",
    "plt.plot(t_LA, LA, label=\"Hospitlizations\")\n",
    "plt.plot(t_preds, preds_LA, color=\"orange\", label=\"Shared Exp. + Imputed Deaths\")\n",
    "plt.legend()"
   ]
  },
  {
   "cell_type": "code",
   "execution_count": 495,
   "metadata": {},
   "outputs": [
    {
     "data": {
      "text/plain": [
       "range(0, 51)"
      ]
     },
     "execution_count": 495,
     "metadata": {},
     "output_type": "execute_result"
    }
   ],
   "source": [
    "t_LA"
   ]
  },
  {
   "cell_type": "code",
   "execution_count": 494,
   "metadata": {},
   "outputs": [
    {
     "data": {
      "text/plain": [
       "array([ 6,  7,  8,  9, 10, 11, 12, 13, 14, 15, 16, 17, 18, 19, 20, 21, 22,\n",
       "       23, 24, 25, 26, 27, 28, 29, 30, 31, 32, 33, 34, 35, 36, 37, 38, 39,\n",
       "       40, 41, 42, 43, 44, 45, 46, 47, 48, 49, 50, 51, 52])"
      ]
     },
     "execution_count": 494,
     "metadata": {},
     "output_type": "execute_result"
    }
   ],
   "source": [
    "t_preds"
   ]
  },
  {
   "cell_type": "code",
   "execution_count": 480,
   "metadata": {},
   "outputs": [
    {
     "data": {
      "text/plain": [
       "7"
      ]
     },
     "execution_count": 480,
     "metadata": {},
     "output_type": "execute_result"
    }
   ],
   "source": []
  },
  {
   "cell_type": "code",
   "execution_count": 455,
   "metadata": {},
   "outputs": [
    {
     "data": {
      "text/plain": [
       "(58, 52)"
      ]
     },
     "execution_count": 455,
     "metadata": {},
     "output_type": "execute_result"
    }
   ],
   "source": [
    "np.array(preds_shared_imputed).shape"
   ]
  },
  {
   "cell_type": "markdown",
   "metadata": {},
   "source": [
    "# Ensemble Model"
   ]
  },
  {
   "cell_type": "code",
   "execution_count": null,
   "metadata": {},
   "outputs": [],
   "source": [
    "use_df = exponential_modeling.leave_t_day_out(df, target_day[-1])\n",
    "\n",
    "\n",
    "weights = pmdl_weight.compute_pmdl_weight(use_df, \n",
    "                                          methods=methods, \n",
    "                                          outcome=outcome,\n",
    "                                          target_day=target_day)\n",
    "sum_weights = np.zeros(len(use_df))\n",
    "for model_index in weights:\n",
    "    sum_weights = sum_weights + np.array(weights[model_index])\n",
    "\n",
    "#weighted_preds = np.zeros((len(use_df), len(target_day)))\n",
    "weighted_preds = [np.zeros(len(target_day)) for i in range(len(use_df))]\n",
    "for i in range(len(df)):\n",
    "    for model_index in weights:\n",
    "        weighted_preds[i] += np.array(predictions[model_index][i]) * weights[model_index][i] / sum_weights[i]\n"
   ]
  },
  {
   "cell_type": "markdown",
   "metadata": {},
   "source": [
    "## Let's Do Some Plotting"
   ]
  },
  {
   "cell_type": "code",
   "execution_count": null,
   "metadata": {},
   "outputs": [],
   "source": [
    "## This is a Lie, it isn't UCSF Data\n",
    "LA_data = df_CA[\"hospitalizations\"][0][1 + k:-1]\n",
    "\n",
    "fig, axs = plt.subplots(2, 2, sharex=True, sharey=True)\n",
    "\n",
    "axs[0, 0].plot(UCSF_data[start_day+k-1:],'r',label = \"UCSF hospitalization data\")\n",
    "axs[0, 0].plot(lin_future_predictions,'b',label= \"Linear predictions\")\n",
    "axs[0, 0].set_title('Linear')\n",
    "axs[0, 0].set_ylim([0, 50])\n",
    "\n",
    "axs[0, 1].plot(UCSF_data[start_day+k-1:],'r',label = \"UCSF hospitalization data\")\n",
    "axs[0, 1].plot(exp_future_predictions,'b',label= \"Separate exp predictions\")\n",
    "axs[0, 1].set_title('Separate Exp')\n",
    "\n",
    "axs[1, 0].plot(UCSF_data[start_day+k-1:],'r',label = \"UCSF hospitalization data\")\n",
    "axs[1, 0].plot(shared_exp_future_predictions,'b',label= \"Shared exp predictions\")\n",
    "axs[1, 0].set_title('Shared Exp')\n",
    "\n",
    "axs[1, 1].plot(np.arange(4, len(UCSF_data[start_day+k-1:])), UCSF_cen[start_day+k-1:],'r',label = \"UCSF hospitalization data\")\n",
    "axs[1, 1].plot(np.arange(4, len(UCSF_data[start_day+k-1:])), np.array(preds),'b',label= \"Imputed deaths shared exp predictions\")\n",
    "axs[1, 1].set_title('Imputed deaths')\n",
    "\n",
    "for ax in axs.flat:\n",
    "    ax.set(xlabel='# days since 3/28/20', ylabel='# hospitalizations')\n",
    "\n",
    "# Hide x labels and tick labels for top plots and y ticks for right plots.\n",
    "for ax in axs.flat:\n",
    "    ax.label_outer()\n",
    "\n",
    "fig.suptitle(str(k)+\"-day ahead prediction for shared exponential predictor\")\n",
    "plt.savefig(\"UCSF_Hospitalizations_plots/combinedplot_\"+str(k)+\".jpg\", dpi=150)"
   ]
  }
 ],
 "metadata": {
  "kernelspec": {
   "display_name": "Environment (conda_anaconda3)",
   "language": "python",
   "name": "conda_anaconda3"
  },
  "language_info": {
   "codemirror_mode": {
    "name": "ipython",
    "version": 3
   },
   "file_extension": ".py",
   "mimetype": "text/x-python",
   "name": "python",
   "nbconvert_exporter": "python",
   "pygments_lexer": "ipython3",
   "version": "3.6.6"
  }
 },
 "nbformat": 4,
 "nbformat_minor": 4
}
