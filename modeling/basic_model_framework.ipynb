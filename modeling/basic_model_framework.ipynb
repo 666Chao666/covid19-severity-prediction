{
 "cells": [
  {
   "cell_type": "code",
   "execution_count": 36,
   "metadata": {},
   "outputs": [],
   "source": [
    "import sys\n",
    "sys.path\n",
    "sys.path.append('../')"
   ]
  },
  {
   "cell_type": "code",
   "execution_count": 70,
   "metadata": {},
   "outputs": [
    {
     "name": "stdout",
     "output_type": "stream",
     "text": [
      "The autoreload extension is already loaded. To reload it, use:\n",
      "  %reload_ext autoreload\n"
     ]
    }
   ],
   "source": [
    "%load_ext autoreload\n",
    "%autoreload 2\n",
    "import sklearn\n",
    "import copy\n",
    "import numpy as np\n",
    "\n",
    "import scipy as sp\n",
    "import pandas as pd\n",
    "import matplotlib.pyplot as plt\n",
    "import matplotlib.dates as mdates\n",
    "import seaborn as sns\n",
    "# from viz import viz\n",
    "from bokeh.plotting import figure, show, output_notebook, output_file, save\n",
    "from functions import merge_data\n",
    "from sklearn.model_selection import RandomizedSearchCV\n",
    "import load_data\n",
    "\n",
    "\n",
    "from sklearn.linear_model import LinearRegression\n",
    "from sklearn.tree import DecisionTreeRegressor\n",
    "from sklearn.ensemble import RandomForestRegressor\n",
    "\n",
    "from naive_autoreg_baselines import fit_and_predict"
   ]
  },
  {
   "cell_type": "code",
   "execution_count": null,
   "metadata": {},
   "outputs": [],
   "source": []
  },
  {
   "cell_type": "markdown",
   "metadata": {},
   "source": [
    "## Params:"
   ]
  },
  {
   "cell_type": "code",
   "execution_count": 90,
   "metadata": {},
   "outputs": [],
   "source": [
    "aggregate_by_state = False\n",
    "evaluation_criteria = 'predict current day' #Out of ['hold out counties','predict current day']"
   ]
  },
  {
   "cell_type": "markdown",
   "metadata": {},
   "source": [
    "## Basic Data Visualization"
   ]
  },
  {
   "cell_type": "code",
   "execution_count": 91,
   "metadata": {},
   "outputs": [],
   "source": [
    "# 'deaths' and 'cases' contain the time-series of the outbreak\n",
    "df = load_data.load_county_level(dir_mod = '../')\n",
    "df = df.sort_values(load_data.outcome_deaths, ascending=False)\n",
    "outcome_cases = load_data.outcome_cases # most recent day\n",
    "outcome_deaths = load_data.outcome_deaths\n",
    "important_vars = load_data.important_keys(df)"
   ]
  },
  {
   "cell_type": "code",
   "execution_count": 92,
   "metadata": {},
   "outputs": [],
   "source": [
    "def sum_lists(list_of_lists):\n",
    "    arr = np.array(list(list_of_lists))\n",
    "    sum_arr = np.sum(arr,0)\n",
    "    return list(sum_arr)\n",
    "if aggregate_by_state:\n",
    "    # Aggregate by State\n",
    "    state_deaths_df = df.groupby('StateNameAbbreviation').deaths.agg(sum_lists).to_frame()\n",
    "    state_cases_df = df.groupby('StateNameAbbreviation').cases.agg(sum_lists).to_frame()\n",
    "    df =  pd.concat([state_cases_df,state_deaths_df],axis =1 )"
   ]
  },
  {
   "cell_type": "code",
   "execution_count": 93,
   "metadata": {},
   "outputs": [
    {
     "name": "stdout",
     "output_type": "stream",
     "text": [
      "Number of counties with non-zero cases\n",
      "1333\n"
     ]
    },
    {
     "data": {
      "text/plain": [
       "(array([50., 34., 24., 13., 11., 11.,  8.,  5.,  6., 10.,  4.,  1.,  4.,\n",
       "         1.,  2.,  2.,  2.,  2.,  3.,  3.,  1.,  1.,  1.,  2.,  0.,  3.,\n",
       "         2.,  0.,  0.,  0.,  1.,  2.,  0.,  1.,  1.,  0.,  0.,  2.,  0.,\n",
       "         0.,  0.,  1.,  1.,  0.,  0.,  0.,  0.,  1.,  0.,  0.,  0.,  0.,\n",
       "         0.,  0.,  0.,  0.,  0.,  0.,  0.,  0.,  1.,  0.,  0.,  0.,  0.,\n",
       "         0.,  0.,  0.,  0.,  1.,  0.,  0.,  0.,  0.,  0.,  1.,  2.,  0.,\n",
       "         0.,  1.,  0.,  0.,  0.,  0.,  0.,  0.,  0.,  0.,  0.,  0.,  0.,\n",
       "         0.,  0.,  0.,  0.,  0.,  0.,  0.,  0.,  1.]),\n",
       " array([ 21.  ,  29.52,  38.04,  46.56,  55.08,  63.6 ,  72.12,  80.64,\n",
       "         89.16,  97.68, 106.2 , 114.72, 123.24, 131.76, 140.28, 148.8 ,\n",
       "        157.32, 165.84, 174.36, 182.88, 191.4 , 199.92, 208.44, 216.96,\n",
       "        225.48, 234.  , 242.52, 251.04, 259.56, 268.08, 276.6 , 285.12,\n",
       "        293.64, 302.16, 310.68, 319.2 , 327.72, 336.24, 344.76, 353.28,\n",
       "        361.8 , 370.32, 378.84, 387.36, 395.88, 404.4 , 412.92, 421.44,\n",
       "        429.96, 438.48, 447.  , 455.52, 464.04, 472.56, 481.08, 489.6 ,\n",
       "        498.12, 506.64, 515.16, 523.68, 532.2 , 540.72, 549.24, 557.76,\n",
       "        566.28, 574.8 , 583.32, 591.84, 600.36, 608.88, 617.4 , 625.92,\n",
       "        634.44, 642.96, 651.48, 660.  , 668.52, 677.04, 685.56, 694.08,\n",
       "        702.6 , 711.12, 719.64, 728.16, 736.68, 745.2 , 753.72, 762.24,\n",
       "        770.76, 779.28, 787.8 , 796.32, 804.84, 813.36, 821.88, 830.4 ,\n",
       "        838.92, 847.44, 855.96, 864.48, 873.  ]),\n",
       " <a list of 100 Patch objects>)"
      ]
     },
     "execution_count": 93,
     "metadata": {},
     "output_type": "execute_result"
    },
    {
     "data": {
      "image/png": "[encoded data removed]",
      "text/plain": [
       "<Figure size 432x288 with 1 Axes>"
      ]
     },
     "metadata": {
      "needs_background": "light"
     },
     "output_type": "display_data"
    }
   ],
   "source": [
    "# Distribution of the maximum number of cases\n",
    "_cases = list(df['cases'])\n",
    "\n",
    "max_cases = []\n",
    "for i in range(len(df)):\n",
    "    max_cases.append(max(_cases[i]))\n",
    "\n",
    "print('Number of counties with non-zero cases')\n",
    "print(sum([v >0 for v in max_cases]))\n",
    "\n",
    "\n",
    "# cases truncated below 20 and above 1000 for plot readability\n",
    "plt.hist([v for v in max_cases if v > 20 and v < 1000],bins = 100)\n"
   ]
  },
  {
   "cell_type": "code",
   "execution_count": 94,
   "metadata": {},
   "outputs": [
    {
     "data": {
      "text/plain": [
       "53308"
      ]
     },
     "execution_count": 94,
     "metadata": {},
     "output_type": "execute_result"
    }
   ],
   "source": [
    "sum(max_cases)"
   ]
  },
  {
   "cell_type": "code",
   "execution_count": 95,
   "metadata": {},
   "outputs": [
    {
     "name": "stdout",
     "output_type": "stream",
     "text": [
      "115\n"
     ]
    }
   ],
   "source": [
    "print(sum([v > 50 for v in max_cases]))\n"
   ]
  },
  {
   "cell_type": "code",
   "execution_count": 96,
   "metadata": {},
   "outputs": [
    {
     "data": {
      "text/plain": [
       "15597"
      ]
     },
     "execution_count": 96,
     "metadata": {},
     "output_type": "execute_result"
    }
   ],
   "source": [
    "np.quantile(max_cases,1)"
   ]
  },
  {
   "cell_type": "code",
   "execution_count": 97,
   "metadata": {},
   "outputs": [
    {
     "name": "stdout",
     "output_type": "stream",
     "text": [
      "Number of counties with non-zero deaths\n",
      "212\n"
     ]
    },
    {
     "data": {
      "text/plain": [
       "(array([73.,  4.,  3.,  1.,  0.,  0.,  0.,  0.,  0.,  0.,  0.,  0.,  0.,\n",
       "         0.,  1.,  0.,  0.,  0.,  0.,  0.,  0.,  0.,  0.,  0.,  0.,  0.,\n",
       "         0.,  0.,  0.,  1.]),\n",
       " array([  2.        ,   8.33333333,  14.66666667,  21.        ,\n",
       "         27.33333333,  33.66666667,  40.        ,  46.33333333,\n",
       "         52.66666667,  59.        ,  65.33333333,  71.66666667,\n",
       "         78.        ,  84.33333333,  90.66666667,  97.        ,\n",
       "        103.33333333, 109.66666667, 116.        , 122.33333333,\n",
       "        128.66666667, 135.        , 141.33333333, 147.66666667,\n",
       "        154.        , 160.33333333, 166.66666667, 173.        ,\n",
       "        179.33333333, 185.66666667, 192.        ]),\n",
       " <a list of 30 Patch objects>)"
      ]
     },
     "execution_count": 97,
     "metadata": {},
     "output_type": "execute_result"
    },
    {
     "data": {
      "image/png": "[encoded data removed]",
      "text/plain": [
       "<Figure size 432x288 with 1 Axes>"
      ]
     },
     "metadata": {
      "needs_background": "light"
     },
     "output_type": "display_data"
    }
   ],
   "source": [
    "# Distribution of the maximum number of cases\n",
    "_deaths = list(df['deaths'])\n",
    "\n",
    "max_deaths = []\n",
    "for i in range(len(df)):\n",
    "    max_deaths.append(max(_deaths[i]))\n",
    "\n",
    "print('Number of counties with non-zero deaths')\n",
    "print(sum([v >0 for v in max_deaths]))\n",
    "# plt.hist(max_cases)\n",
    "\n",
    "# print(sum([v >0 for v in max_cases]))\n",
    "plt.hist([v for v in max_deaths if v > 1],bins=30)"
   ]
  },
  {
   "cell_type": "code",
   "execution_count": 98,
   "metadata": {},
   "outputs": [
    {
     "data": {
      "text/plain": [
       "764"
      ]
     },
     "execution_count": 98,
     "metadata": {},
     "output_type": "execute_result"
    }
   ],
   "source": [
    "sum(max_deaths)"
   ]
  },
  {
   "cell_type": "code",
   "execution_count": 99,
   "metadata": {},
   "outputs": [
    {
     "data": {
      "text/plain": [
       "192"
      ]
     },
     "execution_count": 99,
     "metadata": {},
     "output_type": "execute_result"
    }
   ],
   "source": [
    "max(max_deaths)"
   ]
  },
  {
   "cell_type": "code",
   "execution_count": 100,
   "metadata": {},
   "outputs": [
    {
     "data": {
      "text/plain": [
       "178.81900000001087"
      ]
     },
     "execution_count": 100,
     "metadata": {},
     "output_type": "execute_result"
    }
   ],
   "source": [
    "np.quantile(max_deaths,.9999)"
   ]
  },
  {
   "cell_type": "markdown",
   "metadata": {},
   "source": [
    "### Clean data"
   ]
  },
  {
   "cell_type": "code",
   "execution_count": 105,
   "metadata": {},
   "outputs": [],
   "source": [
    "# Remove counties with zero cases\n",
    "max_cases = [max(v) for v in df['cases']]\n",
    "df['max_cases'] = max_cases\n",
    "# df_with_cases = df[df['max_cases'] > 0]\n",
    "df =  df[df['max_cases'] > 0]\n"
   ]
  },
  {
   "cell_type": "code",
   "execution_count": 103,
   "metadata": {},
   "outputs": [],
   "source": [
    "if evaluation_criteria == 'hold out counties':\n",
    "    # Randomly select counties for train/test split\n",
    "\n",
    "    # Shuffle data\n",
    "    shuffled_df = df_with_cases.sample(frac=1)\n",
    "    # Break into train test (random k-fold cross val on the training set is done to pick hyperparams)\n",
    "    train_ratio, val_ratio, test_ratio = .75,0,.25\n",
    "\n",
    "    train_df = shuffled_df[0:int(train_ratio*len(shuffled_df))]\n",
    "    test_df = shuffled_df[int(train_ratio*len(shuffled_df))+int(val_ratio*len(shuffled_df)):]\n",
    "elif evaluation_criteria == 'predict current day':\n",
    "    # Train df is all previous days\n",
    "    # Test df is all days including current day\n",
    "    previous_deaths = [d[:-1] for d in copy.deepcopy(df['deaths'])]\n",
    "    previous_cases = [c[:-1] for c in copy.deepcopy(df['cases'])]\n",
    "    train_df = copy.deepcopy(df)\n",
    "    train_df['deaths'] = previous_deaths\n",
    "    train_df['cases'] = previous_cases\n",
    "    test_df = df\n",
    "else:\n",
    "    print('Unknown evaluation criteria')\n",
    "    raise ValueError\n",
    "\n"
   ]
  },
  {
   "cell_type": "markdown",
   "metadata": {},
   "source": [
    "## Predict data from model:"
   ]
  },
  {
   "cell_type": "code",
   "execution_count": 104,
   "metadata": {},
   "outputs": [],
   "source": [
    "predicted_df = fit_and_predict(train_df,test_df)"
   ]
  },
  {
   "cell_type": "markdown",
   "metadata": {},
   "source": [
    "## Evaluate and visualize model "
   ]
  },
  {
   "cell_type": "code",
   "execution_count": 106,
   "metadata": {},
   "outputs": [],
   "source": [
    "def plot_prediction(row):\n",
    "    \"\"\"\n",
    "    Plots model predictions vs actual\n",
    "    row: dataframe row\n",
    "    window: autoregressive window size\n",
    "    \"\"\"\n",
    "    key = 'deaths'\n",
    "    \n",
    "    model_predictions = [float(v) for v in row['predicted_deaths']]\n",
    "    for i,val in enumerate(row[key]):\n",
    "        if val > 0:\n",
    "            start_point = i\n",
    "            break\n",
    "        \n",
    "    plt.plot(row[key][start_point:], label=key)\n",
    "    \n",
    "    \n",
    "    plt.plot(model_predictions[start_point:],label='predictions')\n",
    "    print(model_predictions[start_point:])\n",
    "    plt.fill_between(list(range(len(row[key][start_point:]))),row[key][start_point:],model_predictions[start_point:])\n",
    "    plt.legend()\n",
    "    plt.show()\n",
    "    "
   ]
  },
  {
   "cell_type": "code",
   "execution_count": 108,
   "metadata": {
    "scrolled": false
   },
   "outputs": [
    {
     "name": "stdout",
     "output_type": "stream",
     "text": [
      "[1.75, 1.75, 2.3125, 7.5625, 12.6875, 13.9375, 22.625, 27.3125, 49.25, 54.3125, 54.3125]\n"
     ]
    },
    {
     "data": {
      "image/png": "[encoded data removed]",
      "text/plain": [
       "<Figure size 432x288 with 1 Axes>"
      ]
     },
     "metadata": {
      "needs_background": "light"
     },
     "output_type": "display_data"
    },
    {
     "name": "stdout",
     "output_type": "stream",
     "text": [
      "[1.75, 1.75, 1.1875, 2.9375, 7.5, 10.8125, 13.9375, 18.0625, 19.625, 22.6875, 25.625, 29.0625, 37.8125, 42.75, 42.75, 45.875, 49.25, 52.625, 54.3125, 54.3125, 54.3125, 54.3125, 54.3125, 54.3125, 54.3125]\n"
     ]
    },
    {
     "data": {
      "image/png": "[encoded data removed]",
      "text/plain": [
       "<Figure size 432x288 with 1 Axes>"
      ]
     },
     "metadata": {
      "needs_background": "light"
     },
     "output_type": "display_data"
    }
   ],
   "source": [
    "for i in range(len(test_df)):\n",
    "    row = test_df.iloc[i]\n",
    "    # If number of deaths greater than 3\n",
    "    if max(row['deaths']) > 3:\n",
    "        plot_prediction(row)"
   ]
  },
  {
   "cell_type": "code",
   "execution_count": null,
   "metadata": {},
   "outputs": [],
   "source": []
  }
 ],
 "metadata": {
  "kernelspec": {
   "display_name": "Python 3",
   "language": "python",
   "name": "python3"
  },
  "language_info": {
   "codemirror_mode": {
    "name": "ipython",
    "version": 3
   },
   "file_extension": ".py",
   "mimetype": "text/x-python",
   "name": "python",
   "nbconvert_exporter": "python",
   "pygments_lexer": "ipython3",
   "version": "3.6.10"
  }
 },
 "nbformat": 4,
 "nbformat_minor": 4
}
