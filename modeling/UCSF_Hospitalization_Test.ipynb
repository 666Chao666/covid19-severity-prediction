{
 "cells": [
  {
   "cell_type": "code",
   "execution_count": 145,
   "metadata": {},
   "outputs": [],
   "source": [
    "import numpy as np\n",
    "import pandas as pd\n",
    "from os.path import join as oj\n",
    "import os\n",
    "import pandas as pd\n",
    "import sys\n",
    "import inspect\n",
    "import datetime\n",
    "from scipy.stats import percentileofscore\n",
    "currentdir = os.path.dirname(os.path.abspath(inspect.getfile(inspect.currentframe())))\n",
    "parentdir = os.path.dirname(currentdir)\n",
    "sys.path.append(parentdir)\n",
    "sys.path.append(parentdir + '/modeling')\n",
    "import load_data\n",
    "from fit_and_predict import add_preds\n",
    "from functions import merge_data\n",
    "from viz import  viz_interactive\n",
    "import numpy as np\n",
    "import pandas as pd\n",
    "from os.path import join as oj\n",
    "import os\n",
    "import pandas as pd\n",
    "import sys\n",
    "import matplotlib as plt\n",
    "from scipy.stats import percentileofscore\n",
    "\n",
    "# CHANGE THIS\n",
    "from exponential_modeling import *\n",
    "from fit_and_predict import *"
   ]
  },
  {
   "cell_type": "code",
   "execution_count": 43,
   "metadata": {},
   "outputs": [
    {
     "name": "stdout",
     "output_type": "stream",
     "text": [
      "loading data...\n",
      "loading county-level data...\n",
      "loaded and merged COVID-19 cases/deaths data successfully\n"
     ]
    }
   ],
   "source": [
    "# Load in the Data\n",
    "\n",
    "print('loading data...')\n",
    "NUM_DAYS_LIST = [1, 2, 3, 4, 5, 6, 7]\n",
    "df_county = load_data.load_county_level(data_dir=oj(parentdir, 'data'))\n",
    "\n",
    "#df_county = add_preds(df_county, NUM_DAYS_LIST=NUM_DAYS_LIST,\n",
    "#                          cached_dir=oj(parentdir, 'data'))"
   ]
  },
  {
   "cell_type": "code",
   "execution_count": 24,
   "metadata": {},
   "outputs": [
    {
     "data": {
      "text/plain": [
       "'/home/ubuntu/new_uploader/modeling'"
      ]
     },
     "execution_count": 24,
     "metadata": {},
     "output_type": "execute_result"
    }
   ],
   "source": [
    "currentdir"
   ]
  },
  {
   "cell_type": "code",
   "execution_count": 207,
   "metadata": {},
   "outputs": [
    {
     "data": {
      "text/plain": [
       "0      0\n",
       "1      0\n",
       "2      1\n",
       "3      1\n",
       "4      0\n",
       "5      0\n",
       "6      0\n",
       "7      0\n",
       "8      1\n",
       "9      3\n",
       "10     2\n",
       "11     1\n",
       "12     0\n",
       "13     1\n",
       "14     2\n",
       "15     2\n",
       "16     4\n",
       "17     7\n",
       "18     7\n",
       "19     7\n",
       "20     9\n",
       "21    13\n",
       "22    15\n",
       "23    16\n",
       "24    18\n",
       "25    21\n",
       "26    23\n",
       "27    22\n",
       "28    25\n",
       "29    27\n",
       "30    30\n",
       "31    30\n",
       "32    30\n",
       "33    32\n",
       "34    31\n",
       "35    33\n",
       "36    34\n",
       "37    28\n",
       "38    25\n",
       "39    25\n",
       "40    27\n",
       "41    25\n",
       "42    24\n",
       "43    26\n",
       "44    25\n",
       "45    26\n",
       "46    25\n",
       "47    23\n",
       "48    18\n",
       "49    19\n",
       "50    19\n",
       "51    22\n",
       "52    24\n",
       "53    25\n",
       "Name: hospitalizations, dtype: int64"
      ]
     },
     "execution_count": 207,
     "metadata": {},
     "output_type": "execute_result"
    }
   ],
   "source": [
    "# Currently selecting confirmed cases, can look at probable later\n",
    "df_ucsf = pd.read_csv(\"../../covid-19-private-data/ucsf_hospitalization_data.csv\", sep=\"\\t\")\n",
    "df_ucsf = df_ucsf[[\"Date\", \"ZSFG COVID-19+ (total admitted)\"]]\n",
    "df_ucsf = df_ucsf.rename(columns={\"ZSFG COVID-19+ (total admitted)\": \"hospitalizations\"})\n",
    "#df_ucsf_hosp = df_ucsf.tranpose()\n",
    "df_ucsf_hosp = df_ucsf[\"hospitalizations\"] \n",
    "df_ucsf_hosp"
   ]
  },
  {
   "cell_type": "code",
   "execution_count": 214,
   "metadata": {},
   "outputs": [
    {
     "data": {
      "text/plain": [
       "[array([25.5, 27.9, 30.3])]"
      ]
     },
     "execution_count": 214,
     "metadata": {},
     "output_type": "execute_result"
    }
   ],
   "source": [
    "#Now We Fit Linear Model \n",
    "UCSF_data = np.array(df_ucsf_hosp.to_numpy())\n",
    "UCSF_data = UCSF_data[:27]\n",
    "UCSF_data = UCSF_data.reshape(1,len(UCSF_data))\n",
    "linear_fit(UCSF_data,'eval_mode',np.array([1,2,3]))"
   ]
  },
  {
   "cell_type": "code",
   "execution_count": null,
   "metadata": {},
   "outputs": [],
   "source": [
    "#Exponential Fit\n"
   ]
  }
 ],
 "metadata": {
  "kernelspec": {
   "display_name": "Environment (conda_anaconda3)",
   "language": "python",
   "name": "conda_anaconda3"
  },
  "language_info": {
   "codemirror_mode": {
    "name": "ipython",
    "version": 3
   },
   "file_extension": ".py",
   "mimetype": "text/x-python",
   "name": "python",
   "nbconvert_exporter": "python",
   "pygments_lexer": "ipython3",
   "version": "3.6.6"
  }
 },
 "nbformat": 4,
 "nbformat_minor": 4
}
