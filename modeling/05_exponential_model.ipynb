{
 "cells": [
  {
   "cell_type": "code",
   "execution_count": 3,
   "metadata": {},
   "outputs": [],
   "source": [
    "import sys\n",
    "#sys.path\n",
    "sys.path.append('../')"
   ]
  },
  {
   "cell_type": "code",
   "execution_count": 105,
   "metadata": {},
   "outputs": [
    {
     "name": "stdout",
     "output_type": "stream",
     "text": [
      "The autoreload extension is already loaded. To reload it, use:\n",
      "  %reload_ext autoreload\n"
     ]
    }
   ],
   "source": [
    "%load_ext autoreload\n",
    "%autoreload 2\n",
    "import sklearn\n",
    "import numpy as np\n",
    "import scipy as sp\n",
    "import pandas as pd\n",
    "import matplotlib.pyplot as plt\n",
    "import matplotlib.dates as mdates\n",
    "import seaborn as sns\n",
    "from bokeh.plotting import figure, show, output_notebook, output_file, save\n",
    "from functions import merge_data\n",
    "from sklearn.model_selection import RandomizedSearchCV\n",
    "import load_data\n",
    "import exponential_modeling\n",
    "import fit_and_predict\n",
    "import copy\n",
    "\n",
    "from sklearn.linear_model import LinearRegression\n",
    "from sklearn.tree import DecisionTreeRegressor\n",
    "from sklearn.ensemble import RandomForestRegressor"
   ]
  },
  {
   "cell_type": "markdown",
   "metadata": {},
   "source": [
    "## get prediction for next day"
   ]
  },
  {
   "cell_type": "markdown",
   "metadata": {},
   "source": [
    "There are currently two models:   \n",
    "  1. method=\"exponential\" fits an exponential curve to the number of deaths  \n",
    "  2. method=\"cases_exponential_rate_constant\" fits an exponential curve to the number of cases, and use the death rate of the previous day to estimate deaths  "
   ]
  },
  {
   "cell_type": "code",
   "execution_count": 50,
   "metadata": {},
   "outputs": [],
   "source": [
    "df = load_data.load_county_level(dir_mod = '../')\n",
    "df = df.sort_values(load_data.outcome_deaths, ascending=False)\n",
    "outcome_cases = load_data.outcome_cases # most recent day\n",
    "outcome_deaths = load_data.outcome_deaths\n",
    "important_vars = load_data.important_keys(df)"
   ]
  },
  {
   "cell_type": "code",
   "execution_count": 34,
   "metadata": {},
   "outputs": [],
   "source": [
    "df = exponential_modeling.estimate_deaths(df)"
   ]
  },
  {
   "cell_type": "code",
   "execution_count": 30,
   "metadata": {},
   "outputs": [
    {
     "data": {
      "text/plain": [
       "906     438\n",
       "1423    126\n",
       "553      47\n",
       "923      23\n",
       "124      22\n",
       "       ... \n",
       "540       0\n",
       "538       0\n",
       "537       0\n",
       "534       0\n",
       "1500      0\n",
       "Name: predicted_deaths_exponential, Length: 1501, dtype: int64"
      ]
     },
     "execution_count": 30,
     "metadata": {},
     "output_type": "execute_result"
    }
   ],
   "source": [
    "df['predicted_deaths_exponential']"
   ]
  },
  {
   "cell_type": "markdown",
   "metadata": {},
   "source": [
    "## Validation (for counties with more than 5 deaths)"
   ]
  },
  {
   "cell_type": "code",
   "execution_count": 10,
   "metadata": {},
   "outputs": [],
   "source": [
    "df2 = exponential_modeling.create_leave_one_day_out_valid(df)\n",
    "method = 'cases_exponential_rate_constant'\n",
    "df2 = exponential_modeling.estimate_deaths(df2, method=method)"
   ]
  },
  {
   "cell_type": "code",
   "execution_count": 11,
   "metadata": {},
   "outputs": [],
   "source": [
    "outcome = np.array([df['deaths'].values[i][-1] for i in range(len(df))])\n",
    "preds = df2[f'predicted_deaths_{method}']"
   ]
  },
  {
   "cell_type": "code",
   "execution_count": 12,
   "metadata": {},
   "outputs": [
    {
     "data": {
      "text/plain": [
       "[<matplotlib.lines.Line2D at 0x7fd8857e2050>]"
      ]
     },
     "execution_count": 12,
     "metadata": {},
     "output_type": "execute_result"
    },
    {
     "data": {
      "image/png": "[encoded data removed]",
      "text/plain": [
       "<Figure size 432x288 with 1 Axes>"
      ]
     },
     "metadata": {
      "needs_background": "light"
     },
     "output_type": "display_data"
    }
   ],
   "source": [
    "plt.scatter(np.log(preds[outcome > 5]), np.log(outcome[outcome > 5]))\n",
    "plt.xlim([1.5, 5.5])\n",
    "plt.ylim([1.5, 5.5])\n",
    "plt.plot([1.5, 5.5], [1.5, 5.5], ls=\"--\", c=\".3\")"
   ]
  },
  {
   "cell_type": "code",
   "execution_count": 53,
   "metadata": {},
   "outputs": [],
   "source": [
    "df = exponential_modeling.estimate_deaths(df, target_day=np.array(range(1, 8)))"
   ]
  },
  {
   "cell_type": "markdown",
   "metadata": {},
   "source": [
    "## Different time horizon"
   ]
  },
  {
   "cell_type": "code",
   "execution_count": 187,
   "metadata": {},
   "outputs": [],
   "source": [
    "h = 3 # predicting 3 days in advance\n",
    "previous_deaths = [d[:-h] for d in copy.deepcopy(df['deaths'])]\n",
    "previous_cases = [c[:-h] for c in copy.deepcopy(df['cases'])]\n",
    "train_df = copy.deepcopy(df)\n",
    "train_df['deaths'] = previous_deaths\n",
    "train_df['cases'] = previous_cases\n",
    "test_df = copy.deepcopy(df)\n",
    "#df_preds = fit_and_predict.fit_and_predict(train_df, test_df, method='exponential', target_day=[h])"
   ]
  },
  {
   "cell_type": "markdown",
   "metadata": {},
   "source": [
    "### fitting exponential curve to number of deaths"
   ]
  },
  {
   "cell_type": "code",
   "execution_count": 182,
   "metadata": {},
   "outputs": [],
   "source": [
    "#df_preds = fit_and_predict.fit_and_predict(train_df, test_df, method='exponential', target_day=[h])\n",
    "df_preds = exponential_modeling.estimate_deaths(train_df,\n",
    "                                                method = 'exponential',\n",
    "                                                target_day=np.array([h]))\n",
    "preds = [df_preds['predicted_deaths_exponential'].values[i][0] for i in range(len(df))]"
   ]
  },
  {
   "cell_type": "code",
   "execution_count": 183,
   "metadata": {},
   "outputs": [
    {
     "data": {
      "text/plain": [
       "[<matplotlib.lines.Line2D at 0x7fd8854384d0>]"
      ]
     },
     "execution_count": 183,
     "metadata": {},
     "output_type": "execute_result"
    },
    {
     "data": {
      "image/png": "[encoded data removed]",
      "text/plain": [
       "<Figure size 432x288 with 1 Axes>"
      ]
     },
     "metadata": {
      "needs_background": "light"
     },
     "output_type": "display_data"
    }
   ],
   "source": [
    "plt.scatter((outcome[outcome > 5]), np.array(preds)[outcome > 5])\n",
    "axis_lim = [-1, 30]\n",
    "plt.xlim(axis_lim)\n",
    "plt.ylim(axis_lim)\n",
    "plt.plot(axis_lim, axis_lim, ls=\"--\", c=\".3\")\n",
    "\n",
    "## underestimaing most of the time"
   ]
  },
  {
   "cell_type": "markdown",
   "metadata": {},
   "source": [
    "### fitting exponential curve to number of cases, then multiply by death rate"
   ]
  },
  {
   "cell_type": "code",
   "execution_count": 184,
   "metadata": {},
   "outputs": [],
   "source": [
    "method = 'cases_exponential_rate_constant'\n",
    "df_preds = exponential_modeling.estimate_deaths(train_df,\n",
    "                                                method=method,\n",
    "                                                target_day=np.array([h]))\n",
    "preds = [df_preds[f'predicted_deaths_{method}'].values[i][0] for i in range(len(df))]"
   ]
  },
  {
   "cell_type": "code",
   "execution_count": 185,
   "metadata": {},
   "outputs": [],
   "source": [
    "outcome = np.array([df['deaths'].values[i][-1] for i in range(len(df))])"
   ]
  },
  {
   "cell_type": "code",
   "execution_count": 186,
   "metadata": {},
   "outputs": [
    {
     "data": {
      "text/plain": [
       "[<matplotlib.lines.Line2D at 0x7fd885426bd0>]"
      ]
     },
     "execution_count": 186,
     "metadata": {},
     "output_type": "execute_result"
    },
    {
     "data": {
      "image/png": "[encoded data removed]",
      "text/plain": [
       "<Figure size 432x288 with 1 Axes>"
      ]
     },
     "metadata": {
      "needs_background": "light"
     },
     "output_type": "display_data"
    }
   ],
   "source": [
    "plt.scatter((outcome[outcome > 5]), np.array(preds)[outcome > 5])\n",
    "axis_lim = [-1, 30]\n",
    "plt.xlim(axis_lim)\n",
    "plt.ylim(axis_lim)\n",
    "plt.plot(axis_lim, axis_lim, ls=\"--\", c=\".3\")\n",
    "\n",
    "## overestimaing most of the time"
   ]
  },
  {
   "cell_type": "code",
   "execution_count": null,
   "metadata": {},
   "outputs": [],
   "source": []
  }
 ],
 "metadata": {
  "kernelspec": {
   "display_name": "Python 3",
   "language": "python",
   "name": "python3"
  },
  "language_info": {
   "codemirror_mode": {
    "name": "ipython",
    "version": 3
   },
   "file_extension": ".py",
   "mimetype": "text/x-python",
   "name": "python",
   "nbconvert_exporter": "python",
   "pygments_lexer": "ipython3",
   "version": "3.7.5"
  }
 },
 "nbformat": 4,
 "nbformat_minor": 2
}
