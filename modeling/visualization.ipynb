{
 "cells": [
  {
   "cell_type": "code",
   "execution_count": 1,
   "metadata": {},
   "outputs": [],
   "source": [
    "import sys\n",
    "sys.path.append('../') "
   ]
  },
  {
   "cell_type": "code",
   "execution_count": 2,
   "metadata": {},
   "outputs": [
    {
     "name": "stderr",
     "output_type": "stream",
     "text": [
      "/accounts/grad/xsli/.local/lib/python3.7/site-packages/statsmodels/tools/_testing.py:19: FutureWarning: pandas.util.testing is deprecated. Use the functions in the public API at pandas.testing instead.\n",
      "  import pandas.util.testing as tm\n"
     ]
    }
   ],
   "source": [
    "%load_ext autoreload\n",
    "%autoreload 2\n",
    "import sklearn\n",
    "import copy\n",
    "import numpy as np\n",
    "\n",
    "import scipy as sp\n",
    "import pandas as pd\n",
    "import matplotlib.pyplot as plt\n",
    "import matplotlib.dates as mdates\n",
    "import seaborn as sns\n",
    "# from viz import viz\n",
    "from bokeh.plotting import figure, show, output_notebook, output_file, save\n",
    "from functions import merge_data\n",
    "from sklearn.model_selection import RandomizedSearchCV\n",
    "import load_data\n",
    "\n",
    "\n",
    "from sklearn.linear_model import LinearRegression\n",
    "from sklearn.tree import DecisionTreeRegressor\n",
    "from sklearn.ensemble import RandomForestRegressor\n",
    "\n",
    "from fit_and_predict import fit_and_predict"
   ]
  },
  {
   "cell_type": "code",
   "execution_count": 71,
   "metadata": {},
   "outputs": [],
   "source": [
    "preds_df = pd.read_pickle(\"multi_day_6.pkl\")"
   ]
  },
  {
   "cell_type": "code",
   "execution_count": 4,
   "metadata": {},
   "outputs": [],
   "source": [
    "def l1(arr1,arr2):\n",
    "    return sum([np.abs(a1-a2) for (a1,a2) in zip(arr1,arr2)])/len(arr1)"
   ]
  },
  {
   "cell_type": "code",
   "execution_count": 72,
   "metadata": {},
   "outputs": [],
   "source": [
    "outcome = np.array([preds_df['deaths'].values[i][-1] for i in range(len(preds_df))])\n",
    "residuals = {}\n",
    "for days_ahead in [1, 2, 3]:\n",
    "    for lower_threshold in [0, 20, 80]:\n",
    "        colname = f'{days_ahead} day, deaths>={lower_threshold}'\n",
    "        residuals[colname] = []\n",
    "        for method in ['exponential', 'shared_exponential', 'ensemble']:\n",
    "            key = f'predicted_deaths_{method}_{days_ahead}'\n",
    "            preds = [p for p in preds_df[key][outcome > lower_threshold]]\n",
    "            residuals[colname].append(l1(outcome[outcome > lower_threshold],preds))\n",
    "            if method == 'shared_exponential':\n",
    "                key = f'predicted_deaths_{method}_{days_ahead}_demographics'\n",
    "                preds = [p[-1] for p in preds_df[key][outcome > lower_threshold]]\n",
    "                residuals[colname].append(l1(outcome[outcome > lower_threshold],preds))    "
   ]
  },
  {
   "cell_type": "code",
   "execution_count": 6,
   "metadata": {},
   "outputs": [],
   "source": [
    "def highlight_max(s):\n",
    "    '''\n",
    "    highlight the maximum in a Series yellow.\n",
    "    '''\n",
    "    is_max = s == s.min()\n",
    "    return ['background-color: yellow' if v else '' for v in is_max]"
   ]
  },
  {
   "cell_type": "code",
   "execution_count": 73,
   "metadata": {},
   "outputs": [
    {
     "data": {
      "text/html": [
       "<style  type=\"text/css\" >\n",
       "    #T_a1c28a0a_73a2_11ea_b5ad_18037319446drow1_col1 {\n",
       "            background-color:  yellow;\n",
       "        }    #T_a1c28a0a_73a2_11ea_b5ad_18037319446drow1_col2 {\n",
       "            background-color:  yellow;\n",
       "        }    #T_a1c28a0a_73a2_11ea_b5ad_18037319446drow1_col4 {\n",
       "            background-color:  yellow;\n",
       "        }    #T_a1c28a0a_73a2_11ea_b5ad_18037319446drow1_col5 {\n",
       "            background-color:  yellow;\n",
       "        }    #T_a1c28a0a_73a2_11ea_b5ad_18037319446drow3_col0 {\n",
       "            background-color:  yellow;\n",
       "        }    #T_a1c28a0a_73a2_11ea_b5ad_18037319446drow3_col3 {\n",
       "            background-color:  yellow;\n",
       "        }    #T_a1c28a0a_73a2_11ea_b5ad_18037319446drow3_col6 {\n",
       "            background-color:  yellow;\n",
       "        }    #T_a1c28a0a_73a2_11ea_b5ad_18037319446drow3_col7 {\n",
       "            background-color:  yellow;\n",
       "        }    #T_a1c28a0a_73a2_11ea_b5ad_18037319446drow3_col8 {\n",
       "            background-color:  yellow;\n",
       "        }</style><table id=\"T_a1c28a0a_73a2_11ea_b5ad_18037319446d\" ><thead>    <tr>        <th class=\"blank level0\" ></th>        <th class=\"col_heading level0 col0\" >1 day, deaths>=0</th>        <th class=\"col_heading level0 col1\" >1 day, deaths>=20</th>        <th class=\"col_heading level0 col2\" >1 day, deaths>=80</th>        <th class=\"col_heading level0 col3\" >2 day, deaths>=0</th>        <th class=\"col_heading level0 col4\" >2 day, deaths>=20</th>        <th class=\"col_heading level0 col5\" >2 day, deaths>=80</th>        <th class=\"col_heading level0 col6\" >3 day, deaths>=0</th>        <th class=\"col_heading level0 col7\" >3 day, deaths>=20</th>        <th class=\"col_heading level0 col8\" >3 day, deaths>=80</th>    </tr></thead><tbody>\n",
       "                <tr>\n",
       "                        <th id=\"T_a1c28a0a_73a2_11ea_b5ad_18037319446dlevel0_row0\" class=\"row_heading level0 row0\" >exponential</th>\n",
       "                        <td id=\"T_a1c28a0a_73a2_11ea_b5ad_18037319446drow0_col0\" class=\"data row0 col0\" >1.28</td>\n",
       "                        <td id=\"T_a1c28a0a_73a2_11ea_b5ad_18037319446drow0_col1\" class=\"data row0 col1\" >10.80</td>\n",
       "                        <td id=\"T_a1c28a0a_73a2_11ea_b5ad_18037319446drow0_col2\" class=\"data row0 col2\" >22.07</td>\n",
       "                        <td id=\"T_a1c28a0a_73a2_11ea_b5ad_18037319446drow0_col3\" class=\"data row0 col3\" >2.86</td>\n",
       "                        <td id=\"T_a1c28a0a_73a2_11ea_b5ad_18037319446drow0_col4\" class=\"data row0 col4\" >22.57</td>\n",
       "                        <td id=\"T_a1c28a0a_73a2_11ea_b5ad_18037319446drow0_col5\" class=\"data row0 col5\" >41.04</td>\n",
       "                        <td id=\"T_a1c28a0a_73a2_11ea_b5ad_18037319446drow0_col6\" class=\"data row0 col6\" >4.03</td>\n",
       "                        <td id=\"T_a1c28a0a_73a2_11ea_b5ad_18037319446drow0_col7\" class=\"data row0 col7\" >29.76</td>\n",
       "                        <td id=\"T_a1c28a0a_73a2_11ea_b5ad_18037319446drow0_col8\" class=\"data row0 col8\" >23.34</td>\n",
       "            </tr>\n",
       "            <tr>\n",
       "                        <th id=\"T_a1c28a0a_73a2_11ea_b5ad_18037319446dlevel0_row1\" class=\"row_heading level0 row1\" >shared</th>\n",
       "                        <td id=\"T_a1c28a0a_73a2_11ea_b5ad_18037319446drow1_col0\" class=\"data row1 col0\" >1.48</td>\n",
       "                        <td id=\"T_a1c28a0a_73a2_11ea_b5ad_18037319446drow1_col1\" class=\"data row1 col1\" >5.82</td>\n",
       "                        <td id=\"T_a1c28a0a_73a2_11ea_b5ad_18037319446drow1_col2\" class=\"data row1 col2\" >8.29</td>\n",
       "                        <td id=\"T_a1c28a0a_73a2_11ea_b5ad_18037319446drow1_col3\" class=\"data row1 col3\" >3.53</td>\n",
       "                        <td id=\"T_a1c28a0a_73a2_11ea_b5ad_18037319446drow1_col4\" class=\"data row1 col4\" >11.77</td>\n",
       "                        <td id=\"T_a1c28a0a_73a2_11ea_b5ad_18037319446drow1_col5\" class=\"data row1 col5\" >20.20</td>\n",
       "                        <td id=\"T_a1c28a0a_73a2_11ea_b5ad_18037319446drow1_col6\" class=\"data row1 col6\" >6.21</td>\n",
       "                        <td id=\"T_a1c28a0a_73a2_11ea_b5ad_18037319446drow1_col7\" class=\"data row1 col7\" >19.61</td>\n",
       "                        <td id=\"T_a1c28a0a_73a2_11ea_b5ad_18037319446drow1_col8\" class=\"data row1 col8\" >42.49</td>\n",
       "            </tr>\n",
       "            <tr>\n",
       "                        <th id=\"T_a1c28a0a_73a2_11ea_b5ad_18037319446dlevel0_row2\" class=\"row_heading level0 row2\" >demographics</th>\n",
       "                        <td id=\"T_a1c28a0a_73a2_11ea_b5ad_18037319446drow2_col0\" class=\"data row2 col0\" >1.81</td>\n",
       "                        <td id=\"T_a1c28a0a_73a2_11ea_b5ad_18037319446drow2_col1\" class=\"data row2 col1\" >8.80</td>\n",
       "                        <td id=\"T_a1c28a0a_73a2_11ea_b5ad_18037319446drow2_col2\" class=\"data row2 col2\" >16.87</td>\n",
       "                        <td id=\"T_a1c28a0a_73a2_11ea_b5ad_18037319446drow2_col3\" class=\"data row2 col3\" >4.52</td>\n",
       "                        <td id=\"T_a1c28a0a_73a2_11ea_b5ad_18037319446drow2_col4\" class=\"data row2 col4\" >20.58</td>\n",
       "                        <td id=\"T_a1c28a0a_73a2_11ea_b5ad_18037319446drow2_col5\" class=\"data row2 col5\" >43.63</td>\n",
       "                        <td id=\"T_a1c28a0a_73a2_11ea_b5ad_18037319446drow2_col6\" class=\"data row2 col6\" >9.29</td>\n",
       "                        <td id=\"T_a1c28a0a_73a2_11ea_b5ad_18037319446drow2_col7\" class=\"data row2 col7\" >13.79</td>\n",
       "                        <td id=\"T_a1c28a0a_73a2_11ea_b5ad_18037319446drow2_col8\" class=\"data row2 col8\" >22.27</td>\n",
       "            </tr>\n",
       "            <tr>\n",
       "                        <th id=\"T_a1c28a0a_73a2_11ea_b5ad_18037319446dlevel0_row3\" class=\"row_heading level0 row3\" >ensemble</th>\n",
       "                        <td id=\"T_a1c28a0a_73a2_11ea_b5ad_18037319446drow3_col0\" class=\"data row3 col0\" >1.18</td>\n",
       "                        <td id=\"T_a1c28a0a_73a2_11ea_b5ad_18037319446drow3_col1\" class=\"data row3 col1\" >6.84</td>\n",
       "                        <td id=\"T_a1c28a0a_73a2_11ea_b5ad_18037319446drow3_col2\" class=\"data row3 col2\" >11.76</td>\n",
       "                        <td id=\"T_a1c28a0a_73a2_11ea_b5ad_18037319446drow3_col3\" class=\"data row3 col3\" >2.31</td>\n",
       "                        <td id=\"T_a1c28a0a_73a2_11ea_b5ad_18037319446drow3_col4\" class=\"data row3 col4\" >13.16</td>\n",
       "                        <td id=\"T_a1c28a0a_73a2_11ea_b5ad_18037319446drow3_col5\" class=\"data row3 col5\" >24.29</td>\n",
       "                        <td id=\"T_a1c28a0a_73a2_11ea_b5ad_18037319446drow3_col6\" class=\"data row3 col6\" >3.40</td>\n",
       "                        <td id=\"T_a1c28a0a_73a2_11ea_b5ad_18037319446drow3_col7\" class=\"data row3 col7\" >13.40</td>\n",
       "                        <td id=\"T_a1c28a0a_73a2_11ea_b5ad_18037319446drow3_col8\" class=\"data row3 col8\" >16.17</td>\n",
       "            </tr>\n",
       "    </tbody></table>"
      ],
      "text/plain": [
       "<pandas.io.formats.style.Styler at 0x7f740cd40b10>"
      ]
     },
     "execution_count": 73,
     "metadata": {},
     "output_type": "execute_result"
    }
   ],
   "source": [
    "res_df = pd.DataFrame(residuals, index=['exponential', 'shared', 'demographics', 'ensemble'])\n",
    "res_df = res_df.astype(float).round(2)\n",
    "res_df.style.highlight_min().format(\"{:.2f}\")"
   ]
  },
  {
   "cell_type": "code",
   "execution_count": 8,
   "metadata": {},
   "outputs": [],
   "source": [
    "import plotly.express as px"
   ]
  },
  {
   "cell_type": "code",
   "execution_count": 26,
   "metadata": {},
   "outputs": [
    {
     "name": "stdout",
     "output_type": "stream",
     "text": [
      "[288.53517429 187.91087188 188.56513915 ...   2.05381077   2.05381077\n",
      "   2.05381077]\n"
     ]
    }
   ],
   "source": [
    "outcome = np.array([preds_df['deaths'].values[i][-1] for i in range(len(preds_df))])\n",
    "preds_df['true_outcome'] = outcome\n",
    "print(np.array([p[-1] for p in preds_df['predicted_deaths_ensemble_3']]))\n",
    "preds_df['3_day_ahead_pred'] = [p[-1] for p in preds_df['predicted_deaths_ensemble_3']]\n",
    "preds_df = preds_df[preds_df.true_outcome > 10]\n",
    "fig = px.scatter(preds_df, x='true_outcome', y='3_day_ahead_pred')"
   ]
  },
  {
   "cell_type": "code",
   "execution_count": 15,
   "metadata": {},
   "outputs": [
    {
     "data": {
      "text/plain": [
       "Index(['predicted_deaths_ensemble_1',\n",
       "       'predicted_deaths_shared_exponential_1_demographics',\n",
       "       'predicted_deaths_exponential_1',\n",
       "       'predicted_deaths_shared_exponential_1',\n",
       "       'predicted_deaths_exponential_2',\n",
       "       'predicted_deaths_shared_exponential_2',\n",
       "       'predicted_deaths_shared_exponential_2_demographics',\n",
       "       'predicted_deaths_ensemble_2', 'predicted_deaths_exponential_3',\n",
       "       'predicted_deaths_shared_exponential_3',\n",
       "       'predicted_deaths_shared_exponential_3_demographics',\n",
       "       'predicted_deaths_ensemble_3', 'countyFIPS', 'CountyNamew/StateAbbrev',\n",
       "       'deaths', 'true_outcome', '3_day_ahead_pred'],\n",
       "      dtype='object')"
      ]
     },
     "execution_count": 15,
     "metadata": {},
     "output_type": "execute_result"
    }
   ],
   "source": [
    "preds_df.keys()"
   ]
  },
  {
   "cell_type": "code",
   "execution_count": 27,
   "metadata": {},
   "outputs": [],
   "source": [
    "preds_df_2 = preds_df[preds_df.true_outcome > 80]\n",
    "fig = px.scatter(preds_df_2, x='true_outcome', y='3_day_ahead_pred', text='CountyNamew/StateAbbrev')"
   ]
  },
  {
   "cell_type": "code",
   "execution_count": 28,
   "metadata": {},
   "outputs": [
    {
     "data": {
      "application/vnd.plotly.v1+json": {
       "config": {
        "plotlyServerURL": "https://plot.ly"
       },
       "data": [
        {
         "hoverlabel": {
          "namelength": 0
         },
         "hovertemplate": "true_outcome=%{x}<br>3_day_ahead_pred=%{y}<br>CountyNamew/StateAbbrev=%{text}",
         "legendgroup": "",
         "marker": {
          "color": "#636efa",
          "symbol": "circle"
         },
         "mode": "markers+text",
         "name": "",
         "showlegend": false,
         "text": [
          "Queens, NY",
          "Kings, NY",
          "Bronx, NY",
          "King, WA",
          "New York, NY",
          "Orleans, LA",
          "Wayne, MI"
         ],
         "textposition": "bottom center",
         "type": "scatter",
         "x": [
          305,
          216,
          215,
          150,
          119,
          86,
          83
         ],
         "xaxis": "x",
         "y": [
          288.53517428818634,
          187.91087187916136,
          188.56513915095275,
          171.57572452888348,
          106.9268207846854,
          107.38924551936212,
          81.18055413592184
         ],
         "yaxis": "y"
        }
       ],
       "layout": {
        "font": {
         "family": "sans-serif",
         "size": 12
        },
        "legend": {
         "tracegroupgap": 0
        },
        "margin": {
         "t": 60
        },
        "shapes": [
         {
          "line": {
           "color": "LightSeaGreen",
           "width": 3
          },
          "type": "line",
          "x0": 80,
          "x1": 320,
          "xref": "x",
          "y0": 80,
          "y1": 320,
          "yref": "y"
         }
        ],
        "template": {
         "data": {
          "bar": [
           {
            "error_x": {
             "color": "#2a3f5f"
            },
            "error_y": {
             "color": "#2a3f5f"
            },
            "marker": {
             "line": {
              "color": "#E5ECF6",
              "width": 0.5
             }
            },
            "type": "bar"
           }
          ],
          "barpolar": [
           {
            "marker": {
             "line": {
              "color": "#E5ECF6",
              "width": 0.5
             }
            },
            "type": "barpolar"
           }
          ],
          "carpet": [
           {
            "aaxis": {
             "endlinecolor": "#2a3f5f",
             "gridcolor": "white",
             "linecolor": "white",
             "minorgridcolor": "white",
             "startlinecolor": "#2a3f5f"
            },
            "baxis": {
             "endlinecolor": "#2a3f5f",
             "gridcolor": "white",
             "linecolor": "white",
             "minorgridcolor": "white",
             "startlinecolor": "#2a3f5f"
            },
            "type": "carpet"
           }
          ],
          "choropleth": [
           {
            "colorbar": {
             "outlinewidth": 0,
             "ticks": ""
            },
            "type": "choropleth"
           }
          ],
          "contour": [
           {
            "colorbar": {
             "outlinewidth": 0,
             "ticks": ""
            },
            "colorscale": [
             [
              0,
              "#0d0887"
             ],
             [
              0.1111111111111111,
              "#46039f"
             ],
             [
              0.2222222222222222,
              "#7201a8"
             ],
             [
              0.3333333333333333,
              "#9c179e"
             ],
             [
              0.4444444444444444,
              "#bd3786"
             ],
             [
              0.5555555555555556,
              "#d8576b"
             ],
             [
              0.6666666666666666,
              "#ed7953"
             ],
             [
              0.7777777777777778,
              "#fb9f3a"
             ],
             [
              0.8888888888888888,
              "#fdca26"
             ],
             [
              1,
              "#f0f921"
             ]
            ],
            "type": "contour"
           }
          ],
          "contourcarpet": [
           {
            "colorbar": {
             "outlinewidth": 0,
             "ticks": ""
            },
            "type": "contourcarpet"
           }
          ],
          "heatmap": [
           {
            "colorbar": {
             "outlinewidth": 0,
             "ticks": ""
            },
            "colorscale": [
             [
              0,
              "#0d0887"
             ],
             [
              0.1111111111111111,
              "#46039f"
             ],
             [
              0.2222222222222222,
              "#7201a8"
             ],
             [
              0.3333333333333333,
              "#9c179e"
             ],
             [
              0.4444444444444444,
              "#bd3786"
             ],
             [
              0.5555555555555556,
              "#d8576b"
             ],
             [
              0.6666666666666666,
              "#ed7953"
             ],
             [
              0.7777777777777778,
              "#fb9f3a"
             ],
             [
              0.8888888888888888,
              "#fdca26"
             ],
             [
              1,
              "#f0f921"
             ]
            ],
            "type": "heatmap"
           }
          ],
          "heatmapgl": [
           {
            "colorbar": {
             "outlinewidth": 0,
             "ticks": ""
            },
            "colorscale": [
             [
              0,
              "#0d0887"
             ],
             [
              0.1111111111111111,
              "#46039f"
             ],
             [
              0.2222222222222222,
              "#7201a8"
             ],
             [
              0.3333333333333333,
              "#9c179e"
             ],
             [
              0.4444444444444444,
              "#bd3786"
             ],
             [
              0.5555555555555556,
              "#d8576b"
             ],
             [
              0.6666666666666666,
              "#ed7953"
             ],
             [
              0.7777777777777778,
              "#fb9f3a"
             ],
             [
              0.8888888888888888,
              "#fdca26"
             ],
             [
              1,
              "#f0f921"
             ]
            ],
            "type": "heatmapgl"
           }
          ],
          "histogram": [
           {
            "marker": {
             "colorbar": {
              "outlinewidth": 0,
              "ticks": ""
             }
            },
            "type": "histogram"
           }
          ],
          "histogram2d": [
           {
            "colorbar": {
             "outlinewidth": 0,
             "ticks": ""
            },
            "colorscale": [
             [
              0,
              "#0d0887"
             ],
             [
              0.1111111111111111,
              "#46039f"
             ],
             [
              0.2222222222222222,
              "#7201a8"
             ],
             [
              0.3333333333333333,
              "#9c179e"
             ],
             [
              0.4444444444444444,
              "#bd3786"
             ],
             [
              0.5555555555555556,
              "#d8576b"
             ],
             [
              0.6666666666666666,
              "#ed7953"
             ],
             [
              0.7777777777777778,
              "#fb9f3a"
             ],
             [
              0.8888888888888888,
              "#fdca26"
             ],
             [
              1,
              "#f0f921"
             ]
            ],
            "type": "histogram2d"
           }
          ],
          "histogram2dcontour": [
           {
            "colorbar": {
             "outlinewidth": 0,
             "ticks": ""
            },
            "colorscale": [
             [
              0,
              "#0d0887"
             ],
             [
              0.1111111111111111,
              "#46039f"
             ],
             [
              0.2222222222222222,
              "#7201a8"
             ],
             [
              0.3333333333333333,
              "#9c179e"
             ],
             [
              0.4444444444444444,
              "#bd3786"
             ],
             [
              0.5555555555555556,
              "#d8576b"
             ],
             [
              0.6666666666666666,
              "#ed7953"
             ],
             [
              0.7777777777777778,
              "#fb9f3a"
             ],
             [
              0.8888888888888888,
              "#fdca26"
             ],
             [
              1,
              "#f0f921"
             ]
            ],
            "type": "histogram2dcontour"
           }
          ],
          "mesh3d": [
           {
            "colorbar": {
             "outlinewidth": 0,
             "ticks": ""
            },
            "type": "mesh3d"
           }
          ],
          "parcoords": [
           {
            "line": {
             "colorbar": {
              "outlinewidth": 0,
              "ticks": ""
             }
            },
            "type": "parcoords"
           }
          ],
          "pie": [
           {
            "automargin": true,
            "type": "pie"
           }
          ],
          "scatter": [
           {
            "marker": {
             "colorbar": {
              "outlinewidth": 0,
              "ticks": ""
             }
            },
            "type": "scatter"
           }
          ],
          "scatter3d": [
           {
            "line": {
             "colorbar": {
              "outlinewidth": 0,
              "ticks": ""
             }
            },
            "marker": {
             "colorbar": {
              "outlinewidth": 0,
              "ticks": ""
             }
            },
            "type": "scatter3d"
           }
          ],
          "scattercarpet": [
           {
            "marker": {
             "colorbar": {
              "outlinewidth": 0,
              "ticks": ""
             }
            },
            "type": "scattercarpet"
           }
          ],
          "scattergeo": [
           {
            "marker": {
             "colorbar": {
              "outlinewidth": 0,
              "ticks": ""
             }
            },
            "type": "scattergeo"
           }
          ],
          "scattergl": [
           {
            "marker": {
             "colorbar": {
              "outlinewidth": 0,
              "ticks": ""
             }
            },
            "type": "scattergl"
           }
          ],
          "scattermapbox": [
           {
            "marker": {
             "colorbar": {
              "outlinewidth": 0,
              "ticks": ""
             }
            },
            "type": "scattermapbox"
           }
          ],
          "scatterpolar": [
           {
            "marker": {
             "colorbar": {
              "outlinewidth": 0,
              "ticks": ""
             }
            },
            "type": "scatterpolar"
           }
          ],
          "scatterpolargl": [
           {
            "marker": {
             "colorbar": {
              "outlinewidth": 0,
              "ticks": ""
             }
            },
            "type": "scatterpolargl"
           }
          ],
          "scatterternary": [
           {
            "marker": {
             "colorbar": {
              "outlinewidth": 0,
              "ticks": ""
             }
            },
            "type": "scatterternary"
           }
          ],
          "surface": [
           {
            "colorbar": {
             "outlinewidth": 0,
             "ticks": ""
            },
            "colorscale": [
             [
              0,
              "#0d0887"
             ],
             [
              0.1111111111111111,
              "#46039f"
             ],
             [
              0.2222222222222222,
              "#7201a8"
             ],
             [
              0.3333333333333333,
              "#9c179e"
             ],
             [
              0.4444444444444444,
              "#bd3786"
             ],
             [
              0.5555555555555556,
              "#d8576b"
             ],
             [
              0.6666666666666666,
              "#ed7953"
             ],
             [
              0.7777777777777778,
              "#fb9f3a"
             ],
             [
              0.8888888888888888,
              "#fdca26"
             ],
             [
              1,
              "#f0f921"
             ]
            ],
            "type": "surface"
           }
          ],
          "table": [
           {
            "cells": {
             "fill": {
              "color": "#EBF0F8"
             },
             "line": {
              "color": "white"
             }
            },
            "header": {
             "fill": {
              "color": "#C8D4E3"
             },
             "line": {
              "color": "white"
             }
            },
            "type": "table"
           }
          ]
         },
         "layout": {
          "annotationdefaults": {
           "arrowcolor": "#2a3f5f",
           "arrowhead": 0,
           "arrowwidth": 1
          },
          "coloraxis": {
           "colorbar": {
            "outlinewidth": 0,
            "ticks": ""
           }
          },
          "colorscale": {
           "diverging": [
            [
             0,
             "#8e0152"
            ],
            [
             0.1,
             "#c51b7d"
            ],
            [
             0.2,
             "#de77ae"
            ],
            [
             0.3,
             "#f1b6da"
            ],
            [
             0.4,
             "#fde0ef"
            ],
            [
             0.5,
             "#f7f7f7"
            ],
            [
             0.6,
             "#e6f5d0"
            ],
            [
             0.7,
             "#b8e186"
            ],
            [
             0.8,
             "#7fbc41"
            ],
            [
             0.9,
             "#4d9221"
            ],
            [
             1,
             "#276419"
            ]
           ],
           "sequential": [
            [
             0,
             "#0d0887"
            ],
            [
             0.1111111111111111,
             "#46039f"
            ],
            [
             0.2222222222222222,
             "#7201a8"
            ],
            [
             0.3333333333333333,
             "#9c179e"
            ],
            [
             0.4444444444444444,
             "#bd3786"
            ],
            [
             0.5555555555555556,
             "#d8576b"
            ],
            [
             0.6666666666666666,
             "#ed7953"
            ],
            [
             0.7777777777777778,
             "#fb9f3a"
            ],
            [
             0.8888888888888888,
             "#fdca26"
            ],
            [
             1,
             "#f0f921"
            ]
           ],
           "sequentialminus": [
            [
             0,
             "#0d0887"
            ],
            [
             0.1111111111111111,
             "#46039f"
            ],
            [
             0.2222222222222222,
             "#7201a8"
            ],
            [
             0.3333333333333333,
             "#9c179e"
            ],
            [
             0.4444444444444444,
             "#bd3786"
            ],
            [
             0.5555555555555556,
             "#d8576b"
            ],
            [
             0.6666666666666666,
             "#ed7953"
            ],
            [
             0.7777777777777778,
             "#fb9f3a"
            ],
            [
             0.8888888888888888,
             "#fdca26"
            ],
            [
             1,
             "#f0f921"
            ]
           ]
          },
          "colorway": [
           "#636efa",
           "#EF553B",
           "#00cc96",
           "#ab63fa",
           "#FFA15A",
           "#19d3f3",
           "#FF6692",
           "#B6E880",
           "#FF97FF",
           "#FECB52"
          ],
          "font": {
           "color": "#2a3f5f"
          },
          "geo": {
           "bgcolor": "white",
           "lakecolor": "white",
           "landcolor": "#E5ECF6",
           "showlakes": true,
           "showland": true,
           "subunitcolor": "white"
          },
          "hoverlabel": {
           "align": "left"
          },
          "hovermode": "closest",
          "mapbox": {
           "style": "light"
          },
          "paper_bgcolor": "white",
          "plot_bgcolor": "#E5ECF6",
          "polar": {
           "angularaxis": {
            "gridcolor": "white",
            "linecolor": "white",
            "ticks": ""
           },
           "bgcolor": "#E5ECF6",
           "radialaxis": {
            "gridcolor": "white",
            "linecolor": "white",
            "ticks": ""
           }
          },
          "scene": {
           "xaxis": {
            "backgroundcolor": "#E5ECF6",
            "gridcolor": "white",
            "gridwidth": 2,
            "linecolor": "white",
            "showbackground": true,
            "ticks": "",
            "zerolinecolor": "white"
           },
           "yaxis": {
            "backgroundcolor": "#E5ECF6",
            "gridcolor": "white",
            "gridwidth": 2,
            "linecolor": "white",
            "showbackground": true,
            "ticks": "",
            "zerolinecolor": "white"
           },
           "zaxis": {
            "backgroundcolor": "#E5ECF6",
            "gridcolor": "white",
            "gridwidth": 2,
            "linecolor": "white",
            "showbackground": true,
            "ticks": "",
            "zerolinecolor": "white"
           }
          },
          "shapedefaults": {
           "line": {
            "color": "#2a3f5f"
           }
          },
          "ternary": {
           "aaxis": {
            "gridcolor": "white",
            "linecolor": "white",
            "ticks": ""
           },
           "baxis": {
            "gridcolor": "white",
            "linecolor": "white",
            "ticks": ""
           },
           "bgcolor": "#E5ECF6",
           "caxis": {
            "gridcolor": "white",
            "linecolor": "white",
            "ticks": ""
           }
          },
          "title": {
           "x": 0.05
          },
          "xaxis": {
           "automargin": true,
           "gridcolor": "white",
           "linecolor": "white",
           "ticks": "",
           "title": {
            "standoff": 15
           },
           "zerolinecolor": "white",
           "zerolinewidth": 2
          },
          "yaxis": {
           "automargin": true,
           "gridcolor": "white",
           "linecolor": "white",
           "ticks": "",
           "title": {
            "standoff": 15
           },
           "zerolinecolor": "white",
           "zerolinewidth": 2
          }
         }
        },
        "title": {
         "text": "Actual deaths by 3/29 vs. our predictions on 3/26",
         "x": 0.5,
         "xanchor": "center",
         "yanchor": "top"
        },
        "xaxis": {
         "anchor": "y",
         "domain": [
          0,
          1
         ],
         "title": {
          "text": "Actual deaths"
         },
         "type": "log"
        },
        "yaxis": {
         "anchor": "x",
         "domain": [
          0,
          1
         ],
         "title": {
          "text": "3 day ahead prediction"
         },
         "type": "log"
        }
       }
      },
      "text/html": [
       "<div>\n",
       "        \n",
       "        \n",
       "            <div id=\"ff8143f0-8c99-44eb-8bbf-c3170e8bbb1c\" class=\"plotly-graph-div\" style=\"height:525px; width:100%;\"></div>\n",
       "            <script type=\"text/javascript\">\n",
       "                require([\"plotly\"], function(Plotly) {\n",
       "                    window.PLOTLYENV=window.PLOTLYENV || {};\n",
       "                    \n",
       "                if (document.getElementById(\"ff8143f0-8c99-44eb-8bbf-c3170e8bbb1c\")) {\n",
       "                    Plotly.newPlot(\n",
       "                        'ff8143f0-8c99-44eb-8bbf-c3170e8bbb1c',\n",
       "                        [{\"hoverlabel\": {\"namelength\": 0}, \"hovertemplate\": \"true_outcome=%{x}<br>3_day_ahead_pred=%{y}<br>CountyNamew/StateAbbrev=%{text}\", \"legendgroup\": \"\", \"marker\": {\"color\": \"#636efa\", \"symbol\": \"circle\"}, \"mode\": \"markers+text\", \"name\": \"\", \"showlegend\": false, \"text\": [\"Queens, NY\", \"Kings, NY\", \"Bronx, NY\", \"King, WA\", \"New York, NY\", \"Orleans, LA\", \"Wayne, MI\"], \"textposition\": \"bottom center\", \"type\": \"scatter\", \"x\": [305.0, 216.0, 215.0, 150.0, 119.0, 86.0, 83.0], \"xaxis\": \"x\", \"y\": [288.53517428818634, 187.91087187916136, 188.56513915095275, 171.57572452888348, 106.9268207846854, 107.38924551936212, 81.18055413592184], \"yaxis\": \"y\"}],\n",
       "                        {\"font\": {\"family\": \"sans-serif\", \"size\": 12}, \"legend\": {\"tracegroupgap\": 0}, \"margin\": {\"t\": 60}, \"shapes\": [{\"line\": {\"color\": \"LightSeaGreen\", \"width\": 3}, \"type\": \"line\", \"x0\": 80, \"x1\": 320, \"xref\": \"x\", \"y0\": 80, \"y1\": 320, \"yref\": \"y\"}], \"template\": {\"data\": {\"bar\": [{\"error_x\": {\"color\": \"#2a3f5f\"}, \"error_y\": {\"color\": \"#2a3f5f\"}, \"marker\": {\"line\": {\"color\": \"#E5ECF6\", \"width\": 0.5}}, \"type\": \"bar\"}], \"barpolar\": [{\"marker\": {\"line\": {\"color\": \"#E5ECF6\", \"width\": 0.5}}, \"type\": \"barpolar\"}], \"carpet\": [{\"aaxis\": {\"endlinecolor\": \"#2a3f5f\", \"gridcolor\": \"white\", \"linecolor\": \"white\", \"minorgridcolor\": \"white\", \"startlinecolor\": \"#2a3f5f\"}, \"baxis\": {\"endlinecolor\": \"#2a3f5f\", \"gridcolor\": \"white\", \"linecolor\": \"white\", \"minorgridcolor\": \"white\", \"startlinecolor\": \"#2a3f5f\"}, \"type\": \"carpet\"}], \"choropleth\": [{\"colorbar\": {\"outlinewidth\": 0, \"ticks\": \"\"}, \"type\": \"choropleth\"}], \"contour\": [{\"colorbar\": {\"outlinewidth\": 0, \"ticks\": \"\"}, \"colorscale\": [[0.0, \"#0d0887\"], [0.1111111111111111, \"#46039f\"], [0.2222222222222222, \"#7201a8\"], [0.3333333333333333, \"#9c179e\"], [0.4444444444444444, \"#bd3786\"], [0.5555555555555556, \"#d8576b\"], [0.6666666666666666, \"#ed7953\"], [0.7777777777777778, \"#fb9f3a\"], [0.8888888888888888, \"#fdca26\"], [1.0, \"#f0f921\"]], \"type\": \"contour\"}], \"contourcarpet\": [{\"colorbar\": {\"outlinewidth\": 0, \"ticks\": \"\"}, \"type\": \"contourcarpet\"}], \"heatmap\": [{\"colorbar\": {\"outlinewidth\": 0, \"ticks\": \"\"}, \"colorscale\": [[0.0, \"#0d0887\"], [0.1111111111111111, \"#46039f\"], [0.2222222222222222, \"#7201a8\"], [0.3333333333333333, \"#9c179e\"], [0.4444444444444444, \"#bd3786\"], [0.5555555555555556, \"#d8576b\"], [0.6666666666666666, \"#ed7953\"], [0.7777777777777778, \"#fb9f3a\"], [0.8888888888888888, \"#fdca26\"], [1.0, \"#f0f921\"]], \"type\": \"heatmap\"}], \"heatmapgl\": [{\"colorbar\": {\"outlinewidth\": 0, \"ticks\": \"\"}, \"colorscale\": [[0.0, \"#0d0887\"], [0.1111111111111111, \"#46039f\"], [0.2222222222222222, \"#7201a8\"], [0.3333333333333333, \"#9c179e\"], [0.4444444444444444, \"#bd3786\"], [0.5555555555555556, \"#d8576b\"], [0.6666666666666666, \"#ed7953\"], [0.7777777777777778, \"#fb9f3a\"], [0.8888888888888888, \"#fdca26\"], [1.0, \"#f0f921\"]], \"type\": \"heatmapgl\"}], \"histogram\": [{\"marker\": {\"colorbar\": {\"outlinewidth\": 0, \"ticks\": \"\"}}, \"type\": \"histogram\"}], \"histogram2d\": [{\"colorbar\": {\"outlinewidth\": 0, \"ticks\": \"\"}, \"colorscale\": [[0.0, \"#0d0887\"], [0.1111111111111111, \"#46039f\"], [0.2222222222222222, \"#7201a8\"], [0.3333333333333333, \"#9c179e\"], [0.4444444444444444, \"#bd3786\"], [0.5555555555555556, \"#d8576b\"], [0.6666666666666666, \"#ed7953\"], [0.7777777777777778, \"#fb9f3a\"], [0.8888888888888888, \"#fdca26\"], [1.0, \"#f0f921\"]], \"type\": \"histogram2d\"}], \"histogram2dcontour\": [{\"colorbar\": {\"outlinewidth\": 0, \"ticks\": \"\"}, \"colorscale\": [[0.0, \"#0d0887\"], [0.1111111111111111, \"#46039f\"], [0.2222222222222222, \"#7201a8\"], [0.3333333333333333, \"#9c179e\"], [0.4444444444444444, \"#bd3786\"], [0.5555555555555556, \"#d8576b\"], [0.6666666666666666, \"#ed7953\"], [0.7777777777777778, \"#fb9f3a\"], [0.8888888888888888, \"#fdca26\"], [1.0, \"#f0f921\"]], \"type\": \"histogram2dcontour\"}], \"mesh3d\": [{\"colorbar\": {\"outlinewidth\": 0, \"ticks\": \"\"}, \"type\": \"mesh3d\"}], \"parcoords\": [{\"line\": {\"colorbar\": {\"outlinewidth\": 0, \"ticks\": \"\"}}, \"type\": \"parcoords\"}], \"pie\": [{\"automargin\": true, \"type\": \"pie\"}], \"scatter\": [{\"marker\": {\"colorbar\": {\"outlinewidth\": 0, \"ticks\": \"\"}}, \"type\": \"scatter\"}], \"scatter3d\": [{\"line\": {\"colorbar\": {\"outlinewidth\": 0, \"ticks\": \"\"}}, \"marker\": {\"colorbar\": {\"outlinewidth\": 0, \"ticks\": \"\"}}, \"type\": \"scatter3d\"}], \"scattercarpet\": [{\"marker\": {\"colorbar\": {\"outlinewidth\": 0, \"ticks\": \"\"}}, \"type\": \"scattercarpet\"}], \"scattergeo\": [{\"marker\": {\"colorbar\": {\"outlinewidth\": 0, \"ticks\": \"\"}}, \"type\": \"scattergeo\"}], \"scattergl\": [{\"marker\": {\"colorbar\": {\"outlinewidth\": 0, \"ticks\": \"\"}}, \"type\": \"scattergl\"}], \"scattermapbox\": [{\"marker\": {\"colorbar\": {\"outlinewidth\": 0, \"ticks\": \"\"}}, \"type\": \"scattermapbox\"}], \"scatterpolar\": [{\"marker\": {\"colorbar\": {\"outlinewidth\": 0, \"ticks\": \"\"}}, \"type\": \"scatterpolar\"}], \"scatterpolargl\": [{\"marker\": {\"colorbar\": {\"outlinewidth\": 0, \"ticks\": \"\"}}, \"type\": \"scatterpolargl\"}], \"scatterternary\": [{\"marker\": {\"colorbar\": {\"outlinewidth\": 0, \"ticks\": \"\"}}, \"type\": \"scatterternary\"}], \"surface\": [{\"colorbar\": {\"outlinewidth\": 0, \"ticks\": \"\"}, \"colorscale\": [[0.0, \"#0d0887\"], [0.1111111111111111, \"#46039f\"], [0.2222222222222222, \"#7201a8\"], [0.3333333333333333, \"#9c179e\"], [0.4444444444444444, \"#bd3786\"], [0.5555555555555556, \"#d8576b\"], [0.6666666666666666, \"#ed7953\"], [0.7777777777777778, \"#fb9f3a\"], [0.8888888888888888, \"#fdca26\"], [1.0, \"#f0f921\"]], \"type\": \"surface\"}], \"table\": [{\"cells\": {\"fill\": {\"color\": \"#EBF0F8\"}, \"line\": {\"color\": \"white\"}}, \"header\": {\"fill\": {\"color\": \"#C8D4E3\"}, \"line\": {\"color\": \"white\"}}, \"type\": \"table\"}]}, \"layout\": {\"annotationdefaults\": {\"arrowcolor\": \"#2a3f5f\", \"arrowhead\": 0, \"arrowwidth\": 1}, \"coloraxis\": {\"colorbar\": {\"outlinewidth\": 0, \"ticks\": \"\"}}, \"colorscale\": {\"diverging\": [[0, \"#8e0152\"], [0.1, \"#c51b7d\"], [0.2, \"#de77ae\"], [0.3, \"#f1b6da\"], [0.4, \"#fde0ef\"], [0.5, \"#f7f7f7\"], [0.6, \"#e6f5d0\"], [0.7, \"#b8e186\"], [0.8, \"#7fbc41\"], [0.9, \"#4d9221\"], [1, \"#276419\"]], \"sequential\": [[0.0, \"#0d0887\"], [0.1111111111111111, \"#46039f\"], [0.2222222222222222, \"#7201a8\"], [0.3333333333333333, \"#9c179e\"], [0.4444444444444444, \"#bd3786\"], [0.5555555555555556, \"#d8576b\"], [0.6666666666666666, \"#ed7953\"], [0.7777777777777778, \"#fb9f3a\"], [0.8888888888888888, \"#fdca26\"], [1.0, \"#f0f921\"]], \"sequentialminus\": [[0.0, \"#0d0887\"], [0.1111111111111111, \"#46039f\"], [0.2222222222222222, \"#7201a8\"], [0.3333333333333333, \"#9c179e\"], [0.4444444444444444, \"#bd3786\"], [0.5555555555555556, \"#d8576b\"], [0.6666666666666666, \"#ed7953\"], [0.7777777777777778, \"#fb9f3a\"], [0.8888888888888888, \"#fdca26\"], [1.0, \"#f0f921\"]]}, \"colorway\": [\"#636efa\", \"#EF553B\", \"#00cc96\", \"#ab63fa\", \"#FFA15A\", \"#19d3f3\", \"#FF6692\", \"#B6E880\", \"#FF97FF\", \"#FECB52\"], \"font\": {\"color\": \"#2a3f5f\"}, \"geo\": {\"bgcolor\": \"white\", \"lakecolor\": \"white\", \"landcolor\": \"#E5ECF6\", \"showlakes\": true, \"showland\": true, \"subunitcolor\": \"white\"}, \"hoverlabel\": {\"align\": \"left\"}, \"hovermode\": \"closest\", \"mapbox\": {\"style\": \"light\"}, \"paper_bgcolor\": \"white\", \"plot_bgcolor\": \"#E5ECF6\", \"polar\": {\"angularaxis\": {\"gridcolor\": \"white\", \"linecolor\": \"white\", \"ticks\": \"\"}, \"bgcolor\": \"#E5ECF6\", \"radialaxis\": {\"gridcolor\": \"white\", \"linecolor\": \"white\", \"ticks\": \"\"}}, \"scene\": {\"xaxis\": {\"backgroundcolor\": \"#E5ECF6\", \"gridcolor\": \"white\", \"gridwidth\": 2, \"linecolor\": \"white\", \"showbackground\": true, \"ticks\": \"\", \"zerolinecolor\": \"white\"}, \"yaxis\": {\"backgroundcolor\": \"#E5ECF6\", \"gridcolor\": \"white\", \"gridwidth\": 2, \"linecolor\": \"white\", \"showbackground\": true, \"ticks\": \"\", \"zerolinecolor\": \"white\"}, \"zaxis\": {\"backgroundcolor\": \"#E5ECF6\", \"gridcolor\": \"white\", \"gridwidth\": 2, \"linecolor\": \"white\", \"showbackground\": true, \"ticks\": \"\", \"zerolinecolor\": \"white\"}}, \"shapedefaults\": {\"line\": {\"color\": \"#2a3f5f\"}}, \"ternary\": {\"aaxis\": {\"gridcolor\": \"white\", \"linecolor\": \"white\", \"ticks\": \"\"}, \"baxis\": {\"gridcolor\": \"white\", \"linecolor\": \"white\", \"ticks\": \"\"}, \"bgcolor\": \"#E5ECF6\", \"caxis\": {\"gridcolor\": \"white\", \"linecolor\": \"white\", \"ticks\": \"\"}}, \"title\": {\"x\": 0.05}, \"xaxis\": {\"automargin\": true, \"gridcolor\": \"white\", \"linecolor\": \"white\", \"ticks\": \"\", \"title\": {\"standoff\": 15}, \"zerolinecolor\": \"white\", \"zerolinewidth\": 2}, \"yaxis\": {\"automargin\": true, \"gridcolor\": \"white\", \"linecolor\": \"white\", \"ticks\": \"\", \"title\": {\"standoff\": 15}, \"zerolinecolor\": \"white\", \"zerolinewidth\": 2}}}, \"title\": {\"text\": \"Actual deaths by 3/29 vs. our predictions on 3/26\", \"x\": 0.5, \"xanchor\": \"center\", \"yanchor\": \"top\"}, \"xaxis\": {\"anchor\": \"y\", \"domain\": [0.0, 1.0], \"title\": {\"text\": \"Actual deaths\"}, \"type\": \"log\"}, \"yaxis\": {\"anchor\": \"x\", \"domain\": [0.0, 1.0], \"title\": {\"text\": \"3 day ahead prediction\"}, \"type\": \"log\"}},\n",
       "                        {\"responsive\": true}\n",
       "                    ).then(function(){\n",
       "                            \n",
       "var gd = document.getElementById('ff8143f0-8c99-44eb-8bbf-c3170e8bbb1c');\n",
       "var x = new MutationObserver(function (mutations, observer) {{\n",
       "        var display = window.getComputedStyle(gd).display;\n",
       "        if (!display || display === 'none') {{\n",
       "            console.log([gd, 'removed!']);\n",
       "            Plotly.purge(gd);\n",
       "            observer.disconnect();\n",
       "        }}\n",
       "}});\n",
       "\n",
       "// Listen for the removal of the full notebook cells\n",
       "var notebookContainer = gd.closest('#notebook-container');\n",
       "if (notebookContainer) {{\n",
       "    x.observe(notebookContainer, {childList: true});\n",
       "}}\n",
       "\n",
       "// Listen for the clearing of the current output cell\n",
       "var outputEl = gd.closest('.output');\n",
       "if (outputEl) {{\n",
       "    x.observe(outputEl, {childList: true});\n",
       "}}\n",
       "\n",
       "                        })\n",
       "                };\n",
       "                });\n",
       "            </script>\n",
       "        </div>"
      ]
     },
     "metadata": {},
     "output_type": "display_data"
    }
   ],
   "source": [
    "fig.update_traces(textposition='bottom center')\n",
    "fig.update_layout(xaxis_type=\"log\", yaxis_type=\"log\")\n",
    "fig.add_shape(\n",
    "        # Line reference to the axes\n",
    "            type=\"line\",\n",
    "            xref=\"x\",\n",
    "            yref=\"y\",\n",
    "            x0=80,\n",
    "            y0=80,\n",
    "            x1=320,\n",
    "            y1=320,\n",
    "            line=dict(\n",
    "                color=\"LightSeaGreen\",\n",
    "                width=3,\n",
    "            ),\n",
    "        )\n",
    "fig.update_layout(\n",
    "    title=\"Actual deaths by 3/29 vs. our predictions on 3/26\",\n",
    "    xaxis_title=\"Actual deaths\",\n",
    "    yaxis_title=\"3 day ahead prediction\",\n",
    "    font = dict(\n",
    "        family='sans-serif', \n",
    "        size=12,\n",
    "    )\n",
    ")\n",
    "fig.update_layout(\n",
    "    title={\n",
    "        'text': \"Actual deaths by 3/29 vs. our predictions on 3/26\",\n",
    "        'x': 0.5,\n",
    "        'xanchor': 'center',\n",
    "        'yanchor': 'top'})"
   ]
  },
  {
   "cell_type": "code",
   "execution_count": null,
   "metadata": {},
   "outputs": [],
   "source": [
    "fig.show()"
   ]
  },
  {
   "cell_type": "code",
   "execution_count": 31,
   "metadata": {},
   "outputs": [],
   "source": [
    "preds_df['CountyName'] = preds_df['CountyNamew/StateAbbrev']\n",
    "preds_df_3 = preds_df[preds_df.CountyName.isin(['Wayne, MI',\n",
    "                                                'Orleans, LA',\n",
    "                                                'Los Angeles, CA',\n",
    "                                                'Santa Clara, CA',\n",
    "                                                'Snohomish, WA',\n",
    "                                                'Dougherty, GA'])]\n",
    "fig = px.scatter(preds_df_3, x='true_outcome', y='3_day_ahead_pred', text='CountyNamew/StateAbbrev')"
   ]
  },
  {
   "cell_type": "code",
   "execution_count": null,
   "metadata": {},
   "outputs": [],
   "source": [
    "fig.update_traces(textposition='bottom center')\n",
    "fig.update_layout(xaxis_type=\"log\", yaxis_type=\"log\")\n",
    "fig.add_shape(\n",
    "        # Line reference to the axes\n",
    "            type=\"line\",\n",
    "            xref=\"x\",\n",
    "            yref=\"y\",\n",
    "            x0=10,\n",
    "            y0=10,\n",
    "            x1=80,\n",
    "            y1=80,\n",
    "            line=dict(\n",
    "                color=\"LightSeaGreen\",\n",
    "                width=3,\n",
    "            ),\n",
    "        )\n",
    "fig.update_layout(\n",
    "    title=\"Recorded deaths by 3/29 vs. our predictions on 3/26\",\n",
    "    xaxis_title=\"Actual deaths\",\n",
    "    yaxis_title=\"3 day ahead prediction\",\n",
    "    font = dict(\n",
    "        family='sans-serif', \n",
    "        size=12,\n",
    "    )\n",
    ")\n",
    "fig.update_layout(\n",
    "    title={\n",
    "        'text': \"Recorded deaths by 3/29 vs. our predictions on 3/26\",\n",
    "        'x': 0.5,\n",
    "        'xanchor': 'center',\n",
    "        'yanchor': 'top'})"
   ]
  },
  {
   "cell_type": "code",
   "execution_count": 16,
   "metadata": {},
   "outputs": [],
   "source": [
    "preds_df_abr = preds_df[['predicted_deaths_ensemble_1', \n",
    "                         'predicted_deaths_ensemble_2',\n",
    "                        'predicted_deaths_ensemble_3',\n",
    "                        'true_outcome',\n",
    "                        'CountyName']]"
   ]
  },
  {
   "cell_type": "code",
   "execution_count": 34,
   "metadata": {},
   "outputs": [],
   "source": [
    "preds_df['3_day_pred'] = [p[-1] for p in preds_df['predicted_deaths_ensemble_3']]\n",
    "preds_df['2_day_pred'] = [p[-1] for p in preds_df['predicted_deaths_ensemble_2']]\n",
    "preds_df['1_day_pred'] = [p[-1] for p in preds_df['predicted_deaths_ensemble_1']]\n",
    "preds_df['Recorded deaths 3/30'] = preds_df['true_outcome']"
   ]
  },
  {
   "cell_type": "code",
   "execution_count": 35,
   "metadata": {},
   "outputs": [],
   "source": [
    "preds_df_abr = preds_df[['3_day_pred', \n",
    "                         '2_day_pred',\n",
    "                        '1_day_pred',\n",
    "                        'Recorded deaths 3/30',\n",
    "                        'CountyName']]"
   ]
  },
  {
   "cell_type": "code",
   "execution_count": 36,
   "metadata": {},
   "outputs": [
    {
     "data": {
      "text/html": [
       "<div>\n",
       "<style scoped>\n",
       "    .dataframe tbody tr th:only-of-type {\n",
       "        vertical-align: middle;\n",
       "    }\n",
       "\n",
       "    .dataframe tbody tr th {\n",
       "        vertical-align: top;\n",
       "    }\n",
       "\n",
       "    .dataframe thead th {\n",
       "        text-align: right;\n",
       "    }\n",
       "</style>\n",
       "<table border=\"1\" class=\"dataframe\">\n",
       "  <thead>\n",
       "    <tr style=\"text-align: right;\">\n",
       "      <th></th>\n",
       "      <th>3_day_pred</th>\n",
       "      <th>2_day_pred</th>\n",
       "      <th>1_day_pred</th>\n",
       "      <th>Recorded deaths 3/30</th>\n",
       "      <th>CountyName</th>\n",
       "    </tr>\n",
       "  </thead>\n",
       "  <tbody>\n",
       "    <tr>\n",
       "      <th>1841</th>\n",
       "      <td>288.535174</td>\n",
       "      <td>339.942444</td>\n",
       "      <td>316.247157</td>\n",
       "      <td>305.0</td>\n",
       "      <td>Queens, NY</td>\n",
       "    </tr>\n",
       "    <tr>\n",
       "      <th>1824</th>\n",
       "      <td>187.910872</td>\n",
       "      <td>273.286416</td>\n",
       "      <td>239.756130</td>\n",
       "      <td>216.0</td>\n",
       "      <td>Kings, NY</td>\n",
       "    </tr>\n",
       "    <tr>\n",
       "      <th>1803</th>\n",
       "      <td>188.565139</td>\n",
       "      <td>247.304473</td>\n",
       "      <td>240.532654</td>\n",
       "      <td>215.0</td>\n",
       "      <td>Bronx, NY</td>\n",
       "    </tr>\n",
       "    <tr>\n",
       "      <th>2941</th>\n",
       "      <td>171.575725</td>\n",
       "      <td>183.973404</td>\n",
       "      <td>165.554366</td>\n",
       "      <td>150.0</td>\n",
       "      <td>King, WA</td>\n",
       "    </tr>\n",
       "    <tr>\n",
       "      <th>1831</th>\n",
       "      <td>106.926821</td>\n",
       "      <td>140.500309</td>\n",
       "      <td>125.229781</td>\n",
       "      <td>119.0</td>\n",
       "      <td>New York, NY</td>\n",
       "    </tr>\n",
       "    <tr>\n",
       "      <th>1121</th>\n",
       "      <td>107.389246</td>\n",
       "      <td>106.009022</td>\n",
       "      <td>88.076551</td>\n",
       "      <td>86.0</td>\n",
       "      <td>Orleans, LA</td>\n",
       "    </tr>\n",
       "    <tr>\n",
       "      <th>1285</th>\n",
       "      <td>81.180554</td>\n",
       "      <td>74.967307</td>\n",
       "      <td>70.088589</td>\n",
       "      <td>83.0</td>\n",
       "      <td>Wayne, MI</td>\n",
       "    </tr>\n",
       "    <tr>\n",
       "      <th>1843</th>\n",
       "      <td>102.618831</td>\n",
       "      <td>67.332868</td>\n",
       "      <td>56.770569</td>\n",
       "      <td>58.0</td>\n",
       "      <td>Richmond, NY</td>\n",
       "    </tr>\n",
       "    <tr>\n",
       "      <th>1830</th>\n",
       "      <td>66.310665</td>\n",
       "      <td>56.047427</td>\n",
       "      <td>44.193175</td>\n",
       "      <td>48.0</td>\n",
       "      <td>Nassau, NY</td>\n",
       "    </tr>\n",
       "    <tr>\n",
       "      <th>1266</th>\n",
       "      <td>94.063903</td>\n",
       "      <td>58.916275</td>\n",
       "      <td>39.812686</td>\n",
       "      <td>48.0</td>\n",
       "      <td>Oakland, MI</td>\n",
       "    </tr>\n",
       "    <tr>\n",
       "      <th>1852</th>\n",
       "      <td>52.165932</td>\n",
       "      <td>57.065942</td>\n",
       "      <td>49.489622</td>\n",
       "      <td>44.0</td>\n",
       "      <td>Suffolk, NY</td>\n",
       "    </tr>\n",
       "    <tr>\n",
       "      <th>583</th>\n",
       "      <td>37.286412</td>\n",
       "      <td>44.225804</td>\n",
       "      <td>49.839984</td>\n",
       "      <td>44.0</td>\n",
       "      <td>Cook, IL</td>\n",
       "    </tr>\n",
       "    <tr>\n",
       "      <th>178</th>\n",
       "      <td>57.250648</td>\n",
       "      <td>53.677635</td>\n",
       "      <td>45.042213</td>\n",
       "      <td>44.0</td>\n",
       "      <td>Los Angeles, CA</td>\n",
       "    </tr>\n",
       "    <tr>\n",
       "      <th>1111</th>\n",
       "      <td>84.895861</td>\n",
       "      <td>54.083681</td>\n",
       "      <td>36.147157</td>\n",
       "      <td>37.0</td>\n",
       "      <td>Jefferson, LA</td>\n",
       "    </tr>\n",
       "    <tr>\n",
       "      <th>1748</th>\n",
       "      <td>42.649574</td>\n",
       "      <td>53.112896</td>\n",
       "      <td>40.694317</td>\n",
       "      <td>32.0</td>\n",
       "      <td>Bergen, NJ</td>\n",
       "    </tr>\n",
       "    <tr>\n",
       "      <th>2955</th>\n",
       "      <td>32.965038</td>\n",
       "      <td>30.292401</td>\n",
       "      <td>24.809099</td>\n",
       "      <td>31.0</td>\n",
       "      <td>Snohomish, WA</td>\n",
       "    </tr>\n",
       "    <tr>\n",
       "      <th>202</th>\n",
       "      <td>32.179684</td>\n",
       "      <td>35.323422</td>\n",
       "      <td>29.593563</td>\n",
       "      <td>28.0</td>\n",
       "      <td>Santa Clara, CA</td>\n",
       "    </tr>\n",
       "    <tr>\n",
       "      <th>1253</th>\n",
       "      <td>43.270309</td>\n",
       "      <td>29.221691</td>\n",
       "      <td>24.677735</td>\n",
       "      <td>27.0</td>\n",
       "      <td>Macomb, MI</td>\n",
       "    </tr>\n",
       "    <tr>\n",
       "      <th>282</th>\n",
       "      <td>30.673493</td>\n",
       "      <td>29.738320</td>\n",
       "      <td>25.867096</td>\n",
       "      <td>21.0</td>\n",
       "      <td>Fairfield, CT</td>\n",
       "    </tr>\n",
       "    <tr>\n",
       "      <th>1753</th>\n",
       "      <td>29.970239</td>\n",
       "      <td>35.650100</td>\n",
       "      <td>25.560821</td>\n",
       "      <td>20.0</td>\n",
       "      <td>Essex, NJ</td>\n",
       "    </tr>\n",
       "    <tr>\n",
       "      <th>1860</th>\n",
       "      <td>32.916796</td>\n",
       "      <td>14.902907</td>\n",
       "      <td>11.486543</td>\n",
       "      <td>19.0</td>\n",
       "      <td>Westchester, NY</td>\n",
       "    </tr>\n",
       "    <tr>\n",
       "      <th>407</th>\n",
       "      <td>26.840553</td>\n",
       "      <td>33.290435</td>\n",
       "      <td>23.464471</td>\n",
       "      <td>18.0</td>\n",
       "      <td>Dougherty, GA</td>\n",
       "    </tr>\n",
       "    <tr>\n",
       "      <th>1844</th>\n",
       "      <td>13.899142</td>\n",
       "      <td>10.059393</td>\n",
       "      <td>9.261437</td>\n",
       "      <td>18.0</td>\n",
       "      <td>Rockland, NY</td>\n",
       "    </tr>\n",
       "    <tr>\n",
       "      <th>420</th>\n",
       "      <td>31.214474</td>\n",
       "      <td>26.074067</td>\n",
       "      <td>16.505636</td>\n",
       "      <td>16.0</td>\n",
       "      <td>Fulton, GA</td>\n",
       "    </tr>\n",
       "    <tr>\n",
       "      <th>1721</th>\n",
       "      <td>21.274515</td>\n",
       "      <td>23.109140</td>\n",
       "      <td>17.103248</td>\n",
       "      <td>15.0</td>\n",
       "      <td>Clark, NV</td>\n",
       "    </tr>\n",
       "    <tr>\n",
       "      <th>1758</th>\n",
       "      <td>139.784052</td>\n",
       "      <td>43.792044</td>\n",
       "      <td>19.733480</td>\n",
       "      <td>14.0</td>\n",
       "      <td>Middlesex, NJ</td>\n",
       "    </tr>\n",
       "    <tr>\n",
       "      <th>299</th>\n",
       "      <td>28.873198</td>\n",
       "      <td>25.839857</td>\n",
       "      <td>15.673766</td>\n",
       "      <td>12.0</td>\n",
       "      <td>Broward, FL</td>\n",
       "    </tr>\n",
       "    <tr>\n",
       "      <th>1760</th>\n",
       "      <td>18.421700</td>\n",
       "      <td>22.502587</td>\n",
       "      <td>15.886296</td>\n",
       "      <td>12.0</td>\n",
       "      <td>Morris, NJ</td>\n",
       "    </tr>\n",
       "    <tr>\n",
       "      <th>718</th>\n",
       "      <td>13.754326</td>\n",
       "      <td>15.086773</td>\n",
       "      <td>12.921448</td>\n",
       "      <td>12.0</td>\n",
       "      <td>Marion, IN</td>\n",
       "    </tr>\n",
       "    <tr>\n",
       "      <th>239</th>\n",
       "      <td>17.565713</td>\n",
       "      <td>16.177189</td>\n",
       "      <td>13.654017</td>\n",
       "      <td>11.0</td>\n",
       "      <td>El Paso, CO</td>\n",
       "    </tr>\n",
       "    <tr>\n",
       "      <th>1759</th>\n",
       "      <td>21.407335</td>\n",
       "      <td>20.716812</td>\n",
       "      <td>14.242913</td>\n",
       "      <td>11.0</td>\n",
       "      <td>Monmouth, NJ</td>\n",
       "    </tr>\n",
       "    <tr>\n",
       "      <th>2551</th>\n",
       "      <td>14.217709</td>\n",
       "      <td>13.676864</td>\n",
       "      <td>12.164524</td>\n",
       "      <td>11.0</td>\n",
       "      <td>Dallas, TX</td>\n",
       "    </tr>\n",
       "    <tr>\n",
       "      <th>393</th>\n",
       "      <td>9.781875</td>\n",
       "      <td>14.031662</td>\n",
       "      <td>11.917334</td>\n",
       "      <td>11.0</td>\n",
       "      <td>Cobb, GA</td>\n",
       "    </tr>\n",
       "  </tbody>\n",
       "</table>\n",
       "</div>"
      ],
      "text/plain": [
       "      3_day_pred  2_day_pred  1_day_pred  Recorded deaths 3/30  \\\n",
       "1841  288.535174  339.942444  316.247157                 305.0   \n",
       "1824  187.910872  273.286416  239.756130                 216.0   \n",
       "1803  188.565139  247.304473  240.532654                 215.0   \n",
       "2941  171.575725  183.973404  165.554366                 150.0   \n",
       "1831  106.926821  140.500309  125.229781                 119.0   \n",
       "1121  107.389246  106.009022   88.076551                  86.0   \n",
       "1285   81.180554   74.967307   70.088589                  83.0   \n",
       "1843  102.618831   67.332868   56.770569                  58.0   \n",
       "1830   66.310665   56.047427   44.193175                  48.0   \n",
       "1266   94.063903   58.916275   39.812686                  48.0   \n",
       "1852   52.165932   57.065942   49.489622                  44.0   \n",
       "583    37.286412   44.225804   49.839984                  44.0   \n",
       "178    57.250648   53.677635   45.042213                  44.0   \n",
       "1111   84.895861   54.083681   36.147157                  37.0   \n",
       "1748   42.649574   53.112896   40.694317                  32.0   \n",
       "2955   32.965038   30.292401   24.809099                  31.0   \n",
       "202    32.179684   35.323422   29.593563                  28.0   \n",
       "1253   43.270309   29.221691   24.677735                  27.0   \n",
       "282    30.673493   29.738320   25.867096                  21.0   \n",
       "1753   29.970239   35.650100   25.560821                  20.0   \n",
       "1860   32.916796   14.902907   11.486543                  19.0   \n",
       "407    26.840553   33.290435   23.464471                  18.0   \n",
       "1844   13.899142   10.059393    9.261437                  18.0   \n",
       "420    31.214474   26.074067   16.505636                  16.0   \n",
       "1721   21.274515   23.109140   17.103248                  15.0   \n",
       "1758  139.784052   43.792044   19.733480                  14.0   \n",
       "299    28.873198   25.839857   15.673766                  12.0   \n",
       "1760   18.421700   22.502587   15.886296                  12.0   \n",
       "718    13.754326   15.086773   12.921448                  12.0   \n",
       "239    17.565713   16.177189   13.654017                  11.0   \n",
       "1759   21.407335   20.716812   14.242913                  11.0   \n",
       "2551   14.217709   13.676864   12.164524                  11.0   \n",
       "393     9.781875   14.031662   11.917334                  11.0   \n",
       "\n",
       "           CountyName  \n",
       "1841       Queens, NY  \n",
       "1824        Kings, NY  \n",
       "1803        Bronx, NY  \n",
       "2941         King, WA  \n",
       "1831     New York, NY  \n",
       "1121      Orleans, LA  \n",
       "1285        Wayne, MI  \n",
       "1843     Richmond, NY  \n",
       "1830       Nassau, NY  \n",
       "1266      Oakland, MI  \n",
       "1852      Suffolk, NY  \n",
       "583          Cook, IL  \n",
       "178   Los Angeles, CA  \n",
       "1111    Jefferson, LA  \n",
       "1748       Bergen, NJ  \n",
       "2955    Snohomish, WA  \n",
       "202   Santa Clara, CA  \n",
       "1253       Macomb, MI  \n",
       "282     Fairfield, CT  \n",
       "1753        Essex, NJ  \n",
       "1860  Westchester, NY  \n",
       "407     Dougherty, GA  \n",
       "1844     Rockland, NY  \n",
       "420        Fulton, GA  \n",
       "1721        Clark, NV  \n",
       "1758    Middlesex, NJ  \n",
       "299       Broward, FL  \n",
       "1760       Morris, NJ  \n",
       "718        Marion, IN  \n",
       "239       El Paso, CO  \n",
       "1759     Monmouth, NJ  \n",
       "2551       Dallas, TX  \n",
       "393          Cobb, GA  "
      ]
     },
     "execution_count": 36,
     "metadata": {},
     "output_type": "execute_result"
    }
   ],
   "source": [
    "preds_df_abr"
   ]
  },
  {
   "cell_type": "code",
   "execution_count": 37,
   "metadata": {},
   "outputs": [],
   "source": [
    "preds_df_abr.to_csv(\"ensemble_predictions.csv\")"
   ]
  },
  {
   "cell_type": "code",
   "execution_count": 44,
   "metadata": {},
   "outputs": [
    {
     "data": {
      "text/plain": [
       "array([ 0.,  0.,  0.,  0.,  0.,  0.,  0.,  0.,  0.,  0.,  0.,  0.,  0.,\n",
       "        0.,  0.,  0.,  0.,  0.,  0.,  0.,  0.,  0.,  0.,  0.,  0.,  0.,\n",
       "        0.,  0.,  0.,  0.,  0.,  0.,  0.,  0.,  0.,  0.,  0.,  0.,  0.,\n",
       "        0.,  0.,  0.,  0.,  0.,  0.,  0.,  0.,  0.,  0.,  0.,  0.,  0.,\n",
       "        0.,  0.,  0.,  1.,  0.,  2.,  1.,  1.,  3.,  5.,  8.,  5., 11.,\n",
       "        9., 10., 27.])"
      ]
     },
     "execution_count": 44,
     "metadata": {},
     "output_type": "execute_result"
    }
   ],
   "source": [
    "np.diff(preds_df['deaths'].values[6])"
   ]
  },
  {
   "cell_type": "code",
   "execution_count": 69,
   "metadata": {},
   "outputs": [],
   "source": [
    "weighted_preds = [np.zeros(1) for i in range(5)]"
   ]
  },
  {
   "cell_type": "code",
   "execution_count": 70,
   "metadata": {},
   "outputs": [
    {
     "data": {
      "text/plain": [
       "array([0.])"
      ]
     },
     "execution_count": 70,
     "metadata": {},
     "output_type": "execute_result"
    }
   ],
   "source": [
    "weighted_preds[0]"
   ]
  },
  {
   "cell_type": "code",
   "execution_count": null,
   "metadata": {},
   "outputs": [],
   "source": []
  }
 ],
 "metadata": {
  "kernelspec": {
   "display_name": "Python 3",
   "language": "python",
   "name": "python3"
  },
  "language_info": {
   "codemirror_mode": {
    "name": "ipython",
    "version": 3
   },
   "file_extension": ".py",
   "mimetype": "text/x-python",
   "name": "python",
   "nbconvert_exporter": "python",
   "pygments_lexer": "ipython3",
   "version": "3.7.5"
  }
 },
 "nbformat": 4,
 "nbformat_minor": 2
}
