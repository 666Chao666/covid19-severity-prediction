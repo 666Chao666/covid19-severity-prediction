{
 "cells": [
  {
   "cell_type": "markdown",
   "metadata": {},
   "source": [
    "# Merge matthew's team notes with hospital data"
   ]
  },
  {
   "cell_type": "code",
   "execution_count": 1,
   "metadata": {},
   "outputs": [],
   "source": [
    "import numpy as np\n",
    "import pandas as pd\n",
    "from sklearn.metrics.pairwise import euclidean_distances\n",
    "from tqdm import tqdm\n",
    "import matplotlib.pyplot as plt"
   ]
  },
  {
   "cell_type": "code",
   "execution_count": 43,
   "metadata": {},
   "outputs": [],
   "source": [
    "hospital_full =pd.read_csv(\"../../intermediate/04_hospital_level_info_merged_with_website.csv\")\n"
   ]
  },
  {
   "cell_type": "markdown",
   "metadata": {},
   "source": [
    "## Matthew's Notes"
   ]
  },
  {
   "cell_type": "code",
   "execution_count": 87,
   "metadata": {},
   "outputs": [
    {
     "data": {
      "text/plain": [
       "Index(['Facility Name_x', 'County Name_x', 'City_x', 'State_x', 'ICU Beds',\n",
       "       'Total Beds', 'Total Employees', 'Hospital Type', 'Street Address 1',\n",
       "       'Mortality national comparison', 'Phone Number',\n",
       "       'Urban or Rural Designation', 'TIN', 'Unnamed: 13', 'Facility Name',\n",
       "       'Number to Call (NTC)', 'Donation Phone Number', 'Donation Email',\n",
       "       'Type (donation)', 'Notes'],\n",
       "      dtype='object')"
      ]
     },
     "execution_count": 87,
     "metadata": {},
     "output_type": "execute_result"
    }
   ],
   "source": [
    "mat_data = pd.read_csv(\"matthew.txt\", delimiter='\\t') \n",
    "mat_data.keys()"
   ]
  },
  {
   "cell_type": "code",
   "execution_count": 88,
   "metadata": {},
   "outputs": [],
   "source": [
    "del mat_data[\"Unnamed: 13\"]"
   ]
  },
  {
   "cell_type": "code",
   "execution_count": 89,
   "metadata": {},
   "outputs": [
    {
     "name": "stdout",
     "output_type": "stream",
     "text": [
      "0 Facility Name_x True\n",
      "1 County Name_x True\n",
      "2 City_x True\n",
      "3 State_x True\n",
      "4 ICU Beds True\n",
      "5 Total Beds True\n",
      "6 Total Employees True\n",
      "7 Hospital Type True\n",
      "8 Street Address 1 True\n",
      "9 Mortality national comparison True\n",
      "10 Phone Number True\n",
      "11 Urban or Rural Designation True\n",
      "12 TIN True\n",
      "13 Facility Name False\n",
      "14 Number to Call (NTC) False\n",
      "15 Donation Phone Number False\n",
      "16 Donation Email False\n",
      "17 Type (donation) False\n",
      "18 Notes False\n"
     ]
    }
   ],
   "source": [
    "for i, key in enumerate(mat_data.keys()):\n",
    "    print(i, key, key in hospital_full.keys())"
   ]
  },
  {
   "cell_type": "code",
   "execution_count": 100,
   "metadata": {},
   "outputs": [],
   "source": [
    "mat_data[\"some_donation_info\"] = ~mat_data[\"Donation Phone Number\"].isnull() | ~mat_data[\"Donation Email\"].isnull()"
   ]
  },
  {
   "cell_type": "code",
   "execution_count": 144,
   "metadata": {},
   "outputs": [],
   "source": [
    "mat_data = mat_data[['Facility Name_x', 'County Name_x', 'City_x', 'State_x', \"TIN\", 'Number to Call (NTC)','some_donation_info', \n",
    "                     'Donation Phone Number', 'Donation Email', 'Type (donation)', 'Notes',]]"
   ]
  },
  {
   "cell_type": "code",
   "execution_count": 145,
   "metadata": {},
   "outputs": [],
   "source": [
    "hospital_merge = pd.merge(hospital_full, mat_data, 'left', \n",
    "                          left_on = ['Facility Name_x', 'County Name_x', 'City_x', 'State_x', \"TIN\", \n",
    "                                    ], \n",
    "                          right_on=['Facility Name_x', 'County Name_x', 'City_x', 'State_x', \"TIN\", \n",
    "                                   ])"
   ]
  },
  {
   "cell_type": "code",
   "execution_count": 146,
   "metadata": {},
   "outputs": [
    {
     "data": {
      "text/plain": [
       "(135, 134)"
      ]
     },
     "execution_count": 146,
     "metadata": {},
     "output_type": "execute_result"
    }
   ],
   "source": [
    "mat_data.some_donation_info.sum(), hospital_merge.some_donation_info.sum()"
   ]
  },
  {
   "cell_type": "code",
   "execution_count": 147,
   "metadata": {},
   "outputs": [
    {
     "data": {
      "text/plain": [
       "(7143, 7143)"
      ]
     },
     "execution_count": 147,
     "metadata": {},
     "output_type": "execute_result"
    }
   ],
   "source": [
    "len(hospital_merge), len(hospital_full)"
   ]
  },
  {
   "cell_type": "code",
   "execution_count": null,
   "metadata": {},
   "outputs": [],
   "source": []
  }
 ],
 "metadata": {
  "kernelspec": {
   "display_name": "Environment (conda_anaconda3)",
   "language": "python",
   "name": "conda_anaconda3"
  },
  "language_info": {
   "codemirror_mode": {
    "name": "ipython",
    "version": 3
   },
   "file_extension": ".py",
   "mimetype": "text/x-python",
   "name": "python",
   "nbconvert_exporter": "python",
   "pygments_lexer": "ipython3",
   "version": "3.6.6"
  }
 },
 "nbformat": 4,
 "nbformat_minor": 4
}
