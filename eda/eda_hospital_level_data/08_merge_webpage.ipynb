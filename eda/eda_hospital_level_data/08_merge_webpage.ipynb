{
 "cells": [
  {
   "cell_type": "markdown",
   "metadata": {},
   "source": [
    "# Merge webpage info from HIFLDS data set into hospital data set"
   ]
  },
  {
   "cell_type": "code",
   "execution_count": 2,
   "metadata": {},
   "outputs": [],
   "source": [
    "import numpy as np\n",
    "import pandas as pd\n",
    "from sklearn.metrics.pairwise import euclidean_distances\n",
    "from tqdm import tqdm"
   ]
  },
  {
   "cell_type": "code",
   "execution_count": 4,
   "metadata": {},
   "outputs": [],
   "source": [
    "hospital_FILDS = pd.read_csv(\"../data/hospital_level_info/02_hospital_info.csv\")\n",
    "hospital_sam = pd.read_excel(\"../data/hospital_level_info/05_tbl_usr_rpt_5103.xlsx\")\n",
    "hospital_FILDS[\"ZIP_STR\"] = hospital_FILDS[\"ZIP\"].apply(lambda x : str(x))\n",
    "hospitals_full = pd.read_csv(\"../intermediate/03_hospital_level_info_merged.csv\", index_col = 0)"
   ]
  },
  {
   "cell_type": "code",
   "execution_count": 21,
   "metadata": {},
   "outputs": [],
   "source": [
    "def get_index_closest_pt(pt, pt_set):\n",
    "    distances = np.square(pt - pt_set).sum(axis = 1)\n",
    "    min_index = distances.argmin()\n",
    "    return min_index\n",
    "\n",
    "def get_website(entry, hospital_FILDS):\n",
    "    same_zip = hospital_FILDS[hospital_FILDS[\"ZIP_STR\"] == entry[\"ZIP\"]]\n",
    "    if same_zip.shape[0] == 0:\n",
    "        return \"NOT AVAILABLE\"\n",
    "    elif same_zip.shape[0] == 1:\n",
    "        return same_zip[\"WEBSITE\"].iloc[0]\n",
    "    else:\n",
    "        min_index = get_index_closest_pt(np.array(entry[[\"Longitude\", \"Latitude\"]]), np.array(same_zip[[\"X\", \"Y\"]]))\n",
    "        return same_zip.iloc[min_index][\"WEBSITE\"]"
   ]
  },
  {
   "cell_type": "code",
   "execution_count": 17,
   "metadata": {},
   "outputs": [
    {
     "data": {
      "text/plain": [
       "'http://www.mmcenters.com//index.php/facilities/marshall_south'"
      ]
     },
     "execution_count": 17,
     "metadata": {},
     "output_type": "execute_result"
    }
   ],
   "source": [
    "entry = hospital_sam.iloc[1]\n",
    "hospital_FILDS[hospital_FILDS[\"ZIP_STR\"] == entry[\"ZIP\"]][\"WEBSITE\"].iloc[0]"
   ]
  },
  {
   "cell_type": "code",
   "execution_count": 19,
   "metadata": {},
   "outputs": [
    {
     "data": {
      "text/plain": [
       "'http://www.mmcenters.com//index.php/facilities/marshall_south'"
      ]
     },
     "execution_count": 19,
     "metadata": {},
     "output_type": "execute_result"
    }
   ],
   "source": [
    "get_website(hospital_sam.iloc[1], hospital_FILDS)"
   ]
  },
  {
   "cell_type": "code",
   "execution_count": 23,
   "metadata": {},
   "outputs": [
    {
     "name": "stderr",
     "output_type": "stream",
     "text": [
      "100%|██████████| 7143/7143 [00:20<00:00, 349.32it/s]\n"
     ]
    }
   ],
   "source": [
    "hospital_websites = []\n",
    "for i in tqdm(range(hospitals_full.shape[0])):\n",
    "    hospital_websites.append(get_website(hospitals_full.iloc[i], hospital_FILDS))"
   ]
  },
  {
   "cell_type": "code",
   "execution_count": 24,
   "metadata": {},
   "outputs": [
    {
     "data": {
      "text/plain": [
       "['http://www.samc.org',\n",
       " 'http://www.mmcenters.com//index.php/facilities/marshall_south',\n",
       " 'NOT AVAILABLE',\n",
       " 'http://www.mizellmh.com',\n",
       " 'NOT AVAILABLE',\n",
       " 'http://www.mmcenters.com',\n",
       " 'http://www.stvhs.com/east/',\n",
       " 'http://www.dekalbregional.com',\n",
       " 'NOT AVAILABLE',\n",
       " 'NOT AVAILABLE']"
      ]
     },
     "execution_count": 24,
     "metadata": {},
     "output_type": "execute_result"
    }
   ],
   "source": [
    "hospital_websites[:10]"
   ]
  },
  {
   "cell_type": "code",
   "execution_count": 25,
   "metadata": {},
   "outputs": [],
   "source": [
    "hospitals_full[\"Website\"] = hospital_websites"
   ]
  },
  {
   "cell_type": "code",
   "execution_count": 27,
   "metadata": {},
   "outputs": [
    {
     "data": {
      "text/plain": [
       "0.16771664566708666"
      ]
     },
     "execution_count": 27,
     "metadata": {},
     "output_type": "execute_result"
    }
   ],
   "source": [
    "(hospitals_full[\"Website\"] == \"NOT AVAILABLE\").mean()"
   ]
  },
  {
   "cell_type": "code",
   "execution_count": 29,
   "metadata": {},
   "outputs": [],
   "source": [
    "hospitals_full.to_csv(\"../intermediate/04_hospital_level_info_merged_with_website.csv\")"
   ]
  },
  {
   "cell_type": "code",
   "execution_count": 31,
   "metadata": {},
   "outputs": [
    {
     "data": {
      "text/plain": [
       "0                                     http://www.samc.org\n",
       "1       http://www.mmcenters.com//index.php/facilities...\n",
       "2                                           NOT AVAILABLE\n",
       "3                                 http://www.mizellmh.com\n",
       "4                                           NOT AVAILABLE\n",
       "5                                http://www.mmcenters.com\n",
       "6                              http://www.stvhs.com/east/\n",
       "7                           http://www.dekalbregional.com\n",
       "8                                           NOT AVAILABLE\n",
       "9                                           NOT AVAILABLE\n",
       "10                             http://www.helenkeller.com\n",
       "11                             http://www.dalemedical.org\n",
       "12                   http://www.cherokeemedicalcenter.com\n",
       "13                                          NOT AVAILABLE\n",
       "14                                 http://www.jackson.org\n",
       "15                          http://www.lanierhospital.com\n",
       "16                                    http://www.eamc.org\n",
       "17                              http://www.health.uab.edu\n",
       "18                                       http://chal.org/\n",
       "19                                          NOT AVAILABLE\n",
       "20               http://www.andalusiaregionalhospital.com\n",
       "21                                          NOT AVAILABLE\n",
       "22                      http://www.huntsvillehospital.org\n",
       "23                         http://www.gadsdenregional.com\n",
       "24                          http://www.nmhs.net/hamilton/\n",
       "25             http://www.dchsystem.com/body.cfm?id=36928\n",
       "26                                          NOT AVAILABLE\n",
       "27                             http://www.mcehospital.com\n",
       "28                                          NOT AVAILABLE\n",
       "29             http://www.lakemartincommunityhospital.com\n",
       "                              ...                        \n",
       "7113                                        NOT AVAILABLE\n",
       "7114                                        NOT AVAILABLE\n",
       "7115                                        NOT AVAILABLE\n",
       "7116                                        NOT AVAILABLE\n",
       "7117                                        NOT AVAILABLE\n",
       "7118                                        NOT AVAILABLE\n",
       "7119                                        NOT AVAILABLE\n",
       "7120                                        NOT AVAILABLE\n",
       "7121                                        NOT AVAILABLE\n",
       "7122                                        NOT AVAILABLE\n",
       "7123                                        NOT AVAILABLE\n",
       "7124                                        NOT AVAILABLE\n",
       "7125                                        NOT AVAILABLE\n",
       "7126                                        NOT AVAILABLE\n",
       "7127                                        NOT AVAILABLE\n",
       "7128                                        NOT AVAILABLE\n",
       "7129                                        NOT AVAILABLE\n",
       "7130                                        NOT AVAILABLE\n",
       "7131                                        NOT AVAILABLE\n",
       "7132                                        NOT AVAILABLE\n",
       "7133                                        NOT AVAILABLE\n",
       "7134                                        NOT AVAILABLE\n",
       "7135                                        NOT AVAILABLE\n",
       "7136                                        NOT AVAILABLE\n",
       "7137                                        NOT AVAILABLE\n",
       "7138                                        NOT AVAILABLE\n",
       "7139                                        NOT AVAILABLE\n",
       "7140                                        NOT AVAILABLE\n",
       "7141                                        NOT AVAILABLE\n",
       "7142                                        NOT AVAILABLE\n",
       "Name: Website, Length: 7143, dtype: object"
      ]
     },
     "execution_count": 31,
     "metadata": {},
     "output_type": "execute_result"
    }
   ],
   "source": [
    "hospitals_full[\"Website\"]"
   ]
  },
  {
   "cell_type": "code",
   "execution_count": null,
   "metadata": {},
   "outputs": [],
   "source": []
  }
 ],
 "metadata": {
  "kernelspec": {
   "display_name": "Environment (conda_anaconda3)",
   "language": "python",
   "name": "conda_anaconda3"
  },
  "language_info": {
   "codemirror_mode": {
    "name": "ipython",
    "version": 3
   },
   "file_extension": ".py",
   "mimetype": "text/x-python",
   "name": "python",
   "nbconvert_exporter": "python",
   "pygments_lexer": "ipython3",
   "version": "3.6.6"
  }
 },
 "nbformat": 4,
 "nbformat_minor": 4
}
