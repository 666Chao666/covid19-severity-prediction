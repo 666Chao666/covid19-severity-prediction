{
 "cells": [
  {
   "cell_type": "code",
   "execution_count": 2,
   "metadata": {},
   "outputs": [
    {
     "name": "stdout",
     "output_type": "stream",
     "text": [
      "The autoreload extension is already loaded. To reload it, use:\n",
      "  %reload_ext autoreload\n"
     ]
    }
   ],
   "source": [
    "%load_ext autoreload\n",
    "%autoreload 2\n",
    "import pandas as pd\n",
    "from tqdm import tqdm\n",
    "from os.path import join as oj\n",
    "data_dir = '../data/hrsa/data_AHRF_2018-2019/'\n",
    "import numpy as np\n",
    "from bokeh.plotting import figure, show, output_notebook, output_file, save\n",
    "sys.path.append('../../viz')\n",
    "import viz"
   ]
  },
  {
   "cell_type": "markdown",
   "metadata": {},
   "source": [
    "# analyze data"
   ]
  },
  {
   "cell_type": "code",
   "execution_count": null,
   "metadata": {},
   "outputs": [],
   "source": [
    "df = pd.read_pickle(oj(data_dir, 'processed', 'df_renamed.pkl'))\n",
    "df = df.rename(columns={'Blank': 'id'})\n",
    "df.head()"
   ]
  },
  {
   "cell_type": "markdown",
   "metadata": {},
   "source": [
    "# make interactive plots"
   ]
  },
  {
   "cell_type": "code",
   "execution_count": null,
   "metadata": {},
   "outputs": [],
   "source": [
    "# filter by state\n",
    "# from bokeh.plotting import figure, output_file, save\n",
    "state = 'NY'\n",
    "d = df[df[\"StateNameAbbreviation\"] == state]\n",
    "\n",
    "p = viz.plot_counties(d, \n",
    "                  variable_to_distribute=\"CensusPopulation2010\",\n",
    "                  variables_to_display=[\"UnemploymentRate,16+2014\", \"PerCapitaPersonalIncome2014\",\n",
    "                         \"%<65withoutHealthInsurance2014\"],\n",
    "                 state=state)\n",
    "show(p)\n",
    "output_file(\"../results/NY.html\", mode='inline')\n",
    "save(p)"
   ]
  },
  {
   "cell_type": "markdown",
   "metadata": {},
   "source": [
    "# identify useful predictors"
   ]
  },
  {
   "cell_type": "code",
   "execution_count": null,
   "metadata": {},
   "outputs": [],
   "source": [
    "ks = sorted(list(df.keys()))\n",
    "for k in ks:\n",
    "    print(k)"
   ]
  },
  {
   "cell_type": "code",
   "execution_count": null,
   "metadata": {},
   "outputs": [],
   "source": []
  }
 ],
 "metadata": {
  "kernelspec": {
   "display_name": "Python 3",
   "language": "python",
   "name": "python3"
  },
  "language_info": {
   "codemirror_mode": {
    "name": "ipython",
    "version": 3
   },
   "file_extension": ".py",
   "mimetype": "text/x-python",
   "name": "python",
   "nbconvert_exporter": "python",
   "pygments_lexer": "ipython3",
   "version": "3.7.5"
  }
 },
 "nbformat": 4,
 "nbformat_minor": 4
}
