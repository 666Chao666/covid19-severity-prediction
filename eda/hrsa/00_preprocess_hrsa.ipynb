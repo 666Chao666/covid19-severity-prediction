{
 "cells": [
  {
   "cell_type": "code",
   "execution_count": 1,
   "metadata": {},
   "outputs": [],
   "source": [
    "import pandas as pd\n",
    "from tqdm import tqdm\n",
    "from os.path import join as oj\n",
    "data_dir = '../data/hrsa/data_AHRF_2018-2019/'\n",
    "import re\n",
    "import numpy as np"
   ]
  },
  {
   "cell_type": "markdown",
   "metadata": {},
   "source": [
    "# load sas data"
   ]
  },
  {
   "cell_type": "code",
   "execution_count": null,
   "metadata": {},
   "outputs": [],
   "source": [
    "from sas7bdat import SAS7BDAT\n",
    "with SAS7BDAT(oj(data_dir, 'DATA', 'ahrf2019.sas7bdat'), skip_header=False) as reader:\n",
    "    df = reader.to_data_frame()\n",
    "df.to_pickle(oj(data_dir, 'processed', 'df.pkl'))"
   ]
  },
  {
   "cell_type": "markdown",
   "metadata": {},
   "source": [
    "# save metadata"
   ]
  },
  {
   "cell_type": "code",
   "execution_count": 11,
   "metadata": {},
   "outputs": [],
   "source": [
    "import AHRF_parser #;reload(AHRF_parser)\n",
    "ascii_file_path = oj(data_dir, 'DATA/AHRF2019.asc')\n",
    "sas_file_path = oj(data_dir, \"DOC/ahrf2018-19.sas\")"
   ]
  },
  {
   "cell_type": "code",
   "execution_count": null,
   "metadata": {},
   "outputs": [],
   "source": [
    "# Takes as input number of cores to use\n",
    "ahrf_parser = AHRF_parser.parse_AHRF_ascii(num_cores=1,\n",
    "                                           ascii_file_path=ascii_file_path,\n",
    "                                           sas_file_path=sas_file_path)\n",
    "\n",
    "# will generate meta_data.csv - need to move this to the right location"
   ]
  },
  {
   "cell_type": "markdown",
   "metadata": {},
   "source": [
    "# rename features"
   ]
  },
  {
   "cell_type": "code",
   "execution_count": 26,
   "metadata": {},
   "outputs": [],
   "source": [
    "df = pd.read_pickle(oj(data_dir, 'processed', 'df.pkl'))\n",
    "meta = pd.read_csv(oj(data_dir, 'processed', 'meta_data.csv'))\n",
    "meta_dict = {}\n",
    "for i in range(meta.shape[0]):\n",
    "    r = meta.iloc[i]\n",
    "    meta_dict[r.FieldId] = r.FieldName\n",
    "df = df.rename(columns=meta_dict)\n",
    "df.to_pickle(oj(data_dir, 'processed', 'df_renamed.pkl'))"
   ]
  }
 ],
 "metadata": {
  "kernelspec": {
   "display_name": "Python 3",
   "language": "python",
   "name": "python3"
  },
  "language_info": {
   "codemirror_mode": {
    "name": "ipython",
    "version": 3
   },
   "file_extension": ".py",
   "mimetype": "text/x-python",
   "name": "python",
   "nbconvert_exporter": "python",
   "pygments_lexer": "ipython3",
   "version": "3.7.5"
  }
 },
 "nbformat": 4,
 "nbformat_minor": 4
}
