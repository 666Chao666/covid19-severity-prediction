{
 "cells": [
  {
   "cell_type": "markdown",
   "metadata": {},
   "source": [
    "# EDA on commute data"
   ]
  },
  {
   "cell_type": "code",
   "execution_count": 2,
   "metadata": {},
   "outputs": [],
   "source": [
    "import pandas as pd\n",
    "import numpy as np"
   ]
  },
  {
   "cell_type": "code",
   "execution_count": 56,
   "metadata": {},
   "outputs": [],
   "source": [
    "# load data\n",
    "table1 = pd.read_excel(\n",
    "    '../data/commute/table1.xlsx',\n",
    "    #header=5,\n",
    "    skiprows=[0,1,2,3,4,5, 139440, 139441],\n",
    "    dtype=str\n",
    ")\n",
    "table1.columns = [\n",
    "    'Resident State FIPS',\n",
    "    'Resident County FIPS',\n",
    "    'Resident State Name',\n",
    "    'Resident County Name',\n",
    "    'Work State FIPS',\n",
    "    'Work County FIPS',\n",
    "    'Work State Name',\n",
    "    'Work County Name',\n",
    "    'commute',\n",
    "    'error',\n",
    "]"
   ]
  },
  {
   "cell_type": "code",
   "execution_count": 83,
   "metadata": {},
   "outputs": [],
   "source": [
    "# load data: county info\n",
    "county_info = pd.read_csv('../data/02_county_FIPS.csv', dtype=str, index_col=0)"
   ]
  },
  {
   "cell_type": "code",
   "execution_count": 57,
   "metadata": {},
   "outputs": [],
   "source": [
    "# preprocess the table : change the double float type\n",
    "table1['commute'] = table1['commute'].astype(np.float)\n",
    "table1['error'] = table1['error'].astype(np.float)"
   ]
  },
  {
   "cell_type": "code",
   "execution_count": 58,
   "metadata": {},
   "outputs": [],
   "source": [
    "# preprocess: change the county FIPS\n",
    "table1['Work State FIPS'] = table1['Work State FIPS'].apply(lambda x : x[1:] if type(x) == str else np.nan)\n",
    "table1['Resident County FIPS'] = table1['Resident State FIPS'] + table1['Resident County FIPS']\n",
    "table1['Work County FIPS'] = table1['Work State FIPS'] + table1['Work County FIPS']"
   ]
  },
  {
   "cell_type": "code",
   "execution_count": 64,
   "metadata": {},
   "outputs": [
    {
     "data": {
      "text/html": [
       "<div>\n",
       "<style scoped>\n",
       "    .dataframe tbody tr th:only-of-type {\n",
       "        vertical-align: middle;\n",
       "    }\n",
       "\n",
       "    .dataframe tbody tr th {\n",
       "        vertical-align: top;\n",
       "    }\n",
       "\n",
       "    .dataframe thead th {\n",
       "        text-align: right;\n",
       "    }\n",
       "</style>\n",
       "<table border=\"1\" class=\"dataframe\">\n",
       "  <thead>\n",
       "    <tr style=\"text-align: right;\">\n",
       "      <th></th>\n",
       "      <th>Resident State FIPS</th>\n",
       "      <th>Resident County FIPS</th>\n",
       "      <th>Resident State Name</th>\n",
       "      <th>Resident County Name</th>\n",
       "      <th>Work State FIPS</th>\n",
       "      <th>Work County FIPS</th>\n",
       "      <th>Work State Name</th>\n",
       "      <th>Work County Name</th>\n",
       "      <th>commute</th>\n",
       "      <th>error</th>\n",
       "    </tr>\n",
       "  </thead>\n",
       "  <tbody>\n",
       "    <tr>\n",
       "      <th>6585</th>\n",
       "      <td>06</td>\n",
       "      <td>06001</td>\n",
       "      <td>California</td>\n",
       "      <td>Alameda County</td>\n",
       "      <td>01</td>\n",
       "      <td>01089</td>\n",
       "      <td>Alabama</td>\n",
       "      <td>Madison County</td>\n",
       "      <td>4.0</td>\n",
       "      <td>6.0</td>\n",
       "    </tr>\n",
       "    <tr>\n",
       "      <th>6586</th>\n",
       "      <td>06</td>\n",
       "      <td>06001</td>\n",
       "      <td>California</td>\n",
       "      <td>Alameda County</td>\n",
       "      <td>04</td>\n",
       "      <td>04013</td>\n",
       "      <td>Arizona</td>\n",
       "      <td>Maricopa County</td>\n",
       "      <td>106.0</td>\n",
       "      <td>48.0</td>\n",
       "    </tr>\n",
       "    <tr>\n",
       "      <th>6587</th>\n",
       "      <td>06</td>\n",
       "      <td>06001</td>\n",
       "      <td>California</td>\n",
       "      <td>Alameda County</td>\n",
       "      <td>04</td>\n",
       "      <td>04019</td>\n",
       "      <td>Arizona</td>\n",
       "      <td>Pima County</td>\n",
       "      <td>31.0</td>\n",
       "      <td>37.0</td>\n",
       "    </tr>\n",
       "    <tr>\n",
       "      <th>6588</th>\n",
       "      <td>06</td>\n",
       "      <td>06001</td>\n",
       "      <td>California</td>\n",
       "      <td>Alameda County</td>\n",
       "      <td>05</td>\n",
       "      <td>05007</td>\n",
       "      <td>Arkansas</td>\n",
       "      <td>Benton County</td>\n",
       "      <td>13.0</td>\n",
       "      <td>21.0</td>\n",
       "    </tr>\n",
       "    <tr>\n",
       "      <th>6589</th>\n",
       "      <td>06</td>\n",
       "      <td>06001</td>\n",
       "      <td>California</td>\n",
       "      <td>Alameda County</td>\n",
       "      <td>06</td>\n",
       "      <td>06001</td>\n",
       "      <td>California</td>\n",
       "      <td>Alameda County</td>\n",
       "      <td>462270.0</td>\n",
       "      <td>3414.0</td>\n",
       "    </tr>\n",
       "    <tr>\n",
       "      <th>...</th>\n",
       "      <td>...</td>\n",
       "      <td>...</td>\n",
       "      <td>...</td>\n",
       "      <td>...</td>\n",
       "      <td>...</td>\n",
       "      <td>...</td>\n",
       "      <td>...</td>\n",
       "      <td>...</td>\n",
       "      <td>...</td>\n",
       "      <td>...</td>\n",
       "    </tr>\n",
       "    <tr>\n",
       "      <th>10412</th>\n",
       "      <td>06</td>\n",
       "      <td>06115</td>\n",
       "      <td>California</td>\n",
       "      <td>Yuba County</td>\n",
       "      <td>32</td>\n",
       "      <td>32031</td>\n",
       "      <td>Nevada</td>\n",
       "      <td>Washoe County</td>\n",
       "      <td>65.0</td>\n",
       "      <td>71.0</td>\n",
       "    </tr>\n",
       "    <tr>\n",
       "      <th>10413</th>\n",
       "      <td>06</td>\n",
       "      <td>06115</td>\n",
       "      <td>California</td>\n",
       "      <td>Yuba County</td>\n",
       "      <td>41</td>\n",
       "      <td>41027</td>\n",
       "      <td>Oregon</td>\n",
       "      <td>Hood River County</td>\n",
       "      <td>7.0</td>\n",
       "      <td>13.0</td>\n",
       "    </tr>\n",
       "    <tr>\n",
       "      <th>10414</th>\n",
       "      <td>06</td>\n",
       "      <td>06115</td>\n",
       "      <td>California</td>\n",
       "      <td>Yuba County</td>\n",
       "      <td>45</td>\n",
       "      <td>45083</td>\n",
       "      <td>South Carolina</td>\n",
       "      <td>Spartanburg County</td>\n",
       "      <td>5.0</td>\n",
       "      <td>8.0</td>\n",
       "    </tr>\n",
       "    <tr>\n",
       "      <th>10415</th>\n",
       "      <td>06</td>\n",
       "      <td>06115</td>\n",
       "      <td>California</td>\n",
       "      <td>Yuba County</td>\n",
       "      <td>48</td>\n",
       "      <td>48029</td>\n",
       "      <td>Texas</td>\n",
       "      <td>Bexar County</td>\n",
       "      <td>19.0</td>\n",
       "      <td>27.0</td>\n",
       "    </tr>\n",
       "    <tr>\n",
       "      <th>10416</th>\n",
       "      <td>06</td>\n",
       "      <td>06115</td>\n",
       "      <td>California</td>\n",
       "      <td>Yuba County</td>\n",
       "      <td>03</td>\n",
       "      <td>NaN</td>\n",
       "      <td>Mexico</td>\n",
       "      <td>NaN</td>\n",
       "      <td>1.0</td>\n",
       "      <td>4.0</td>\n",
       "    </tr>\n",
       "  </tbody>\n",
       "</table>\n",
       "<p>3832 rows × 10 columns</p>\n",
       "</div>"
      ],
      "text/plain": [
       "      Resident State FIPS Resident County FIPS Resident State Name  \\\n",
       "6585                   06                06001          California   \n",
       "6586                   06                06001          California   \n",
       "6587                   06                06001          California   \n",
       "6588                   06                06001          California   \n",
       "6589                   06                06001          California   \n",
       "...                   ...                  ...                 ...   \n",
       "10412                  06                06115          California   \n",
       "10413                  06                06115          California   \n",
       "10414                  06                06115          California   \n",
       "10415                  06                06115          California   \n",
       "10416                  06                06115          California   \n",
       "\n",
       "      Resident County Name Work State FIPS Work County FIPS Work State Name  \\\n",
       "6585        Alameda County              01            01089         Alabama   \n",
       "6586        Alameda County              04            04013         Arizona   \n",
       "6587        Alameda County              04            04019         Arizona   \n",
       "6588        Alameda County              05            05007        Arkansas   \n",
       "6589        Alameda County              06            06001      California   \n",
       "...                    ...             ...              ...             ...   \n",
       "10412          Yuba County              32            32031          Nevada   \n",
       "10413          Yuba County              41            41027          Oregon   \n",
       "10414          Yuba County              45            45083  South Carolina   \n",
       "10415          Yuba County              48            48029           Texas   \n",
       "10416          Yuba County              03              NaN          Mexico   \n",
       "\n",
       "         Work County Name   commute   error  \n",
       "6585       Madison County       4.0     6.0  \n",
       "6586      Maricopa County     106.0    48.0  \n",
       "6587          Pima County      31.0    37.0  \n",
       "6588        Benton County      13.0    21.0  \n",
       "6589       Alameda County  462270.0  3414.0  \n",
       "...                   ...       ...     ...  \n",
       "10412       Washoe County      65.0    71.0  \n",
       "10413   Hood River County       7.0    13.0  \n",
       "10414  Spartanburg County       5.0     8.0  \n",
       "10415        Bexar County      19.0    27.0  \n",
       "10416                 NaN       1.0     4.0  \n",
       "\n",
       "[3832 rows x 10 columns]"
      ]
     },
     "execution_count": 64,
     "metadata": {},
     "output_type": "execute_result"
    }
   ],
   "source": [
    "# visualize the california data\n",
    "table1[table1['Resident State Name'] == 'California']"
   ]
  },
  {
   "cell_type": "code",
   "execution_count": 62,
   "metadata": {},
   "outputs": [
    {
     "data": {
      "text/plain": [
       "Work State Name\n",
       "California    16864403.0\n",
       "Texas         11961894.0\n",
       "New York       9417672.0\n",
       "Florida        8385355.0\n",
       "Illinois       5971813.0\n",
       "Name: commute, dtype: float64"
      ]
     },
     "execution_count": 62,
     "metadata": {},
     "output_type": "execute_result"
    }
   ],
   "source": [
    "# visualize the states with the most people go to work\n",
    "table1.groupby('Work State Name')['commute'].sum().sort_values(ascending=False).head()"
   ]
  },
  {
   "cell_type": "code",
   "execution_count": 63,
   "metadata": {},
   "outputs": [
    {
     "data": {
      "text/plain": [
       "Resident State Name\n",
       "California    16869052.0\n",
       "Texas         11966019.0\n",
       "New York       9064986.0\n",
       "Florida        8432513.0\n",
       "Illinois       5983836.0\n",
       "Name: commute, dtype: float64"
      ]
     },
     "execution_count": 63,
     "metadata": {},
     "output_type": "execute_result"
    }
   ],
   "source": [
    "# visualize the states with the most people resides\n",
    "table1.groupby('Resident State Name')['commute'].sum().sort_values(ascending=False).head()"
   ]
  },
  {
   "cell_type": "code",
   "execution_count": 85,
   "metadata": {},
   "outputs": [
    {
     "data": {
      "text/plain": [
       "{'02198', '02230', '02275', '15005', '46102', '72039', '72069'}"
      ]
     },
     "execution_count": 85,
     "metadata": {},
     "output_type": "execute_result"
    }
   ],
   "source": [
    "missed_counties"
   ]
  },
  {
   "cell_type": "code",
   "execution_count": 87,
   "metadata": {},
   "outputs": [
    {
     "data": {
      "text/plain": [
       "array(['Prince of Wales-Hyder Census Area', 'Skagway Municipality',\n",
       "       'Wrangell City and Borough', 'Kalawao County',\n",
       "       'Oglala Lakota County', 'Ciales Municipio', 'Humacao Municipio'],\n",
       "      dtype=object)"
      ]
     },
     "execution_count": 87,
     "metadata": {},
     "output_type": "execute_result"
    }
   ],
   "source": [
    "# preprocess find the county FIPS that are in this data but not in county_info\n",
    "missed_counties = set(table1['Resident County FIPS'].unique()) - set(county_info['FIPS'])\n",
    "table1.loc[table1['Resident County FIPS'].isin(missed_counties), 'Resident County Name'].unique()"
   ]
  },
  {
   "cell_type": "code",
   "execution_count": null,
   "metadata": {},
   "outputs": [],
   "source": []
  }
 ],
 "metadata": {
  "kernelspec": {
   "display_name": "Python 3",
   "language": "python",
   "name": "python3"
  },
  "language_info": {
   "codemirror_mode": {
    "name": "ipython",
    "version": 3
   },
   "file_extension": ".py",
   "mimetype": "text/x-python",
   "name": "python",
   "nbconvert_exporter": "python",
   "pygments_lexer": "ipython3",
   "version": "3.6.6"
  }
 },
 "nbformat": 4,
 "nbformat_minor": 4
}
