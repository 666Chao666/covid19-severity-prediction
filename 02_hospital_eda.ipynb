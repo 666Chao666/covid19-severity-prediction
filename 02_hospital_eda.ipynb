{
 "cells": [
  {
   "cell_type": "code",
   "execution_count": 34,
   "metadata": {},
   "outputs": [],
   "source": [
    "%load_ext autoreload\n",
    "%autoreload 2\n",
    "import numpy as np\n",
    "import scipy as sp\n",
    "import pandas as pd\n",
    "import matplotlib.pyplot as plt\n",
    "from os.path import join as oj\n",
    "import math\n",
    "import pygsheets\n",
    "import pickle as pkl\n",
    "import pandas as pd\n",
    "import load_data\n",
    "import seaborn as sns\n",
    "sys.path.append('modeling')\n",
    "from viz import viz, viz_interactive\n",
    "from exponential_modeling import estimate_deaths\n",
    "from fit_and_predict import fit_and_predict\n",
    "\n",
    "outcomes = ['tot_cases', 'tot_deaths']\n",
    "df_hospital = load_data.load_hospital_level()\n",
    "df_county = load_data.load_county_level()\n",
    "df_county = df_county.sort_values('tot_deaths', ascending=False)\n",
    "NUM_DAYS_LIST = [1, 2, 3]\n",
    "# df_county = exponential_modeling.estimate_deaths(df_county) # adds key \n",
    "for num_days_in_future in NUM_DAYS_LIST: # 1 is tomorrow\n",
    "    output_key = f'Predicted Deaths {num_days_in_future}-day'    \n",
    "    df_county = fit_and_predict(df_county, \n",
    "                                method='ensemble', \n",
    "                                outcome='deaths',\n",
    "                                mode='predict_future',\n",
    "                                target_day=np.array([num_days_in_future]),\n",
    "                                output_key=output_key\n",
    "                               )\n",
    "    \n",
    "    # extract out vals from list\n",
    "    vals = df_county[output_key].values\n",
    "    out = []\n",
    "    for i in range(vals.shape[0]):\n",
    "        if np.isnan(vals[i]):\n",
    "            out.append(0)\n",
    "        else:\n",
    "            out.append(vals[i][0])\n",
    "    df_county[output_key] = out\n",
    "df = df_hospital.merge(df_county, how='left', on='countyFIPS')\n",
    "df[outcomes] = df[outcomes].fillna(0)\n",
    "\n",
    "# aggregate employees by county\n",
    "total_emp_county = df.groupby('countyFIPS').agg({'Hospital Employees': 'sum'})\n",
    "total_emp_county = total_emp_county.rename(columns={'Hospital Employees': 'Hospital Employees in County'})\n",
    "df_county = pd.merge(df_county, total_emp_county, how='left', on='countyFIPS')\n",
    "df = pd.merge(df, total_emp_county, how='left', on='countyFIPS')\n",
    "\n",
    "# filter hospitals\n",
    "df = df[~df['countyFIPS'].isna() & df['IsAcademicHospital'] & df['Hospital Employees'] > 0]\n",
    "df = df.sort_values(by=['tot_deaths', 'Hospital Employees'], ascending=False)\n",
    "\n",
    "\n",
    "# fraction of employees out of all county hospitals\n",
    "df['Frac Hospital Employees of County'] = df['Hospital Employees'] / df['Hospital Employees in County']"
   ]
  },
  {
   "cell_type": "code",
   "execution_count": 43,
   "metadata": {},
   "outputs": [],
   "source": [
    "for num_days in NUM_DAYS_LIST:\n",
    "    df[f'Predicted Deaths Hospital {num_days}-day'] = df['Predicted Deaths 1-day'] * df['Frac Hospital Employees of County']\n",
    "    df[f'Severity {num_days}-day'] = pd.qcut(df[f'Predicted Deaths Hospital {num_days}-day'], 5, labels=False) + 1\n",
    "#     df[f'Quantile {num_days}-day'] = "
   ]
  },
  {
   "cell_type": "code",
   "execution_count": 42,
   "metadata": {},
   "outputs": [
    {
     "name": "stdout",
     "output_type": "stream",
     "text": [
      "max, min 4 0\n"
     ]
    }
   ],
   "source": [
    "print('max, min', df[f'Quantile 1-day'].max(), df[f'Quantile 1-day'].min())"
   ]
  },
  {
   "cell_type": "markdown",
   "metadata": {},
   "source": [
    "**look at most affected hospitals**"
   ]
  },
  {
   "cell_type": "code",
   "execution_count": null,
   "metadata": {},
   "outputs": [],
   "source": [
    "# d.groupby('countyFIPS').head(1).head(5) # look at top counties"
   ]
  },
  {
   "cell_type": "code",
   "execution_count": null,
   "metadata": {},
   "outputs": [],
   "source": [
    "# df.head(100)"
   ]
  },
  {
   "cell_type": "code",
   "execution_count": null,
   "metadata": {},
   "outputs": [],
   "source": [
    "(df[f'Predicted Deaths {num_days}-day'][nonzero]).head(5)"
   ]
  },
  {
   "cell_type": "code",
   "execution_count": null,
   "metadata": {},
   "outputs": [],
   "source": [
    "R, C  = 1, 2\n",
    "num_days = 1\n",
    "nonzero = df[f'Predicted Deaths {num_days}-day'] > 0\n",
    "plt.figure(dpi=300)\n",
    "plt.subplot(R, C, 1)\n",
    "plt.hist(df[f'Predicted Deaths {num_days}-day'][nonzero])\n",
    "plt.xlabel('Predicted Number of Deaths')\n",
    "plt.ylabel('Num Hospitals')\n",
    "\n",
    "plt.subplot(R, C, 2)\n",
    "plt.hist(df[f'Predicted Deaths Hospital {num_days}-day'][nonzero])\n",
    "plt.xlabel('Predicted Number of Deaths * Num Employees')\n",
    "plt.ylabel('Num Hospitals')\n",
    "plt.tight_layout()\n",
    "plt.show()"
   ]
  },
  {
   "cell_type": "code",
   "execution_count": 87,
   "metadata": {},
   "outputs": [
    {
     "data": {
      "text/plain": [
       "Index(['Unnamed: 0', 'CMS Certification Number', 'Hospital Name',\n",
       "       'Street Address_x', 'City_x', 'State_x', 'ZIP', 'System Affiliation',\n",
       "       'Type of Facility', 'Hospital Employees',\n",
       "       ...\n",
       "       'deaths', 'cases', 'tot_deaths', 'tot_cases', 'Predicted Deaths 1-day',\n",
       "       'Predicted Deaths 2-day', 'Predicted Deaths 3-day',\n",
       "       'Hospital Employees in County', 'Frac Hospital Employees of County',\n",
       "       'Predicted Deaths Hospital-level'],\n",
       "      dtype='object', length=7518)"
      ]
     },
     "execution_count": 87,
     "metadata": {},
     "output_type": "execute_result"
    }
   ],
   "source": [
    "df.keys()"
   ]
  },
  {
   "cell_type": "code",
   "execution_count": null,
   "metadata": {},
   "outputs": [],
   "source": [
    "df.sort_values('Predicted Deaths Hospital-level', ascending=False)[['Predicted Deaths Hospital-level', \n",
    "                                                                    'Hospital Name', 'State_x', \n",
    "                                                                    'Hospital Employees', 'tot_deaths']].head(30)"
   ]
  },
  {
   "cell_type": "markdown",
   "metadata": {},
   "source": [
    "# correlations"
   ]
  },
  {
   "cell_type": "code",
   "execution_count": null,
   "metadata": {},
   "outputs": [],
   "source": [
    "plt.plot(df['Predicted Deaths Hospital-level'], df['Occupancy Rate'])"
   ]
  },
  {
   "cell_type": "code",
   "execution_count": null,
   "metadata": {},
   "outputs": [],
   "source": [
    "ks = ['ICU Beds', 'Total Beds', \n",
    "      'Hospital Employees', 'Registered Nurses',\n",
    "      'ICU Occupancy Rate', 'Total Occupancy Rate',\n",
    "      'Mortality national comparison',\n",
    "      \n",
    "#       'IsAcademicHospital', \n",
    "      'IsUrbanHospital',\n",
    "      'IsAcuteCareHospital', \n",
    "      \n",
    "      # preds\n",
    "      'Predicted Deaths 1-day', 'Predicted Deaths 2-day', 'Predicted Deaths Hospital-level',\n",
    "      \n",
    "      # county-level stuff\n",
    "      'tot_deaths', 'tot_cases', 'Hospital Employees in County']\n",
    "\n",
    "\n",
    "\n",
    "viz.corrplot(df[ks], SIZE=6)"
   ]
  },
  {
   "cell_type": "markdown",
   "metadata": {},
   "source": [
    "**predicted num deaths**"
   ]
  },
  {
   "cell_type": "markdown",
   "metadata": {},
   "source": [
    "# useful county-level plots"
   ]
  },
  {
   "cell_type": "code",
   "execution_count": null,
   "metadata": {},
   "outputs": [],
   "source": [
    "d = df\n",
    "\n",
    "R, C = 1, 2\n",
    "NUM_COUNTIES = 7\n",
    "plt.figure(dpi=300, figsize=(7, 3.5))\n",
    "\n",
    "\n",
    "plt.subplot(R, C, 1)\n",
    "c = 'County Name'\n",
    "county_names = d[c].unique()[:NUM_COUNTIES]\n",
    "num_academic_hospitals = []\n",
    "# d = df[outcome_keys + hospital_keys]\n",
    "# d = d.sort_values('New Deaths', ascending=False)\n",
    "for county in county_names:\n",
    "    num_academic_hospitals.append(d[d[c] == county].shape[0])\n",
    "plt.barh(county_names[::-1], num_academic_hospitals[::-1]) # reverse to plot top down\n",
    "plt.xlabel('Number academic hospitals\\n(for hospitals where we have data)')\n",
    "\n",
    "plt.subplot(R, C, 2)\n",
    "plt.barh(df_county.CountyName[:NUM_COUNTIES].values[::-1], df_county['Hospital Employees in County'][:NUM_COUNTIES][::-1]) # reverse to plot top down\n",
    "plt.xlabel('# Hospital Employees')\n",
    "\n",
    "plt.tight_layout()\n",
    "plt.show()"
   ]
  },
  {
   "cell_type": "code",
   "execution_count": null,
   "metadata": {},
   "outputs": [],
   "source": [
    "d = df\n",
    "\n",
    "R, C = 1, 2\n",
    "NUM_COUNTIES = 7\n",
    "plt.figure(dpi=500, figsize=(8, 4))\n",
    "\n",
    "\n",
    "r = df_county\n",
    "# cs = sns.diverging_palette(20, 220, n=NUM_COUNTIES)\n",
    "cs = sns.color_palette(\"husl\", 7)\n",
    "for i in range(NUM_COUNTIES):\n",
    "    row = df_county.iloc[i]\n",
    "    deaths = np.array([x for x in row['deaths'] if x > 0])\n",
    "    cases = np.array([x for x in row['cases'] if x > 0])\n",
    "    \n",
    "    CASES_ALIGNMENT = 100\n",
    "    idx_align = np.where(cases > CASES_ALIGNMENT)[0][0]\n",
    "    n = cases.size\n",
    "    \n",
    "    DEATHS_ALIGNMENT = 10\n",
    "    idx_align_deaths = np.where(deaths > DEATHS_ALIGNMENT)[0][0]\n",
    "    n2 = deaths.size\n",
    "\n",
    "    \n",
    "    plt.subplot(R, C, 1)\n",
    "    plt.plot(np.arange(n) - idx_align, cases, alpha=0.5, label=row['CountyName'] + ' County', color=cs[i])\n",
    "#     plt.yscale('log')\n",
    "    plt.ylabel('Cumulative confirmed cases')\n",
    "    plt.xlabel(f'Days since {CASES_ALIGNMENT} cases')\n",
    "    plt.legend()\n",
    "    \n",
    "    plt.subplot(R, C, 2)\n",
    "    plt.plot(np.arange(n2) - idx_align_deaths, deaths, alpha=0.5, color=cs[i])\n",
    "#     plt.yscale('log')\n",
    "    plt.ylabel('Cumulative deaths')\n",
    "    plt.xlabel(f'Days since {DEATHS_ALIGNMENT} deaths')\n",
    "plt.tight_layout()\n",
    "plt.show()"
   ]
  },
  {
   "cell_type": "markdown",
   "metadata": {},
   "source": [
    "# intra-county plots"
   ]
  },
  {
   "cell_type": "code",
   "execution_count": null,
   "metadata": {},
   "outputs": [],
   "source": [
    "county_names = d[c].unique()[:NUM_COUNTIES]\n",
    "R, C = 4, 1\n",
    "plt.figure(figsize=(C * 3, R * 3), dpi=200)\n",
    "for i in range(R * C):\n",
    "    plt.subplot(R, C, i + 1)\n",
    "    cn = county_names[i]\n",
    "    dc = d[d[c] == cn]\n",
    "    plt.barh(dc['Facility Name'][::-1], dc['Hospital Employees'][::-1])\n",
    "    plt.title(cn)\n",
    "    plt.xlabel('# Hospital Employees')\n",
    "plt.tight_layout()\n",
    "# plt.subplots_adjust(bottom=1)\n",
    "plt.show()"
   ]
  },
  {
   "cell_type": "markdown",
   "metadata": {},
   "source": [
    "# write to excel sheets"
   ]
  },
  {
   "cell_type": "code",
   "execution_count": 17,
   "metadata": {},
   "outputs": [],
   "source": [
    "ks_output = ['Severity 1-day', 'Severity 2-day', 'Severity 3-day'] + \\\n",
    "            ['Hospital Name'] + ['CMS Certification Number', 'countyFIPS']"
   ]
  },
  {
   "cell_type": "code",
   "execution_count": 18,
   "metadata": {},
   "outputs": [],
   "source": [
    "gc = pygsheets.authorize(service_file='creds.json')\n",
    "\n",
    "#open the google spreadsheet (where 'PY to Gsheet Test' is the name of my sheet)\n",
    "sheet_name = 'COVID Pandemic Severity Index'\n",
    "sh = gc.open(sheet_name) # name of the hospital\n",
    "\n",
    "# ventilator\n",
    "wks = sh[0] #select a sheet\n",
    "wks.update_value('A1', \"Note: this sheet is read-only (automatically generated by the data and model)\")\n",
    "wks.set_dataframe(df[ks_output], (3, 1)) #update the first sheet with df, starting at cell B2. "
   ]
  }
 ],
 "metadata": {
  "kernelspec": {
   "display_name": "Python 3",
   "language": "python",
   "name": "python3"
  },
  "language_info": {
   "codemirror_mode": {
    "name": "ipython",
    "version": 3
   },
   "file_extension": ".py",
   "mimetype": "text/x-python",
   "name": "python",
   "nbconvert_exporter": "python",
   "pygments_lexer": "ipython3",
   "version": "3.7.5"
  }
 },
 "nbformat": 4,
 "nbformat_minor": 4
}
