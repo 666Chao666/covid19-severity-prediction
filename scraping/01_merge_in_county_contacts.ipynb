{
 "cells": [
  {
   "cell_type": "markdown",
   "metadata": {},
   "source": [
    "# Notebook to merge county level data with contact info"
   ]
  },
  {
   "cell_type": "code",
   "execution_count": 72,
   "metadata": {},
   "outputs": [
    {
     "name": "stdout",
     "output_type": "stream",
     "text": [
      "The autoreload extension is already loaded. To reload it, use:\n",
      "  %reload_ext autoreload\n"
     ]
    }
   ],
   "source": [
    "%load_ext autoreload\n",
    "%autoreload 2\n",
    "import numpy as np\n",
    "import pandas as pd\n",
    "import matplotlib.pyplot as plt\n",
    "%matplotlib inline\n",
    "import seaborn as sns\n",
    "import pickle\n",
    "from tqdm import tqdm\n",
    "import math\n",
    "import sys\n",
    "sys.path.append('..')\n",
    "import load_data\n",
    "from copy import deepcopy\n",
    "from functions import load_usafacts_data"
   ]
  },
  {
   "cell_type": "code",
   "execution_count": 73,
   "metadata": {},
   "outputs": [],
   "source": [
    "df_covid = load_usafacts_data.load_daily_data(dir_mod='../')"
   ]
  },
  {
   "cell_type": "code",
   "execution_count": 74,
   "metadata": {},
   "outputs": [],
   "source": [
    "with open(\"../data/df_county_level_cached.pkl\", 'rb') as f:\n",
    "    county_df = pickle.load(f)\n",
    "# county_df = load_data.load_county_level(dir_mod='..')\n",
    "with open(\"countyFIPS_to_city.pkl\", 'rb') as f:\n",
    "    countyFIPS_to_city = pickle.load(f)\n",
    "contact_info = pd.read_csv(\"all_state_numbers.csv\", index_col = 0)"
   ]
  },
  {
   "cell_type": "code",
   "execution_count": 75,
   "metadata": {},
   "outputs": [],
   "source": [
    "idxs_used = [] # keeps track of which row indexes in the contact_info were matched\n",
    "def find_contact(entry, contact_info, idx):\n",
    "    '''Searches the entry in county_df to see if it is contained in the contact info\n",
    "    '''\n",
    "    same_state = contact_info[contact_info[\"state\"] == entry[\"StateNameAbbreviation\"]]\n",
    "    same_county = same_state[same_state[\"public_health\"].apply(lambda x: entry[\"CountyName\"] in x)]\n",
    "    if same_county.shape[0] >= 1:\n",
    "        idxs_used.append(idx)\n",
    "        return \", \".join(same_county[\"phone_number\"]), \", \".join(same_county[\"public_health\"])\n",
    "    elif entry[\"countyFIPS\"] in countyFIPS_to_city:\n",
    "        city = countyFIPS_to_city[entry[\"countyFIPS\"]]\n",
    "        try:\n",
    "            same_city = same_state[same_state[\"public_health\"].apply(lambda x: city in x)]\n",
    "            if same_city.shape[0] >= 1:\n",
    "                idxs_used.append(idx)\n",
    "                return \", \".join(same_city[\"phone_number\"]), \", \".join(same_city[\"public_health\"])\n",
    "            else:\n",
    "                return None, None\n",
    "        except:\n",
    "            return None, None\n",
    "    else:\n",
    "        return None, None"
   ]
  },
  {
   "cell_type": "code",
   "execution_count": 76,
   "metadata": {},
   "outputs": [
    {
     "name": "stderr",
     "output_type": "stream",
     "text": [
      "3114it [00:10, 284.42it/s]\n"
     ]
    }
   ],
   "source": [
    "health_dept_names = []\n",
    "contact_numbers = []\n",
    "for idx, county in tqdm(county_df.iterrows()):\n",
    "    result = find_contact(county, contact_info, idx)\n",
    "    health_dept_names.append(result[1])\n",
    "    contact_numbers.append(result[0])\n",
    "df = deepcopy(county_df)\n",
    "df[\"HealthDeptName\"] = health_dept_names\n",
    "df[\"HealthDeptContact\"] = contact_numbers"
   ]
  },
  {
   "cell_type": "code",
   "execution_count": 77,
   "metadata": {},
   "outputs": [],
   "source": [
    "df = pd.merge(df, df_covid, on='countyFIPS', how='outer')"
   ]
  },
  {
   "cell_type": "code",
   "execution_count": 80,
   "metadata": {},
   "outputs": [],
   "source": [
    "matched_rows = ~df[\"HealthDeptContact\"].isna()\n",
    "nofips_rows = [k for k in np.arange(contact_info.shape[0]) if not k in idxs_used]\n",
    "\n",
    "key_sort = 'tot_deaths' # tot_deaths, StateName\n",
    "df_matched = df[matched_rows].sort_values(by=key_sort, ascending=False)\n",
    "df_nocontact = df[~matched_rows].sort_values(by=key_sort, ascending=False)\n",
    "df_nocontact[\"HealthDeptName\"] = \"\"\n",
    "df_nocontact[\"HealthDeptContact\"] = \"\"\n",
    "df_nofips = contact_info.iloc[nofips_rows].rename(columns={'public_health': 'HealthDeptName', 'phone_number': 'HealthDeptContact'})\n",
    "for k in ['CountyName', 'StateName', 'countyFIPS']:\n",
    "    df_nofips[k] = ''"
   ]
  },
  {
   "cell_type": "code",
   "execution_count": 81,
   "metadata": {},
   "outputs": [
    {
     "name": "stdout",
     "output_type": "stream",
     "text": [
      "matched 2334 nocontact 786 nofips 1081\n"
     ]
    }
   ],
   "source": [
    "print('matched', df_matched.shape[0], 'nocontact', df_nocontact.shape[0],\n",
    "      'nofips', df_nofips.shape[0])"
   ]
  },
  {
   "cell_type": "markdown",
   "metadata": {},
   "source": [
    "# upload to gsheets"
   ]
  },
  {
   "cell_type": "code",
   "execution_count": 82,
   "metadata": {},
   "outputs": [],
   "source": [
    "import pygsheets\n",
    "gc = pygsheets.authorize(service_file='../creds.json')\n",
    "\n",
    "#open the google spreadsheet (where 'PY to Gsheet Test' is the name of my sheet)\n",
    "sheet_name = 'Ventilator Demand Prediction'\n",
    "sh = gc.open(sheet_name) # name of the hospital"
   ]
  },
  {
   "cell_type": "code",
   "execution_count": 83,
   "metadata": {},
   "outputs": [
    {
     "name": "stderr",
     "output_type": "stream",
     "text": [
      "/accounts/projects/vision/.local/lib/python3.7/site-packages/pygsheets/worksheet.py:1304: SettingWithCopyWarning: \n",
      "A value is trying to be set on a copy of a slice from a DataFrame.\n",
      "Try using .loc[row_indexer,col_indexer] = value instead\n",
      "\n",
      "See the caveats in the documentation: http://pandas.pydata.org/pandas-docs/stable/indexing.html#indexing-view-versus-copy\n",
      "  df[col] = df[col].astype('unicode').replace('<NA>', nan)\n"
     ]
    }
   ],
   "source": [
    "wks = sh[4]\n",
    "wks.update_value('A1', \"County-level contact information, scraped from here: https://www.naccho.org/membership/lhd-directory\")\n",
    "wks.update_value('A2', \"Columns A-E are read-only\")\n",
    "wks.set_dataframe(df_matched[['CountyName', 'StateName', 'countyFIPS', 'HealthDeptName', 'HealthDeptContact']], (5, 1))"
   ]
  },
  {
   "cell_type": "code",
   "execution_count": 84,
   "metadata": {},
   "outputs": [],
   "source": [
    "wks = sh[5]\n",
    "wks.update_value('A1', \"County-level contact information for counties missing a contact #\")\n",
    "wks.update_value('A2', \"Columns A-C are read-only\")\n",
    "wks.set_dataframe(df_nocontact[['CountyName', 'StateName', 'countyFIPS', 'HealthDeptName', 'HealthDeptContact']], (5, 1))"
   ]
  },
  {
   "cell_type": "code",
   "execution_count": 85,
   "metadata": {},
   "outputs": [],
   "source": [
    "wks = sh[6]\n",
    "wks.update_value('A1', \"County-level contact information (not linked to a county)\")\n",
    "wks.update_value('A2', \"Columns A-B are read-only\")\n",
    "wks.set_dataframe(df_nofips[['HealthDeptName', 'HealthDeptContact', 'CountyName', 'StateName', 'countyFIPS']], (5, 1))"
   ]
  }
 ],
 "metadata": {
  "kernelspec": {
   "display_name": "Python 3",
   "language": "python",
   "name": "python3"
  },
  "language_info": {
   "codemirror_mode": {
    "name": "ipython",
    "version": 3
   },
   "file_extension": ".py",
   "mimetype": "text/x-python",
   "name": "python",
   "nbconvert_exporter": "python",
   "pygments_lexer": "ipython3",
   "version": "3.7.5"
  }
 },
 "nbformat": 4,
 "nbformat_minor": 4
}
