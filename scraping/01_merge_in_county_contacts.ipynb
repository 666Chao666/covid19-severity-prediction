{
 "cells": [
  {
   "cell_type": "markdown",
   "metadata": {},
   "source": [
    "# Notebook to merge county level data with contact info"
   ]
  },
  {
   "cell_type": "code",
   "execution_count": 2,
   "metadata": {},
   "outputs": [],
   "source": [
    "import numpy as np\n",
    "import pandas as pd\n",
    "import matplotlib.pyplot as plt\n",
    "%matplotlib inline\n",
    "import seaborn as sns\n",
    "import pickle\n",
    "from tqdm import tqdm\n",
    "import math"
   ]
  },
  {
   "cell_type": "code",
   "execution_count": 23,
   "metadata": {},
   "outputs": [],
   "source": [
    "with open(\"../data/df_county_level_cached.pkl\", 'rb') as f:\n",
    "    county_df = pickle.load(f)\n",
    "with open(\"countyFIPS_to_city.pkl\", 'rb') as f:\n",
    "    countyFIPS_to_city = pickle.load(f)\n",
    "contact_info = pd.read_csv(\"all_state_numbers.csv\", index_col = 0)"
   ]
  },
  {
   "cell_type": "code",
   "execution_count": 24,
   "metadata": {},
   "outputs": [],
   "source": [
    "idxs_used = [] # keeps track of which row indexes in the contact_info were matched\n",
    "def find_contact(entry, contact_info, idx):\n",
    "    '''Searches the entry in county_df to see if it is contained in the contact info\n",
    "    '''\n",
    "    same_state = contact_info[contact_info[\"state\"] == entry[\"StateNameAbbreviation\"]]\n",
    "    same_county = same_state[same_state[\"public_health\"].apply(lambda x: entry[\"CountyName\"] in x)]\n",
    "    if same_county.shape[0] >= 1:\n",
    "        idxs_used.append(idx)\n",
    "        return \", \".join(same_county[\"phone_number\"]), \", \".join(same_county[\"public_health\"])\n",
    "    elif entry[\"countyFIPS\"] in countyFIPS_to_city:\n",
    "        city = countyFIPS_to_city[entry[\"countyFIPS\"]]\n",
    "        try:\n",
    "            same_city = same_state[same_state[\"public_health\"].apply(lambda x: city in x)]\n",
    "            if same_city.shape[0] >= 1:\n",
    "                idxs_used.append(idx)\n",
    "                return \", \".join(same_city[\"phone_number\"]), \", \".join(same_city[\"public_health\"])\n",
    "            else:\n",
    "                return None, None\n",
    "        except:\n",
    "            return None, None\n",
    "    else:\n",
    "        return None, None\n",
    "# find_contact(entry, contact_info)"
   ]
  },
  {
   "cell_type": "code",
   "execution_count": null,
   "metadata": {},
   "outputs": [],
   "source": [
    "health_dept_names = []\n",
    "contact_numbers = []\n",
    "for idx, county in tqdm(county_df.iterrows()):\n",
    "    result = find_contact(county, contact_info, idx)\n",
    "    health_dept_names.append(result[1])\n",
    "    contact_numbers.append(result[0])\n",
    "county_df[\"HealthDeptName\"] = health_dept_names\n",
    "county_df[\"HealthDeptContact\"] = contact_numbers"
   ]
  },
  {
   "cell_type": "markdown",
   "metadata": {},
   "source": [
    "**which keys were not matched**"
   ]
  },
  {
   "cell_type": "code",
   "execution_count": 29,
   "metadata": {},
   "outputs": [],
   "source": [
    "unmatched_row_nums = [k for k in np.arange(contact_info.shape[0]) if not k in idxs_used]"
   ]
  },
  {
   "cell_type": "code",
   "execution_count": 32,
   "metadata": {},
   "outputs": [
    {
     "data": {
      "text/html": [
       "<div>\n",
       "<style scoped>\n",
       "    .dataframe tbody tr th:only-of-type {\n",
       "        vertical-align: middle;\n",
       "    }\n",
       "\n",
       "    .dataframe tbody tr th {\n",
       "        vertical-align: top;\n",
       "    }\n",
       "\n",
       "    .dataframe thead th {\n",
       "        text-align: right;\n",
       "    }\n",
       "</style>\n",
       "<table border=\"1\" class=\"dataframe\">\n",
       "  <thead>\n",
       "    <tr style=\"text-align: right;\">\n",
       "      <th></th>\n",
       "      <th>state</th>\n",
       "      <th>public_health</th>\n",
       "      <th>phone_number</th>\n",
       "    </tr>\n",
       "  </thead>\n",
       "  <tbody>\n",
       "    <tr>\n",
       "      <th>10</th>\n",
       "      <td>AL</td>\n",
       "      <td>301 Health Center DrClanton, AL 35045-2349</td>\n",
       "      <td>12057551287</td>\n",
       "    </tr>\n",
       "    <tr>\n",
       "      <th>67</th>\n",
       "      <td>AL</td>\n",
       "      <td>Tuscaloosa County Health Department</td>\n",
       "      <td>12055626900</td>\n",
       "    </tr>\n",
       "    <tr>\n",
       "      <th>68</th>\n",
       "      <td>AL</td>\n",
       "      <td>Walker County Health Department</td>\n",
       "      <td>12052219775</td>\n",
       "    </tr>\n",
       "    <tr>\n",
       "      <th>69</th>\n",
       "      <td>AL</td>\n",
       "      <td>Washington County Health Department</td>\n",
       "      <td>12518472257</td>\n",
       "    </tr>\n",
       "    <tr>\n",
       "      <th>218</th>\n",
       "      <td>CA</td>\n",
       "      <td>Monterey County Health Department</td>\n",
       "      <td>18317554585</td>\n",
       "    </tr>\n",
       "  </tbody>\n",
       "</table>\n",
       "</div>"
      ],
      "text/plain": [
       "    state                               public_health phone_number\n",
       "10     AL  301 Health Center DrClanton, AL 35045-2349  12057551287\n",
       "67     AL         Tuscaloosa County Health Department  12055626900\n",
       "68     AL             Walker County Health Department  12052219775\n",
       "69     AL         Washington County Health Department  12518472257\n",
       "218    CA           Monterey County Health Department  18317554585"
      ]
     },
     "execution_count": 32,
     "metadata": {},
     "output_type": "execute_result"
    }
   ],
   "source": [
    "contact_info.iloc[unmatched_row_nums].head(5)"
   ]
  },
  {
   "cell_type": "markdown",
   "metadata": {},
   "source": [
    "**which counties don't have a health dept contact**"
   ]
  },
  {
   "cell_type": "code",
   "execution_count": 33,
   "metadata": {},
   "outputs": [
    {
     "name": "stdout",
     "output_type": "stream",
     "text": [
      "780\n"
     ]
    },
    {
     "data": {
      "text/html": [
       "<div>\n",
       "<style scoped>\n",
       "    .dataframe tbody tr th:only-of-type {\n",
       "        vertical-align: middle;\n",
       "    }\n",
       "\n",
       "    .dataframe tbody tr th {\n",
       "        vertical-align: top;\n",
       "    }\n",
       "\n",
       "    .dataframe thead th {\n",
       "        text-align: right;\n",
       "    }\n",
       "</style>\n",
       "<table border=\"1\" class=\"dataframe\">\n",
       "  <thead>\n",
       "    <tr style=\"text-align: right;\">\n",
       "      <th></th>\n",
       "      <th>CountyName</th>\n",
       "      <th>StateName</th>\n",
       "      <th>countyFIPS</th>\n",
       "    </tr>\n",
       "  </thead>\n",
       "  <tbody>\n",
       "    <tr>\n",
       "      <th>1824</th>\n",
       "      <td>Kings</td>\n",
       "      <td>New York</td>\n",
       "      <td>36047</td>\n",
       "    </tr>\n",
       "    <tr>\n",
       "      <th>1841</th>\n",
       "      <td>Queens</td>\n",
       "      <td>New York</td>\n",
       "      <td>36081</td>\n",
       "    </tr>\n",
       "    <tr>\n",
       "      <th>1721</th>\n",
       "      <td>Clark</td>\n",
       "      <td>Nevada</td>\n",
       "      <td>32003</td>\n",
       "    </tr>\n",
       "    <tr>\n",
       "      <th>1803</th>\n",
       "      <td>Bronx</td>\n",
       "      <td>New York</td>\n",
       "      <td>36005</td>\n",
       "    </tr>\n",
       "    <tr>\n",
       "      <th>1954</th>\n",
       "      <td>Wake</td>\n",
       "      <td>North Carolina</td>\n",
       "      <td>37183</td>\n",
       "    </tr>\n",
       "  </tbody>\n",
       "</table>\n",
       "</div>"
      ],
      "text/plain": [
       "     CountyName       StateName  countyFIPS\n",
       "1824      Kings        New York       36047\n",
       "1841     Queens        New York       36081\n",
       "1721      Clark          Nevada       32003\n",
       "1803      Bronx        New York       36005\n",
       "1954       Wake  North Carolina       37183"
      ]
     },
     "execution_count": 33,
     "metadata": {},
     "output_type": "execute_result"
    }
   ],
   "source": [
    "missing_contact = county_df[county_df[\"HealthDeptContact\"].isna()].sort_values(by = \"PopulationEstimate2018\", ascending = False)\n",
    "print(missing_contact.shape[0])\n",
    "missing_contact[['CountyName', 'StateName', 'countyFIPS']].head(5)"
   ]
  }
 ],
 "metadata": {
  "kernelspec": {
   "display_name": "Python 3",
   "language": "python",
   "name": "python3"
  },
  "language_info": {
   "codemirror_mode": {
    "name": "ipython",
    "version": 3
   },
   "file_extension": ".py",
   "mimetype": "text/x-python",
   "name": "python",
   "nbconvert_exporter": "python",
   "pygments_lexer": "ipython3",
   "version": "3.7.5"
  }
 },
 "nbformat": 4,
 "nbformat_minor": 4
}
