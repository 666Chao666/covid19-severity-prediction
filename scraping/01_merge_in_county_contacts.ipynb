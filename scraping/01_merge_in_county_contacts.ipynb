{
 "cells": [
  {
   "cell_type": "markdown",
   "metadata": {},
   "source": [
    "# Merge county level data with contact info"
   ]
  },
  {
   "cell_type": "code",
   "execution_count": 1,
   "metadata": {},
   "outputs": [],
   "source": [
    "%load_ext autoreload\n",
    "%autoreload 2\n",
    "import numpy as np\n",
    "import pandas as pd\n",
    "import matplotlib.pyplot as plt\n",
    "%matplotlib inline\n",
    "import seaborn as sns\n",
    "import pickle\n",
    "from tqdm import tqdm\n",
    "import math\n",
    "import sys\n",
    "sys.path.append('..')\n",
    "import load_data\n",
    "from copy import deepcopy\n",
    "from functions import load_usafacts_data\n",
    "import requests\n",
    "from bs4 import BeautifulSoup"
   ]
  },
  {
   "cell_type": "code",
   "execution_count": 2,
   "metadata": {},
   "outputs": [],
   "source": [
    "df_covid = load_usafacts_data.load_daily_data(dir_mod='../')"
   ]
  },
  {
   "cell_type": "code",
   "execution_count": 3,
   "metadata": {},
   "outputs": [],
   "source": [
    "with open(\"../data/df_county_level_cached.pkl\", 'rb') as f:\n",
    "    county_df = pickle.load(f)\n",
    "# county_df = load_data.load_county_level(dir_mod='..')\n",
    "with open(\"countyFIPS_to_city.pkl\", 'rb') as f:\n",
    "    countyFIPS_to_city = pickle.load(f)\n",
    "contact_info = pd.read_csv(\"all_state_numbers.csv\", index_col = 0)"
   ]
  },
  {
   "cell_type": "code",
   "execution_count": 4,
   "metadata": {},
   "outputs": [],
   "source": [
    "idxs_used = [] # keeps track of which row indexes in the contact_info were matched\n",
    "def find_contact(entry, contact_info, idx):\n",
    "    '''Searches the entry in county_df to see if it is contained in the contact info\n",
    "    '''\n",
    "    same_state = contact_info[contact_info[\"state\"] == entry[\"StateNameAbbreviation\"]]\n",
    "    same_county = same_state[same_state[\"public_health\"].apply(lambda x: entry[\"CountyName\"] in x)]\n",
    "    if same_county.shape[0] >= 1:\n",
    "        idxs_used.append(idx)\n",
    "        return \", \".join(same_county[\"phone_number\"]), \", \".join(same_county[\"public_health\"])\n",
    "    elif entry[\"countyFIPS\"] in countyFIPS_to_city:\n",
    "        city = countyFIPS_to_city[entry[\"countyFIPS\"]]\n",
    "        try:\n",
    "            same_city = same_state[same_state[\"public_health\"].apply(lambda x: city in x)]\n",
    "            if same_city.shape[0] >= 1:\n",
    "                idxs_used.append(idx)\n",
    "                return \", \".join(same_city[\"phone_number\"]), \", \".join(same_city[\"public_health\"])\n",
    "            else:\n",
    "                return None, None\n",
    "        except:\n",
    "            return None, None\n",
    "    else:\n",
    "        return None, None"
   ]
  },
  {
   "cell_type": "code",
   "execution_count": 5,
   "metadata": {},
   "outputs": [
    {
     "name": "stderr",
     "output_type": "stream",
     "text": [
      "3114it [00:10, 299.94it/s]\n"
     ]
    }
   ],
   "source": [
    "health_dept_names = []\n",
    "contact_numbers = []\n",
    "for idx, county in tqdm(county_df.iterrows()):\n",
    "    result = find_contact(county, contact_info, idx)\n",
    "    health_dept_names.append(result[1])\n",
    "    contact_numbers.append(result[0])\n",
    "df = deepcopy(county_df)\n",
    "df[\"HealthDeptName\"] = health_dept_names\n",
    "df[\"HealthDeptContact\"] = contact_numbers"
   ]
  },
  {
   "cell_type": "code",
   "execution_count": 6,
   "metadata": {},
   "outputs": [],
   "source": [
    "df = pd.merge(df, df_covid, on='countyFIPS', how='outer')"
   ]
  },
  {
   "cell_type": "code",
   "execution_count": 7,
   "metadata": {},
   "outputs": [],
   "source": [
    "matched_rows = ~df[\"HealthDeptContact\"].isna()\n",
    "nofips_rows = [k for k in np.arange(contact_info.shape[0]) if not k in idxs_used]\n",
    "\n",
    "key_sort = 'tot_deaths' # tot_deaths, StateName\n",
    "df_matched = df[matched_rows].sort_values(by=key_sort, ascending=False)\n",
    "df_nocontact = df[~matched_rows].sort_values(by=key_sort, ascending=False)\n",
    "df_nocontact[\"HealthDeptName\"] = \"\"\n",
    "df_nocontact[\"HealthDeptContact\"] = \"\"\n",
    "df_nofips = contact_info.iloc[nofips_rows].rename(columns={'public_health': 'HealthDeptName', 'phone_number': 'HealthDeptContact'})\n",
    "for k in ['CountyName', 'countyFIPS']:\n",
    "    df_nofips[k] = ''\n",
    "df_nofips['StateName'] = df_nofips['state']"
   ]
  },
  {
   "cell_type": "code",
   "execution_count": 8,
   "metadata": {},
   "outputs": [
    {
     "name": "stdout",
     "output_type": "stream",
     "text": [
      "matched 2334 nocontact 786 nofips 1081\n"
     ]
    }
   ],
   "source": [
    "print('matched', df_matched.shape[0], 'nocontact', df_nocontact.shape[0],\n",
    "      'nofips', df_nofips.shape[0])"
   ]
  },
  {
   "cell_type": "markdown",
   "metadata": {},
   "source": [
    "#### Let's Now try and match the nofips data"
   ]
  },
  {
   "cell_type": "code",
   "execution_count": 9,
   "metadata": {},
   "outputs": [],
   "source": [
    "url = \"https://www.nrcs.usda.gov/wps/portal/nrcs/detail/national/home/?cid=nrcs143_013697\"\n",
    "res = requests.get(url)\n",
    "html = res.text"
   ]
  },
  {
   "cell_type": "code",
   "execution_count": 10,
   "metadata": {},
   "outputs": [],
   "source": [
    "soup = BeautifulSoup(html)\n",
    "table = soup.find_all(\"table\", {\"class\": \"data\"})[0]\n",
    "trs = table.find_all(\"tr\")\n",
    "\n",
    "oracleFIPS = {\n",
    "    \"countyFIPS\": [],\n",
    "    \"state\": [],\n",
    "    \"CountyName\": []\n",
    "}\n",
    "\n",
    "for tr in trs:\n",
    "    x = tr.find_all(\"td\")\n",
    "    if len(x) == 3:\n",
    "        fips = str.lstrip(x[0].text)\n",
    "        county = str.lstrip(x[1].text)\n",
    "        state = str.lstrip(x[2].text)\n",
    "        \n",
    "        oracleFIPS[\"countyFIPS\"].append(fips)\n",
    "        oracleFIPS[\"state\"].append(state)\n",
    "        oracleFIPS[\"CountyName\"].append(county)\n",
    "        \n",
    "oracleFIPS = pd.DataFrame(oracleFIPS)"
   ]
  },
  {
   "cell_type": "code",
   "execution_count": 11,
   "metadata": {},
   "outputs": [
    {
     "data": {
      "text/html": [
       "<div>\n",
       "<style scoped>\n",
       "    .dataframe tbody tr th:only-of-type {\n",
       "        vertical-align: middle;\n",
       "    }\n",
       "\n",
       "    .dataframe tbody tr th {\n",
       "        vertical-align: top;\n",
       "    }\n",
       "\n",
       "    .dataframe thead th {\n",
       "        text-align: right;\n",
       "    }\n",
       "</style>\n",
       "<table border=\"1\" class=\"dataframe\">\n",
       "  <thead>\n",
       "    <tr style=\"text-align: right;\">\n",
       "      <th></th>\n",
       "      <th>countyFIPS</th>\n",
       "      <th>state</th>\n",
       "      <th>CountyName</th>\n",
       "    </tr>\n",
       "  </thead>\n",
       "  <tbody>\n",
       "    <tr>\n",
       "      <th>0</th>\n",
       "      <td>01001</td>\n",
       "      <td>AL</td>\n",
       "      <td>Autauga</td>\n",
       "    </tr>\n",
       "    <tr>\n",
       "      <th>1</th>\n",
       "      <td>01003</td>\n",
       "      <td>AL</td>\n",
       "      <td>Baldwin</td>\n",
       "    </tr>\n",
       "    <tr>\n",
       "      <th>2</th>\n",
       "      <td>01005</td>\n",
       "      <td>AL</td>\n",
       "      <td>Barbour</td>\n",
       "    </tr>\n",
       "    <tr>\n",
       "      <th>3</th>\n",
       "      <td>01007</td>\n",
       "      <td>AL</td>\n",
       "      <td>Bibb</td>\n",
       "    </tr>\n",
       "    <tr>\n",
       "      <th>4</th>\n",
       "      <td>01009</td>\n",
       "      <td>AL</td>\n",
       "      <td>Blount</td>\n",
       "    </tr>\n",
       "  </tbody>\n",
       "</table>\n",
       "</div>"
      ],
      "text/plain": [
       "  countyFIPS state CountyName\n",
       "0      01001    AL    Autauga\n",
       "1      01003    AL    Baldwin\n",
       "2      01005    AL    Barbour\n",
       "3      01007    AL       Bibb\n",
       "4      01009    AL     Blount"
      ]
     },
     "execution_count": 11,
     "metadata": {},
     "output_type": "execute_result"
    }
   ],
   "source": [
    "oracleFIPS.head()"
   ]
  },
  {
   "cell_type": "code",
   "execution_count": 12,
   "metadata": {},
   "outputs": [
    {
     "name": "stdout",
     "output_type": "stream",
     "text": [
      "Matched 733 previously nofips; 348 still unmatched\n"
     ]
    }
   ],
   "source": [
    "# Let's Extract the county name\n",
    "df_nofips_tmp = df_nofips\n",
    "health_names = df_nofips_tmp[\"HealthDeptName\"]\n",
    "health_names = [x.split(\"County\")[0] for x in health_names]\n",
    "health_names = [str.rstrip(x) if \"Health\" not in x else np.nan for x in health_names]\n",
    "df_nofips_tmp[\"CountyName\"] = health_names\n",
    "df_nofips_tmp = df_nofips_tmp.drop(\"countyFIPS\", axis=1)\n",
    "df_nofips_tmp = df_nofips_tmp.merge(oracleFIPS, on=[\"CountyName\", \"state\"], how=\"left\")\n",
    "\n",
    "# Finalize \n",
    "df_nofips = df_nofips_tmp\n",
    "\n",
    "df_nofips_matched = df_nofips[df_nofips[\"countyFIPS\"].notnull()]\n",
    "df_nofips_unmatched = df_nofips[df_nofips[\"countyFIPS\"].isnull()]\n",
    "\n",
    "print(\"Matched %s previously nofips; %s still unmatched\" % (len(df_nofips_matched), len(df_nofips_unmatched)))"
   ]
  },
  {
   "cell_type": "code",
   "execution_count": 13,
   "metadata": {},
   "outputs": [
    {
     "data": {
      "text/plain": [
       "3067"
      ]
     },
     "execution_count": 13,
     "metadata": {},
     "output_type": "execute_result"
    }
   ],
   "source": [
    "# We only need these columns, let's append them\n",
    "df_matched = df_matched[['CountyName', 'StateName', 'countyFIPS', 'HealthDeptName', 'HealthDeptContact']]\n",
    "df_nofips_matched = df_nofips_matched[['CountyName', 'StateName', 'countyFIPS', 'HealthDeptName', 'HealthDeptContact']]\n",
    "\n",
    "df_matched = df_matched.append(df_nofips_matched)\n",
    "len(df_matched)"
   ]
  },
  {
   "cell_type": "code",
   "execution_count": 14,
   "metadata": {},
   "outputs": [],
   "source": [
    "# Update df_nofips to be currently unmatched\n",
    "df_nofips = df_nofips_unmatched"
   ]
  },
  {
   "cell_type": "markdown",
   "metadata": {},
   "source": [
    "# upload to gsheets"
   ]
  },
  {
   "cell_type": "code",
   "execution_count": 15,
   "metadata": {},
   "outputs": [
    {
     "ename": "FileNotFoundError",
     "evalue": "[Errno 2] No such file or directory: '../creds.json'",
     "output_type": "error",
     "traceback": [
      "\u001b[0;31m---------------------------------------------------------------------------\u001b[0m",
      "\u001b[0;31mFileNotFoundError\u001b[0m                         Traceback (most recent call last)",
      "\u001b[0;32m<ipython-input-15-0b76c14773fa>\u001b[0m in \u001b[0;36m<module>\u001b[0;34m\u001b[0m\n\u001b[1;32m      1\u001b[0m \u001b[0;32mimport\u001b[0m \u001b[0mpygsheets\u001b[0m\u001b[0;34m\u001b[0m\u001b[0;34m\u001b[0m\u001b[0m\n\u001b[0;32m----> 2\u001b[0;31m \u001b[0mgc\u001b[0m \u001b[0;34m=\u001b[0m \u001b[0mpygsheets\u001b[0m\u001b[0;34m.\u001b[0m\u001b[0mauthorize\u001b[0m\u001b[0;34m(\u001b[0m\u001b[0mservice_file\u001b[0m\u001b[0;34m=\u001b[0m\u001b[0;34m'../creds.json'\u001b[0m\u001b[0;34m)\u001b[0m\u001b[0;34m\u001b[0m\u001b[0;34m\u001b[0m\u001b[0m\n\u001b[0m\u001b[1;32m      3\u001b[0m \u001b[0;34m\u001b[0m\u001b[0m\n\u001b[1;32m      4\u001b[0m \u001b[0;31m#open the google spreadsheet (where 'PY to Gsheet Test' is the name of my sheet)\u001b[0m\u001b[0;34m\u001b[0m\u001b[0;34m\u001b[0m\u001b[0;34m\u001b[0m\u001b[0m\n\u001b[1;32m      5\u001b[0m \u001b[0msheet_name\u001b[0m \u001b[0;34m=\u001b[0m \u001b[0;34m'Ventilator Demand Prediction'\u001b[0m\u001b[0;34m\u001b[0m\u001b[0;34m\u001b[0m\u001b[0m\n",
      "\u001b[0;32m~/anaconda3/envs/whynot/lib/python3.7/site-packages/pygsheets/authorization.py\u001b[0m in \u001b[0;36mauthorize\u001b[0;34m(client_secret, service_account_file, service_account_env_var, credentials_directory, scopes, custom_credentials, local, **kwargs)\u001b[0m\n\u001b[1;32m    129\u001b[0m         service_account_info, scopes=scopes)\n\u001b[1;32m    130\u001b[0m     \u001b[0;32melif\u001b[0m \u001b[0mservice_account_file\u001b[0m \u001b[0;32mis\u001b[0m \u001b[0;32mnot\u001b[0m \u001b[0;32mNone\u001b[0m\u001b[0;34m:\u001b[0m\u001b[0;34m\u001b[0m\u001b[0;34m\u001b[0m\u001b[0m\n\u001b[0;32m--> 131\u001b[0;31m         \u001b[0mcredentials\u001b[0m \u001b[0;34m=\u001b[0m \u001b[0mservice_account\u001b[0m\u001b[0;34m.\u001b[0m\u001b[0mCredentials\u001b[0m\u001b[0;34m.\u001b[0m\u001b[0mfrom_service_account_file\u001b[0m\u001b[0;34m(\u001b[0m\u001b[0mservice_account_file\u001b[0m\u001b[0;34m,\u001b[0m \u001b[0mscopes\u001b[0m\u001b[0;34m=\u001b[0m\u001b[0mscopes\u001b[0m\u001b[0;34m)\u001b[0m\u001b[0;34m\u001b[0m\u001b[0;34m\u001b[0m\u001b[0m\n\u001b[0m\u001b[1;32m    132\u001b[0m     \u001b[0;32melse\u001b[0m\u001b[0;34m:\u001b[0m\u001b[0;34m\u001b[0m\u001b[0;34m\u001b[0m\u001b[0m\n\u001b[1;32m    133\u001b[0m         \u001b[0mcredentials\u001b[0m \u001b[0;34m=\u001b[0m \u001b[0m_get_user_authentication_credentials\u001b[0m\u001b[0;34m(\u001b[0m\u001b[0mclient_secret\u001b[0m\u001b[0;34m,\u001b[0m \u001b[0mscopes\u001b[0m\u001b[0;34m,\u001b[0m \u001b[0mcredentials_directory\u001b[0m\u001b[0;34m,\u001b[0m \u001b[0mlocal\u001b[0m\u001b[0;34m)\u001b[0m\u001b[0;34m\u001b[0m\u001b[0;34m\u001b[0m\u001b[0m\n",
      "\u001b[0;32m~/anaconda3/envs/whynot/lib/python3.7/site-packages/google/oauth2/service_account.py\u001b[0m in \u001b[0;36mfrom_service_account_file\u001b[0;34m(cls, filename, **kwargs)\u001b[0m\n\u001b[1;32m    216\u001b[0m         \"\"\"\n\u001b[1;32m    217\u001b[0m         info, signer = _service_account_info.from_filename(\n\u001b[0;32m--> 218\u001b[0;31m             \u001b[0mfilename\u001b[0m\u001b[0;34m,\u001b[0m \u001b[0mrequire\u001b[0m\u001b[0;34m=\u001b[0m\u001b[0;34m[\u001b[0m\u001b[0;34m\"client_email\"\u001b[0m\u001b[0;34m,\u001b[0m \u001b[0;34m\"token_uri\"\u001b[0m\u001b[0;34m]\u001b[0m\u001b[0;34m\u001b[0m\u001b[0;34m\u001b[0m\u001b[0m\n\u001b[0m\u001b[1;32m    219\u001b[0m         )\n\u001b[1;32m    220\u001b[0m         \u001b[0;32mreturn\u001b[0m \u001b[0mcls\u001b[0m\u001b[0;34m.\u001b[0m\u001b[0m_from_signer_and_info\u001b[0m\u001b[0;34m(\u001b[0m\u001b[0msigner\u001b[0m\u001b[0;34m,\u001b[0m \u001b[0minfo\u001b[0m\u001b[0;34m,\u001b[0m \u001b[0;34m**\u001b[0m\u001b[0mkwargs\u001b[0m\u001b[0;34m)\u001b[0m\u001b[0;34m\u001b[0m\u001b[0;34m\u001b[0m\u001b[0m\n",
      "\u001b[0;32m~/anaconda3/envs/whynot/lib/python3.7/site-packages/google/auth/_service_account_info.py\u001b[0m in \u001b[0;36mfrom_filename\u001b[0;34m(filename, require)\u001b[0m\n\u001b[1;32m     70\u001b[0m             \u001b[0minfo\u001b[0m \u001b[0;32mand\u001b[0m \u001b[0ma\u001b[0m \u001b[0msigner\u001b[0m \u001b[0minstance\u001b[0m\u001b[0;34m.\u001b[0m\u001b[0;34m\u001b[0m\u001b[0;34m\u001b[0m\u001b[0m\n\u001b[1;32m     71\u001b[0m     \"\"\"\n\u001b[0;32m---> 72\u001b[0;31m     \u001b[0;32mwith\u001b[0m \u001b[0mio\u001b[0m\u001b[0;34m.\u001b[0m\u001b[0mopen\u001b[0m\u001b[0;34m(\u001b[0m\u001b[0mfilename\u001b[0m\u001b[0;34m,\u001b[0m \u001b[0;34m\"r\"\u001b[0m\u001b[0;34m,\u001b[0m \u001b[0mencoding\u001b[0m\u001b[0;34m=\u001b[0m\u001b[0;34m\"utf-8\"\u001b[0m\u001b[0;34m)\u001b[0m \u001b[0;32mas\u001b[0m \u001b[0mjson_file\u001b[0m\u001b[0;34m:\u001b[0m\u001b[0;34m\u001b[0m\u001b[0;34m\u001b[0m\u001b[0m\n\u001b[0m\u001b[1;32m     73\u001b[0m         \u001b[0mdata\u001b[0m \u001b[0;34m=\u001b[0m \u001b[0mjson\u001b[0m\u001b[0;34m.\u001b[0m\u001b[0mload\u001b[0m\u001b[0;34m(\u001b[0m\u001b[0mjson_file\u001b[0m\u001b[0;34m)\u001b[0m\u001b[0;34m\u001b[0m\u001b[0;34m\u001b[0m\u001b[0m\n\u001b[1;32m     74\u001b[0m         \u001b[0;32mreturn\u001b[0m \u001b[0mdata\u001b[0m\u001b[0;34m,\u001b[0m \u001b[0mfrom_dict\u001b[0m\u001b[0;34m(\u001b[0m\u001b[0mdata\u001b[0m\u001b[0;34m,\u001b[0m \u001b[0mrequire\u001b[0m\u001b[0;34m=\u001b[0m\u001b[0mrequire\u001b[0m\u001b[0;34m)\u001b[0m\u001b[0;34m\u001b[0m\u001b[0;34m\u001b[0m\u001b[0m\n",
      "\u001b[0;31mFileNotFoundError\u001b[0m: [Errno 2] No such file or directory: '../creds.json'"
     ]
    }
   ],
   "source": [
    "import pygsheets\n",
    "gc = pygsheets.authorize(service_file='../creds.json')\n",
    "\n",
    "#open the google spreadsheet (where 'PY to Gsheet Test' is the name of my sheet)\n",
    "sheet_name = 'Ventilator Demand Prediction'\n",
    "sh = gc.open(sheet_name) # name of the hospital"
   ]
  },
  {
   "cell_type": "code",
   "execution_count": 83,
   "metadata": {},
   "outputs": [
    {
     "name": "stderr",
     "output_type": "stream",
     "text": [
      "/accounts/projects/vision/.local/lib/python3.7/site-packages/pygsheets/worksheet.py:1304: SettingWithCopyWarning: \n",
      "A value is trying to be set on a copy of a slice from a DataFrame.\n",
      "Try using .loc[row_indexer,col_indexer] = value instead\n",
      "\n",
      "See the caveats in the documentation: http://pandas.pydata.org/pandas-docs/stable/indexing.html#indexing-view-versus-copy\n",
      "  df[col] = df[col].astype('unicode').replace('<NA>', nan)\n"
     ]
    }
   ],
   "source": [
    "wks = sh[4]\n",
    "wks.update_value('A1', \"County-level contact information, scraped from here: https://www.naccho.org/membership/lhd-directory\")\n",
    "wks.update_value('A2', \"Columns A-E are read-only\")\n",
    "wks.set_dataframe(df_matched[['CountyName', 'StateName', 'countyFIPS', 'HealthDeptName', 'HealthDeptContact']], (5, 1))"
   ]
  },
  {
   "cell_type": "code",
   "execution_count": 84,
   "metadata": {},
   "outputs": [],
   "source": [
    "wks = sh[5]\n",
    "wks.update_value('A1', \"County-level contact information for counties missing a contact #\")\n",
    "wks.update_value('A2', \"Columns A-C are read-only\")\n",
    "wks.set_dataframe(df_nocontact[['CountyName', 'StateName', 'countyFIPS', 'HealthDeptName', 'HealthDeptContact']], (5, 1))"
   ]
  },
  {
   "cell_type": "code",
   "execution_count": 93,
   "metadata": {},
   "outputs": [],
   "source": [
    "wks = sh[6]\n",
    "wks.update_value('A1', \"County-level contact information (not linked to a county)\")\n",
    "wks.update_value('A2', \"Columns A-B are read-only\")\n",
    "wks.set_dataframe(df_nofips[['HealthDeptName', 'HealthDeptContact', 'StateName', 'CountyName', 'countyFIPS']], (5, 1))"
   ]
  },
  {
   "cell_type": "code",
   "execution_count": null,
   "metadata": {},
   "outputs": [],
   "source": []
  }
 ],
 "metadata": {
  "kernelspec": {
   "display_name": "Python 3",
   "language": "python",
   "name": "python3"
  },
  "language_info": {
   "codemirror_mode": {
    "name": "ipython",
    "version": 3
   },
   "file_extension": ".py",
   "mimetype": "text/x-python",
   "name": "python",
   "nbconvert_exporter": "python",
   "pygments_lexer": "ipython3",
   "version": "3.7.4"
  }
 },
 "nbformat": 4,
 "nbformat_minor": 4
}
