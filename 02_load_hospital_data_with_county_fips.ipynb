{
 "cells": [
  {
   "cell_type": "code",
   "execution_count": 1,
   "metadata": {},
   "outputs": [],
   "source": [
    "import numpy as np\n",
    "import pandas as pd\n",
    "import joblib"
   ]
  },
  {
   "cell_type": "code",
   "execution_count": 5,
   "metadata": {},
   "outputs": [],
   "source": [
    "full_hospital_df = pd.read_csv(\"intermediate/03_hospital_level_info_merged.csv\")\n",
    "county_fips_dict = joblib.load(\"eda_hospital_level_data/county_fips_dict\")"
   ]
  },
  {
   "cell_type": "code",
   "execution_count": 14,
   "metadata": {},
   "outputs": [],
   "source": [
    "county_fips = []\n",
    "for i in range(full_hospital_df.shape[0]):\n",
    "    if full_hospital_df[\"County Name_y\"][i] in county_fips_dict:\n",
    "        county_fips.append(county_fips_dict[full_hospital_df[\"County Name_y\"][i]])\n",
    "    else:\n",
    "        county_fips.append(\"\")"
   ]
  },
  {
   "cell_type": "code",
   "execution_count": 17,
   "metadata": {},
   "outputs": [],
   "source": [
    "full_hospital_df[\"county_fips\"] = county_fips"
   ]
  },
  {
   "cell_type": "code",
   "execution_count": 20,
   "metadata": {},
   "outputs": [
    {
     "data": {
      "text/plain": [
       "         1932\n",
       "06037      90\n",
       "17031      60\n",
       "01073      56\n",
       "42091      52\n",
       "28151      50\n",
       "48201      47\n",
       "04013      46\n",
       "12095      44\n",
       "39049      42\n",
       "20025      37\n",
       "26163      33\n",
       "19049      33\n",
       "01093      33\n",
       "01071      32\n",
       "12069      32\n",
       "01089      30\n",
       "25025      29\n",
       "39061      28\n",
       "28085      28\n",
       "48439      26\n",
       "34023      24\n",
       "01099      24\n",
       "05071      24\n",
       "31055      24\n",
       "72127      23\n",
       "42101      22\n",
       "06071      22\n",
       "34039      22\n",
       "06073      21\n",
       "         ... \n",
       "46037       1\n",
       "54067       1\n",
       "08015       1\n",
       "30073       1\n",
       "06115       1\n",
       "48107       1\n",
       "48369       1\n",
       "48211       1\n",
       "36123       1\n",
       "55047       1\n",
       "46029       1\n",
       "51770       1\n",
       "51830       1\n",
       "35043       1\n",
       "46035       1\n",
       "55113       1\n",
       "26011       1\n",
       "31067       1\n",
       "05003       1\n",
       "31099       1\n",
       "50005       1\n",
       "36017       1\n",
       "49047       1\n",
       "21177       1\n",
       "51085       1\n",
       "48237       1\n",
       "01091       1\n",
       "28135       1\n",
       "48413       1\n",
       "26153       1\n",
       "Name: county_fips, Length: 1504, dtype: int64"
      ]
     },
     "execution_count": 20,
     "metadata": {},
     "output_type": "execute_result"
    }
   ],
   "source": [
    "full_hospital_df[\"county_fips\"].value_counts()"
   ]
  },
  {
   "cell_type": "code",
   "execution_count": 30,
   "metadata": {},
   "outputs": [
    {
     "data": {
      "text/plain": [
       "1804"
      ]
     },
     "execution_count": 30,
     "metadata": {},
     "output_type": "execute_result"
    }
   ],
   "source": [
    "full_hospital_df[full_hospital_df[\"county_fips\"] == \"\"][\"County Name_y\"].isna().sum()"
   ]
  },
  {
   "cell_type": "code",
   "execution_count": 32,
   "metadata": {},
   "outputs": [
    {
     "data": {
      "text/plain": [
       "5                 Marshall County, AL\n",
       "7                   DeKalb County, AL\n",
       "15                Chambers County, AL\n",
       "30                  Morgan County, AL\n",
       "74              Tuscaloosa County, AL\n",
       "77               Jefferson County, AL\n",
       "82               Jefferson County, AL\n",
       "86              Montgomery County, AL\n",
       "87              Tuscaloosa County, AL\n",
       "88                   Macon County, AL\n",
       "94                  Mobile County, AL\n",
       "95              Montgomery County, AL\n",
       "96               Jefferson County, AL\n",
       "97               Jefferson County, AL\n",
       "98                 Houston County, AL\n",
       "99                 Calhoun County, AL\n",
       "100             Tuscaloosa County, AL\n",
       "101              Limestone County, AL\n",
       "102              Jefferson County, AL\n",
       "103             Montgomery County, AL\n",
       "104                Madison County, AL\n",
       "105                Houston County, AL\n",
       "106                 Shelby County, AL\n",
       "107                 Etowah County, AL\n",
       "108                Russell County, AL\n",
       "114             Tuscaloosa County, AL\n",
       "116                Houston County, AL\n",
       "132                               NaN\n",
       "133     Wrangell City and Borough, AK\n",
       "134         Kodiak Island Borough, AK\n",
       "                    ...              \n",
       "7109                              NaN\n",
       "7114                              NaN\n",
       "7115                              NaN\n",
       "7116                              NaN\n",
       "7117                              NaN\n",
       "7118                              NaN\n",
       "7119                              NaN\n",
       "7120                              NaN\n",
       "7121                              NaN\n",
       "7122                              NaN\n",
       "7123                              NaN\n",
       "7124                              NaN\n",
       "7125                              NaN\n",
       "7126                              NaN\n",
       "7127                              NaN\n",
       "7128                              NaN\n",
       "7129                              NaN\n",
       "7130                              NaN\n",
       "7131                              NaN\n",
       "7132                              NaN\n",
       "7133                              NaN\n",
       "7134                              NaN\n",
       "7135                              NaN\n",
       "7136                              NaN\n",
       "7137                              NaN\n",
       "7138                              NaN\n",
       "7139                              NaN\n",
       "7140                              NaN\n",
       "7141                              NaN\n",
       "7142                              NaN\n",
       "Name: County Name_x, Length: 1932, dtype: object"
      ]
     },
     "execution_count": 32,
     "metadata": {},
     "output_type": "execute_result"
    }
   ],
   "source": [
    "full_hospital_df[full_hospital_df[\"county_fips\"] == \"\"][\"County Name_x\"]"
   ]
  },
  {
   "cell_type": "code",
   "execution_count": 23,
   "metadata": {},
   "outputs": [
    {
     "data": {
      "text/plain": [
       "Index(['Unnamed: 0', 'CMS Certification Number', 'Facility Name_x',\n",
       "       'Street Address_x', 'City_x', 'State_x', 'ZIP', 'System Affiliation',\n",
       "       'Type of Facility', 'Total Employees', 'Urban or Rural Designation',\n",
       "       'Latitude', 'Longitude', 'Total Acute Beds', 'Total Staffed Beds',\n",
       "       'General Med/Surg Beds', 'ICU Beds', 'ICU Occupancy Rate',\n",
       "       'Acute Occupancy Rate', 'Staffed Occupancy Rate', 'Registered Nurses',\n",
       "       'CBSA Title', 'County Name_x', 'FY End Date',\n",
       "       'Months in Reporting Period', 'Total Discharges',\n",
       "       'Total Average Length of Stay', 'Total Average Daily Census',\n",
       "       '5A1935Z Cases', '5A1935Z Occurrences', '5A1935Z Days', '5A1945Z Cases',\n",
       "       '5A1945Z Occurrences', '5A1945Z Days', '5A1955Z Cases',\n",
       "       '5A1955Z Occurrences', '5A1955Z Days', 'Med/Surg Beds',\n",
       "       'Coronary ICU Beds', 'Burn Intensive Care Beds', 'Surgical ICU Beds',\n",
       "       'Psych ICU Beds', 'Pediatric ICU Beds', 'Neonatal ICU Beds',\n",
       "       'Trauma ICU Beds', 'Detox ICU Beds', 'Premature ICU Beds',\n",
       "       'Psychiatric Unit Beds', 'Rehabilitation Unit Beds', 'SNF Unit Beds',\n",
       "       'NF Unit Beds', 'Other Subprovider Unit Beds', 'Total Beds',\n",
       "       'Med/Surg Days', 'ICU Days', 'Coronary ICU Total Days',\n",
       "       'Burn Intensive Care Total Days', 'Surgical ICU Days Total',\n",
       "       'Psych ICU Total Days', 'Pediatric ICU Days Total',\n",
       "       'Neonatal ICU Days Total', 'Trauma ICU Total Days',\n",
       "       'Detox ICU Total Days', 'Premature ICU Days Total',\n",
       "       'Nursery Days Total', 'Psychiatric Unit Days Total',\n",
       "       'Rehabilitation Unit Days Total', 'SNF Unit Days Total',\n",
       "       'NF Unit Days Total', 'Swing Beds SNF Days Total',\n",
       "       'Swing Beds NF Days Total', 'Other Subprovider Unit Days Total',\n",
       "       'Total Days', 'Med/Surg Bed Days Available', 'ICU Bed Days Available',\n",
       "       'Coronary ICU Bed Days Available',\n",
       "       'Burn Intensive Care Bed Days Available',\n",
       "       'Surgical ICU Bed Days Available', 'Psych ICU Bed Days Available',\n",
       "       'Pediatric ICU Bed Days Available', 'Neonatal ICU Bed Days Available',\n",
       "       'Trauma ICU Bed Days Available', 'Detox ICU Bed Days Available',\n",
       "       'Premature ICU Bed Days Available',\n",
       "       'Psychiatric Unit Bed Days Available',\n",
       "       'Rehabilitation Unit Bed Days Available', 'SNF Unit Bed Days Available',\n",
       "       'NF Unit Bed Days Available', 'Other Subprovider Bed Days Available',\n",
       "       'Total Bed Days Available', 'Med/Surg Occupancy Rate',\n",
       "       'Coronary ICU Occupancy Rate', 'Burn Intensive Care Occupancy Rate',\n",
       "       'Surgical ICU Occupancy Rate', 'Psych ICU Occupancy Rate',\n",
       "       'Pediatric ICU Occupancy Rate', 'Neonatal ICU Occupancy Rate',\n",
       "       'Trauma ICU Occupancy Rate', 'Detox ICU Occupancy Rate',\n",
       "       'Premature ICU Occupancy Rate'],\n",
       "      dtype='object')"
      ]
     },
     "execution_count": 23,
     "metadata": {},
     "output_type": "execute_result"
    }
   ],
   "source": [
    "full_hospital_df.columns[:100]"
   ]
  },
  {
   "cell_type": "code",
   "execution_count": null,
   "metadata": {},
   "outputs": [],
   "source": []
  }
 ],
 "metadata": {
  "kernelspec": {
   "display_name": "Python 3",
   "language": "python",
   "name": "python3"
  },
  "language_info": {
   "codemirror_mode": {
    "name": "ipython",
    "version": 3
   },
   "file_extension": ".py",
   "mimetype": "text/x-python",
   "name": "python",
   "nbconvert_exporter": "python",
   "pygments_lexer": "ipython3",
   "version": "3.6.6"
  }
 },
 "nbformat": 4,
 "nbformat_minor": 4
}
